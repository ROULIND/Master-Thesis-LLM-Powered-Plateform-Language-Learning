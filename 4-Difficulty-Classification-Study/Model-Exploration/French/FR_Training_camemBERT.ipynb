{
 "cells": [
  {
   "cell_type": "code",
   "execution_count": 5,
   "metadata": {},
   "outputs": [
    {
     "name": "stdout",
     "output_type": "stream",
     "text": [
      "Defaulting to user installation because normal site-packages is not writeable\n",
      "Requirement already satisfied: transformers in /Users/dimitriroulin/Library/Python/3.9/lib/python/site-packages (4.47.0)\n",
      "Requirement already satisfied: requests in /Users/dimitriroulin/Library/Python/3.9/lib/python/site-packages (from transformers) (2.32.3)\n",
      "Requirement already satisfied: tokenizers<0.22,>=0.21 in /Users/dimitriroulin/Library/Python/3.9/lib/python/site-packages (from transformers) (0.21.0)\n",
      "Requirement already satisfied: regex!=2019.12.17 in /Users/dimitriroulin/Library/Python/3.9/lib/python/site-packages (from transformers) (2024.11.6)\n",
      "Requirement already satisfied: tqdm>=4.27 in /Users/dimitriroulin/Library/Python/3.9/lib/python/site-packages (from transformers) (4.67.1)\n",
      "Requirement already satisfied: packaging>=20.0 in /Users/dimitriroulin/Library/Python/3.9/lib/python/site-packages (from transformers) (23.1)\n",
      "Requirement already satisfied: huggingface-hub<1.0,>=0.24.0 in /Users/dimitriroulin/Library/Python/3.9/lib/python/site-packages (from transformers) (0.26.5)\n",
      "Requirement already satisfied: safetensors>=0.4.1 in /Users/dimitriroulin/Library/Python/3.9/lib/python/site-packages (from transformers) (0.4.5)\n",
      "Requirement already satisfied: numpy>=1.17 in /Users/dimitriroulin/Library/Python/3.9/lib/python/site-packages (from transformers) (2.0.2)\n",
      "Requirement already satisfied: filelock in /Users/dimitriroulin/Library/Python/3.9/lib/python/site-packages (from transformers) (3.16.1)\n",
      "Requirement already satisfied: pyyaml>=5.1 in /Users/dimitriroulin/Library/Python/3.9/lib/python/site-packages (from transformers) (6.0.1)\n",
      "Requirement already satisfied: typing-extensions>=3.7.4.3 in /Users/dimitriroulin/Library/Python/3.9/lib/python/site-packages (from huggingface-hub<1.0,>=0.24.0->transformers) (4.12.2)\n",
      "Requirement already satisfied: fsspec>=2023.5.0 in /Users/dimitriroulin/Library/Python/3.9/lib/python/site-packages (from huggingface-hub<1.0,>=0.24.0->transformers) (2024.9.0)\n",
      "Requirement already satisfied: charset-normalizer<4,>=2 in /Users/dimitriroulin/Library/Python/3.9/lib/python/site-packages (from requests->transformers) (3.2.0)\n",
      "Requirement already satisfied: certifi>=2017.4.17 in /Users/dimitriroulin/Library/Python/3.9/lib/python/site-packages (from requests->transformers) (2023.7.22)\n",
      "Requirement already satisfied: idna<4,>=2.5 in /Users/dimitriroulin/Library/Python/3.9/lib/python/site-packages (from requests->transformers) (3.4)\n",
      "Requirement already satisfied: urllib3<3,>=1.21.1 in /Users/dimitriroulin/Library/Python/3.9/lib/python/site-packages (from requests->transformers) (2.0.5)\n",
      "\u001b[33mWARNING: You are using pip version 21.2.4; however, version 25.1.1 is available.\n",
      "You should consider upgrading via the '/Library/Developer/CommandLineTools/usr/bin/python3 -m pip install --upgrade pip' command.\u001b[0m\n",
      "Note: you may need to restart the kernel to use updated packages.\n",
      "Defaulting to user installation because normal site-packages is not writeable\n",
      "Requirement already satisfied: datasets in /Users/dimitriroulin/Library/Python/3.9/lib/python/site-packages (3.2.0)\n",
      "Requirement already satisfied: filelock in /Users/dimitriroulin/Library/Python/3.9/lib/python/site-packages (from datasets) (3.16.1)\n",
      "Requirement already satisfied: dill<0.3.9,>=0.3.0 in /Users/dimitriroulin/Library/Python/3.9/lib/python/site-packages (from datasets) (0.3.8)\n",
      "Requirement already satisfied: tqdm>=4.66.3 in /Users/dimitriroulin/Library/Python/3.9/lib/python/site-packages (from datasets) (4.67.1)\n",
      "Requirement already satisfied: pyyaml>=5.1 in /Users/dimitriroulin/Library/Python/3.9/lib/python/site-packages (from datasets) (6.0.1)\n",
      "Requirement already satisfied: huggingface-hub>=0.23.0 in /Users/dimitriroulin/Library/Python/3.9/lib/python/site-packages (from datasets) (0.26.5)\n",
      "Requirement already satisfied: numpy>=1.17 in /Users/dimitriroulin/Library/Python/3.9/lib/python/site-packages (from datasets) (2.0.2)\n",
      "Requirement already satisfied: aiohttp in /Users/dimitriroulin/Library/Python/3.9/lib/python/site-packages (from datasets) (3.11.10)\n",
      "Requirement already satisfied: xxhash in /Users/dimitriroulin/Library/Python/3.9/lib/python/site-packages (from datasets) (3.5.0)\n",
      "Requirement already satisfied: pyarrow>=15.0.0 in /Users/dimitriroulin/Library/Python/3.9/lib/python/site-packages (from datasets) (18.1.0)\n",
      "Requirement already satisfied: pandas in /Users/dimitriroulin/Library/Python/3.9/lib/python/site-packages (from datasets) (2.2.3)\n",
      "Requirement already satisfied: multiprocess<0.70.17 in /Users/dimitriroulin/Library/Python/3.9/lib/python/site-packages (from datasets) (0.70.16)\n",
      "Requirement already satisfied: requests>=2.32.2 in /Users/dimitriroulin/Library/Python/3.9/lib/python/site-packages (from datasets) (2.32.3)\n",
      "Requirement already satisfied: packaging in /Users/dimitriroulin/Library/Python/3.9/lib/python/site-packages (from datasets) (23.1)\n",
      "Requirement already satisfied: fsspec[http]<=2024.9.0,>=2023.1.0 in /Users/dimitriroulin/Library/Python/3.9/lib/python/site-packages (from datasets) (2024.9.0)\n",
      "Requirement already satisfied: propcache>=0.2.0 in /Users/dimitriroulin/Library/Python/3.9/lib/python/site-packages (from aiohttp->datasets) (0.2.1)\n",
      "Requirement already satisfied: frozenlist>=1.1.1 in /Users/dimitriroulin/Library/Python/3.9/lib/python/site-packages (from aiohttp->datasets) (1.5.0)\n",
      "Requirement already satisfied: aiosignal>=1.1.2 in /Users/dimitriroulin/Library/Python/3.9/lib/python/site-packages (from aiohttp->datasets) (1.3.1)\n",
      "Requirement already satisfied: multidict<7.0,>=4.5 in /Users/dimitriroulin/Library/Python/3.9/lib/python/site-packages (from aiohttp->datasets) (6.1.0)\n",
      "Requirement already satisfied: attrs>=17.3.0 in /Users/dimitriroulin/Library/Python/3.9/lib/python/site-packages (from aiohttp->datasets) (23.1.0)\n",
      "Requirement already satisfied: aiohappyeyeballs>=2.3.0 in /Users/dimitriroulin/Library/Python/3.9/lib/python/site-packages (from aiohttp->datasets) (2.4.4)\n",
      "Requirement already satisfied: async-timeout<6.0,>=4.0 in /Users/dimitriroulin/Library/Python/3.9/lib/python/site-packages (from aiohttp->datasets) (5.0.1)\n",
      "Requirement already satisfied: yarl<2.0,>=1.17.0 in /Users/dimitriroulin/Library/Python/3.9/lib/python/site-packages (from aiohttp->datasets) (1.18.3)\n",
      "Requirement already satisfied: typing-extensions>=3.7.4.3 in /Users/dimitriroulin/Library/Python/3.9/lib/python/site-packages (from huggingface-hub>=0.23.0->datasets) (4.12.2)\n",
      "Requirement already satisfied: idna<4,>=2.5 in /Users/dimitriroulin/Library/Python/3.9/lib/python/site-packages (from requests>=2.32.2->datasets) (3.4)\n",
      "Requirement already satisfied: urllib3<3,>=1.21.1 in /Users/dimitriroulin/Library/Python/3.9/lib/python/site-packages (from requests>=2.32.2->datasets) (2.0.5)\n",
      "Requirement already satisfied: certifi>=2017.4.17 in /Users/dimitriroulin/Library/Python/3.9/lib/python/site-packages (from requests>=2.32.2->datasets) (2023.7.22)\n",
      "Requirement already satisfied: charset-normalizer<4,>=2 in /Users/dimitriroulin/Library/Python/3.9/lib/python/site-packages (from requests>=2.32.2->datasets) (3.2.0)\n",
      "Requirement already satisfied: python-dateutil>=2.8.2 in /Users/dimitriroulin/Library/Python/3.9/lib/python/site-packages (from pandas->datasets) (2.8.2)\n",
      "Requirement already satisfied: tzdata>=2022.7 in /Users/dimitriroulin/Library/Python/3.9/lib/python/site-packages (from pandas->datasets) (2024.2)\n",
      "Requirement already satisfied: pytz>=2020.1 in /Users/dimitriroulin/Library/Python/3.9/lib/python/site-packages (from pandas->datasets) (2024.2)\n",
      "Requirement already satisfied: six>=1.5 in /Library/Developer/CommandLineTools/Library/Frameworks/Python3.framework/Versions/3.9/lib/python3.9/site-packages (from python-dateutil>=2.8.2->pandas->datasets) (1.15.0)\n",
      "\u001b[33mWARNING: You are using pip version 21.2.4; however, version 25.1.1 is available.\n",
      "You should consider upgrading via the '/Library/Developer/CommandLineTools/usr/bin/python3 -m pip install --upgrade pip' command.\u001b[0m\n",
      "Note: you may need to restart the kernel to use updated packages.\n",
      "Defaulting to user installation because normal site-packages is not writeable\n",
      "Requirement already satisfied: scikit-learn in /Users/dimitriroulin/Library/Python/3.9/lib/python/site-packages (1.6.0)\n",
      "Requirement already satisfied: numpy>=1.19.5 in /Users/dimitriroulin/Library/Python/3.9/lib/python/site-packages (from scikit-learn) (2.0.2)\n",
      "Requirement already satisfied: scipy>=1.6.0 in /Users/dimitriroulin/Library/Python/3.9/lib/python/site-packages (from scikit-learn) (1.13.1)\n",
      "Requirement already satisfied: joblib>=1.2.0 in /Users/dimitriroulin/Library/Python/3.9/lib/python/site-packages (from scikit-learn) (1.4.2)\n",
      "Requirement already satisfied: threadpoolctl>=3.1.0 in /Users/dimitriroulin/Library/Python/3.9/lib/python/site-packages (from scikit-learn) (3.5.0)\n",
      "\u001b[33mWARNING: You are using pip version 21.2.4; however, version 25.1.1 is available.\n",
      "You should consider upgrading via the '/Library/Developer/CommandLineTools/usr/bin/python3 -m pip install --upgrade pip' command.\u001b[0m\n",
      "Note: you may need to restart the kernel to use updated packages.\n",
      "Defaulting to user installation because normal site-packages is not writeable\n",
      "Requirement already satisfied: torch in /Users/dimitriroulin/Library/Python/3.9/lib/python/site-packages (2.5.1)\n",
      "Requirement already satisfied: networkx in /Users/dimitriroulin/Library/Python/3.9/lib/python/site-packages (from torch) (3.2.1)\n",
      "Requirement already satisfied: sympy==1.13.1 in /Users/dimitriroulin/Library/Python/3.9/lib/python/site-packages (from torch) (1.13.1)\n",
      "Requirement already satisfied: filelock in /Users/dimitriroulin/Library/Python/3.9/lib/python/site-packages (from torch) (3.16.1)\n",
      "Requirement already satisfied: jinja2 in /Users/dimitriroulin/Library/Python/3.9/lib/python/site-packages (from torch) (3.1.2)\n",
      "Requirement already satisfied: typing-extensions>=4.8.0 in /Users/dimitriroulin/Library/Python/3.9/lib/python/site-packages (from torch) (4.12.2)\n",
      "Requirement already satisfied: fsspec in /Users/dimitriroulin/Library/Python/3.9/lib/python/site-packages (from torch) (2024.9.0)\n",
      "Requirement already satisfied: mpmath<1.4,>=1.1.0 in /Users/dimitriroulin/Library/Python/3.9/lib/python/site-packages (from sympy==1.13.1->torch) (1.3.0)\n",
      "Requirement already satisfied: MarkupSafe>=2.0 in /Users/dimitriroulin/Library/Python/3.9/lib/python/site-packages (from jinja2->torch) (2.1.3)\n",
      "\u001b[33mWARNING: You are using pip version 21.2.4; however, version 25.1.1 is available.\n",
      "You should consider upgrading via the '/Library/Developer/CommandLineTools/usr/bin/python3 -m pip install --upgrade pip' command.\u001b[0m\n",
      "Note: you may need to restart the kernel to use updated packages.\n",
      "Defaulting to user installation because normal site-packages is not writeable\n",
      "Requirement already satisfied: datasets in /Users/dimitriroulin/Library/Python/3.9/lib/python/site-packages (3.2.0)\n",
      "Requirement already satisfied: filelock in /Users/dimitriroulin/Library/Python/3.9/lib/python/site-packages (from datasets) (3.16.1)\n",
      "Requirement already satisfied: pandas in /Users/dimitriroulin/Library/Python/3.9/lib/python/site-packages (from datasets) (2.2.3)\n",
      "Requirement already satisfied: tqdm>=4.66.3 in /Users/dimitriroulin/Library/Python/3.9/lib/python/site-packages (from datasets) (4.67.1)\n",
      "Requirement already satisfied: pyyaml>=5.1 in /Users/dimitriroulin/Library/Python/3.9/lib/python/site-packages (from datasets) (6.0.1)\n",
      "Requirement already satisfied: numpy>=1.17 in /Users/dimitriroulin/Library/Python/3.9/lib/python/site-packages (from datasets) (2.0.2)\n",
      "Requirement already satisfied: packaging in /Users/dimitriroulin/Library/Python/3.9/lib/python/site-packages (from datasets) (23.1)\n",
      "Requirement already satisfied: fsspec[http]<=2024.9.0,>=2023.1.0 in /Users/dimitriroulin/Library/Python/3.9/lib/python/site-packages (from datasets) (2024.9.0)\n",
      "Requirement already satisfied: xxhash in /Users/dimitriroulin/Library/Python/3.9/lib/python/site-packages (from datasets) (3.5.0)\n",
      "Requirement already satisfied: requests>=2.32.2 in /Users/dimitriroulin/Library/Python/3.9/lib/python/site-packages (from datasets) (2.32.3)\n",
      "Requirement already satisfied: aiohttp in /Users/dimitriroulin/Library/Python/3.9/lib/python/site-packages (from datasets) (3.11.10)\n",
      "Requirement already satisfied: huggingface-hub>=0.23.0 in /Users/dimitriroulin/Library/Python/3.9/lib/python/site-packages (from datasets) (0.26.5)\n",
      "Requirement already satisfied: multiprocess<0.70.17 in /Users/dimitriroulin/Library/Python/3.9/lib/python/site-packages (from datasets) (0.70.16)\n",
      "Requirement already satisfied: dill<0.3.9,>=0.3.0 in /Users/dimitriroulin/Library/Python/3.9/lib/python/site-packages (from datasets) (0.3.8)\n",
      "Requirement already satisfied: pyarrow>=15.0.0 in /Users/dimitriroulin/Library/Python/3.9/lib/python/site-packages (from datasets) (18.1.0)\n",
      "Requirement already satisfied: yarl<2.0,>=1.17.0 in /Users/dimitriroulin/Library/Python/3.9/lib/python/site-packages (from aiohttp->datasets) (1.18.3)\n",
      "Requirement already satisfied: aiosignal>=1.1.2 in /Users/dimitriroulin/Library/Python/3.9/lib/python/site-packages (from aiohttp->datasets) (1.3.1)\n",
      "Requirement already satisfied: propcache>=0.2.0 in /Users/dimitriroulin/Library/Python/3.9/lib/python/site-packages (from aiohttp->datasets) (0.2.1)\n",
      "Requirement already satisfied: aiohappyeyeballs>=2.3.0 in /Users/dimitriroulin/Library/Python/3.9/lib/python/site-packages (from aiohttp->datasets) (2.4.4)\n",
      "Requirement already satisfied: attrs>=17.3.0 in /Users/dimitriroulin/Library/Python/3.9/lib/python/site-packages (from aiohttp->datasets) (23.1.0)\n",
      "Requirement already satisfied: frozenlist>=1.1.1 in /Users/dimitriroulin/Library/Python/3.9/lib/python/site-packages (from aiohttp->datasets) (1.5.0)\n",
      "Requirement already satisfied: async-timeout<6.0,>=4.0 in /Users/dimitriroulin/Library/Python/3.9/lib/python/site-packages (from aiohttp->datasets) (5.0.1)\n",
      "Requirement already satisfied: multidict<7.0,>=4.5 in /Users/dimitriroulin/Library/Python/3.9/lib/python/site-packages (from aiohttp->datasets) (6.1.0)\n",
      "Requirement already satisfied: typing-extensions>=3.7.4.3 in /Users/dimitriroulin/Library/Python/3.9/lib/python/site-packages (from huggingface-hub>=0.23.0->datasets) (4.12.2)\n",
      "Requirement already satisfied: idna<4,>=2.5 in /Users/dimitriroulin/Library/Python/3.9/lib/python/site-packages (from requests>=2.32.2->datasets) (3.4)\n",
      "Requirement already satisfied: certifi>=2017.4.17 in /Users/dimitriroulin/Library/Python/3.9/lib/python/site-packages (from requests>=2.32.2->datasets) (2023.7.22)\n",
      "Requirement already satisfied: urllib3<3,>=1.21.1 in /Users/dimitriroulin/Library/Python/3.9/lib/python/site-packages (from requests>=2.32.2->datasets) (2.0.5)\n",
      "Requirement already satisfied: charset-normalizer<4,>=2 in /Users/dimitriroulin/Library/Python/3.9/lib/python/site-packages (from requests>=2.32.2->datasets) (3.2.0)\n",
      "Requirement already satisfied: pytz>=2020.1 in /Users/dimitriroulin/Library/Python/3.9/lib/python/site-packages (from pandas->datasets) (2024.2)\n",
      "Requirement already satisfied: python-dateutil>=2.8.2 in /Users/dimitriroulin/Library/Python/3.9/lib/python/site-packages (from pandas->datasets) (2.8.2)\n",
      "Requirement already satisfied: tzdata>=2022.7 in /Users/dimitriroulin/Library/Python/3.9/lib/python/site-packages (from pandas->datasets) (2024.2)\n",
      "Requirement already satisfied: six>=1.5 in /Library/Developer/CommandLineTools/Library/Frameworks/Python3.framework/Versions/3.9/lib/python3.9/site-packages (from python-dateutil>=2.8.2->pandas->datasets) (1.15.0)\n",
      "\u001b[33mWARNING: You are using pip version 21.2.4; however, version 25.1.1 is available.\n",
      "You should consider upgrading via the '/Library/Developer/CommandLineTools/usr/bin/python3 -m pip install --upgrade pip' command.\u001b[0m\n",
      "Note: you may need to restart the kernel to use updated packages.\n",
      "Defaulting to user installation because normal site-packages is not writeable\n",
      "Requirement already satisfied: accelerate in /Users/dimitriroulin/Library/Python/3.9/lib/python/site-packages (1.2.0)\n",
      "Requirement already satisfied: huggingface-hub>=0.21.0 in /Users/dimitriroulin/Library/Python/3.9/lib/python/site-packages (from accelerate) (0.26.5)\n",
      "Requirement already satisfied: psutil in /Users/dimitriroulin/Library/Python/3.9/lib/python/site-packages (from accelerate) (5.9.5)\n",
      "Requirement already satisfied: torch>=1.10.0 in /Users/dimitriroulin/Library/Python/3.9/lib/python/site-packages (from accelerate) (2.5.1)\n",
      "Requirement already satisfied: safetensors>=0.4.3 in /Users/dimitriroulin/Library/Python/3.9/lib/python/site-packages (from accelerate) (0.4.5)\n",
      "Requirement already satisfied: pyyaml in /Users/dimitriroulin/Library/Python/3.9/lib/python/site-packages (from accelerate) (6.0.1)\n",
      "Requirement already satisfied: numpy<3.0.0,>=1.17 in /Users/dimitriroulin/Library/Python/3.9/lib/python/site-packages (from accelerate) (2.0.2)\n",
      "Requirement already satisfied: packaging>=20.0 in /Users/dimitriroulin/Library/Python/3.9/lib/python/site-packages (from accelerate) (23.1)\n",
      "Requirement already satisfied: filelock in /Users/dimitriroulin/Library/Python/3.9/lib/python/site-packages (from huggingface-hub>=0.21.0->accelerate) (3.16.1)\n",
      "Requirement already satisfied: typing-extensions>=3.7.4.3 in /Users/dimitriroulin/Library/Python/3.9/lib/python/site-packages (from huggingface-hub>=0.21.0->accelerate) (4.12.2)\n",
      "Requirement already satisfied: requests in /Users/dimitriroulin/Library/Python/3.9/lib/python/site-packages (from huggingface-hub>=0.21.0->accelerate) (2.32.3)\n",
      "Requirement already satisfied: fsspec>=2023.5.0 in /Users/dimitriroulin/Library/Python/3.9/lib/python/site-packages (from huggingface-hub>=0.21.0->accelerate) (2024.9.0)\n",
      "Requirement already satisfied: tqdm>=4.42.1 in /Users/dimitriroulin/Library/Python/3.9/lib/python/site-packages (from huggingface-hub>=0.21.0->accelerate) (4.67.1)\n",
      "Requirement already satisfied: jinja2 in /Users/dimitriroulin/Library/Python/3.9/lib/python/site-packages (from torch>=1.10.0->accelerate) (3.1.2)\n",
      "Requirement already satisfied: networkx in /Users/dimitriroulin/Library/Python/3.9/lib/python/site-packages (from torch>=1.10.0->accelerate) (3.2.1)\n",
      "Requirement already satisfied: sympy==1.13.1 in /Users/dimitriroulin/Library/Python/3.9/lib/python/site-packages (from torch>=1.10.0->accelerate) (1.13.1)\n",
      "Requirement already satisfied: mpmath<1.4,>=1.1.0 in /Users/dimitriroulin/Library/Python/3.9/lib/python/site-packages (from sympy==1.13.1->torch>=1.10.0->accelerate) (1.3.0)\n",
      "Requirement already satisfied: MarkupSafe>=2.0 in /Users/dimitriroulin/Library/Python/3.9/lib/python/site-packages (from jinja2->torch>=1.10.0->accelerate) (2.1.3)\n",
      "Requirement already satisfied: charset-normalizer<4,>=2 in /Users/dimitriroulin/Library/Python/3.9/lib/python/site-packages (from requests->huggingface-hub>=0.21.0->accelerate) (3.2.0)\n",
      "Requirement already satisfied: urllib3<3,>=1.21.1 in /Users/dimitriroulin/Library/Python/3.9/lib/python/site-packages (from requests->huggingface-hub>=0.21.0->accelerate) (2.0.5)\n",
      "Requirement already satisfied: idna<4,>=2.5 in /Users/dimitriroulin/Library/Python/3.9/lib/python/site-packages (from requests->huggingface-hub>=0.21.0->accelerate) (3.4)\n",
      "Requirement already satisfied: certifi>=2017.4.17 in /Users/dimitriroulin/Library/Python/3.9/lib/python/site-packages (from requests->huggingface-hub>=0.21.0->accelerate) (2023.7.22)\n",
      "\u001b[33mWARNING: You are using pip version 21.2.4; however, version 25.1.1 is available.\n",
      "You should consider upgrading via the '/Library/Developer/CommandLineTools/usr/bin/python3 -m pip install --upgrade pip' command.\u001b[0m\n",
      "Note: you may need to restart the kernel to use updated packages.\n"
     ]
    }
   ],
   "source": [
    "%pip install transformers \n",
    "%pip install datasets \n",
    "%pip install scikit-learn\n",
    "%pip install torch\n",
    "%pip install datasets\n",
    "%pip install accelerate"
   ]
  },
  {
   "cell_type": "markdown",
   "metadata": {},
   "source": [
    "### **1. Loading the Data**\n",
    "In this part, we load the dataset from a CSV file and preprocess it. We also convert the difficulty levels into numeric labels for classification."
   ]
  },
  {
   "cell_type": "code",
   "execution_count": 15,
   "metadata": {},
   "outputs": [
    {
     "name": "stdout",
     "output_type": "stream",
     "text": [
      "Train size: 3840\n",
      "Test size: 960\n",
      "Train data difficulty distribution: difficulty\n",
      "A1    640\n",
      "A2    640\n",
      "B1    640\n",
      "B2    640\n",
      "C1    640\n",
      "C2    640\n",
      "Name: count, dtype: int64\n",
      "Test data difficulty distribution: difficulty\n",
      "A1    160\n",
      "A2    160\n",
      "B1    160\n",
      "B2    160\n",
      "C1    160\n",
      "C2    160\n",
      "Name: count, dtype: int64\n",
      "Duplicated rows in train data: 0\n",
      "Duplicated rows in test data: 0\n",
      "Train data sample:\n",
      "                                    sentence difficulty  labels\n",
      "0  Est-ce que le professeur Omar est libre ?         A1       0\n",
      "1                              Elle a 21 ans         A1       0\n",
      "2                  Alors comment ça marche ?         A1       0\n",
      "3                                A bientôt !         A1       0\n",
      "4        Le chaufffeur de bus est en retard.         A1       0\n"
     ]
    }
   ],
   "source": [
    "import pandas as pd\n",
    "from sklearn.model_selection import train_test_split\n",
    "from datasets import Dataset, DatasetDict\n",
    "\n",
    "# Split the data into train (80%) and test (10%)\n",
    "\n",
    "train_data = pd.read_csv(\"./data/french_difficulty_train.csv\")\n",
    "test_data = pd.read_csv(\"./data/french_difficulty_test.csv\")\n",
    "\n",
    "print(f\"Train size: {len(train_data)}\")\n",
    "print(f\"Test size: {len(test_data)}\")\n",
    "\n",
    "print(f\"Train data difficulty distribution: {train_data['difficulty'].value_counts()}\")\n",
    "print(f\"Test data difficulty distribution: {test_data['difficulty'].value_counts()}\")\n",
    "print(f\"Duplicated rows in train data: {train_data.duplicated().sum()}\")\n",
    "print(f\"Duplicated rows in test data: {test_data.duplicated().sum()}\")\n",
    "\n",
    "label2id = {'A1': 0, 'A2': 1, 'B1': 2, 'B2': 3, 'C1': 4, 'C2': 5}\n",
    "id2label = {v: k for k, v in label2id.items()}\n",
    "\n",
    "train_data['labels'] = train_data['difficulty'].map(label2id)\n",
    "test_data['labels'] = test_data['difficulty'].map(label2id)\n",
    "\n",
    "\n",
    "# Display the first few rows of the train data\n",
    "print(\"Train data sample:\")\n",
    "print(train_data.head())"
   ]
  },
  {
   "cell_type": "markdown",
   "metadata": {},
   "source": [
    "\n",
    "### **3. Preparing the Hugging Face Dataset**\n",
    "In this step, we convert the dataset into the Hugging Face `Dataset` format and create a `DatasetDict` for easier handling in the `transformers` library."
   ]
  },
  {
   "cell_type": "code",
   "execution_count": 17,
   "metadata": {},
   "outputs": [
    {
     "name": "stdout",
     "output_type": "stream",
     "text": [
      "{'sentence': 'Est-ce que le professeur Omar est libre ?', 'difficulty': 'A1', 'labels': 0}\n",
      "DatasetDict({\n",
      "    train: Dataset({\n",
      "        features: ['sentence', 'difficulty', 'labels'],\n",
      "        num_rows: 3840\n",
      "    })\n",
      "    test: Dataset({\n",
      "        features: ['sentence', 'difficulty', 'labels'],\n",
      "        num_rows: 960\n",
      "    })\n",
      "})\n"
     ]
    }
   ],
   "source": [
    "# Convert to Hugging Face Dataset format\n",
    "test_dataset = Dataset.from_pandas(test_data)\n",
    "train_dataset = Dataset.from_pandas(train_data)\n",
    "\n",
    "dataset = DatasetDict({\n",
    "    \"train\": Dataset.from_pandas(train_data),\n",
    "    \"test\": Dataset.from_pandas(test_data),\n",
    "})\n",
    "\n",
    "# Check sample\n",
    "print(dataset[\"train\"][0])\n",
    "\n",
    "print(dataset)"
   ]
  },
  {
   "cell_type": "markdown",
   "metadata": {},
   "source": [
    "\n",
    "### **4. Tokenizing the Dataset**\n",
    "Here, we load the tokenizer for `xlm-roberta-base` and tokenize the sentences. We also assign numeric labels for classification."
   ]
  },
  {
   "cell_type": "code",
   "execution_count": 18,
   "metadata": {},
   "outputs": [
    {
     "data": {
      "application/vnd.jupyter.widget-view+json": {
       "model_id": "b2c2434844534935a93f957d510a2408",
       "version_major": 2,
       "version_minor": 0
      },
      "text/plain": [
       "Map:   0%|          | 0/3840 [00:00<?, ? examples/s]"
      ]
     },
     "metadata": {},
     "output_type": "display_data"
    },
    {
     "data": {
      "application/vnd.jupyter.widget-view+json": {
       "model_id": "8986a4ecf41744918ec7952e9f046b9a",
       "version_major": 2,
       "version_minor": 0
      },
      "text/plain": [
       "Map:   0%|          | 0/960 [00:00<?, ? examples/s]"
      ]
     },
     "metadata": {},
     "output_type": "display_data"
    },
    {
     "name": "stdout",
     "output_type": "stream",
     "text": [
      "{'sentence': 'Est-ce que le professeur Omar est libre ?', 'difficulty': 'A1', 'labels': 0, 'input_ids': [5, 1196, 26, 291, 27, 16, 2136, 24416, 30, 1038, 106, 6, 1, 1, 1, 1, 1, 1, 1, 1, 1, 1, 1, 1, 1, 1, 1, 1, 1, 1, 1, 1, 1, 1, 1, 1, 1, 1, 1, 1, 1, 1, 1, 1, 1, 1, 1, 1, 1, 1, 1, 1, 1, 1, 1, 1, 1, 1, 1, 1, 1, 1, 1, 1, 1, 1, 1, 1, 1, 1, 1, 1, 1, 1, 1, 1, 1, 1, 1, 1, 1, 1, 1, 1, 1, 1, 1, 1, 1, 1, 1, 1, 1, 1, 1, 1, 1, 1, 1, 1, 1, 1, 1, 1, 1, 1, 1, 1, 1, 1, 1, 1, 1, 1, 1, 1, 1, 1, 1, 1, 1, 1, 1, 1, 1, 1, 1, 1], 'attention_mask': [1, 1, 1, 1, 1, 1, 1, 1, 1, 1, 1, 1, 0, 0, 0, 0, 0, 0, 0, 0, 0, 0, 0, 0, 0, 0, 0, 0, 0, 0, 0, 0, 0, 0, 0, 0, 0, 0, 0, 0, 0, 0, 0, 0, 0, 0, 0, 0, 0, 0, 0, 0, 0, 0, 0, 0, 0, 0, 0, 0, 0, 0, 0, 0, 0, 0, 0, 0, 0, 0, 0, 0, 0, 0, 0, 0, 0, 0, 0, 0, 0, 0, 0, 0, 0, 0, 0, 0, 0, 0, 0, 0, 0, 0, 0, 0, 0, 0, 0, 0, 0, 0, 0, 0, 0, 0, 0, 0, 0, 0, 0, 0, 0, 0, 0, 0, 0, 0, 0, 0, 0, 0, 0, 0, 0, 0, 0, 0]}\n"
     ]
    }
   ],
   "source": [
    "from transformers import AutoTokenizer\n",
    "\n",
    "tokenizer = AutoTokenizer.from_pretrained(\"camembert-base\")\n",
    "\n",
    "def tokenize_function(examples):\n",
    "    # No need to remap labels, they're already integer!\n",
    "    result = tokenizer(\n",
    "        examples[\"sentence\"],\n",
    "        padding=\"max_length\",\n",
    "        truncation=True,\n",
    "        max_length=128\n",
    "    )\n",
    "    result[\"labels\"] = examples[\"labels\"]  # <- keep the integer label\n",
    "    return result\n",
    "\n",
    "tokenized_datasets = dataset.map(tokenize_function, batched=True)\n",
    "print(tokenized_datasets[\"train\"][0])\n"
   ]
  },
  {
   "cell_type": "markdown",
   "metadata": {},
   "source": [
    "\n",
    "### **5. Loading the Model**\n",
    "In this step, we load the pre-trained `xlm-roberta-base` model and prepare it for sequence classification by specifying the number of labels."
   ]
  },
  {
   "cell_type": "code",
   "execution_count": 19,
   "metadata": {},
   "outputs": [
    {
     "name": "stdout",
     "output_type": "stream",
     "text": [
      "Using device: mps\n"
     ]
    }
   ],
   "source": [
    "import torch\n",
    "device = torch.device(\"mps\") if torch.backends.mps.is_available() else torch.device(\"cpu\")\n",
    "print(f\"Using device: {device}\")\n"
   ]
  },
  {
   "cell_type": "code",
   "execution_count": 20,
   "metadata": {},
   "outputs": [
    {
     "name": "stdout",
     "output_type": "stream",
     "text": [
      "Number of classes: 6\n"
     ]
    },
    {
     "name": "stderr",
     "output_type": "stream",
     "text": [
      "Some weights of CamembertForSequenceClassification were not initialized from the model checkpoint at camembert-base and are newly initialized: ['classifier.dense.bias', 'classifier.dense.weight', 'classifier.out_proj.bias', 'classifier.out_proj.weight']\n",
      "You should probably TRAIN this model on a down-stream task to be able to use it for predictions and inference.\n"
     ]
    },
    {
     "data": {
      "text/plain": [
       "CamembertForSequenceClassification(\n",
       "  (roberta): CamembertModel(\n",
       "    (embeddings): CamembertEmbeddings(\n",
       "      (word_embeddings): Embedding(32005, 768, padding_idx=1)\n",
       "      (position_embeddings): Embedding(514, 768, padding_idx=1)\n",
       "      (token_type_embeddings): Embedding(1, 768)\n",
       "      (LayerNorm): LayerNorm((768,), eps=1e-05, elementwise_affine=True)\n",
       "      (dropout): Dropout(p=0.1, inplace=False)\n",
       "    )\n",
       "    (encoder): CamembertEncoder(\n",
       "      (layer): ModuleList(\n",
       "        (0-11): 12 x CamembertLayer(\n",
       "          (attention): CamembertAttention(\n",
       "            (self): CamembertSdpaSelfAttention(\n",
       "              (query): Linear(in_features=768, out_features=768, bias=True)\n",
       "              (key): Linear(in_features=768, out_features=768, bias=True)\n",
       "              (value): Linear(in_features=768, out_features=768, bias=True)\n",
       "              (dropout): Dropout(p=0.1, inplace=False)\n",
       "            )\n",
       "            (output): CamembertSelfOutput(\n",
       "              (dense): Linear(in_features=768, out_features=768, bias=True)\n",
       "              (LayerNorm): LayerNorm((768,), eps=1e-05, elementwise_affine=True)\n",
       "              (dropout): Dropout(p=0.1, inplace=False)\n",
       "            )\n",
       "          )\n",
       "          (intermediate): CamembertIntermediate(\n",
       "            (dense): Linear(in_features=768, out_features=3072, bias=True)\n",
       "            (intermediate_act_fn): GELUActivation()\n",
       "          )\n",
       "          (output): CamembertOutput(\n",
       "            (dense): Linear(in_features=3072, out_features=768, bias=True)\n",
       "            (LayerNorm): LayerNorm((768,), eps=1e-05, elementwise_affine=True)\n",
       "            (dropout): Dropout(p=0.1, inplace=False)\n",
       "          )\n",
       "        )\n",
       "      )\n",
       "    )\n",
       "  )\n",
       "  (classifier): CamembertClassificationHead(\n",
       "    (dense): Linear(in_features=768, out_features=768, bias=True)\n",
       "    (dropout): Dropout(p=0.1, inplace=False)\n",
       "    (out_proj): Linear(in_features=768, out_features=6, bias=True)\n",
       "  )\n",
       ")"
      ]
     },
     "execution_count": 20,
     "metadata": {},
     "output_type": "execute_result"
    }
   ],
   "source": [
    "from transformers import AutoModelForSequenceClassification\n",
    "\n",
    "# Define the number of classes (assuming data[\"difficulty\"] is your dataframe/series)\n",
    "num_classes = len(train_data[\"difficulty\"].unique())\n",
    "print(f\"Number of classes: {num_classes}\")\n",
    "\n",
    "# Load CamemBERT model\n",
    "model = AutoModelForSequenceClassification.from_pretrained(\"camembert-base\", num_labels=num_classes)\n",
    "\n",
    "model.to(device)  # Move the model to the device\n"
   ]
  },
  {
   "cell_type": "markdown",
   "metadata": {},
   "source": [
    "\n",
    "### **6. Setting Up the Trainer**\n",
    "We define the training arguments and initialize the `Trainer` class, which manages the fine-tuning process. Early stopping is implemented to prevent overfitting.\n"
   ]
  },
  {
   "cell_type": "code",
   "execution_count": 21,
   "metadata": {},
   "outputs": [
    {
     "name": "stderr",
     "output_type": "stream",
     "text": [
      "/Users/dimitriroulin/Library/Python/3.9/lib/python/site-packages/transformers/training_args.py:1575: FutureWarning: `evaluation_strategy` is deprecated and will be removed in version 4.46 of 🤗 Transformers. Use `eval_strategy` instead\n",
      "  warnings.warn(\n",
      "/var/folders/wb/btfl8bv91b5c253kbpftk1940000gn/T/ipykernel_20534/4216458826.py:25: FutureWarning: `tokenizer` is deprecated and will be removed in version 5.0.0 for `Trainer.__init__`. Use `processing_class` instead.\n",
      "  trainer = Trainer(\n"
     ]
    }
   ],
   "source": [
    "from transformers import TrainingArguments, Trainer, DataCollatorWithPadding, EarlyStoppingCallback\n",
    "\n",
    "# Define a data collator for padding\n",
    "data_collator = DataCollatorWithPadding(tokenizer=tokenizer, padding=True)\n",
    "\n",
    "# Define training arguments\n",
    "training_args = TrainingArguments(\n",
    "    output_dir=\"./results\",\n",
    "    evaluation_strategy=\"epoch\",\n",
    "    save_strategy=\"epoch\",\n",
    "    learning_rate=1e-5,  # Adjusted learning rate\n",
    "    lr_scheduler_type=\"linear\",  # Gradually reduces learning rate\n",
    "    per_device_train_batch_size=8,\n",
    "    per_device_eval_batch_size=8,\n",
    "    num_train_epochs=10,\n",
    "    weight_decay=0.2,\n",
    "    logging_dir=\"./logs\",\n",
    "    logging_steps=10,\n",
    "    load_best_model_at_end=True,\n",
    "    gradient_accumulation_steps=2,\n",
    "    max_grad_norm=1.0,\n",
    ")\n",
    "\n",
    "# Initialize the Trainer\n",
    "trainer = Trainer(\n",
    "    model=model,\n",
    "    args=training_args,\n",
    "    train_dataset=tokenized_datasets[\"train\"],\n",
    "    eval_dataset=tokenized_datasets[\"test\"],\n",
    "    data_collator=data_collator,\n",
    "    tokenizer=tokenizer,\n",
    "    callbacks=[EarlyStoppingCallback(early_stopping_patience=2)],\n",
    ")\n"
   ]
  },
  {
   "cell_type": "markdown",
   "metadata": {},
   "source": [
    "### **7. Training the Model**\n",
    "Finally, we start the training process and fine-tune the model for the text classification task.\n"
   ]
  },
  {
   "cell_type": "code",
   "execution_count": 22,
   "metadata": {},
   "outputs": [
    {
     "data": {
      "application/vnd.jupyter.widget-view+json": {
       "model_id": "0633ae5d7790475f9501dc7ad3357ee6",
       "version_major": 2,
       "version_minor": 0
      },
      "text/plain": [
       "  0%|          | 0/2400 [00:00<?, ?it/s]"
      ]
     },
     "metadata": {},
     "output_type": "display_data"
    },
    {
     "name": "stdout",
     "output_type": "stream",
     "text": [
      "{'loss': 1.7948, 'grad_norm': 1.6835294961929321, 'learning_rate': 9.958333333333334e-06, 'epoch': 0.04}\n",
      "{'loss': 1.7894, 'grad_norm': 2.0761940479278564, 'learning_rate': 9.916666666666668e-06, 'epoch': 0.08}\n",
      "{'loss': 1.779, 'grad_norm': 7.482025623321533, 'learning_rate': 9.875000000000001e-06, 'epoch': 0.12}\n",
      "{'loss': 1.7764, 'grad_norm': 3.409564733505249, 'learning_rate': 9.833333333333333e-06, 'epoch': 0.17}\n",
      "{'loss': 1.7807, 'grad_norm': 1.904297113418579, 'learning_rate': 9.791666666666666e-06, 'epoch': 0.21}\n",
      "{'loss': 1.7684, 'grad_norm': 3.206190824508667, 'learning_rate': 9.75e-06, 'epoch': 0.25}\n",
      "{'loss': 1.7468, 'grad_norm': 27.688140869140625, 'learning_rate': 9.708333333333333e-06, 'epoch': 0.29}\n",
      "{'loss': 1.7311, 'grad_norm': 2.8570058345794678, 'learning_rate': 9.666666666666667e-06, 'epoch': 0.33}\n",
      "{'loss': 1.7062, 'grad_norm': 3.3713064193725586, 'learning_rate': 9.625e-06, 'epoch': 0.38}\n",
      "{'loss': 1.6915, 'grad_norm': 3.228640079498291, 'learning_rate': 9.583333333333335e-06, 'epoch': 0.42}\n",
      "{'loss': 1.6641, 'grad_norm': 4.834113597869873, 'learning_rate': 9.541666666666669e-06, 'epoch': 0.46}\n",
      "{'loss': 1.6372, 'grad_norm': 3.7708935737609863, 'learning_rate': 9.5e-06, 'epoch': 0.5}\n",
      "{'loss': 1.6294, 'grad_norm': 3.142540454864502, 'learning_rate': 9.458333333333334e-06, 'epoch': 0.54}\n",
      "{'loss': 1.6186, 'grad_norm': 5.188716888427734, 'learning_rate': 9.416666666666667e-06, 'epoch': 0.58}\n",
      "{'loss': 1.5961, 'grad_norm': 2.9740703105926514, 'learning_rate': 9.375000000000001e-06, 'epoch': 0.62}\n",
      "{'loss': 1.5801, 'grad_norm': 5.0384721755981445, 'learning_rate': 9.333333333333334e-06, 'epoch': 0.67}\n",
      "{'loss': 1.5721, 'grad_norm': 4.176776885986328, 'learning_rate': 9.291666666666668e-06, 'epoch': 0.71}\n",
      "{'loss': 1.5053, 'grad_norm': 5.316956520080566, 'learning_rate': 9.250000000000001e-06, 'epoch': 0.75}\n",
      "{'loss': 1.5015, 'grad_norm': 6.269102096557617, 'learning_rate': 9.208333333333333e-06, 'epoch': 0.79}\n",
      "{'loss': 1.4966, 'grad_norm': 7.213937759399414, 'learning_rate': 9.166666666666666e-06, 'epoch': 0.83}\n",
      "{'loss': 1.4795, 'grad_norm': 9.089072227478027, 'learning_rate': 9.125e-06, 'epoch': 0.88}\n",
      "{'loss': 1.4215, 'grad_norm': 4.060433387756348, 'learning_rate': 9.083333333333333e-06, 'epoch': 0.92}\n",
      "{'loss': 1.4531, 'grad_norm': 3.0699825286865234, 'learning_rate': 9.041666666666667e-06, 'epoch': 0.96}\n",
      "{'loss': 1.415, 'grad_norm': 8.668129920959473, 'learning_rate': 9e-06, 'epoch': 1.0}\n"
     ]
    },
    {
     "data": {
      "application/vnd.jupyter.widget-view+json": {
       "model_id": "96ed4e1f6395410391ace5900e16245d",
       "version_major": 2,
       "version_minor": 0
      },
      "text/plain": [
       "  0%|          | 0/120 [00:00<?, ?it/s]"
      ]
     },
     "metadata": {},
     "output_type": "display_data"
    },
    {
     "name": "stdout",
     "output_type": "stream",
     "text": [
      "{'eval_loss': 1.3872942924499512, 'eval_runtime': 15.6564, 'eval_samples_per_second': 61.317, 'eval_steps_per_second': 7.665, 'epoch': 1.0}\n",
      "{'loss': 1.4261, 'grad_norm': 5.357051849365234, 'learning_rate': 8.958333333333334e-06, 'epoch': 1.04}\n",
      "{'loss': 1.4203, 'grad_norm': 7.653304100036621, 'learning_rate': 8.916666666666667e-06, 'epoch': 1.08}\n",
      "{'loss': 1.3788, 'grad_norm': 5.249135971069336, 'learning_rate': 8.875e-06, 'epoch': 1.12}\n",
      "{'loss': 1.3167, 'grad_norm': 5.692903995513916, 'learning_rate': 8.833333333333334e-06, 'epoch': 1.17}\n",
      "{'loss': 1.348, 'grad_norm': 8.192925453186035, 'learning_rate': 8.791666666666667e-06, 'epoch': 1.21}\n",
      "{'loss': 1.3898, 'grad_norm': 32.60385513305664, 'learning_rate': 8.750000000000001e-06, 'epoch': 1.25}\n",
      "{'loss': 1.3015, 'grad_norm': 6.970691680908203, 'learning_rate': 8.708333333333334e-06, 'epoch': 1.29}\n",
      "{'loss': 1.3091, 'grad_norm': 12.926108360290527, 'learning_rate': 8.666666666666668e-06, 'epoch': 1.33}\n",
      "{'loss': 1.3113, 'grad_norm': 8.334991455078125, 'learning_rate': 8.625000000000001e-06, 'epoch': 1.38}\n",
      "{'loss': 1.2608, 'grad_norm': 6.907652378082275, 'learning_rate': 8.583333333333333e-06, 'epoch': 1.42}\n",
      "{'loss': 1.2915, 'grad_norm': 8.363163948059082, 'learning_rate': 8.541666666666666e-06, 'epoch': 1.46}\n",
      "{'loss': 1.2631, 'grad_norm': 6.13120174407959, 'learning_rate': 8.5e-06, 'epoch': 1.5}\n",
      "{'loss': 1.3044, 'grad_norm': 6.378677845001221, 'learning_rate': 8.458333333333333e-06, 'epoch': 1.54}\n",
      "{'loss': 1.3027, 'grad_norm': 24.7702693939209, 'learning_rate': 8.416666666666667e-06, 'epoch': 1.58}\n",
      "{'loss': 1.2394, 'grad_norm': 6.037990093231201, 'learning_rate': 8.375e-06, 'epoch': 1.62}\n",
      "{'loss': 1.3056, 'grad_norm': 8.372642517089844, 'learning_rate': 8.333333333333334e-06, 'epoch': 1.67}\n",
      "{'loss': 1.276, 'grad_norm': 9.03128433227539, 'learning_rate': 8.291666666666667e-06, 'epoch': 1.71}\n",
      "{'loss': 1.2566, 'grad_norm': 7.722811222076416, 'learning_rate': 8.25e-06, 'epoch': 1.75}\n",
      "{'loss': 1.2574, 'grad_norm': 9.499740600585938, 'learning_rate': 8.208333333333334e-06, 'epoch': 1.79}\n",
      "{'loss': 1.2126, 'grad_norm': 11.179068565368652, 'learning_rate': 8.166666666666668e-06, 'epoch': 1.83}\n",
      "{'loss': 1.2212, 'grad_norm': 5.398011684417725, 'learning_rate': 8.125000000000001e-06, 'epoch': 1.88}\n",
      "{'loss': 1.2295, 'grad_norm': 10.239657402038574, 'learning_rate': 8.083333333333334e-06, 'epoch': 1.92}\n",
      "{'loss': 1.2785, 'grad_norm': 7.208127498626709, 'learning_rate': 8.041666666666668e-06, 'epoch': 1.96}\n",
      "{'loss': 1.1765, 'grad_norm': 22.660181045532227, 'learning_rate': 8.000000000000001e-06, 'epoch': 2.0}\n"
     ]
    },
    {
     "data": {
      "application/vnd.jupyter.widget-view+json": {
       "model_id": "3439c87b86c54f55af619285e48a5c83",
       "version_major": 2,
       "version_minor": 0
      },
      "text/plain": [
       "  0%|          | 0/120 [00:00<?, ?it/s]"
      ]
     },
     "metadata": {},
     "output_type": "display_data"
    },
    {
     "name": "stdout",
     "output_type": "stream",
     "text": [
      "{'eval_loss': 1.2070260047912598, 'eval_runtime': 18.3005, 'eval_samples_per_second': 52.458, 'eval_steps_per_second': 6.557, 'epoch': 2.0}\n",
      "{'loss': 1.1648, 'grad_norm': 7.975733280181885, 'learning_rate': 7.958333333333333e-06, 'epoch': 2.04}\n",
      "{'loss': 1.1624, 'grad_norm': 8.399914741516113, 'learning_rate': 7.916666666666667e-06, 'epoch': 2.08}\n",
      "{'loss': 1.197, 'grad_norm': 11.693300247192383, 'learning_rate': 7.875e-06, 'epoch': 2.12}\n",
      "{'loss': 1.1903, 'grad_norm': 15.747169494628906, 'learning_rate': 7.833333333333333e-06, 'epoch': 2.17}\n",
      "{'loss': 1.1371, 'grad_norm': 8.255546569824219, 'learning_rate': 7.791666666666667e-06, 'epoch': 2.21}\n",
      "{'loss': 1.0832, 'grad_norm': 15.985536575317383, 'learning_rate': 7.75e-06, 'epoch': 2.25}\n",
      "{'loss': 1.1853, 'grad_norm': 13.124940872192383, 'learning_rate': 7.708333333333334e-06, 'epoch': 2.29}\n",
      "{'loss': 1.1515, 'grad_norm': 9.76017951965332, 'learning_rate': 7.666666666666667e-06, 'epoch': 2.33}\n",
      "{'loss': 1.1296, 'grad_norm': 9.598737716674805, 'learning_rate': 7.625e-06, 'epoch': 2.38}\n",
      "{'loss': 1.1281, 'grad_norm': 7.184742450714111, 'learning_rate': 7.583333333333333e-06, 'epoch': 2.42}\n",
      "{'loss': 1.1679, 'grad_norm': 13.138364791870117, 'learning_rate': 7.541666666666667e-06, 'epoch': 2.46}\n",
      "{'loss': 1.1168, 'grad_norm': 7.497953414916992, 'learning_rate': 7.500000000000001e-06, 'epoch': 2.5}\n",
      "{'loss': 1.1404, 'grad_norm': 12.612552642822266, 'learning_rate': 7.4583333333333345e-06, 'epoch': 2.54}\n",
      "{'loss': 1.0767, 'grad_norm': 14.719684600830078, 'learning_rate': 7.416666666666668e-06, 'epoch': 2.58}\n",
      "{'loss': 1.1673, 'grad_norm': 10.819180488586426, 'learning_rate': 7.375000000000001e-06, 'epoch': 2.62}\n",
      "{'loss': 1.1097, 'grad_norm': 10.212512016296387, 'learning_rate': 7.333333333333333e-06, 'epoch': 2.67}\n",
      "{'loss': 1.1148, 'grad_norm': 13.089829444885254, 'learning_rate': 7.291666666666667e-06, 'epoch': 2.71}\n",
      "{'loss': 1.1002, 'grad_norm': 8.36911392211914, 'learning_rate': 7.25e-06, 'epoch': 2.75}\n",
      "{'loss': 1.1456, 'grad_norm': 10.560380935668945, 'learning_rate': 7.2083333333333335e-06, 'epoch': 2.79}\n",
      "{'loss': 1.1717, 'grad_norm': 13.28677749633789, 'learning_rate': 7.166666666666667e-06, 'epoch': 2.83}\n",
      "{'loss': 1.1014, 'grad_norm': 4.239733695983887, 'learning_rate': 7.125e-06, 'epoch': 2.88}\n",
      "{'loss': 1.1256, 'grad_norm': 11.802270889282227, 'learning_rate': 7.083333333333335e-06, 'epoch': 2.92}\n",
      "{'loss': 1.0888, 'grad_norm': 11.171789169311523, 'learning_rate': 7.041666666666668e-06, 'epoch': 2.96}\n",
      "{'loss': 1.1166, 'grad_norm': 11.646378517150879, 'learning_rate': 7e-06, 'epoch': 3.0}\n"
     ]
    },
    {
     "data": {
      "application/vnd.jupyter.widget-view+json": {
       "model_id": "18ee695091bb4f39b23100670d17356f",
       "version_major": 2,
       "version_minor": 0
      },
      "text/plain": [
       "  0%|          | 0/120 [00:00<?, ?it/s]"
      ]
     },
     "metadata": {},
     "output_type": "display_data"
    },
    {
     "name": "stdout",
     "output_type": "stream",
     "text": [
      "{'eval_loss': 1.126260757446289, 'eval_runtime': 18.7882, 'eval_samples_per_second': 51.096, 'eval_steps_per_second': 6.387, 'epoch': 3.0}\n",
      "{'loss': 1.0741, 'grad_norm': 16.084264755249023, 'learning_rate': 6.958333333333333e-06, 'epoch': 3.04}\n",
      "{'loss': 1.0533, 'grad_norm': 12.10464096069336, 'learning_rate': 6.916666666666667e-06, 'epoch': 3.08}\n",
      "{'loss': 1.0457, 'grad_norm': 6.933980464935303, 'learning_rate': 6.875e-06, 'epoch': 3.12}\n",
      "{'loss': 1.0145, 'grad_norm': 10.370814323425293, 'learning_rate': 6.833333333333334e-06, 'epoch': 3.17}\n",
      "{'loss': 1.0683, 'grad_norm': 6.608907699584961, 'learning_rate': 6.791666666666667e-06, 'epoch': 3.21}\n",
      "{'loss': 1.0033, 'grad_norm': 8.160073280334473, 'learning_rate': 6.750000000000001e-06, 'epoch': 3.25}\n",
      "{'loss': 1.0116, 'grad_norm': 7.1290693283081055, 'learning_rate': 6.708333333333333e-06, 'epoch': 3.29}\n",
      "{'loss': 1.0508, 'grad_norm': 23.88335609436035, 'learning_rate': 6.666666666666667e-06, 'epoch': 3.33}\n",
      "{'loss': 1.0344, 'grad_norm': 16.129749298095703, 'learning_rate': 6.625e-06, 'epoch': 3.38}\n",
      "{'loss': 1.0713, 'grad_norm': 14.984687805175781, 'learning_rate': 6.5833333333333335e-06, 'epoch': 3.42}\n",
      "{'loss': 1.0604, 'grad_norm': 25.19021224975586, 'learning_rate': 6.541666666666667e-06, 'epoch': 3.46}\n",
      "{'loss': 1.0451, 'grad_norm': 11.256804466247559, 'learning_rate': 6.5000000000000004e-06, 'epoch': 3.5}\n",
      "{'loss': 1.0248, 'grad_norm': 9.305485725402832, 'learning_rate': 6.458333333333334e-06, 'epoch': 3.54}\n",
      "{'loss': 0.9758, 'grad_norm': 11.61961555480957, 'learning_rate': 6.416666666666667e-06, 'epoch': 3.58}\n",
      "{'loss': 1.0644, 'grad_norm': 5.651453495025635, 'learning_rate': 6.375e-06, 'epoch': 3.62}\n",
      "{'loss': 1.0171, 'grad_norm': 11.188023567199707, 'learning_rate': 6.333333333333333e-06, 'epoch': 3.67}\n",
      "{'loss': 1.0222, 'grad_norm': 22.303943634033203, 'learning_rate': 6.291666666666667e-06, 'epoch': 3.71}\n",
      "{'loss': 1.0563, 'grad_norm': 13.289995193481445, 'learning_rate': 6.25e-06, 'epoch': 3.75}\n",
      "{'loss': 0.9958, 'grad_norm': 18.914052963256836, 'learning_rate': 6.208333333333334e-06, 'epoch': 3.79}\n",
      "{'loss': 0.966, 'grad_norm': 10.702718734741211, 'learning_rate': 6.166666666666667e-06, 'epoch': 3.83}\n",
      "{'loss': 0.9996, 'grad_norm': 18.48741340637207, 'learning_rate': 6.125000000000001e-06, 'epoch': 3.88}\n",
      "{'loss': 0.9958, 'grad_norm': 10.238727569580078, 'learning_rate': 6.083333333333333e-06, 'epoch': 3.92}\n",
      "{'loss': 0.9757, 'grad_norm': 11.561361312866211, 'learning_rate': 6.041666666666667e-06, 'epoch': 3.96}\n",
      "{'loss': 0.9327, 'grad_norm': 12.521729469299316, 'learning_rate': 6e-06, 'epoch': 4.0}\n"
     ]
    },
    {
     "data": {
      "application/vnd.jupyter.widget-view+json": {
       "model_id": "f7129e365e094aea876044c6a04b14f5",
       "version_major": 2,
       "version_minor": 0
      },
      "text/plain": [
       "  0%|          | 0/120 [00:00<?, ?it/s]"
      ]
     },
     "metadata": {},
     "output_type": "display_data"
    },
    {
     "name": "stdout",
     "output_type": "stream",
     "text": [
      "{'eval_loss': 1.1376500129699707, 'eval_runtime': 18.9263, 'eval_samples_per_second': 50.723, 'eval_steps_per_second': 6.34, 'epoch': 4.0}\n",
      "{'loss': 0.9505, 'grad_norm': 10.64259147644043, 'learning_rate': 5.958333333333334e-06, 'epoch': 4.04}\n",
      "{'loss': 0.9374, 'grad_norm': 11.651603698730469, 'learning_rate': 5.916666666666667e-06, 'epoch': 4.08}\n",
      "{'loss': 1.0125, 'grad_norm': 21.131423950195312, 'learning_rate': 5.8750000000000005e-06, 'epoch': 4.12}\n",
      "{'loss': 0.9758, 'grad_norm': 12.113938331604004, 'learning_rate': 5.833333333333334e-06, 'epoch': 4.17}\n",
      "{'loss': 0.964, 'grad_norm': 11.80620002746582, 'learning_rate': 5.791666666666667e-06, 'epoch': 4.21}\n",
      "{'loss': 0.9518, 'grad_norm': 34.58015060424805, 'learning_rate': 5.75e-06, 'epoch': 4.25}\n",
      "{'loss': 0.9114, 'grad_norm': 27.694849014282227, 'learning_rate': 5.7083333333333335e-06, 'epoch': 4.29}\n",
      "{'loss': 0.9585, 'grad_norm': 17.34670066833496, 'learning_rate': 5.666666666666667e-06, 'epoch': 4.33}\n",
      "{'loss': 0.9971, 'grad_norm': 11.037577629089355, 'learning_rate': 5.625e-06, 'epoch': 4.38}\n",
      "{'loss': 0.917, 'grad_norm': 17.849803924560547, 'learning_rate': 5.583333333333334e-06, 'epoch': 4.42}\n",
      "{'loss': 0.9661, 'grad_norm': 22.7706241607666, 'learning_rate': 5.541666666666667e-06, 'epoch': 4.46}\n",
      "{'loss': 0.9541, 'grad_norm': 13.204267501831055, 'learning_rate': 5.500000000000001e-06, 'epoch': 4.5}\n",
      "{'loss': 0.9515, 'grad_norm': 21.55375862121582, 'learning_rate': 5.458333333333333e-06, 'epoch': 4.54}\n",
      "{'loss': 0.9631, 'grad_norm': 17.561777114868164, 'learning_rate': 5.416666666666667e-06, 'epoch': 4.58}\n",
      "{'loss': 0.9426, 'grad_norm': 13.38968276977539, 'learning_rate': 5.375e-06, 'epoch': 4.62}\n",
      "{'loss': 0.9186, 'grad_norm': 110.26699829101562, 'learning_rate': 5.333333333333334e-06, 'epoch': 4.67}\n",
      "{'loss': 0.8887, 'grad_norm': 16.190114974975586, 'learning_rate': 5.291666666666667e-06, 'epoch': 4.71}\n",
      "{'loss': 0.9466, 'grad_norm': 23.63304901123047, 'learning_rate': 5.2500000000000006e-06, 'epoch': 4.75}\n",
      "{'loss': 0.9382, 'grad_norm': 23.353893280029297, 'learning_rate': 5.208333333333334e-06, 'epoch': 4.79}\n",
      "{'loss': 0.8845, 'grad_norm': 24.068634033203125, 'learning_rate': 5.1666666666666675e-06, 'epoch': 4.83}\n",
      "{'loss': 0.9067, 'grad_norm': 21.645349502563477, 'learning_rate': 5.125e-06, 'epoch': 4.88}\n",
      "{'loss': 0.9167, 'grad_norm': 21.30609130859375, 'learning_rate': 5.0833333333333335e-06, 'epoch': 4.92}\n",
      "{'loss': 0.9543, 'grad_norm': 17.553258895874023, 'learning_rate': 5.041666666666667e-06, 'epoch': 4.96}\n",
      "{'loss': 0.8861, 'grad_norm': 20.510921478271484, 'learning_rate': 5e-06, 'epoch': 5.0}\n"
     ]
    },
    {
     "data": {
      "application/vnd.jupyter.widget-view+json": {
       "model_id": "2cf5f4ff9e384f6eb918a84cbfc3682b",
       "version_major": 2,
       "version_minor": 0
      },
      "text/plain": [
       "  0%|          | 0/120 [00:00<?, ?it/s]"
      ]
     },
     "metadata": {},
     "output_type": "display_data"
    },
    {
     "name": "stdout",
     "output_type": "stream",
     "text": [
      "{'eval_loss': 1.1460298299789429, 'eval_runtime': 21.0571, 'eval_samples_per_second': 45.59, 'eval_steps_per_second': 5.699, 'epoch': 5.0}\n",
      "{'train_runtime': 1354.7778, 'train_samples_per_second': 28.344, 'train_steps_per_second': 1.772, 'train_loss': 1.2053144311904906, 'epoch': 5.0}\n"
     ]
    },
    {
     "data": {
      "text/plain": [
       "TrainOutput(global_step=1200, training_loss=1.2053144311904906, metrics={'train_runtime': 1354.7778, 'train_samples_per_second': 28.344, 'train_steps_per_second': 1.772, 'total_flos': 1262978423193600.0, 'train_loss': 1.2053144311904906, 'epoch': 5.0})"
      ]
     },
     "execution_count": 22,
     "metadata": {},
     "output_type": "execute_result"
    }
   ],
   "source": [
    "# Train the model\n",
    "trainer.train()"
   ]
  },
  {
   "cell_type": "markdown",
   "metadata": {},
   "source": [
    "### **8. Evaluating the Model**\n",
    "Evaluate the model on the test set to check its performance using metrics like accuracy, precision, recall, and F1-score."
   ]
  },
  {
   "cell_type": "code",
   "execution_count": 24,
   "metadata": {},
   "outputs": [
    {
     "data": {
      "application/vnd.jupyter.widget-view+json": {
       "model_id": "5a125ef4144440da94d253bd2816d666",
       "version_major": 2,
       "version_minor": 0
      },
      "text/plain": [
       "  0%|          | 0/120 [00:00<?, ?it/s]"
      ]
     },
     "metadata": {},
     "output_type": "display_data"
    },
    {
     "name": "stdout",
     "output_type": "stream",
     "text": [
      "{'eval_loss': 1.126260757446289, 'eval_runtime': 16.0657, 'eval_samples_per_second': 59.755, 'eval_steps_per_second': 7.469, 'epoch': 5.0}\n"
     ]
    },
    {
     "data": {
      "application/vnd.jupyter.widget-view+json": {
       "model_id": "dc1d9f73bb834a3d88711578b4c1cf5b",
       "version_major": 2,
       "version_minor": 0
      },
      "text/plain": [
       "  0%|          | 0/120 [00:00<?, ?it/s]"
      ]
     },
     "metadata": {},
     "output_type": "display_data"
    },
    {
     "name": "stdout",
     "output_type": "stream",
     "text": [
      "              precision    recall  f1-score   support\n",
      "\n",
      "           0       0.63      0.75      0.68       160\n",
      "           1       0.44      0.50      0.47       160\n",
      "           2       0.54      0.41      0.46       160\n",
      "           3       0.51      0.43      0.47       160\n",
      "           4       0.48      0.47      0.47       160\n",
      "           5       0.65      0.71      0.68       160\n",
      "\n",
      "    accuracy                           0.54       960\n",
      "   macro avg       0.54      0.54      0.54       960\n",
      "weighted avg       0.54      0.54      0.54       960\n",
      "\n"
     ]
    }
   ],
   "source": [
    "# Evaluate the model\n",
    "results = trainer.evaluate(tokenized_datasets[\"test\"])\n",
    "print(results)\n",
    "\n",
    "# Compute additional metrics if needed\n",
    "from sklearn.metrics import classification_report\n",
    "\n",
    "# Extract true labels (y_true) from the test dataset\n",
    "y_true = test_data[\"difficulty\"].map(label2id).tolist()\n",
    "\n",
    "\n",
    "# Predict the labels using the trained model\n",
    "y_pred = trainer.predict(tokenized_datasets[\"test\"]).predictions.argmax(axis=-1)\n",
    "\n",
    "# Generate the classification report\n",
    "from sklearn.metrics import classification_report\n",
    "print(classification_report(y_true, y_pred))\n"
   ]
  },
  {
   "cell_type": "code",
   "execution_count": 25,
   "metadata": {},
   "outputs": [
    {
     "data": {
      "text/plain": [
       "<sklearn.metrics._plot.confusion_matrix.ConfusionMatrixDisplay at 0x31e704f10>"
      ]
     },
     "execution_count": 25,
     "metadata": {},
     "output_type": "execute_result"
    },
    {
     "data": {
      "image/png": "[encoded data removed]",
      "text/plain": [
       "<Figure size 640x480 with 2 Axes>"
      ]
     },
     "metadata": {},
     "output_type": "display_data"
    }
   ],
   "source": [
    "from sklearn.metrics import confusion_matrix, ConfusionMatrixDisplay\n",
    "\n",
    "# Compute confusion matrix\n",
    "conf_matrix = confusion_matrix(y_true, y_pred)\n",
    "\n",
    "# Display confusion matrix\n",
    "disp = ConfusionMatrixDisplay(confusion_matrix=conf_matrix, display_labels=[\"A1\", \"A2\", \"B1\", \"B2\", \"C1\", \"C2\"])\n",
    "disp.plot(cmap=\"viridis\")\n"
   ]
  },
  {
   "cell_type": "code",
   "execution_count": 27,
   "metadata": {},
   "outputs": [
    {
     "data": {
      "application/vnd.jupyter.widget-view+json": {
       "model_id": "c2c0c218a5084273898b601c3573009d",
       "version_major": 2,
       "version_minor": 0
      },
      "text/plain": [
       "  0%|          | 0/120 [00:00<?, ?it/s]"
      ]
     },
     "metadata": {},
     "output_type": "display_data"
    }
   ],
   "source": [
    "# Predict on test set\n",
    "pred_outputs = trainer.predict(tokenized_datasets[\"test\"])\n",
    "y_pred = pred_outputs.predictions.argmax(axis=-1)\n"
   ]
  },
  {
   "cell_type": "code",
   "execution_count": 28,
   "metadata": {},
   "outputs": [
    {
     "data": {
      "application/vnd.jupyter.widget-view+json": {
       "model_id": "7769514c08cf44b69e97ced26006b1d6",
       "version_major": 2,
       "version_minor": 0
      },
      "text/plain": [
       "  0%|          | 0/120 [00:00<?, ?it/s]"
      ]
     },
     "metadata": {},
     "output_type": "display_data"
    },
    {
     "name": "stdout",
     "output_type": "stream",
     "text": [
      "✅ Saved: predictions_camembert-base.csv\n"
     ]
    }
   ],
   "source": [
    "import pandas as pd\n",
    "\n",
    "# 1. Predict with your trained CamemBERT model\n",
    "pred_outputs = trainer.predict(tokenized_datasets[\"test\"])\n",
    "y_pred = pred_outputs.predictions.argmax(axis=-1)\n",
    "\n",
    "# 2. Map integer predictions to CEFR labels (if needed)\n",
    "id2label = {0: 'A1', 1: 'A2', 2: 'B1', 3: 'B2', 4: 'C1', 5: 'C2'}\n",
    "pred_labels = [id2label[i] for i in y_pred]\n",
    "\n",
    "# 3. Prepare DataFrame\n",
    "df_pred = pd.DataFrame({\n",
    "    \"sentence\": test_data[\"sentence\"].tolist(),\n",
    "    \"difficulty\": test_data[\"difficulty\"].tolist(),  # true label (string)\n",
    "    \"predictions_camembert-base\": pred_labels\n",
    "})\n",
    "\n",
    "# 4. Save to CSV with requested filename\n",
    "df_pred.to_csv(\"predictions_camembert-base.csv\", index=False)\n",
    "print(\"✅ Saved: predictions_camembert-base.csv\")\n"
   ]
  },
  {
   "cell_type": "markdown",
   "metadata": {},
   "source": [
    "# Pairewise Mismmatch metric\n",
    "The pairwise mismatch metric focuses on computing ordering violations in predictions relative to ground truth.\n",
    "<img src=\"./Images/Pairewise-Matchinge-Explanation.png\" width=\"800px\">"
   ]
  },
  {
   "cell_type": "code",
   "execution_count": 29,
   "metadata": {},
   "outputs": [
    {
     "name": "stdout",
     "output_type": "stream",
     "text": [
      "Pairwise Mismatch Score: 38.6167\n"
     ]
    }
   ],
   "source": [
    "import pandas as pd\n",
    "import numpy as np\n",
    "from sklearn.preprocessing import LabelEncoder\n",
    "\n",
    "def pairwise_mismatch(y_pred: pd.Series, y_real: pd.Series) -> float:\n",
    "    \"\"\"\n",
    "    Compute the pairwise mismatch metric as described by Henry Jamet.\n",
    "    \n",
    "    :param y_pred: Pandas Series of predicted difficulty levels\n",
    "    :param y_real: Pandas Series of true difficulty levels\n",
    "    :return: Mean pairwise mismatch score\n",
    "    \"\"\"\n",
    "    predictions = pd.DataFrame({\"pred\": y_pred, \"real\": y_real})\n",
    "\n",
    "    # Sort alphabetically by real and predicted labels\n",
    "    predictions = predictions.sort_values(by=[\"real\", \"pred\"])\n",
    "\n",
    "    # Convert categorical labels into numeric values while keeping order\n",
    "    predictions[\"pred\"] = predictions[\"pred\"].astype(\"category\")\n",
    "    predictions[\"real\"] = predictions[\"real\"].astype(\"category\")\n",
    "\n",
    "    # Initialize LabelEncoder and encode labels\n",
    "    label_encoder = LabelEncoder()\n",
    "    unique_labels = pd.unique(predictions[[\"pred\", \"real\"]].values.ravel(\"K\"))\n",
    "    label_encoder.fit(unique_labels)\n",
    "\n",
    "    predictions[\"pred\"] = label_encoder.transform(predictions[\"pred\"])\n",
    "    predictions[\"real\"] = label_encoder.transform(predictions[\"real\"])\n",
    "\n",
    "    # Compute the pairwise mismatch\n",
    "    mismatch = (\n",
    "        predictions[\"pred\"].expanding().apply(lambda s: (s.iloc[-1] - s < 0).sum())\n",
    "        + predictions[\"pred\"][::-1]\n",
    "        .expanding()\n",
    "        .apply(lambda s: (s.iloc[-1] - s > 0).sum())[::-1]\n",
    "    )\n",
    "\n",
    "    return mismatch.mean()\n",
    "\n",
    "# Convert y_true and y_pred into pandas Series\n",
    "y_true_series = pd.Series(y_true)\n",
    "y_pred_series = pd.Series(y_pred)\n",
    "\n",
    "# Compute the pairwise mismatch\n",
    "mismatch_score = pairwise_mismatch(y_pred_series, y_true_series)\n",
    "print(f\"Pairwise Mismatch Score: {mismatch_score:.4f}\")\n"
   ]
  }
 ],
 "metadata": {
  "kernelspec": {
   "display_name": "Python 3",
   "language": "python",
   "name": "python3"
  },
  "language_info": {
   "codemirror_mode": {
    "name": "ipython",
    "version": 3
   },
   "file_extension": ".py",
   "mimetype": "text/x-python",
   "name": "python",
   "nbconvert_exporter": "python",
   "pygments_lexer": "ipython3",
   "version": "3.9.6"
  }
 },
 "nbformat": 4,
 "nbformat_minor": 2
}
