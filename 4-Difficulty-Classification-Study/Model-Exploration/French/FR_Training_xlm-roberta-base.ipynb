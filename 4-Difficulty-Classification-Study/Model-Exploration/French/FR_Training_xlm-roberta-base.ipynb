{
 "cells": [
  {
   "cell_type": "code",
   "execution_count": 5,
   "metadata": {},
   "outputs": [
    {
     "name": "stdout",
     "output_type": "stream",
     "text": [
      "Defaulting to user installation because normal site-packages is not writeable\n",
      "Requirement already satisfied: transformers in /Users/dimitriroulin/Library/Python/3.9/lib/python/site-packages (4.47.0)\n",
      "Requirement already satisfied: requests in /Users/dimitriroulin/Library/Python/3.9/lib/python/site-packages (from transformers) (2.32.3)\n",
      "Requirement already satisfied: tokenizers<0.22,>=0.21 in /Users/dimitriroulin/Library/Python/3.9/lib/python/site-packages (from transformers) (0.21.0)\n",
      "Requirement already satisfied: regex!=2019.12.17 in /Users/dimitriroulin/Library/Python/3.9/lib/python/site-packages (from transformers) (2024.11.6)\n",
      "Requirement already satisfied: tqdm>=4.27 in /Users/dimitriroulin/Library/Python/3.9/lib/python/site-packages (from transformers) (4.67.1)\n",
      "Requirement already satisfied: packaging>=20.0 in /Users/dimitriroulin/Library/Python/3.9/lib/python/site-packages (from transformers) (23.1)\n",
      "Requirement already satisfied: huggingface-hub<1.0,>=0.24.0 in /Users/dimitriroulin/Library/Python/3.9/lib/python/site-packages (from transformers) (0.26.5)\n",
      "Requirement already satisfied: safetensors>=0.4.1 in /Users/dimitriroulin/Library/Python/3.9/lib/python/site-packages (from transformers) (0.4.5)\n",
      "Requirement already satisfied: numpy>=1.17 in /Users/dimitriroulin/Library/Python/3.9/lib/python/site-packages (from transformers) (2.0.2)\n",
      "Requirement already satisfied: filelock in /Users/dimitriroulin/Library/Python/3.9/lib/python/site-packages (from transformers) (3.16.1)\n",
      "Requirement already satisfied: pyyaml>=5.1 in /Users/dimitriroulin/Library/Python/3.9/lib/python/site-packages (from transformers) (6.0.1)\n",
      "Requirement already satisfied: typing-extensions>=3.7.4.3 in /Users/dimitriroulin/Library/Python/3.9/lib/python/site-packages (from huggingface-hub<1.0,>=0.24.0->transformers) (4.12.2)\n",
      "Requirement already satisfied: fsspec>=2023.5.0 in /Users/dimitriroulin/Library/Python/3.9/lib/python/site-packages (from huggingface-hub<1.0,>=0.24.0->transformers) (2024.9.0)\n",
      "Requirement already satisfied: charset-normalizer<4,>=2 in /Users/dimitriroulin/Library/Python/3.9/lib/python/site-packages (from requests->transformers) (3.2.0)\n",
      "Requirement already satisfied: certifi>=2017.4.17 in /Users/dimitriroulin/Library/Python/3.9/lib/python/site-packages (from requests->transformers) (2023.7.22)\n",
      "Requirement already satisfied: idna<4,>=2.5 in /Users/dimitriroulin/Library/Python/3.9/lib/python/site-packages (from requests->transformers) (3.4)\n",
      "Requirement already satisfied: urllib3<3,>=1.21.1 in /Users/dimitriroulin/Library/Python/3.9/lib/python/site-packages (from requests->transformers) (2.0.5)\n",
      "\u001b[33mWARNING: You are using pip version 21.2.4; however, version 25.1.1 is available.\n",
      "You should consider upgrading via the '/Library/Developer/CommandLineTools/usr/bin/python3 -m pip install --upgrade pip' command.\u001b[0m\n",
      "Note: you may need to restart the kernel to use updated packages.\n",
      "Defaulting to user installation because normal site-packages is not writeable\n",
      "Requirement already satisfied: datasets in /Users/dimitriroulin/Library/Python/3.9/lib/python/site-packages (3.2.0)\n",
      "Requirement already satisfied: filelock in /Users/dimitriroulin/Library/Python/3.9/lib/python/site-packages (from datasets) (3.16.1)\n",
      "Requirement already satisfied: dill<0.3.9,>=0.3.0 in /Users/dimitriroulin/Library/Python/3.9/lib/python/site-packages (from datasets) (0.3.8)\n",
      "Requirement already satisfied: tqdm>=4.66.3 in /Users/dimitriroulin/Library/Python/3.9/lib/python/site-packages (from datasets) (4.67.1)\n",
      "Requirement already satisfied: pyyaml>=5.1 in /Users/dimitriroulin/Library/Python/3.9/lib/python/site-packages (from datasets) (6.0.1)\n",
      "Requirement already satisfied: huggingface-hub>=0.23.0 in /Users/dimitriroulin/Library/Python/3.9/lib/python/site-packages (from datasets) (0.26.5)\n",
      "Requirement already satisfied: numpy>=1.17 in /Users/dimitriroulin/Library/Python/3.9/lib/python/site-packages (from datasets) (2.0.2)\n",
      "Requirement already satisfied: aiohttp in /Users/dimitriroulin/Library/Python/3.9/lib/python/site-packages (from datasets) (3.11.10)\n",
      "Requirement already satisfied: xxhash in /Users/dimitriroulin/Library/Python/3.9/lib/python/site-packages (from datasets) (3.5.0)\n",
      "Requirement already satisfied: pyarrow>=15.0.0 in /Users/dimitriroulin/Library/Python/3.9/lib/python/site-packages (from datasets) (18.1.0)\n",
      "Requirement already satisfied: pandas in /Users/dimitriroulin/Library/Python/3.9/lib/python/site-packages (from datasets) (2.2.3)\n",
      "Requirement already satisfied: multiprocess<0.70.17 in /Users/dimitriroulin/Library/Python/3.9/lib/python/site-packages (from datasets) (0.70.16)\n",
      "Requirement already satisfied: requests>=2.32.2 in /Users/dimitriroulin/Library/Python/3.9/lib/python/site-packages (from datasets) (2.32.3)\n",
      "Requirement already satisfied: packaging in /Users/dimitriroulin/Library/Python/3.9/lib/python/site-packages (from datasets) (23.1)\n",
      "Requirement already satisfied: fsspec[http]<=2024.9.0,>=2023.1.0 in /Users/dimitriroulin/Library/Python/3.9/lib/python/site-packages (from datasets) (2024.9.0)\n",
      "Requirement already satisfied: propcache>=0.2.0 in /Users/dimitriroulin/Library/Python/3.9/lib/python/site-packages (from aiohttp->datasets) (0.2.1)\n",
      "Requirement already satisfied: frozenlist>=1.1.1 in /Users/dimitriroulin/Library/Python/3.9/lib/python/site-packages (from aiohttp->datasets) (1.5.0)\n",
      "Requirement already satisfied: aiosignal>=1.1.2 in /Users/dimitriroulin/Library/Python/3.9/lib/python/site-packages (from aiohttp->datasets) (1.3.1)\n",
      "Requirement already satisfied: multidict<7.0,>=4.5 in /Users/dimitriroulin/Library/Python/3.9/lib/python/site-packages (from aiohttp->datasets) (6.1.0)\n",
      "Requirement already satisfied: attrs>=17.3.0 in /Users/dimitriroulin/Library/Python/3.9/lib/python/site-packages (from aiohttp->datasets) (23.1.0)\n",
      "Requirement already satisfied: aiohappyeyeballs>=2.3.0 in /Users/dimitriroulin/Library/Python/3.9/lib/python/site-packages (from aiohttp->datasets) (2.4.4)\n",
      "Requirement already satisfied: async-timeout<6.0,>=4.0 in /Users/dimitriroulin/Library/Python/3.9/lib/python/site-packages (from aiohttp->datasets) (5.0.1)\n",
      "Requirement already satisfied: yarl<2.0,>=1.17.0 in /Users/dimitriroulin/Library/Python/3.9/lib/python/site-packages (from aiohttp->datasets) (1.18.3)\n",
      "Requirement already satisfied: typing-extensions>=3.7.4.3 in /Users/dimitriroulin/Library/Python/3.9/lib/python/site-packages (from huggingface-hub>=0.23.0->datasets) (4.12.2)\n",
      "Requirement already satisfied: idna<4,>=2.5 in /Users/dimitriroulin/Library/Python/3.9/lib/python/site-packages (from requests>=2.32.2->datasets) (3.4)\n",
      "Requirement already satisfied: urllib3<3,>=1.21.1 in /Users/dimitriroulin/Library/Python/3.9/lib/python/site-packages (from requests>=2.32.2->datasets) (2.0.5)\n",
      "Requirement already satisfied: certifi>=2017.4.17 in /Users/dimitriroulin/Library/Python/3.9/lib/python/site-packages (from requests>=2.32.2->datasets) (2023.7.22)\n",
      "Requirement already satisfied: charset-normalizer<4,>=2 in /Users/dimitriroulin/Library/Python/3.9/lib/python/site-packages (from requests>=2.32.2->datasets) (3.2.0)\n",
      "Requirement already satisfied: python-dateutil>=2.8.2 in /Users/dimitriroulin/Library/Python/3.9/lib/python/site-packages (from pandas->datasets) (2.8.2)\n",
      "Requirement already satisfied: tzdata>=2022.7 in /Users/dimitriroulin/Library/Python/3.9/lib/python/site-packages (from pandas->datasets) (2024.2)\n",
      "Requirement already satisfied: pytz>=2020.1 in /Users/dimitriroulin/Library/Python/3.9/lib/python/site-packages (from pandas->datasets) (2024.2)\n",
      "Requirement already satisfied: six>=1.5 in /Library/Developer/CommandLineTools/Library/Frameworks/Python3.framework/Versions/3.9/lib/python3.9/site-packages (from python-dateutil>=2.8.2->pandas->datasets) (1.15.0)\n",
      "\u001b[33mWARNING: You are using pip version 21.2.4; however, version 25.1.1 is available.\n",
      "You should consider upgrading via the '/Library/Developer/CommandLineTools/usr/bin/python3 -m pip install --upgrade pip' command.\u001b[0m\n",
      "Note: you may need to restart the kernel to use updated packages.\n",
      "Defaulting to user installation because normal site-packages is not writeable\n",
      "Requirement already satisfied: scikit-learn in /Users/dimitriroulin/Library/Python/3.9/lib/python/site-packages (1.6.0)\n",
      "Requirement already satisfied: numpy>=1.19.5 in /Users/dimitriroulin/Library/Python/3.9/lib/python/site-packages (from scikit-learn) (2.0.2)\n",
      "Requirement already satisfied: scipy>=1.6.0 in /Users/dimitriroulin/Library/Python/3.9/lib/python/site-packages (from scikit-learn) (1.13.1)\n",
      "Requirement already satisfied: joblib>=1.2.0 in /Users/dimitriroulin/Library/Python/3.9/lib/python/site-packages (from scikit-learn) (1.4.2)\n",
      "Requirement already satisfied: threadpoolctl>=3.1.0 in /Users/dimitriroulin/Library/Python/3.9/lib/python/site-packages (from scikit-learn) (3.5.0)\n",
      "\u001b[33mWARNING: You are using pip version 21.2.4; however, version 25.1.1 is available.\n",
      "You should consider upgrading via the '/Library/Developer/CommandLineTools/usr/bin/python3 -m pip install --upgrade pip' command.\u001b[0m\n",
      "Note: you may need to restart the kernel to use updated packages.\n",
      "Defaulting to user installation because normal site-packages is not writeable\n",
      "Requirement already satisfied: torch in /Users/dimitriroulin/Library/Python/3.9/lib/python/site-packages (2.5.1)\n",
      "Requirement already satisfied: networkx in /Users/dimitriroulin/Library/Python/3.9/lib/python/site-packages (from torch) (3.2.1)\n",
      "Requirement already satisfied: sympy==1.13.1 in /Users/dimitriroulin/Library/Python/3.9/lib/python/site-packages (from torch) (1.13.1)\n",
      "Requirement already satisfied: filelock in /Users/dimitriroulin/Library/Python/3.9/lib/python/site-packages (from torch) (3.16.1)\n",
      "Requirement already satisfied: jinja2 in /Users/dimitriroulin/Library/Python/3.9/lib/python/site-packages (from torch) (3.1.2)\n",
      "Requirement already satisfied: typing-extensions>=4.8.0 in /Users/dimitriroulin/Library/Python/3.9/lib/python/site-packages (from torch) (4.12.2)\n",
      "Requirement already satisfied: fsspec in /Users/dimitriroulin/Library/Python/3.9/lib/python/site-packages (from torch) (2024.9.0)\n",
      "Requirement already satisfied: mpmath<1.4,>=1.1.0 in /Users/dimitriroulin/Library/Python/3.9/lib/python/site-packages (from sympy==1.13.1->torch) (1.3.0)\n",
      "Requirement already satisfied: MarkupSafe>=2.0 in /Users/dimitriroulin/Library/Python/3.9/lib/python/site-packages (from jinja2->torch) (2.1.3)\n",
      "\u001b[33mWARNING: You are using pip version 21.2.4; however, version 25.1.1 is available.\n",
      "You should consider upgrading via the '/Library/Developer/CommandLineTools/usr/bin/python3 -m pip install --upgrade pip' command.\u001b[0m\n",
      "Note: you may need to restart the kernel to use updated packages.\n",
      "Defaulting to user installation because normal site-packages is not writeable\n",
      "Requirement already satisfied: datasets in /Users/dimitriroulin/Library/Python/3.9/lib/python/site-packages (3.2.0)\n",
      "Requirement already satisfied: filelock in /Users/dimitriroulin/Library/Python/3.9/lib/python/site-packages (from datasets) (3.16.1)\n",
      "Requirement already satisfied: pandas in /Users/dimitriroulin/Library/Python/3.9/lib/python/site-packages (from datasets) (2.2.3)\n",
      "Requirement already satisfied: tqdm>=4.66.3 in /Users/dimitriroulin/Library/Python/3.9/lib/python/site-packages (from datasets) (4.67.1)\n",
      "Requirement already satisfied: pyyaml>=5.1 in /Users/dimitriroulin/Library/Python/3.9/lib/python/site-packages (from datasets) (6.0.1)\n",
      "Requirement already satisfied: numpy>=1.17 in /Users/dimitriroulin/Library/Python/3.9/lib/python/site-packages (from datasets) (2.0.2)\n",
      "Requirement already satisfied: packaging in /Users/dimitriroulin/Library/Python/3.9/lib/python/site-packages (from datasets) (23.1)\n",
      "Requirement already satisfied: fsspec[http]<=2024.9.0,>=2023.1.0 in /Users/dimitriroulin/Library/Python/3.9/lib/python/site-packages (from datasets) (2024.9.0)\n",
      "Requirement already satisfied: xxhash in /Users/dimitriroulin/Library/Python/3.9/lib/python/site-packages (from datasets) (3.5.0)\n",
      "Requirement already satisfied: requests>=2.32.2 in /Users/dimitriroulin/Library/Python/3.9/lib/python/site-packages (from datasets) (2.32.3)\n",
      "Requirement already satisfied: aiohttp in /Users/dimitriroulin/Library/Python/3.9/lib/python/site-packages (from datasets) (3.11.10)\n",
      "Requirement already satisfied: huggingface-hub>=0.23.0 in /Users/dimitriroulin/Library/Python/3.9/lib/python/site-packages (from datasets) (0.26.5)\n",
      "Requirement already satisfied: multiprocess<0.70.17 in /Users/dimitriroulin/Library/Python/3.9/lib/python/site-packages (from datasets) (0.70.16)\n",
      "Requirement already satisfied: dill<0.3.9,>=0.3.0 in /Users/dimitriroulin/Library/Python/3.9/lib/python/site-packages (from datasets) (0.3.8)\n",
      "Requirement already satisfied: pyarrow>=15.0.0 in /Users/dimitriroulin/Library/Python/3.9/lib/python/site-packages (from datasets) (18.1.0)\n",
      "Requirement already satisfied: yarl<2.0,>=1.17.0 in /Users/dimitriroulin/Library/Python/3.9/lib/python/site-packages (from aiohttp->datasets) (1.18.3)\n",
      "Requirement already satisfied: aiosignal>=1.1.2 in /Users/dimitriroulin/Library/Python/3.9/lib/python/site-packages (from aiohttp->datasets) (1.3.1)\n",
      "Requirement already satisfied: propcache>=0.2.0 in /Users/dimitriroulin/Library/Python/3.9/lib/python/site-packages (from aiohttp->datasets) (0.2.1)\n",
      "Requirement already satisfied: aiohappyeyeballs>=2.3.0 in /Users/dimitriroulin/Library/Python/3.9/lib/python/site-packages (from aiohttp->datasets) (2.4.4)\n",
      "Requirement already satisfied: attrs>=17.3.0 in /Users/dimitriroulin/Library/Python/3.9/lib/python/site-packages (from aiohttp->datasets) (23.1.0)\n",
      "Requirement already satisfied: frozenlist>=1.1.1 in /Users/dimitriroulin/Library/Python/3.9/lib/python/site-packages (from aiohttp->datasets) (1.5.0)\n",
      "Requirement already satisfied: async-timeout<6.0,>=4.0 in /Users/dimitriroulin/Library/Python/3.9/lib/python/site-packages (from aiohttp->datasets) (5.0.1)\n",
      "Requirement already satisfied: multidict<7.0,>=4.5 in /Users/dimitriroulin/Library/Python/3.9/lib/python/site-packages (from aiohttp->datasets) (6.1.0)\n",
      "Requirement already satisfied: typing-extensions>=3.7.4.3 in /Users/dimitriroulin/Library/Python/3.9/lib/python/site-packages (from huggingface-hub>=0.23.0->datasets) (4.12.2)\n",
      "Requirement already satisfied: idna<4,>=2.5 in /Users/dimitriroulin/Library/Python/3.9/lib/python/site-packages (from requests>=2.32.2->datasets) (3.4)\n",
      "Requirement already satisfied: certifi>=2017.4.17 in /Users/dimitriroulin/Library/Python/3.9/lib/python/site-packages (from requests>=2.32.2->datasets) (2023.7.22)\n",
      "Requirement already satisfied: urllib3<3,>=1.21.1 in /Users/dimitriroulin/Library/Python/3.9/lib/python/site-packages (from requests>=2.32.2->datasets) (2.0.5)\n",
      "Requirement already satisfied: charset-normalizer<4,>=2 in /Users/dimitriroulin/Library/Python/3.9/lib/python/site-packages (from requests>=2.32.2->datasets) (3.2.0)\n",
      "Requirement already satisfied: pytz>=2020.1 in /Users/dimitriroulin/Library/Python/3.9/lib/python/site-packages (from pandas->datasets) (2024.2)\n",
      "Requirement already satisfied: python-dateutil>=2.8.2 in /Users/dimitriroulin/Library/Python/3.9/lib/python/site-packages (from pandas->datasets) (2.8.2)\n",
      "Requirement already satisfied: tzdata>=2022.7 in /Users/dimitriroulin/Library/Python/3.9/lib/python/site-packages (from pandas->datasets) (2024.2)\n",
      "Requirement already satisfied: six>=1.5 in /Library/Developer/CommandLineTools/Library/Frameworks/Python3.framework/Versions/3.9/lib/python3.9/site-packages (from python-dateutil>=2.8.2->pandas->datasets) (1.15.0)\n",
      "\u001b[33mWARNING: You are using pip version 21.2.4; however, version 25.1.1 is available.\n",
      "You should consider upgrading via the '/Library/Developer/CommandLineTools/usr/bin/python3 -m pip install --upgrade pip' command.\u001b[0m\n",
      "Note: you may need to restart the kernel to use updated packages.\n",
      "Defaulting to user installation because normal site-packages is not writeable\n",
      "Requirement already satisfied: accelerate in /Users/dimitriroulin/Library/Python/3.9/lib/python/site-packages (1.2.0)\n",
      "Requirement already satisfied: huggingface-hub>=0.21.0 in /Users/dimitriroulin/Library/Python/3.9/lib/python/site-packages (from accelerate) (0.26.5)\n",
      "Requirement already satisfied: psutil in /Users/dimitriroulin/Library/Python/3.9/lib/python/site-packages (from accelerate) (5.9.5)\n",
      "Requirement already satisfied: torch>=1.10.0 in /Users/dimitriroulin/Library/Python/3.9/lib/python/site-packages (from accelerate) (2.5.1)\n",
      "Requirement already satisfied: safetensors>=0.4.3 in /Users/dimitriroulin/Library/Python/3.9/lib/python/site-packages (from accelerate) (0.4.5)\n",
      "Requirement already satisfied: pyyaml in /Users/dimitriroulin/Library/Python/3.9/lib/python/site-packages (from accelerate) (6.0.1)\n",
      "Requirement already satisfied: numpy<3.0.0,>=1.17 in /Users/dimitriroulin/Library/Python/3.9/lib/python/site-packages (from accelerate) (2.0.2)\n",
      "Requirement already satisfied: packaging>=20.0 in /Users/dimitriroulin/Library/Python/3.9/lib/python/site-packages (from accelerate) (23.1)\n",
      "Requirement already satisfied: filelock in /Users/dimitriroulin/Library/Python/3.9/lib/python/site-packages (from huggingface-hub>=0.21.0->accelerate) (3.16.1)\n",
      "Requirement already satisfied: typing-extensions>=3.7.4.3 in /Users/dimitriroulin/Library/Python/3.9/lib/python/site-packages (from huggingface-hub>=0.21.0->accelerate) (4.12.2)\n",
      "Requirement already satisfied: requests in /Users/dimitriroulin/Library/Python/3.9/lib/python/site-packages (from huggingface-hub>=0.21.0->accelerate) (2.32.3)\n",
      "Requirement already satisfied: fsspec>=2023.5.0 in /Users/dimitriroulin/Library/Python/3.9/lib/python/site-packages (from huggingface-hub>=0.21.0->accelerate) (2024.9.0)\n",
      "Requirement already satisfied: tqdm>=4.42.1 in /Users/dimitriroulin/Library/Python/3.9/lib/python/site-packages (from huggingface-hub>=0.21.0->accelerate) (4.67.1)\n",
      "Requirement already satisfied: jinja2 in /Users/dimitriroulin/Library/Python/3.9/lib/python/site-packages (from torch>=1.10.0->accelerate) (3.1.2)\n",
      "Requirement already satisfied: networkx in /Users/dimitriroulin/Library/Python/3.9/lib/python/site-packages (from torch>=1.10.0->accelerate) (3.2.1)\n",
      "Requirement already satisfied: sympy==1.13.1 in /Users/dimitriroulin/Library/Python/3.9/lib/python/site-packages (from torch>=1.10.0->accelerate) (1.13.1)\n",
      "Requirement already satisfied: mpmath<1.4,>=1.1.0 in /Users/dimitriroulin/Library/Python/3.9/lib/python/site-packages (from sympy==1.13.1->torch>=1.10.0->accelerate) (1.3.0)\n",
      "Requirement already satisfied: MarkupSafe>=2.0 in /Users/dimitriroulin/Library/Python/3.9/lib/python/site-packages (from jinja2->torch>=1.10.0->accelerate) (2.1.3)\n",
      "Requirement already satisfied: charset-normalizer<4,>=2 in /Users/dimitriroulin/Library/Python/3.9/lib/python/site-packages (from requests->huggingface-hub>=0.21.0->accelerate) (3.2.0)\n",
      "Requirement already satisfied: urllib3<3,>=1.21.1 in /Users/dimitriroulin/Library/Python/3.9/lib/python/site-packages (from requests->huggingface-hub>=0.21.0->accelerate) (2.0.5)\n",
      "Requirement already satisfied: idna<4,>=2.5 in /Users/dimitriroulin/Library/Python/3.9/lib/python/site-packages (from requests->huggingface-hub>=0.21.0->accelerate) (3.4)\n",
      "Requirement already satisfied: certifi>=2017.4.17 in /Users/dimitriroulin/Library/Python/3.9/lib/python/site-packages (from requests->huggingface-hub>=0.21.0->accelerate) (2023.7.22)\n",
      "\u001b[33mWARNING: You are using pip version 21.2.4; however, version 25.1.1 is available.\n",
      "You should consider upgrading via the '/Library/Developer/CommandLineTools/usr/bin/python3 -m pip install --upgrade pip' command.\u001b[0m\n",
      "Note: you may need to restart the kernel to use updated packages.\n"
     ]
    }
   ],
   "source": [
    "%pip install transformers \n",
    "%pip install datasets \n",
    "%pip install scikit-learn\n",
    "%pip install torch\n",
    "%pip install datasets\n",
    "%pip install accelerate"
   ]
  },
  {
   "cell_type": "markdown",
   "metadata": {},
   "source": [
    "### **1. Loading the Data**\n",
    "In this part, we load the dataset from a CSV file and preprocess it. We also convert the difficulty levels into numeric labels for classification."
   ]
  },
  {
   "cell_type": "code",
   "execution_count": 3,
   "metadata": {},
   "outputs": [
    {
     "name": "stdout",
     "output_type": "stream",
     "text": [
      "Train size: 3840\n",
      "Test size: 960\n",
      "Train data difficulty distribution: difficulty\n",
      "A1    640\n",
      "A2    640\n",
      "B1    640\n",
      "B2    640\n",
      "C1    640\n",
      "C2    640\n",
      "Name: count, dtype: int64\n",
      "Test data difficulty distribution: difficulty\n",
      "A1    160\n",
      "A2    160\n",
      "B1    160\n",
      "B2    160\n",
      "C1    160\n",
      "C2    160\n",
      "Name: count, dtype: int64\n",
      "Duplicated rows in train data: 0\n",
      "Duplicated rows in test data: 0\n",
      "Train data sample:\n",
      "                                    sentence difficulty  labels\n",
      "0  Est-ce que le professeur Omar est libre ?         A1       0\n",
      "1                              Elle a 21 ans         A1       0\n",
      "2                  Alors comment ça marche ?         A1       0\n",
      "3                                A bientôt !         A1       0\n",
      "4        Le chaufffeur de bus est en retard.         A1       0\n"
     ]
    }
   ],
   "source": [
    "import pandas as pd\n",
    "from sklearn.model_selection import train_test_split\n",
    "from datasets import Dataset, DatasetDict\n",
    "\n",
    "# Split the data into train (80%) and test (10%)\n",
    "\n",
    "train_data = pd.read_csv(\"./data/french_difficulty_train.csv\")\n",
    "test_data = pd.read_csv(\"./data/french_difficulty_test.csv\")\n",
    "\n",
    "print(f\"Train size: {len(train_data)}\")\n",
    "print(f\"Test size: {len(test_data)}\")\n",
    "\n",
    "print(f\"Train data difficulty distribution: {train_data['difficulty'].value_counts()}\")\n",
    "print(f\"Test data difficulty distribution: {test_data['difficulty'].value_counts()}\")\n",
    "print(f\"Duplicated rows in train data: {train_data.duplicated().sum()}\")\n",
    "print(f\"Duplicated rows in test data: {test_data.duplicated().sum()}\")\n",
    "\n",
    "label2id = {'A1': 0, 'A2': 1, 'B1': 2, 'B2': 3, 'C1': 4, 'C2': 5}\n",
    "id2label = {v: k for k, v in label2id.items()}\n",
    "\n",
    "train_data['labels'] = train_data['difficulty'].map(label2id)\n",
    "test_data['labels'] = test_data['difficulty'].map(label2id)\n",
    "\n",
    "\n",
    "# Display the first few rows of the train data\n",
    "print(\"Train data sample:\")\n",
    "print(train_data.head())"
   ]
  },
  {
   "cell_type": "markdown",
   "metadata": {},
   "source": [
    "\n",
    "### **3. Preparing the Hugging Face Dataset**\n",
    "In this step, we convert the dataset into the Hugging Face `Dataset` format and create a `DatasetDict` for easier handling in the `transformers` library."
   ]
  },
  {
   "cell_type": "code",
   "execution_count": 4,
   "metadata": {},
   "outputs": [
    {
     "name": "stdout",
     "output_type": "stream",
     "text": [
      "{'sentence': 'Est-ce que le professeur Omar est libre ?', 'difficulty': 'A1', 'labels': 0}\n",
      "DatasetDict({\n",
      "    train: Dataset({\n",
      "        features: ['sentence', 'difficulty', 'labels'],\n",
      "        num_rows: 3840\n",
      "    })\n",
      "    test: Dataset({\n",
      "        features: ['sentence', 'difficulty', 'labels'],\n",
      "        num_rows: 960\n",
      "    })\n",
      "})\n"
     ]
    }
   ],
   "source": [
    "# Convert to Hugging Face Dataset format\n",
    "test_dataset = Dataset.from_pandas(test_data)\n",
    "train_dataset = Dataset.from_pandas(train_data)\n",
    "\n",
    "dataset = DatasetDict({\n",
    "    \"train\": Dataset.from_pandas(train_data),\n",
    "    \"test\": Dataset.from_pandas(test_data),\n",
    "})\n",
    "\n",
    "# Check sample\n",
    "print(dataset[\"train\"][0])\n",
    "\n",
    "print(dataset)"
   ]
  },
  {
   "cell_type": "markdown",
   "metadata": {},
   "source": [
    "\n",
    "### **4. Tokenizing the Dataset**\n",
    "Here, we load the tokenizer for `xlm-roberta-base` and tokenize the sentences. We also assign numeric labels for classification."
   ]
  },
  {
   "cell_type": "code",
   "execution_count": 5,
   "metadata": {},
   "outputs": [
    {
     "data": {
      "application/vnd.jupyter.widget-view+json": {
       "model_id": "ff34fa5f1d8f4d629842cd433a997211",
       "version_major": 2,
       "version_minor": 0
      },
      "text/plain": [
       "Map:   0%|          | 0/3840 [00:00<?, ? examples/s]"
      ]
     },
     "metadata": {},
     "output_type": "display_data"
    },
    {
     "data": {
      "application/vnd.jupyter.widget-view+json": {
       "model_id": "2d0073f4d33143c1b0762fb5234ed7c1",
       "version_major": 2,
       "version_minor": 0
      },
      "text/plain": [
       "Map:   0%|          | 0/960 [00:00<?, ? examples/s]"
      ]
     },
     "metadata": {},
     "output_type": "display_data"
    },
    {
     "name": "stdout",
     "output_type": "stream",
     "text": [
      "{'sentence': 'Est-ce que le professeur Omar est libre ?', 'difficulty': 'A1', 'labels': 0, 'input_ids': [0, 12566, 9, 329, 41, 95, 166104, 112493, 437, 11506, 705, 2, 1, 1, 1, 1, 1, 1, 1, 1, 1, 1, 1, 1, 1, 1, 1, 1, 1, 1, 1, 1, 1, 1, 1, 1, 1, 1, 1, 1, 1, 1, 1, 1, 1, 1, 1, 1, 1, 1, 1, 1, 1, 1, 1, 1, 1, 1, 1, 1, 1, 1, 1, 1, 1, 1, 1, 1, 1, 1, 1, 1, 1, 1, 1, 1, 1, 1, 1, 1, 1, 1, 1, 1, 1, 1, 1, 1, 1, 1, 1, 1, 1, 1, 1, 1, 1, 1, 1, 1, 1, 1, 1, 1, 1, 1, 1, 1, 1, 1, 1, 1, 1, 1, 1, 1, 1, 1, 1, 1, 1, 1, 1, 1, 1, 1, 1, 1], 'attention_mask': [1, 1, 1, 1, 1, 1, 1, 1, 1, 1, 1, 1, 0, 0, 0, 0, 0, 0, 0, 0, 0, 0, 0, 0, 0, 0, 0, 0, 0, 0, 0, 0, 0, 0, 0, 0, 0, 0, 0, 0, 0, 0, 0, 0, 0, 0, 0, 0, 0, 0, 0, 0, 0, 0, 0, 0, 0, 0, 0, 0, 0, 0, 0, 0, 0, 0, 0, 0, 0, 0, 0, 0, 0, 0, 0, 0, 0, 0, 0, 0, 0, 0, 0, 0, 0, 0, 0, 0, 0, 0, 0, 0, 0, 0, 0, 0, 0, 0, 0, 0, 0, 0, 0, 0, 0, 0, 0, 0, 0, 0, 0, 0, 0, 0, 0, 0, 0, 0, 0, 0, 0, 0, 0, 0, 0, 0, 0, 0]}\n"
     ]
    }
   ],
   "source": [
    "from transformers import AutoTokenizer\n",
    "\n",
    "tokenizer = AutoTokenizer.from_pretrained(\"xlm-roberta-base\")\n",
    "\n",
    "def tokenize_function(examples):\n",
    "    # No need to remap labels, they're already integer!\n",
    "    result = tokenizer(\n",
    "        examples[\"sentence\"],\n",
    "        padding=\"max_length\",\n",
    "        truncation=True,\n",
    "        max_length=128\n",
    "    )\n",
    "    result[\"labels\"] = examples[\"labels\"]  # <- keep the integer label\n",
    "    return result\n",
    "\n",
    "tokenized_datasets = dataset.map(tokenize_function, batched=True)\n",
    "print(tokenized_datasets[\"train\"][0])\n"
   ]
  },
  {
   "cell_type": "markdown",
   "metadata": {},
   "source": [
    "\n",
    "### **5. Loading the Model**\n",
    "In this step, we load the pre-trained `xlm-roberta-base` model and prepare it for sequence classification by specifying the number of labels."
   ]
  },
  {
   "cell_type": "code",
   "execution_count": 6,
   "metadata": {},
   "outputs": [
    {
     "name": "stdout",
     "output_type": "stream",
     "text": [
      "Using device: mps\n"
     ]
    }
   ],
   "source": [
    "import torch\n",
    "device = torch.device(\"mps\") if torch.backends.mps.is_available() else torch.device(\"cpu\")\n",
    "print(f\"Using device: {device}\")\n"
   ]
  },
  {
   "cell_type": "code",
   "execution_count": 7,
   "metadata": {},
   "outputs": [
    {
     "name": "stdout",
     "output_type": "stream",
     "text": [
      "Number of classes: 6\n"
     ]
    },
    {
     "name": "stderr",
     "output_type": "stream",
     "text": [
      "Some weights of XLMRobertaForSequenceClassification were not initialized from the model checkpoint at xlm-roberta-base and are newly initialized: ['classifier.dense.bias', 'classifier.dense.weight', 'classifier.out_proj.bias', 'classifier.out_proj.weight']\n",
      "You should probably TRAIN this model on a down-stream task to be able to use it for predictions and inference.\n"
     ]
    },
    {
     "data": {
      "text/plain": [
       "XLMRobertaForSequenceClassification(\n",
       "  (roberta): XLMRobertaModel(\n",
       "    (embeddings): XLMRobertaEmbeddings(\n",
       "      (word_embeddings): Embedding(250002, 768, padding_idx=1)\n",
       "      (position_embeddings): Embedding(514, 768, padding_idx=1)\n",
       "      (token_type_embeddings): Embedding(1, 768)\n",
       "      (LayerNorm): LayerNorm((768,), eps=1e-05, elementwise_affine=True)\n",
       "      (dropout): Dropout(p=0.1, inplace=False)\n",
       "    )\n",
       "    (encoder): XLMRobertaEncoder(\n",
       "      (layer): ModuleList(\n",
       "        (0-11): 12 x XLMRobertaLayer(\n",
       "          (attention): XLMRobertaAttention(\n",
       "            (self): XLMRobertaSdpaSelfAttention(\n",
       "              (query): Linear(in_features=768, out_features=768, bias=True)\n",
       "              (key): Linear(in_features=768, out_features=768, bias=True)\n",
       "              (value): Linear(in_features=768, out_features=768, bias=True)\n",
       "              (dropout): Dropout(p=0.1, inplace=False)\n",
       "            )\n",
       "            (output): XLMRobertaSelfOutput(\n",
       "              (dense): Linear(in_features=768, out_features=768, bias=True)\n",
       "              (LayerNorm): LayerNorm((768,), eps=1e-05, elementwise_affine=True)\n",
       "              (dropout): Dropout(p=0.1, inplace=False)\n",
       "            )\n",
       "          )\n",
       "          (intermediate): XLMRobertaIntermediate(\n",
       "            (dense): Linear(in_features=768, out_features=3072, bias=True)\n",
       "            (intermediate_act_fn): GELUActivation()\n",
       "          )\n",
       "          (output): XLMRobertaOutput(\n",
       "            (dense): Linear(in_features=3072, out_features=768, bias=True)\n",
       "            (LayerNorm): LayerNorm((768,), eps=1e-05, elementwise_affine=True)\n",
       "            (dropout): Dropout(p=0.1, inplace=False)\n",
       "          )\n",
       "        )\n",
       "      )\n",
       "    )\n",
       "  )\n",
       "  (classifier): XLMRobertaClassificationHead(\n",
       "    (dense): Linear(in_features=768, out_features=768, bias=True)\n",
       "    (dropout): Dropout(p=0.1, inplace=False)\n",
       "    (out_proj): Linear(in_features=768, out_features=6, bias=True)\n",
       "  )\n",
       ")"
      ]
     },
     "execution_count": 7,
     "metadata": {},
     "output_type": "execute_result"
    }
   ],
   "source": [
    "from transformers import AutoModelForSequenceClassification\n",
    "\n",
    "# Define the number of classes (assuming data[\"difficulty\"] is your dataframe/series)\n",
    "num_classes = len(train_data[\"difficulty\"].unique())\n",
    "print(f\"Number of classes: {num_classes}\")\n",
    "\n",
    "# Load CamemBERT model\n",
    "model = AutoModelForSequenceClassification.from_pretrained(\"xlm-roberta-base\", num_labels=num_classes)\n",
    "\n",
    "model.to(device)  # Move the model to the device\n"
   ]
  },
  {
   "cell_type": "markdown",
   "metadata": {},
   "source": [
    "\n",
    "### **6. Setting Up the Trainer**\n",
    "We define the training arguments and initialize the `Trainer` class, which manages the fine-tuning process. Early stopping is implemented to prevent overfitting.\n"
   ]
  },
  {
   "cell_type": "code",
   "execution_count": 8,
   "metadata": {},
   "outputs": [
    {
     "name": "stderr",
     "output_type": "stream",
     "text": [
      "/Users/dimitriroulin/Library/Python/3.9/lib/python/site-packages/transformers/training_args.py:1575: FutureWarning: `evaluation_strategy` is deprecated and will be removed in version 4.46 of 🤗 Transformers. Use `eval_strategy` instead\n",
      "  warnings.warn(\n",
      "/var/folders/wb/btfl8bv91b5c253kbpftk1940000gn/T/ipykernel_23733/4216458826.py:25: FutureWarning: `tokenizer` is deprecated and will be removed in version 5.0.0 for `Trainer.__init__`. Use `processing_class` instead.\n",
      "  trainer = Trainer(\n"
     ]
    }
   ],
   "source": [
    "from transformers import TrainingArguments, Trainer, DataCollatorWithPadding, EarlyStoppingCallback\n",
    "\n",
    "# Define a data collator for padding\n",
    "data_collator = DataCollatorWithPadding(tokenizer=tokenizer, padding=True)\n",
    "\n",
    "# Define training arguments\n",
    "training_args = TrainingArguments(\n",
    "    output_dir=\"./results\",\n",
    "    evaluation_strategy=\"epoch\",\n",
    "    save_strategy=\"epoch\",\n",
    "    learning_rate=1e-5,  # Adjusted learning rate\n",
    "    lr_scheduler_type=\"linear\",  # Gradually reduces learning rate\n",
    "    per_device_train_batch_size=8,\n",
    "    per_device_eval_batch_size=8,\n",
    "    num_train_epochs=10,\n",
    "    weight_decay=0.2,\n",
    "    logging_dir=\"./logs\",\n",
    "    logging_steps=10,\n",
    "    load_best_model_at_end=True,\n",
    "    gradient_accumulation_steps=2,\n",
    "    max_grad_norm=1.0,\n",
    ")\n",
    "\n",
    "# Initialize the Trainer\n",
    "trainer = Trainer(\n",
    "    model=model,\n",
    "    args=training_args,\n",
    "    train_dataset=tokenized_datasets[\"train\"],\n",
    "    eval_dataset=tokenized_datasets[\"test\"],\n",
    "    data_collator=data_collator,\n",
    "    tokenizer=tokenizer,\n",
    "    callbacks=[EarlyStoppingCallback(early_stopping_patience=2)],\n",
    ")\n"
   ]
  },
  {
   "cell_type": "markdown",
   "metadata": {},
   "source": [
    "### **7. Training the Model**\n",
    "Finally, we start the training process and fine-tune the model for the text classification task.\n"
   ]
  },
  {
   "cell_type": "code",
   "execution_count": 9,
   "metadata": {},
   "outputs": [
    {
     "data": {
      "application/vnd.jupyter.widget-view+json": {
       "model_id": "76113bb87f9c4b16ba8775c41c319b71",
       "version_major": 2,
       "version_minor": 0
      },
      "text/plain": [
       "  0%|          | 0/2400 [00:00<?, ?it/s]"
      ]
     },
     "metadata": {},
     "output_type": "display_data"
    },
    {
     "name": "stdout",
     "output_type": "stream",
     "text": [
      "{'loss': 1.8003, 'grad_norm': 4.6069159507751465, 'learning_rate': 9.958333333333334e-06, 'epoch': 0.04}\n",
      "{'loss': 1.8083, 'grad_norm': 4.21975564956665, 'learning_rate': 9.916666666666668e-06, 'epoch': 0.08}\n",
      "{'loss': 1.7887, 'grad_norm': 9.640000343322754, 'learning_rate': 9.875000000000001e-06, 'epoch': 0.12}\n",
      "{'loss': 1.7829, 'grad_norm': 11.217028617858887, 'learning_rate': 9.833333333333333e-06, 'epoch': 0.17}\n",
      "{'loss': 1.7855, 'grad_norm': 6.624171733856201, 'learning_rate': 9.791666666666666e-06, 'epoch': 0.21}\n",
      "{'loss': 1.7367, 'grad_norm': 13.779239654541016, 'learning_rate': 9.75e-06, 'epoch': 0.25}\n",
      "{'loss': 1.7268, 'grad_norm': 16.771909713745117, 'learning_rate': 9.708333333333333e-06, 'epoch': 0.29}\n",
      "{'loss': 1.6893, 'grad_norm': 15.949212074279785, 'learning_rate': 9.666666666666667e-06, 'epoch': 0.33}\n",
      "{'loss': 1.6686, 'grad_norm': 10.97515869140625, 'learning_rate': 9.625e-06, 'epoch': 0.38}\n",
      "{'loss': 1.667, 'grad_norm': 24.642927169799805, 'learning_rate': 9.583333333333335e-06, 'epoch': 0.42}\n",
      "{'loss': 1.6511, 'grad_norm': 13.321091651916504, 'learning_rate': 9.541666666666669e-06, 'epoch': 0.46}\n",
      "{'loss': 1.6055, 'grad_norm': 16.349763870239258, 'learning_rate': 9.5e-06, 'epoch': 0.5}\n",
      "{'loss': 1.5213, 'grad_norm': 19.46799087524414, 'learning_rate': 9.458333333333334e-06, 'epoch': 0.54}\n",
      "{'loss': 1.5037, 'grad_norm': 20.196447372436523, 'learning_rate': 9.416666666666667e-06, 'epoch': 0.58}\n",
      "{'loss': 1.4804, 'grad_norm': 17.087139129638672, 'learning_rate': 9.375000000000001e-06, 'epoch': 0.62}\n",
      "{'loss': 1.4064, 'grad_norm': 31.12837791442871, 'learning_rate': 9.333333333333334e-06, 'epoch': 0.67}\n",
      "{'loss': 1.4259, 'grad_norm': 13.429214477539062, 'learning_rate': 9.291666666666668e-06, 'epoch': 0.71}\n",
      "{'loss': 1.3601, 'grad_norm': 21.34343147277832, 'learning_rate': 9.250000000000001e-06, 'epoch': 0.75}\n",
      "{'loss': 1.3876, 'grad_norm': 55.81022262573242, 'learning_rate': 9.208333333333333e-06, 'epoch': 0.79}\n",
      "{'loss': 1.305, 'grad_norm': 18.126827239990234, 'learning_rate': 9.166666666666666e-06, 'epoch': 0.83}\n",
      "{'loss': 1.3328, 'grad_norm': 36.73001480102539, 'learning_rate': 9.125e-06, 'epoch': 0.88}\n",
      "{'loss': 1.2379, 'grad_norm': 27.780221939086914, 'learning_rate': 9.083333333333333e-06, 'epoch': 0.92}\n",
      "{'loss': 1.3342, 'grad_norm': 16.774795532226562, 'learning_rate': 9.041666666666667e-06, 'epoch': 0.96}\n",
      "{'loss': 1.2812, 'grad_norm': 54.730350494384766, 'learning_rate': 9e-06, 'epoch': 1.0}\n"
     ]
    },
    {
     "data": {
      "application/vnd.jupyter.widget-view+json": {
       "model_id": "8c170acd63934640a4f3d4b6fbe2460c",
       "version_major": 2,
       "version_minor": 0
      },
      "text/plain": [
       "  0%|          | 0/120 [00:00<?, ?it/s]"
      ]
     },
     "metadata": {},
     "output_type": "display_data"
    },
    {
     "name": "stdout",
     "output_type": "stream",
     "text": [
      "{'eval_loss': 1.2014480829238892, 'eval_runtime': 22.7257, 'eval_samples_per_second': 42.243, 'eval_steps_per_second': 5.28, 'epoch': 1.0}\n",
      "{'loss': 1.227, 'grad_norm': 27.144868850708008, 'learning_rate': 8.958333333333334e-06, 'epoch': 1.04}\n",
      "{'loss': 1.2321, 'grad_norm': 50.0009651184082, 'learning_rate': 8.916666666666667e-06, 'epoch': 1.08}\n",
      "{'loss': 1.2331, 'grad_norm': 30.357746124267578, 'learning_rate': 8.875e-06, 'epoch': 1.12}\n",
      "{'loss': 1.2367, 'grad_norm': 43.24317932128906, 'learning_rate': 8.833333333333334e-06, 'epoch': 1.17}\n",
      "{'loss': 1.3197, 'grad_norm': 17.572240829467773, 'learning_rate': 8.791666666666667e-06, 'epoch': 1.21}\n",
      "{'loss': 1.3814, 'grad_norm': 42.08796310424805, 'learning_rate': 8.750000000000001e-06, 'epoch': 1.25}\n",
      "{'loss': 1.1728, 'grad_norm': 18.4337158203125, 'learning_rate': 8.708333333333334e-06, 'epoch': 1.29}\n",
      "{'loss': 1.1675, 'grad_norm': 26.939029693603516, 'learning_rate': 8.666666666666668e-06, 'epoch': 1.33}\n",
      "{'loss': 1.2214, 'grad_norm': 40.005062103271484, 'learning_rate': 8.625000000000001e-06, 'epoch': 1.38}\n",
      "{'loss': 1.1453, 'grad_norm': 29.956640243530273, 'learning_rate': 8.583333333333333e-06, 'epoch': 1.42}\n",
      "{'loss': 1.1272, 'grad_norm': 23.712177276611328, 'learning_rate': 8.541666666666666e-06, 'epoch': 1.46}\n",
      "{'loss': 1.1363, 'grad_norm': 26.87428092956543, 'learning_rate': 8.5e-06, 'epoch': 1.5}\n",
      "{'loss': 1.1232, 'grad_norm': 28.103240966796875, 'learning_rate': 8.458333333333333e-06, 'epoch': 1.54}\n",
      "{'loss': 1.1917, 'grad_norm': 29.321369171142578, 'learning_rate': 8.416666666666667e-06, 'epoch': 1.58}\n",
      "{'loss': 1.1428, 'grad_norm': 56.83007049560547, 'learning_rate': 8.375e-06, 'epoch': 1.62}\n",
      "{'loss': 1.1898, 'grad_norm': 52.531978607177734, 'learning_rate': 8.333333333333334e-06, 'epoch': 1.67}\n",
      "{'loss': 1.1529, 'grad_norm': 38.15592575073242, 'learning_rate': 8.291666666666667e-06, 'epoch': 1.71}\n",
      "{'loss': 1.1846, 'grad_norm': 18.274967193603516, 'learning_rate': 8.25e-06, 'epoch': 1.75}\n",
      "{'loss': 1.1854, 'grad_norm': 56.09801483154297, 'learning_rate': 8.208333333333334e-06, 'epoch': 1.79}\n",
      "{'loss': 1.1118, 'grad_norm': 52.75752639770508, 'learning_rate': 8.166666666666668e-06, 'epoch': 1.83}\n",
      "{'loss': 1.2316, 'grad_norm': 29.75398063659668, 'learning_rate': 8.125000000000001e-06, 'epoch': 1.88}\n",
      "{'loss': 1.0756, 'grad_norm': 66.42582702636719, 'learning_rate': 8.083333333333334e-06, 'epoch': 1.92}\n",
      "{'loss': 1.1337, 'grad_norm': 29.400766372680664, 'learning_rate': 8.041666666666668e-06, 'epoch': 1.96}\n",
      "{'loss': 1.0122, 'grad_norm': 30.84984016418457, 'learning_rate': 8.000000000000001e-06, 'epoch': 2.0}\n"
     ]
    },
    {
     "data": {
      "application/vnd.jupyter.widget-view+json": {
       "model_id": "3208103fc32747469504838fac0ab958",
       "version_major": 2,
       "version_minor": 0
      },
      "text/plain": [
       "  0%|          | 0/120 [00:00<?, ?it/s]"
      ]
     },
     "metadata": {},
     "output_type": "display_data"
    },
    {
     "name": "stdout",
     "output_type": "stream",
     "text": [
      "{'eval_loss': 1.1373502016067505, 'eval_runtime': 18.6646, 'eval_samples_per_second': 51.434, 'eval_steps_per_second': 6.429, 'epoch': 2.0}\n",
      "{'loss': 1.0505, 'grad_norm': 29.529321670532227, 'learning_rate': 7.958333333333333e-06, 'epoch': 2.04}\n",
      "{'loss': 1.0752, 'grad_norm': 48.957275390625, 'learning_rate': 7.916666666666667e-06, 'epoch': 2.08}\n",
      "{'loss': 1.1341, 'grad_norm': 36.9029655456543, 'learning_rate': 7.875e-06, 'epoch': 2.12}\n",
      "{'loss': 1.0399, 'grad_norm': 24.912622451782227, 'learning_rate': 7.833333333333333e-06, 'epoch': 2.17}\n",
      "{'loss': 1.0291, 'grad_norm': 86.4991226196289, 'learning_rate': 7.791666666666667e-06, 'epoch': 2.21}\n",
      "{'loss': 1.0101, 'grad_norm': 24.425342559814453, 'learning_rate': 7.75e-06, 'epoch': 2.25}\n",
      "{'loss': 1.1306, 'grad_norm': 126.0659408569336, 'learning_rate': 7.708333333333334e-06, 'epoch': 2.29}\n",
      "{'loss': 1.0109, 'grad_norm': 47.700889587402344, 'learning_rate': 7.666666666666667e-06, 'epoch': 2.33}\n",
      "{'loss': 0.9991, 'grad_norm': 37.16753005981445, 'learning_rate': 7.625e-06, 'epoch': 2.38}\n",
      "{'loss': 0.9565, 'grad_norm': 40.134395599365234, 'learning_rate': 7.583333333333333e-06, 'epoch': 2.42}\n",
      "{'loss': 1.0236, 'grad_norm': 49.731178283691406, 'learning_rate': 7.541666666666667e-06, 'epoch': 2.46}\n",
      "{'loss': 0.9723, 'grad_norm': 38.49843978881836, 'learning_rate': 7.500000000000001e-06, 'epoch': 2.5}\n",
      "{'loss': 1.0936, 'grad_norm': 61.00577163696289, 'learning_rate': 7.4583333333333345e-06, 'epoch': 2.54}\n",
      "{'loss': 1.0171, 'grad_norm': 30.88547134399414, 'learning_rate': 7.416666666666668e-06, 'epoch': 2.58}\n",
      "{'loss': 1.1065, 'grad_norm': 59.81472396850586, 'learning_rate': 7.375000000000001e-06, 'epoch': 2.62}\n",
      "{'loss': 1.0816, 'grad_norm': 89.90168762207031, 'learning_rate': 7.333333333333333e-06, 'epoch': 2.67}\n",
      "{'loss': 1.0682, 'grad_norm': 43.161895751953125, 'learning_rate': 7.291666666666667e-06, 'epoch': 2.71}\n",
      "{'loss': 1.0439, 'grad_norm': 42.56959533691406, 'learning_rate': 7.25e-06, 'epoch': 2.75}\n",
      "{'loss': 1.0839, 'grad_norm': 37.182273864746094, 'learning_rate': 7.2083333333333335e-06, 'epoch': 2.79}\n",
      "{'loss': 1.0462, 'grad_norm': 34.090213775634766, 'learning_rate': 7.166666666666667e-06, 'epoch': 2.83}\n",
      "{'loss': 0.9914, 'grad_norm': 23.034137725830078, 'learning_rate': 7.125e-06, 'epoch': 2.88}\n",
      "{'loss': 1.045, 'grad_norm': 126.59783172607422, 'learning_rate': 7.083333333333335e-06, 'epoch': 2.92}\n",
      "{'loss': 1.0873, 'grad_norm': 24.54241371154785, 'learning_rate': 7.041666666666668e-06, 'epoch': 2.96}\n",
      "{'loss': 1.1091, 'grad_norm': 41.87566375732422, 'learning_rate': 7e-06, 'epoch': 3.0}\n"
     ]
    },
    {
     "data": {
      "application/vnd.jupyter.widget-view+json": {
       "model_id": "a74f46a93eed4fbf937615d66c128801",
       "version_major": 2,
       "version_minor": 0
      },
      "text/plain": [
       "  0%|          | 0/120 [00:00<?, ?it/s]"
      ]
     },
     "metadata": {},
     "output_type": "display_data"
    },
    {
     "name": "stdout",
     "output_type": "stream",
     "text": [
      "{'eval_loss': 1.0806792974472046, 'eval_runtime': 19.9128, 'eval_samples_per_second': 48.21, 'eval_steps_per_second': 6.026, 'epoch': 3.0}\n",
      "{'loss': 0.9213, 'grad_norm': 40.27290344238281, 'learning_rate': 6.958333333333333e-06, 'epoch': 3.04}\n",
      "{'loss': 0.9238, 'grad_norm': 49.73056411743164, 'learning_rate': 6.916666666666667e-06, 'epoch': 3.08}\n",
      "{'loss': 0.9105, 'grad_norm': 55.387969970703125, 'learning_rate': 6.875e-06, 'epoch': 3.12}\n",
      "{'loss': 0.8787, 'grad_norm': 40.28156280517578, 'learning_rate': 6.833333333333334e-06, 'epoch': 3.17}\n",
      "{'loss': 1.0198, 'grad_norm': 33.4080696105957, 'learning_rate': 6.791666666666667e-06, 'epoch': 3.21}\n",
      "{'loss': 0.9525, 'grad_norm': 33.2118034362793, 'learning_rate': 6.750000000000001e-06, 'epoch': 3.25}\n",
      "{'loss': 0.9178, 'grad_norm': 37.913970947265625, 'learning_rate': 6.708333333333333e-06, 'epoch': 3.29}\n",
      "{'loss': 0.9628, 'grad_norm': 52.445011138916016, 'learning_rate': 6.666666666666667e-06, 'epoch': 3.33}\n",
      "{'loss': 0.9594, 'grad_norm': 71.3815689086914, 'learning_rate': 6.625e-06, 'epoch': 3.38}\n",
      "{'loss': 0.9665, 'grad_norm': 60.944732666015625, 'learning_rate': 6.5833333333333335e-06, 'epoch': 3.42}\n",
      "{'loss': 0.9494, 'grad_norm': 74.60594940185547, 'learning_rate': 6.541666666666667e-06, 'epoch': 3.46}\n",
      "{'loss': 0.9677, 'grad_norm': 48.29062271118164, 'learning_rate': 6.5000000000000004e-06, 'epoch': 3.5}\n",
      "{'loss': 0.9328, 'grad_norm': 29.513832092285156, 'learning_rate': 6.458333333333334e-06, 'epoch': 3.54}\n",
      "{'loss': 0.8999, 'grad_norm': 24.434831619262695, 'learning_rate': 6.416666666666667e-06, 'epoch': 3.58}\n",
      "{'loss': 0.9525, 'grad_norm': 22.736106872558594, 'learning_rate': 6.375e-06, 'epoch': 3.62}\n",
      "{'loss': 0.9047, 'grad_norm': 58.14802932739258, 'learning_rate': 6.333333333333333e-06, 'epoch': 3.67}\n",
      "{'loss': 0.9063, 'grad_norm': 49.65652847290039, 'learning_rate': 6.291666666666667e-06, 'epoch': 3.71}\n",
      "{'loss': 0.9172, 'grad_norm': 29.026264190673828, 'learning_rate': 6.25e-06, 'epoch': 3.75}\n",
      "{'loss': 0.97, 'grad_norm': 53.749839782714844, 'learning_rate': 6.208333333333334e-06, 'epoch': 3.79}\n",
      "{'loss': 0.9282, 'grad_norm': 43.00065612792969, 'learning_rate': 6.166666666666667e-06, 'epoch': 3.83}\n",
      "{'loss': 1.0055, 'grad_norm': 52.5089225769043, 'learning_rate': 6.125000000000001e-06, 'epoch': 3.88}\n",
      "{'loss': 1.0266, 'grad_norm': 69.5555648803711, 'learning_rate': 6.083333333333333e-06, 'epoch': 3.92}\n",
      "{'loss': 0.8413, 'grad_norm': 42.241676330566406, 'learning_rate': 6.041666666666667e-06, 'epoch': 3.96}\n",
      "{'loss': 0.7983, 'grad_norm': 33.00800704956055, 'learning_rate': 6e-06, 'epoch': 4.0}\n"
     ]
    },
    {
     "data": {
      "application/vnd.jupyter.widget-view+json": {
       "model_id": "5afeebd85c134a90999b46190baa88cb",
       "version_major": 2,
       "version_minor": 0
      },
      "text/plain": [
       "  0%|          | 0/120 [00:00<?, ?it/s]"
      ]
     },
     "metadata": {},
     "output_type": "display_data"
    },
    {
     "name": "stdout",
     "output_type": "stream",
     "text": [
      "{'eval_loss': 1.1135891675949097, 'eval_runtime': 18.9318, 'eval_samples_per_second': 50.708, 'eval_steps_per_second': 6.339, 'epoch': 4.0}\n",
      "{'loss': 0.8075, 'grad_norm': 151.2725372314453, 'learning_rate': 5.958333333333334e-06, 'epoch': 4.04}\n",
      "{'loss': 0.7781, 'grad_norm': 44.644775390625, 'learning_rate': 5.916666666666667e-06, 'epoch': 4.08}\n",
      "{'loss': 0.8579, 'grad_norm': 41.0768928527832, 'learning_rate': 5.8750000000000005e-06, 'epoch': 4.12}\n",
      "{'loss': 0.9167, 'grad_norm': 39.78550338745117, 'learning_rate': 5.833333333333334e-06, 'epoch': 4.17}\n",
      "{'loss': 0.9123, 'grad_norm': 63.009944915771484, 'learning_rate': 5.791666666666667e-06, 'epoch': 4.21}\n",
      "{'loss': 0.8795, 'grad_norm': 108.9716796875, 'learning_rate': 5.75e-06, 'epoch': 4.25}\n",
      "{'loss': 0.8033, 'grad_norm': 44.23639678955078, 'learning_rate': 5.7083333333333335e-06, 'epoch': 4.29}\n",
      "{'loss': 0.8251, 'grad_norm': 44.403926849365234, 'learning_rate': 5.666666666666667e-06, 'epoch': 4.33}\n",
      "{'loss': 0.9611, 'grad_norm': 48.60493469238281, 'learning_rate': 5.625e-06, 'epoch': 4.38}\n",
      "{'loss': 0.8342, 'grad_norm': 47.77510070800781, 'learning_rate': 5.583333333333334e-06, 'epoch': 4.42}\n",
      "{'loss': 0.8839, 'grad_norm': 33.084835052490234, 'learning_rate': 5.541666666666667e-06, 'epoch': 4.46}\n",
      "{'loss': 0.8875, 'grad_norm': 39.91397476196289, 'learning_rate': 5.500000000000001e-06, 'epoch': 4.5}\n",
      "{'loss': 0.7574, 'grad_norm': 83.08393096923828, 'learning_rate': 5.458333333333333e-06, 'epoch': 4.54}\n",
      "{'loss': 0.8185, 'grad_norm': 49.96637725830078, 'learning_rate': 5.416666666666667e-06, 'epoch': 4.58}\n",
      "{'loss': 0.8173, 'grad_norm': 36.86073303222656, 'learning_rate': 5.375e-06, 'epoch': 4.62}\n",
      "{'loss': 0.859, 'grad_norm': 36.107765197753906, 'learning_rate': 5.333333333333334e-06, 'epoch': 4.67}\n",
      "{'loss': 0.7877, 'grad_norm': 32.74435806274414, 'learning_rate': 5.291666666666667e-06, 'epoch': 4.71}\n",
      "{'loss': 0.8345, 'grad_norm': 55.35349655151367, 'learning_rate': 5.2500000000000006e-06, 'epoch': 4.75}\n",
      "{'loss': 0.8639, 'grad_norm': 57.52656936645508, 'learning_rate': 5.208333333333334e-06, 'epoch': 4.79}\n",
      "{'loss': 0.7642, 'grad_norm': 35.61048889160156, 'learning_rate': 5.1666666666666675e-06, 'epoch': 4.83}\n",
      "{'loss': 0.8231, 'grad_norm': 38.72517013549805, 'learning_rate': 5.125e-06, 'epoch': 4.88}\n",
      "{'loss': 0.7878, 'grad_norm': 56.4218635559082, 'learning_rate': 5.0833333333333335e-06, 'epoch': 4.92}\n",
      "{'loss': 0.9216, 'grad_norm': 56.074981689453125, 'learning_rate': 5.041666666666667e-06, 'epoch': 4.96}\n",
      "{'loss': 0.759, 'grad_norm': 41.99021530151367, 'learning_rate': 5e-06, 'epoch': 5.0}\n"
     ]
    },
    {
     "data": {
      "application/vnd.jupyter.widget-view+json": {
       "model_id": "c570e31f918d427080a91627ed1d54be",
       "version_major": 2,
       "version_minor": 0
      },
      "text/plain": [
       "  0%|          | 0/120 [00:00<?, ?it/s]"
      ]
     },
     "metadata": {},
     "output_type": "display_data"
    },
    {
     "name": "stdout",
     "output_type": "stream",
     "text": [
      "{'eval_loss': 1.2749117612838745, 'eval_runtime': 20.6737, 'eval_samples_per_second': 46.436, 'eval_steps_per_second': 5.804, 'epoch': 5.0}\n",
      "{'train_runtime': 1769.5085, 'train_samples_per_second': 21.701, 'train_steps_per_second': 1.356, 'train_loss': 1.111526881456375, 'epoch': 5.0}\n"
     ]
    },
    {
     "data": {
      "text/plain": [
       "TrainOutput(global_step=1200, training_loss=1.111526881456375, metrics={'train_runtime': 1769.5085, 'train_samples_per_second': 21.701, 'train_steps_per_second': 1.356, 'total_flos': 1262978423193600.0, 'train_loss': 1.111526881456375, 'epoch': 5.0})"
      ]
     },
     "execution_count": 9,
     "metadata": {},
     "output_type": "execute_result"
    }
   ],
   "source": [
    "# Train the model\n",
    "trainer.train()"
   ]
  },
  {
   "cell_type": "markdown",
   "metadata": {},
   "source": [
    "### **8. Evaluating the Model**\n",
    "Evaluate the model on the test set to check its performance using metrics like accuracy, precision, recall, and F1-score."
   ]
  },
  {
   "cell_type": "code",
   "execution_count": 10,
   "metadata": {},
   "outputs": [
    {
     "data": {
      "application/vnd.jupyter.widget-view+json": {
       "model_id": "b459ea12048143d186701d6ffa1870db",
       "version_major": 2,
       "version_minor": 0
      },
      "text/plain": [
       "  0%|          | 0/120 [00:00<?, ?it/s]"
      ]
     },
     "metadata": {},
     "output_type": "display_data"
    },
    {
     "name": "stdout",
     "output_type": "stream",
     "text": [
      "{'eval_loss': 1.0806792974472046, 'eval_runtime': 18.9391, 'eval_samples_per_second': 50.689, 'eval_steps_per_second': 6.336, 'epoch': 5.0}\n"
     ]
    },
    {
     "data": {
      "application/vnd.jupyter.widget-view+json": {
       "model_id": "e963afc6394a4c04b3117926cfa9a98f",
       "version_major": 2,
       "version_minor": 0
      },
      "text/plain": [
       "  0%|          | 0/120 [00:00<?, ?it/s]"
      ]
     },
     "metadata": {},
     "output_type": "display_data"
    },
    {
     "name": "stdout",
     "output_type": "stream",
     "text": [
      "              precision    recall  f1-score   support\n",
      "\n",
      "           0       0.63      0.72      0.68       160\n",
      "           1       0.49      0.46      0.47       160\n",
      "           2       0.50      0.54      0.52       160\n",
      "           3       0.47      0.42      0.44       160\n",
      "           4       0.48      0.51      0.49       160\n",
      "           5       0.64      0.56      0.60       160\n",
      "\n",
      "    accuracy                           0.54       960\n",
      "   macro avg       0.53      0.54      0.53       960\n",
      "weighted avg       0.53      0.54      0.53       960\n",
      "\n"
     ]
    }
   ],
   "source": [
    "# Evaluate the model\n",
    "results = trainer.evaluate(tokenized_datasets[\"test\"])\n",
    "print(results)\n",
    "\n",
    "# Compute additional metrics if needed\n",
    "from sklearn.metrics import classification_report\n",
    "\n",
    "# Extract true labels (y_true) from the test dataset\n",
    "y_true = test_data[\"difficulty\"].map(label2id).tolist()\n",
    "\n",
    "\n",
    "# Predict the labels using the trained model\n",
    "y_pred = trainer.predict(tokenized_datasets[\"test\"]).predictions.argmax(axis=-1)\n",
    "\n",
    "# Generate the classification report\n",
    "from sklearn.metrics import classification_report\n",
    "print(classification_report(y_true, y_pred))\n"
   ]
  },
  {
   "cell_type": "code",
   "execution_count": 11,
   "metadata": {},
   "outputs": [
    {
     "data": {
      "text/plain": [
       "<sklearn.metrics._plot.confusion_matrix.ConfusionMatrixDisplay at 0x3fea04ac0>"
      ]
     },
     "execution_count": 11,
     "metadata": {},
     "output_type": "execute_result"
    },
    {
     "data": {
      "image/png": "[encoded data removed]",
      "text/plain": [
       "<Figure size 640x480 with 2 Axes>"
      ]
     },
     "metadata": {},
     "output_type": "display_data"
    }
   ],
   "source": [
    "from sklearn.metrics import confusion_matrix, ConfusionMatrixDisplay\n",
    "\n",
    "# Compute confusion matrix\n",
    "conf_matrix = confusion_matrix(y_true, y_pred)\n",
    "\n",
    "# Display confusion matrix\n",
    "disp = ConfusionMatrixDisplay(confusion_matrix=conf_matrix, display_labels=[\"A1\", \"A2\", \"B1\", \"B2\", \"C1\", \"C2\"])\n",
    "disp.plot(cmap=\"viridis\")\n"
   ]
  },
  {
   "cell_type": "code",
   "execution_count": 27,
   "metadata": {},
   "outputs": [
    {
     "data": {
      "application/vnd.jupyter.widget-view+json": {
       "model_id": "c2c0c218a5084273898b601c3573009d",
       "version_major": 2,
       "version_minor": 0
      },
      "text/plain": [
       "  0%|          | 0/120 [00:00<?, ?it/s]"
      ]
     },
     "metadata": {},
     "output_type": "display_data"
    }
   ],
   "source": [
    "# Predict on test set\n",
    "pred_outputs = trainer.predict(tokenized_datasets[\"test\"])\n",
    "y_pred = pred_outputs.predictions.argmax(axis=-1)\n"
   ]
  },
  {
   "cell_type": "code",
   "execution_count": 12,
   "metadata": {},
   "outputs": [
    {
     "data": {
      "application/vnd.jupyter.widget-view+json": {
       "model_id": "cf1c7efa894a4feeaccc0a6b7852823b",
       "version_major": 2,
       "version_minor": 0
      },
      "text/plain": [
       "  0%|          | 0/120 [00:00<?, ?it/s]"
      ]
     },
     "metadata": {},
     "output_type": "display_data"
    },
    {
     "name": "stdout",
     "output_type": "stream",
     "text": [
      "✅ Saved: predictions_xlm-roberta-base.csv\n"
     ]
    }
   ],
   "source": [
    "import pandas as pd\n",
    "\n",
    "# 1. Predict with your trained CamemBERT model\n",
    "pred_outputs = trainer.predict(tokenized_datasets[\"test\"])\n",
    "y_pred = pred_outputs.predictions.argmax(axis=-1)\n",
    "\n",
    "# 2. Map integer predictions to CEFR labels (if needed)\n",
    "id2label = {0: 'A1', 1: 'A2', 2: 'B1', 3: 'B2', 4: 'C1', 5: 'C2'}\n",
    "pred_labels = [id2label[i] for i in y_pred]\n",
    "\n",
    "# 3. Prepare DataFrame\n",
    "df_pred = pd.DataFrame({\n",
    "    \"sentence\": test_data[\"sentence\"].tolist(),\n",
    "    \"difficulty\": test_data[\"difficulty\"].tolist(),  # true label (string)\n",
    "    \"predictions_xlm-roberta-base\": pred_labels\n",
    "})\n",
    "\n",
    "# 4. Save to CSV with requested filename\n",
    "df_pred.to_csv(\"predictions_xlm-roberta-base.csv\", index=False)\n",
    "print(\"✅ Saved: predictions_xlm-roberta-base.csv\")\n"
   ]
  },
  {
   "cell_type": "markdown",
   "metadata": {},
   "source": [
    "# Pairewise Mismmatch metric\n",
    "The pairwise mismatch metric focuses on computing ordering violations in predictions relative to ground truth.\n",
    "<img src=\"./Images/Pairewise-Matchinge-Explanation.png\" width=\"800px\">"
   ]
  },
  {
   "cell_type": "code",
   "execution_count": 13,
   "metadata": {},
   "outputs": [
    {
     "name": "stdout",
     "output_type": "stream",
     "text": [
      "Pairwise Mismatch Score: 49.5250\n"
     ]
    }
   ],
   "source": [
    "import pandas as pd\n",
    "import numpy as np\n",
    "from sklearn.preprocessing import LabelEncoder\n",
    "\n",
    "def pairwise_mismatch(y_pred: pd.Series, y_real: pd.Series) -> float:\n",
    "    \"\"\"\n",
    "    Compute the pairwise mismatch metric as described by Henry Jamet.\n",
    "    \n",
    "    :param y_pred: Pandas Series of predicted difficulty levels\n",
    "    :param y_real: Pandas Series of true difficulty levels\n",
    "    :return: Mean pairwise mismatch score\n",
    "    \"\"\"\n",
    "    predictions = pd.DataFrame({\"pred\": y_pred, \"real\": y_real})\n",
    "\n",
    "    # Sort alphabetically by real and predicted labels\n",
    "    predictions = predictions.sort_values(by=[\"real\", \"pred\"])\n",
    "\n",
    "    # Convert categorical labels into numeric values while keeping order\n",
    "    predictions[\"pred\"] = predictions[\"pred\"].astype(\"category\")\n",
    "    predictions[\"real\"] = predictions[\"real\"].astype(\"category\")\n",
    "\n",
    "    # Initialize LabelEncoder and encode labels\n",
    "    label_encoder = LabelEncoder()\n",
    "    unique_labels = pd.unique(predictions[[\"pred\", \"real\"]].values.ravel(\"K\"))\n",
    "    label_encoder.fit(unique_labels)\n",
    "\n",
    "    predictions[\"pred\"] = label_encoder.transform(predictions[\"pred\"])\n",
    "    predictions[\"real\"] = label_encoder.transform(predictions[\"real\"])\n",
    "\n",
    "    # Compute the pairwise mismatch\n",
    "    mismatch = (\n",
    "        predictions[\"pred\"].expanding().apply(lambda s: (s.iloc[-1] - s < 0).sum())\n",
    "        + predictions[\"pred\"][::-1]\n",
    "        .expanding()\n",
    "        .apply(lambda s: (s.iloc[-1] - s > 0).sum())[::-1]\n",
    "    )\n",
    "\n",
    "    return mismatch.mean()\n",
    "\n",
    "# Convert y_true and y_pred into pandas Series\n",
    "y_true_series = pd.Series(y_true)\n",
    "y_pred_series = pd.Series(y_pred)\n",
    "\n",
    "# Compute the pairwise mismatch\n",
    "mismatch_score = pairwise_mismatch(y_pred_series, y_true_series)\n",
    "print(f\"Pairwise Mismatch Score: {mismatch_score:.4f}\")\n"
   ]
  }
 ],
 "metadata": {
  "kernelspec": {
   "display_name": "Python 3",
   "language": "python",
   "name": "python3"
  },
  "language_info": {
   "codemirror_mode": {
    "name": "ipython",
    "version": 3
   },
   "file_extension": ".py",
   "mimetype": "text/x-python",
   "name": "python",
   "nbconvert_exporter": "python",
   "pygments_lexer": "ipython3",
   "version": "3.9.6"
  }
 },
 "nbformat": 4,
 "nbformat_minor": 2
}
