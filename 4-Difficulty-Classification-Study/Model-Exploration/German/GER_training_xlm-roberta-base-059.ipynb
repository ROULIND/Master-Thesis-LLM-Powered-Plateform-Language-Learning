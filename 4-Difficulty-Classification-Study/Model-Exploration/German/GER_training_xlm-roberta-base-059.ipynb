{
 "cells": [
  {
   "cell_type": "code",
   "execution_count": 1,
   "metadata": {},
   "outputs": [
    {
     "name": "stdout",
     "output_type": "stream",
     "text": [
      "Defaulting to user installation because normal site-packages is not writeable\n",
      "Requirement already satisfied: transformers in /Users/dimitriroulin/Library/Python/3.9/lib/python/site-packages (4.47.0)\n",
      "Requirement already satisfied: huggingface-hub<1.0,>=0.24.0 in /Users/dimitriroulin/Library/Python/3.9/lib/python/site-packages (from transformers) (0.26.5)\n",
      "Requirement already satisfied: tokenizers<0.22,>=0.21 in /Users/dimitriroulin/Library/Python/3.9/lib/python/site-packages (from transformers) (0.21.0)\n",
      "Requirement already satisfied: filelock in /Users/dimitriroulin/Library/Python/3.9/lib/python/site-packages (from transformers) (3.16.1)\n",
      "Requirement already satisfied: regex!=2019.12.17 in /Users/dimitriroulin/Library/Python/3.9/lib/python/site-packages (from transformers) (2024.11.6)\n",
      "Requirement already satisfied: requests in /Users/dimitriroulin/Library/Python/3.9/lib/python/site-packages (from transformers) (2.32.3)\n",
      "Requirement already satisfied: numpy>=1.17 in /Users/dimitriroulin/Library/Python/3.9/lib/python/site-packages (from transformers) (2.0.2)\n",
      "Requirement already satisfied: tqdm>=4.27 in /Users/dimitriroulin/Library/Python/3.9/lib/python/site-packages (from transformers) (4.67.1)\n",
      "Requirement already satisfied: packaging>=20.0 in /Users/dimitriroulin/Library/Python/3.9/lib/python/site-packages (from transformers) (23.1)\n",
      "Requirement already satisfied: safetensors>=0.4.1 in /Users/dimitriroulin/Library/Python/3.9/lib/python/site-packages (from transformers) (0.4.5)\n",
      "Requirement already satisfied: pyyaml>=5.1 in /Users/dimitriroulin/Library/Python/3.9/lib/python/site-packages (from transformers) (6.0.1)\n",
      "Requirement already satisfied: fsspec>=2023.5.0 in /Users/dimitriroulin/Library/Python/3.9/lib/python/site-packages (from huggingface-hub<1.0,>=0.24.0->transformers) (2024.9.0)\n",
      "Requirement already satisfied: typing-extensions>=3.7.4.3 in /Users/dimitriroulin/Library/Python/3.9/lib/python/site-packages (from huggingface-hub<1.0,>=0.24.0->transformers) (4.12.2)\n",
      "Requirement already satisfied: urllib3<3,>=1.21.1 in /Users/dimitriroulin/Library/Python/3.9/lib/python/site-packages (from requests->transformers) (2.0.5)\n",
      "Requirement already satisfied: certifi>=2017.4.17 in /Users/dimitriroulin/Library/Python/3.9/lib/python/site-packages (from requests->transformers) (2023.7.22)\n",
      "Requirement already satisfied: charset-normalizer<4,>=2 in /Users/dimitriroulin/Library/Python/3.9/lib/python/site-packages (from requests->transformers) (3.2.0)\n",
      "Requirement already satisfied: idna<4,>=2.5 in /Users/dimitriroulin/Library/Python/3.9/lib/python/site-packages (from requests->transformers) (3.4)\n",
      "\u001b[33mWARNING: You are using pip version 21.2.4; however, version 25.0 is available.\n",
      "You should consider upgrading via the '/Library/Developer/CommandLineTools/usr/bin/python3 -m pip install --upgrade pip' command.\u001b[0m\n",
      "Note: you may need to restart the kernel to use updated packages.\n",
      "Defaulting to user installation because normal site-packages is not writeable\n",
      "Requirement already satisfied: datasets in /Users/dimitriroulin/Library/Python/3.9/lib/python/site-packages (3.2.0)\n",
      "Requirement already satisfied: pandas in /Users/dimitriroulin/Library/Python/3.9/lib/python/site-packages (from datasets) (2.2.3)\n",
      "Requirement already satisfied: packaging in /Users/dimitriroulin/Library/Python/3.9/lib/python/site-packages (from datasets) (23.1)\n",
      "Requirement already satisfied: multiprocess<0.70.17 in /Users/dimitriroulin/Library/Python/3.9/lib/python/site-packages (from datasets) (0.70.16)\n",
      "Requirement already satisfied: aiohttp in /Users/dimitriroulin/Library/Python/3.9/lib/python/site-packages (from datasets) (3.11.10)\n",
      "Requirement already satisfied: filelock in /Users/dimitriroulin/Library/Python/3.9/lib/python/site-packages (from datasets) (3.16.1)\n",
      "Requirement already satisfied: pyarrow>=15.0.0 in /Users/dimitriroulin/Library/Python/3.9/lib/python/site-packages (from datasets) (18.1.0)\n",
      "Requirement already satisfied: dill<0.3.9,>=0.3.0 in /Users/dimitriroulin/Library/Python/3.9/lib/python/site-packages (from datasets) (0.3.8)\n",
      "Requirement already satisfied: fsspec[http]<=2024.9.0,>=2023.1.0 in /Users/dimitriroulin/Library/Python/3.9/lib/python/site-packages (from datasets) (2024.9.0)\n",
      "Requirement already satisfied: huggingface-hub>=0.23.0 in /Users/dimitriroulin/Library/Python/3.9/lib/python/site-packages (from datasets) (0.26.5)\n",
      "Requirement already satisfied: requests>=2.32.2 in /Users/dimitriroulin/Library/Python/3.9/lib/python/site-packages (from datasets) (2.32.3)\n",
      "Requirement already satisfied: tqdm>=4.66.3 in /Users/dimitriroulin/Library/Python/3.9/lib/python/site-packages (from datasets) (4.67.1)\n",
      "Requirement already satisfied: xxhash in /Users/dimitriroulin/Library/Python/3.9/lib/python/site-packages (from datasets) (3.5.0)\n",
      "Requirement already satisfied: pyyaml>=5.1 in /Users/dimitriroulin/Library/Python/3.9/lib/python/site-packages (from datasets) (6.0.1)\n",
      "Requirement already satisfied: numpy>=1.17 in /Users/dimitriroulin/Library/Python/3.9/lib/python/site-packages (from datasets) (2.0.2)\n",
      "Requirement already satisfied: propcache>=0.2.0 in /Users/dimitriroulin/Library/Python/3.9/lib/python/site-packages (from aiohttp->datasets) (0.2.1)\n",
      "Requirement already satisfied: async-timeout<6.0,>=4.0 in /Users/dimitriroulin/Library/Python/3.9/lib/python/site-packages (from aiohttp->datasets) (5.0.1)\n",
      "Requirement already satisfied: multidict<7.0,>=4.5 in /Users/dimitriroulin/Library/Python/3.9/lib/python/site-packages (from aiohttp->datasets) (6.1.0)\n",
      "Requirement already satisfied: yarl<2.0,>=1.17.0 in /Users/dimitriroulin/Library/Python/3.9/lib/python/site-packages (from aiohttp->datasets) (1.18.3)\n",
      "Requirement already satisfied: frozenlist>=1.1.1 in /Users/dimitriroulin/Library/Python/3.9/lib/python/site-packages (from aiohttp->datasets) (1.5.0)\n",
      "Requirement already satisfied: attrs>=17.3.0 in /Users/dimitriroulin/Library/Python/3.9/lib/python/site-packages (from aiohttp->datasets) (23.1.0)\n",
      "Requirement already satisfied: aiosignal>=1.1.2 in /Users/dimitriroulin/Library/Python/3.9/lib/python/site-packages (from aiohttp->datasets) (1.3.1)\n",
      "Requirement already satisfied: aiohappyeyeballs>=2.3.0 in /Users/dimitriroulin/Library/Python/3.9/lib/python/site-packages (from aiohttp->datasets) (2.4.4)\n",
      "Requirement already satisfied: typing-extensions>=3.7.4.3 in /Users/dimitriroulin/Library/Python/3.9/lib/python/site-packages (from huggingface-hub>=0.23.0->datasets) (4.12.2)\n",
      "Requirement already satisfied: charset-normalizer<4,>=2 in /Users/dimitriroulin/Library/Python/3.9/lib/python/site-packages (from requests>=2.32.2->datasets) (3.2.0)\n",
      "Requirement already satisfied: certifi>=2017.4.17 in /Users/dimitriroulin/Library/Python/3.9/lib/python/site-packages (from requests>=2.32.2->datasets) (2023.7.22)\n",
      "Requirement already satisfied: urllib3<3,>=1.21.1 in /Users/dimitriroulin/Library/Python/3.9/lib/python/site-packages (from requests>=2.32.2->datasets) (2.0.5)\n",
      "Requirement already satisfied: idna<4,>=2.5 in /Users/dimitriroulin/Library/Python/3.9/lib/python/site-packages (from requests>=2.32.2->datasets) (3.4)\n",
      "Requirement already satisfied: tzdata>=2022.7 in /Users/dimitriroulin/Library/Python/3.9/lib/python/site-packages (from pandas->datasets) (2024.2)\n",
      "Requirement already satisfied: pytz>=2020.1 in /Users/dimitriroulin/Library/Python/3.9/lib/python/site-packages (from pandas->datasets) (2024.2)\n",
      "Requirement already satisfied: python-dateutil>=2.8.2 in /Users/dimitriroulin/Library/Python/3.9/lib/python/site-packages (from pandas->datasets) (2.8.2)\n",
      "Requirement already satisfied: six>=1.5 in /Library/Developer/CommandLineTools/Library/Frameworks/Python3.framework/Versions/3.9/lib/python3.9/site-packages (from python-dateutil>=2.8.2->pandas->datasets) (1.15.0)\n",
      "\u001b[33mWARNING: You are using pip version 21.2.4; however, version 25.0 is available.\n",
      "You should consider upgrading via the '/Library/Developer/CommandLineTools/usr/bin/python3 -m pip install --upgrade pip' command.\u001b[0m\n",
      "Note: you may need to restart the kernel to use updated packages.\n",
      "Defaulting to user installation because normal site-packages is not writeable\n",
      "Requirement already satisfied: scikit-learn in /Users/dimitriroulin/Library/Python/3.9/lib/python/site-packages (1.6.0)\n",
      "Requirement already satisfied: threadpoolctl>=3.1.0 in /Users/dimitriroulin/Library/Python/3.9/lib/python/site-packages (from scikit-learn) (3.5.0)\n",
      "Requirement already satisfied: joblib>=1.2.0 in /Users/dimitriroulin/Library/Python/3.9/lib/python/site-packages (from scikit-learn) (1.4.2)\n",
      "Requirement already satisfied: scipy>=1.6.0 in /Users/dimitriroulin/Library/Python/3.9/lib/python/site-packages (from scikit-learn) (1.13.1)\n",
      "Requirement already satisfied: numpy>=1.19.5 in /Users/dimitriroulin/Library/Python/3.9/lib/python/site-packages (from scikit-learn) (2.0.2)\n",
      "\u001b[33mWARNING: You are using pip version 21.2.4; however, version 25.0 is available.\n",
      "You should consider upgrading via the '/Library/Developer/CommandLineTools/usr/bin/python3 -m pip install --upgrade pip' command.\u001b[0m\n",
      "Note: you may need to restart the kernel to use updated packages.\n",
      "Defaulting to user installation because normal site-packages is not writeable\n",
      "Requirement already satisfied: torch in /Users/dimitriroulin/Library/Python/3.9/lib/python/site-packages (2.5.1)\n",
      "Requirement already satisfied: networkx in /Users/dimitriroulin/Library/Python/3.9/lib/python/site-packages (from torch) (3.2.1)\n",
      "Requirement already satisfied: sympy==1.13.1 in /Users/dimitriroulin/Library/Python/3.9/lib/python/site-packages (from torch) (1.13.1)\n",
      "Requirement already satisfied: jinja2 in /Users/dimitriroulin/Library/Python/3.9/lib/python/site-packages (from torch) (3.1.2)\n",
      "Requirement already satisfied: fsspec in /Users/dimitriroulin/Library/Python/3.9/lib/python/site-packages (from torch) (2024.9.0)\n",
      "Requirement already satisfied: typing-extensions>=4.8.0 in /Users/dimitriroulin/Library/Python/3.9/lib/python/site-packages (from torch) (4.12.2)\n",
      "Requirement already satisfied: filelock in /Users/dimitriroulin/Library/Python/3.9/lib/python/site-packages (from torch) (3.16.1)\n",
      "Requirement already satisfied: mpmath<1.4,>=1.1.0 in /Users/dimitriroulin/Library/Python/3.9/lib/python/site-packages (from sympy==1.13.1->torch) (1.3.0)\n",
      "Requirement already satisfied: MarkupSafe>=2.0 in /Users/dimitriroulin/Library/Python/3.9/lib/python/site-packages (from jinja2->torch) (2.1.3)\n",
      "\u001b[33mWARNING: You are using pip version 21.2.4; however, version 25.0 is available.\n",
      "You should consider upgrading via the '/Library/Developer/CommandLineTools/usr/bin/python3 -m pip install --upgrade pip' command.\u001b[0m\n",
      "Note: you may need to restart the kernel to use updated packages.\n",
      "Defaulting to user installation because normal site-packages is not writeable\n",
      "Requirement already satisfied: datasets in /Users/dimitriroulin/Library/Python/3.9/lib/python/site-packages (3.2.0)\n",
      "Requirement already satisfied: filelock in /Users/dimitriroulin/Library/Python/3.9/lib/python/site-packages (from datasets) (3.16.1)\n",
      "Requirement already satisfied: aiohttp in /Users/dimitriroulin/Library/Python/3.9/lib/python/site-packages (from datasets) (3.11.10)\n",
      "Requirement already satisfied: pyyaml>=5.1 in /Users/dimitriroulin/Library/Python/3.9/lib/python/site-packages (from datasets) (6.0.1)\n",
      "Requirement already satisfied: dill<0.3.9,>=0.3.0 in /Users/dimitriroulin/Library/Python/3.9/lib/python/site-packages (from datasets) (0.3.8)\n",
      "Requirement already satisfied: requests>=2.32.2 in /Users/dimitriroulin/Library/Python/3.9/lib/python/site-packages (from datasets) (2.32.3)\n",
      "Requirement already satisfied: numpy>=1.17 in /Users/dimitriroulin/Library/Python/3.9/lib/python/site-packages (from datasets) (2.0.2)\n",
      "Requirement already satisfied: xxhash in /Users/dimitriroulin/Library/Python/3.9/lib/python/site-packages (from datasets) (3.5.0)\n",
      "Requirement already satisfied: multiprocess<0.70.17 in /Users/dimitriroulin/Library/Python/3.9/lib/python/site-packages (from datasets) (0.70.16)\n",
      "Requirement already satisfied: huggingface-hub>=0.23.0 in /Users/dimitriroulin/Library/Python/3.9/lib/python/site-packages (from datasets) (0.26.5)\n",
      "Requirement already satisfied: tqdm>=4.66.3 in /Users/dimitriroulin/Library/Python/3.9/lib/python/site-packages (from datasets) (4.67.1)\n",
      "Requirement already satisfied: pandas in /Users/dimitriroulin/Library/Python/3.9/lib/python/site-packages (from datasets) (2.2.3)\n",
      "Requirement already satisfied: packaging in /Users/dimitriroulin/Library/Python/3.9/lib/python/site-packages (from datasets) (23.1)\n",
      "Requirement already satisfied: fsspec[http]<=2024.9.0,>=2023.1.0 in /Users/dimitriroulin/Library/Python/3.9/lib/python/site-packages (from datasets) (2024.9.0)\n",
      "Requirement already satisfied: pyarrow>=15.0.0 in /Users/dimitriroulin/Library/Python/3.9/lib/python/site-packages (from datasets) (18.1.0)\n",
      "Requirement already satisfied: aiosignal>=1.1.2 in /Users/dimitriroulin/Library/Python/3.9/lib/python/site-packages (from aiohttp->datasets) (1.3.1)\n",
      "Requirement already satisfied: propcache>=0.2.0 in /Users/dimitriroulin/Library/Python/3.9/lib/python/site-packages (from aiohttp->datasets) (0.2.1)\n",
      "Requirement already satisfied: frozenlist>=1.1.1 in /Users/dimitriroulin/Library/Python/3.9/lib/python/site-packages (from aiohttp->datasets) (1.5.0)\n",
      "Requirement already satisfied: async-timeout<6.0,>=4.0 in /Users/dimitriroulin/Library/Python/3.9/lib/python/site-packages (from aiohttp->datasets) (5.0.1)\n",
      "Requirement already satisfied: yarl<2.0,>=1.17.0 in /Users/dimitriroulin/Library/Python/3.9/lib/python/site-packages (from aiohttp->datasets) (1.18.3)\n",
      "Requirement already satisfied: multidict<7.0,>=4.5 in /Users/dimitriroulin/Library/Python/3.9/lib/python/site-packages (from aiohttp->datasets) (6.1.0)\n",
      "Requirement already satisfied: attrs>=17.3.0 in /Users/dimitriroulin/Library/Python/3.9/lib/python/site-packages (from aiohttp->datasets) (23.1.0)\n",
      "Requirement already satisfied: aiohappyeyeballs>=2.3.0 in /Users/dimitriroulin/Library/Python/3.9/lib/python/site-packages (from aiohttp->datasets) (2.4.4)\n",
      "Requirement already satisfied: typing-extensions>=3.7.4.3 in /Users/dimitriroulin/Library/Python/3.9/lib/python/site-packages (from huggingface-hub>=0.23.0->datasets) (4.12.2)\n",
      "Requirement already satisfied: certifi>=2017.4.17 in /Users/dimitriroulin/Library/Python/3.9/lib/python/site-packages (from requests>=2.32.2->datasets) (2023.7.22)\n",
      "Requirement already satisfied: idna<4,>=2.5 in /Users/dimitriroulin/Library/Python/3.9/lib/python/site-packages (from requests>=2.32.2->datasets) (3.4)\n",
      "Requirement already satisfied: charset-normalizer<4,>=2 in /Users/dimitriroulin/Library/Python/3.9/lib/python/site-packages (from requests>=2.32.2->datasets) (3.2.0)\n",
      "Requirement already satisfied: urllib3<3,>=1.21.1 in /Users/dimitriroulin/Library/Python/3.9/lib/python/site-packages (from requests>=2.32.2->datasets) (2.0.5)\n",
      "Requirement already satisfied: python-dateutil>=2.8.2 in /Users/dimitriroulin/Library/Python/3.9/lib/python/site-packages (from pandas->datasets) (2.8.2)\n",
      "Requirement already satisfied: pytz>=2020.1 in /Users/dimitriroulin/Library/Python/3.9/lib/python/site-packages (from pandas->datasets) (2024.2)\n",
      "Requirement already satisfied: tzdata>=2022.7 in /Users/dimitriroulin/Library/Python/3.9/lib/python/site-packages (from pandas->datasets) (2024.2)\n",
      "Requirement already satisfied: six>=1.5 in /Library/Developer/CommandLineTools/Library/Frameworks/Python3.framework/Versions/3.9/lib/python3.9/site-packages (from python-dateutil>=2.8.2->pandas->datasets) (1.15.0)\n",
      "\u001b[33mWARNING: You are using pip version 21.2.4; however, version 25.0 is available.\n",
      "You should consider upgrading via the '/Library/Developer/CommandLineTools/usr/bin/python3 -m pip install --upgrade pip' command.\u001b[0m\n",
      "Note: you may need to restart the kernel to use updated packages.\n",
      "Defaulting to user installation because normal site-packages is not writeable\n",
      "Requirement already satisfied: accelerate in /Users/dimitriroulin/Library/Python/3.9/lib/python/site-packages (1.2.0)\n",
      "Requirement already satisfied: packaging>=20.0 in /Users/dimitriroulin/Library/Python/3.9/lib/python/site-packages (from accelerate) (23.1)\n",
      "Requirement already satisfied: numpy<3.0.0,>=1.17 in /Users/dimitriroulin/Library/Python/3.9/lib/python/site-packages (from accelerate) (2.0.2)\n",
      "Requirement already satisfied: huggingface-hub>=0.21.0 in /Users/dimitriroulin/Library/Python/3.9/lib/python/site-packages (from accelerate) (0.26.5)\n",
      "Requirement already satisfied: safetensors>=0.4.3 in /Users/dimitriroulin/Library/Python/3.9/lib/python/site-packages (from accelerate) (0.4.5)\n",
      "Requirement already satisfied: psutil in /Users/dimitriroulin/Library/Python/3.9/lib/python/site-packages (from accelerate) (5.9.5)\n",
      "Requirement already satisfied: pyyaml in /Users/dimitriroulin/Library/Python/3.9/lib/python/site-packages (from accelerate) (6.0.1)\n",
      "Requirement already satisfied: torch>=1.10.0 in /Users/dimitriroulin/Library/Python/3.9/lib/python/site-packages (from accelerate) (2.5.1)\n",
      "Requirement already satisfied: requests in /Users/dimitriroulin/Library/Python/3.9/lib/python/site-packages (from huggingface-hub>=0.21.0->accelerate) (2.32.3)\n",
      "Requirement already satisfied: filelock in /Users/dimitriroulin/Library/Python/3.9/lib/python/site-packages (from huggingface-hub>=0.21.0->accelerate) (3.16.1)\n",
      "Requirement already satisfied: fsspec>=2023.5.0 in /Users/dimitriroulin/Library/Python/3.9/lib/python/site-packages (from huggingface-hub>=0.21.0->accelerate) (2024.9.0)\n",
      "Requirement already satisfied: tqdm>=4.42.1 in /Users/dimitriroulin/Library/Python/3.9/lib/python/site-packages (from huggingface-hub>=0.21.0->accelerate) (4.67.1)\n",
      "Requirement already satisfied: typing-extensions>=3.7.4.3 in /Users/dimitriroulin/Library/Python/3.9/lib/python/site-packages (from huggingface-hub>=0.21.0->accelerate) (4.12.2)\n",
      "Requirement already satisfied: jinja2 in /Users/dimitriroulin/Library/Python/3.9/lib/python/site-packages (from torch>=1.10.0->accelerate) (3.1.2)\n",
      "Requirement already satisfied: networkx in /Users/dimitriroulin/Library/Python/3.9/lib/python/site-packages (from torch>=1.10.0->accelerate) (3.2.1)\n",
      "Requirement already satisfied: sympy==1.13.1 in /Users/dimitriroulin/Library/Python/3.9/lib/python/site-packages (from torch>=1.10.0->accelerate) (1.13.1)\n",
      "Requirement already satisfied: mpmath<1.4,>=1.1.0 in /Users/dimitriroulin/Library/Python/3.9/lib/python/site-packages (from sympy==1.13.1->torch>=1.10.0->accelerate) (1.3.0)\n",
      "Requirement already satisfied: MarkupSafe>=2.0 in /Users/dimitriroulin/Library/Python/3.9/lib/python/site-packages (from jinja2->torch>=1.10.0->accelerate) (2.1.3)\n",
      "Requirement already satisfied: certifi>=2017.4.17 in /Users/dimitriroulin/Library/Python/3.9/lib/python/site-packages (from requests->huggingface-hub>=0.21.0->accelerate) (2023.7.22)\n",
      "Requirement already satisfied: charset-normalizer<4,>=2 in /Users/dimitriroulin/Library/Python/3.9/lib/python/site-packages (from requests->huggingface-hub>=0.21.0->accelerate) (3.2.0)\n",
      "Requirement already satisfied: urllib3<3,>=1.21.1 in /Users/dimitriroulin/Library/Python/3.9/lib/python/site-packages (from requests->huggingface-hub>=0.21.0->accelerate) (2.0.5)\n",
      "Requirement already satisfied: idna<4,>=2.5 in /Users/dimitriroulin/Library/Python/3.9/lib/python/site-packages (from requests->huggingface-hub>=0.21.0->accelerate) (3.4)\n",
      "\u001b[33mWARNING: You are using pip version 21.2.4; however, version 25.0 is available.\n",
      "You should consider upgrading via the '/Library/Developer/CommandLineTools/usr/bin/python3 -m pip install --upgrade pip' command.\u001b[0m\n",
      "Note: you may need to restart the kernel to use updated packages.\n"
     ]
    }
   ],
   "source": [
    "%pip install transformers \n",
    "%pip install datasets \n",
    "%pip install scikit-learn\n",
    "%pip install torch\n",
    "%pip install datasets\n",
    "%pip install accelerate"
   ]
  },
  {
   "cell_type": "markdown",
   "metadata": {},
   "source": [
    "### **1. Loading the Data**\n",
    "In this part, we load the dataset from a CSV file and preprocess it. We also convert the difficulty levels into numeric labels for classification."
   ]
  },
  {
   "cell_type": "code",
   "execution_count": 2,
   "metadata": {},
   "outputs": [
    {
     "name": "stderr",
     "output_type": "stream",
     "text": [
      "/Users/dimitriroulin/Library/Python/3.9/lib/python/site-packages/urllib3/__init__.py:34: NotOpenSSLWarning: urllib3 v2.0 only supports OpenSSL 1.1.1+, currently the 'ssl' module is compiled with 'LibreSSL 2.8.3'. See: https://github.com/urllib3/urllib3/issues/3020\n",
      "  warnings.warn(\n"
     ]
    },
    {
     "data": {
      "text/html": [
       "<div>\n",
       "<style scoped>\n",
       "    .dataframe tbody tr th:only-of-type {\n",
       "        vertical-align: middle;\n",
       "    }\n",
       "\n",
       "    .dataframe tbody tr th {\n",
       "        vertical-align: top;\n",
       "    }\n",
       "\n",
       "    .dataframe thead th {\n",
       "        text-align: right;\n",
       "    }\n",
       "</style>\n",
       "<table border=\"1\" class=\"dataframe\">\n",
       "  <thead>\n",
       "    <tr style=\"text-align: right;\">\n",
       "      <th></th>\n",
       "      <th>sentence</th>\n",
       "      <th>difficulty</th>\n",
       "      <th>sentence_length</th>\n",
       "      <th>difficulty_label</th>\n",
       "    </tr>\n",
       "  </thead>\n",
       "  <tbody>\n",
       "    <tr>\n",
       "      <th>0</th>\n",
       "      <td>Der Tierarzt sieht den Vogel an.</td>\n",
       "      <td>0</td>\n",
       "      <td>6</td>\n",
       "      <td>A1</td>\n",
       "    </tr>\n",
       "    <tr>\n",
       "      <th>1</th>\n",
       "      <td>Schönen Merlan mitnehmen hier, für zehn Euro h...</td>\n",
       "      <td>0</td>\n",
       "      <td>8</td>\n",
       "      <td>A1</td>\n",
       "    </tr>\n",
       "    <tr>\n",
       "      <th>2</th>\n",
       "      <td>Das wollen sie feiern.</td>\n",
       "      <td>0</td>\n",
       "      <td>4</td>\n",
       "      <td>A1</td>\n",
       "    </tr>\n",
       "    <tr>\n",
       "      <th>3</th>\n",
       "      <td>Sie kommt heute mit.</td>\n",
       "      <td>0</td>\n",
       "      <td>4</td>\n",
       "      <td>A1</td>\n",
       "    </tr>\n",
       "    <tr>\n",
       "      <th>4</th>\n",
       "      <td>Lena legt die Tasche auf den Boden.</td>\n",
       "      <td>0</td>\n",
       "      <td>7</td>\n",
       "      <td>A1</td>\n",
       "    </tr>\n",
       "    <tr>\n",
       "      <th>5</th>\n",
       "      <td>Alexander geht in sein Zimmer.</td>\n",
       "      <td>0</td>\n",
       "      <td>5</td>\n",
       "      <td>A1</td>\n",
       "    </tr>\n",
       "    <tr>\n",
       "      <th>6</th>\n",
       "      <td>Eine Polizistin öffnet die Tür.</td>\n",
       "      <td>0</td>\n",
       "      <td>5</td>\n",
       "      <td>A1</td>\n",
       "    </tr>\n",
       "    <tr>\n",
       "      <th>7</th>\n",
       "      <td>„Ich höre etwas.</td>\n",
       "      <td>0</td>\n",
       "      <td>3</td>\n",
       "      <td>A1</td>\n",
       "    </tr>\n",
       "    <tr>\n",
       "      <th>8</th>\n",
       "      <td>Manchmal haben die Kunden eine Frage.</td>\n",
       "      <td>0</td>\n",
       "      <td>6</td>\n",
       "      <td>A1</td>\n",
       "    </tr>\n",
       "    <tr>\n",
       "      <th>9</th>\n",
       "      <td>Oder können Sie backen?</td>\n",
       "      <td>0</td>\n",
       "      <td>4</td>\n",
       "      <td>A1</td>\n",
       "    </tr>\n",
       "  </tbody>\n",
       "</table>\n",
       "</div>"
      ],
      "text/plain": [
       "                                            sentence  difficulty  \\\n",
       "0                   Der Tierarzt sieht den Vogel an.           0   \n",
       "1  Schönen Merlan mitnehmen hier, für zehn Euro h...           0   \n",
       "2                             Das wollen sie feiern.           0   \n",
       "3                               Sie kommt heute mit.           0   \n",
       "4                Lena legt die Tasche auf den Boden.           0   \n",
       "5                     Alexander geht in sein Zimmer.           0   \n",
       "6                    Eine Polizistin öffnet die Tür.           0   \n",
       "7                                   „Ich höre etwas.           0   \n",
       "8              Manchmal haben die Kunden eine Frage.           0   \n",
       "9                            Oder können Sie backen?           0   \n",
       "\n",
       "   sentence_length difficulty_label  \n",
       "0                6               A1  \n",
       "1                8               A1  \n",
       "2                4               A1  \n",
       "3                4               A1  \n",
       "4                7               A1  \n",
       "5                5               A1  \n",
       "6                5               A1  \n",
       "7                3               A1  \n",
       "8                6               A1  \n",
       "9                4               A1  "
      ]
     },
     "metadata": {},
     "output_type": "display_data"
    },
    {
     "data": {
      "text/plain": [
       "difficulty\n",
       "0    643\n",
       "1    643\n",
       "2    643\n",
       "3    643\n",
       "4    643\n",
       "5    643\n",
       "Name: count, dtype: int64"
      ]
     },
     "execution_count": 2,
     "metadata": {},
     "output_type": "execute_result"
    }
   ],
   "source": [
    "import pandas as pd\n",
    "from sklearn.model_selection import train_test_split\n",
    "from datasets import Dataset, DatasetDict\n",
    "\n",
    "file_path = \"./Data/combined_balanced_CEFR_sentences_augmented.csv\"\n",
    "\n",
    "# Load your dataset\n",
    "data = pd.read_csv(file_path)\n",
    "\n",
    "# Create a new coloumn to store the difficulty labels\n",
    "data[\"difficulty_label\"] = data[\"difficulty\"]\n",
    "\n",
    "# Convert difficulty column to numeric labels\n",
    "data[\"difficulty\"] = data[\"difficulty\"].astype(\"category\").cat.codes\n",
    "\n",
    "# Display the first few rows of the dataset\n",
    "display(data.head(10))\n",
    "\n",
    "# Display the number of samples in each difficulty category\n",
    "data[\"difficulty\"].value_counts()"
   ]
  },
  {
   "cell_type": "markdown",
   "metadata": {},
   "source": [
    "### **2. Splitting the Dataset**\n",
    "Here, we split the dataset into training, test sets using an 80%-20% split. Stratification ensures that class distribution is preserved across splits."
   ]
  },
  {
   "cell_type": "code",
   "execution_count": 3,
   "metadata": {},
   "outputs": [
    {
     "name": "stdout",
     "output_type": "stream",
     "text": [
      "Train size: 3086\n",
      "Test size: 772\n"
     ]
    }
   ],
   "source": [
    "# Split the data into train (70%), validation (20%), and test (10%)\n",
    "train_data, test_data = train_test_split(data, test_size=0.2, stratify=data[\"difficulty\"], random_state=42)\n",
    "\n",
    "\n",
    "print(f\"Train size: {len(train_data)}\")\n",
    "print(f\"Test size: {len(test_data)}\")"
   ]
  },
  {
   "cell_type": "markdown",
   "metadata": {},
   "source": [
    "\n",
    "### **3. Preparing the Hugging Face Dataset**\n",
    "In this step, we convert the dataset into the Hugging Face `Dataset` format and create a `DatasetDict` for easier handling in the `transformers` library."
   ]
  },
  {
   "cell_type": "code",
   "execution_count": 4,
   "metadata": {},
   "outputs": [
    {
     "name": "stdout",
     "output_type": "stream",
     "text": [
      "DatasetDict({\n",
      "    train: Dataset({\n",
      "        features: ['sentence', 'difficulty', 'sentence_length', 'difficulty_label', '__index_level_0__'],\n",
      "        num_rows: 3086\n",
      "    })\n",
      "    test: Dataset({\n",
      "        features: ['sentence', 'difficulty', 'sentence_length', 'difficulty_label', '__index_level_0__'],\n",
      "        num_rows: 772\n",
      "    })\n",
      "})\n"
     ]
    }
   ],
   "source": [
    "# Convert to Hugging Face Dataset format\n",
    "test_dataset = Dataset.from_pandas(test_data)\n",
    "train_dataset = Dataset.from_pandas(train_data)\n",
    "\n",
    "# Create a DatasetDict\n",
    "dataset = DatasetDict({\n",
    "    \"train\": train_dataset,\n",
    "    \"test\": test_dataset\n",
    "})\n",
    "\n",
    "print(dataset)"
   ]
  },
  {
   "cell_type": "markdown",
   "metadata": {},
   "source": [
    "\n",
    "### **4. Tokenizing the Dataset**\n",
    "Here, we load the tokenizer for `xlm-roberta-base` and tokenize the sentences. We also assign numeric labels for classification."
   ]
  },
  {
   "cell_type": "code",
   "execution_count": 5,
   "metadata": {},
   "outputs": [
    {
     "data": {
      "application/vnd.jupyter.widget-view+json": {
       "model_id": "001dca9d434e43fda55a86c9219143e1",
       "version_major": 2,
       "version_minor": 0
      },
      "text/plain": [
       "Map (num_proc=4):   0%|          | 0/3086 [00:00<?, ? examples/s]"
      ]
     },
     "metadata": {},
     "output_type": "display_data"
    },
    {
     "data": {
      "application/vnd.jupyter.widget-view+json": {
       "model_id": "4dfa9d46007d48938beb69b527d39e2b",
       "version_major": 2,
       "version_minor": 0
      },
      "text/plain": [
       "Map (num_proc=4):   0%|          | 0/772 [00:00<?, ? examples/s]"
      ]
     },
     "metadata": {},
     "output_type": "display_data"
    },
    {
     "name": "stdout",
     "output_type": "stream",
     "text": [
      "{'sentence': 'Statt an der Beleuchtung zu sparen, sie zu reduzieren, wird immer noch mehr Licht verbraucht – unter anderem auch durch besondere Veranstaltungen.', 'difficulty': 4, 'sentence_length': 22, 'difficulty_label': 'C1', '__index_level_0__': 3161, 'input_ids': [0, 23888, 18, 142, 122, 120712, 34, 99513, 404, 146016, 4, 1329, 404, 123731, 4921, 4, 1880, 3807, 1838, 2772, 49300, 6, 174317, 18, 46, 3993, 77592, 921, 3471, 47276, 110940, 5, 2, 1, 1, 1, 1, 1, 1, 1, 1, 1, 1, 1, 1, 1, 1, 1, 1, 1, 1, 1, 1, 1, 1, 1, 1, 1, 1, 1, 1, 1, 1, 1, 1, 1, 1, 1, 1, 1, 1, 1, 1, 1, 1, 1, 1, 1, 1, 1, 1, 1, 1, 1, 1, 1, 1, 1, 1, 1, 1, 1, 1, 1, 1, 1, 1, 1, 1, 1, 1, 1, 1, 1, 1, 1, 1, 1, 1, 1, 1, 1, 1, 1, 1, 1, 1, 1, 1, 1, 1, 1, 1, 1, 1, 1, 1, 1], 'attention_mask': [1, 1, 1, 1, 1, 1, 1, 1, 1, 1, 1, 1, 1, 1, 1, 1, 1, 1, 1, 1, 1, 1, 1, 1, 1, 1, 1, 1, 1, 1, 1, 1, 1, 0, 0, 0, 0, 0, 0, 0, 0, 0, 0, 0, 0, 0, 0, 0, 0, 0, 0, 0, 0, 0, 0, 0, 0, 0, 0, 0, 0, 0, 0, 0, 0, 0, 0, 0, 0, 0, 0, 0, 0, 0, 0, 0, 0, 0, 0, 0, 0, 0, 0, 0, 0, 0, 0, 0, 0, 0, 0, 0, 0, 0, 0, 0, 0, 0, 0, 0, 0, 0, 0, 0, 0, 0, 0, 0, 0, 0, 0, 0, 0, 0, 0, 0, 0, 0, 0, 0, 0, 0, 0, 0, 0, 0, 0, 0], 'labels': 4}\n"
     ]
    }
   ],
   "source": [
    "from transformers import AutoTokenizer\n",
    "\n",
    "# Load the tokenizer\n",
    "tokenizer = AutoTokenizer.from_pretrained(\"xlm-roberta-base\")\n",
    "\n",
    "# Tokenize the dataset and add the `labels` field\n",
    "def tokenize_function(examples):\n",
    "    tokenized_inputs = tokenizer(\n",
    "        examples[\"sentence\"],\n",
    "        padding=\"max_length\",\n",
    "        truncation=True,\n",
    "        max_length=128\n",
    "    )\n",
    "    # Assign numeric labels\n",
    "    tokenized_inputs[\"labels\"] = examples[\"difficulty\"]\n",
    "    return tokenized_inputs\n",
    "\n",
    "# Tokenize the dataset\n",
    "tokenized_datasets = dataset.map(tokenize_function, batched=True, num_proc=4)  # Use 4 processes\n",
    "\n",
    "\n",
    "# Debugging: Check tokenized dataset\n",
    "print(tokenized_datasets[\"train\"][0])"
   ]
  },
  {
   "cell_type": "markdown",
   "metadata": {},
   "source": [
    "\n",
    "### **5. Loading the Model**\n",
    "In this step, we load the pre-trained `xlm-roberta-base` model and prepare it for sequence classification by specifying the number of labels."
   ]
  },
  {
   "cell_type": "code",
   "execution_count": 6,
   "metadata": {},
   "outputs": [
    {
     "name": "stdout",
     "output_type": "stream",
     "text": [
      "Using device: mps\n"
     ]
    }
   ],
   "source": [
    "import torch\n",
    "device = torch.device(\"mps\") if torch.backends.mps.is_available() else torch.device(\"cpu\")\n",
    "print(f\"Using device: {device}\")\n"
   ]
  },
  {
   "cell_type": "code",
   "execution_count": 7,
   "metadata": {},
   "outputs": [
    {
     "name": "stdout",
     "output_type": "stream",
     "text": [
      "Number of classes: 6\n"
     ]
    },
    {
     "name": "stderr",
     "output_type": "stream",
     "text": [
      "Some weights of XLMRobertaForSequenceClassification were not initialized from the model checkpoint at xlm-roberta-base and are newly initialized: ['classifier.dense.bias', 'classifier.dense.weight', 'classifier.out_proj.bias', 'classifier.out_proj.weight']\n",
      "You should probably TRAIN this model on a down-stream task to be able to use it for predictions and inference.\n"
     ]
    },
    {
     "data": {
      "text/plain": [
       "XLMRobertaForSequenceClassification(\n",
       "  (roberta): XLMRobertaModel(\n",
       "    (embeddings): XLMRobertaEmbeddings(\n",
       "      (word_embeddings): Embedding(250002, 768, padding_idx=1)\n",
       "      (position_embeddings): Embedding(514, 768, padding_idx=1)\n",
       "      (token_type_embeddings): Embedding(1, 768)\n",
       "      (LayerNorm): LayerNorm((768,), eps=1e-05, elementwise_affine=True)\n",
       "      (dropout): Dropout(p=0.1, inplace=False)\n",
       "    )\n",
       "    (encoder): XLMRobertaEncoder(\n",
       "      (layer): ModuleList(\n",
       "        (0-11): 12 x XLMRobertaLayer(\n",
       "          (attention): XLMRobertaAttention(\n",
       "            (self): XLMRobertaSdpaSelfAttention(\n",
       "              (query): Linear(in_features=768, out_features=768, bias=True)\n",
       "              (key): Linear(in_features=768, out_features=768, bias=True)\n",
       "              (value): Linear(in_features=768, out_features=768, bias=True)\n",
       "              (dropout): Dropout(p=0.1, inplace=False)\n",
       "            )\n",
       "            (output): XLMRobertaSelfOutput(\n",
       "              (dense): Linear(in_features=768, out_features=768, bias=True)\n",
       "              (LayerNorm): LayerNorm((768,), eps=1e-05, elementwise_affine=True)\n",
       "              (dropout): Dropout(p=0.1, inplace=False)\n",
       "            )\n",
       "          )\n",
       "          (intermediate): XLMRobertaIntermediate(\n",
       "            (dense): Linear(in_features=768, out_features=3072, bias=True)\n",
       "            (intermediate_act_fn): GELUActivation()\n",
       "          )\n",
       "          (output): XLMRobertaOutput(\n",
       "            (dense): Linear(in_features=3072, out_features=768, bias=True)\n",
       "            (LayerNorm): LayerNorm((768,), eps=1e-05, elementwise_affine=True)\n",
       "            (dropout): Dropout(p=0.1, inplace=False)\n",
       "          )\n",
       "        )\n",
       "      )\n",
       "    )\n",
       "  )\n",
       "  (classifier): XLMRobertaClassificationHead(\n",
       "    (dense): Linear(in_features=768, out_features=768, bias=True)\n",
       "    (dropout): Dropout(p=0.1, inplace=False)\n",
       "    (out_proj): Linear(in_features=768, out_features=6, bias=True)\n",
       "  )\n",
       ")"
      ]
     },
     "execution_count": 7,
     "metadata": {},
     "output_type": "execute_result"
    }
   ],
   "source": [
    "from transformers import AutoModelForSequenceClassification\n",
    "\n",
    "# Define the number of classes\n",
    "num_classes = len(data[\"difficulty\"].unique())\n",
    "print(f\"Number of classes: {num_classes}\")\n",
    "\n",
    "# Load the model\n",
    "model = AutoModelForSequenceClassification.from_pretrained(\"xlm-roberta-base\", num_labels=num_classes)\n",
    "\n",
    "model.to(device) # Move the model to the device"
   ]
  },
  {
   "cell_type": "markdown",
   "metadata": {},
   "source": [
    "\n",
    "### **6. Setting Up the Trainer**\n",
    "We define the training arguments and initialize the `Trainer` class, which manages the fine-tuning process. Early stopping is implemented to prevent overfitting.\n"
   ]
  },
  {
   "cell_type": "code",
   "execution_count": 8,
   "metadata": {},
   "outputs": [
    {
     "name": "stderr",
     "output_type": "stream",
     "text": [
      "/Users/dimitriroulin/Library/Python/3.9/lib/python/site-packages/transformers/training_args.py:1575: FutureWarning: `evaluation_strategy` is deprecated and will be removed in version 4.46 of 🤗 Transformers. Use `eval_strategy` instead\n",
      "  warnings.warn(\n",
      "/var/folders/wb/btfl8bv91b5c253kbpftk1940000gn/T/ipykernel_31659/4216458826.py:25: FutureWarning: `tokenizer` is deprecated and will be removed in version 5.0.0 for `Trainer.__init__`. Use `processing_class` instead.\n",
      "  trainer = Trainer(\n"
     ]
    }
   ],
   "source": [
    "from transformers import TrainingArguments, Trainer, DataCollatorWithPadding, EarlyStoppingCallback\n",
    "\n",
    "# Define a data collator for padding\n",
    "data_collator = DataCollatorWithPadding(tokenizer=tokenizer, padding=True)\n",
    "\n",
    "# Define training arguments\n",
    "training_args = TrainingArguments(\n",
    "    output_dir=\"./results\",\n",
    "    evaluation_strategy=\"epoch\",\n",
    "    save_strategy=\"epoch\",\n",
    "    learning_rate=1e-5,  # Adjusted learning rate\n",
    "    lr_scheduler_type=\"linear\",  # Gradually reduces learning rate\n",
    "    per_device_train_batch_size=8,\n",
    "    per_device_eval_batch_size=8,\n",
    "    num_train_epochs=10,\n",
    "    weight_decay=0.2,\n",
    "    logging_dir=\"./logs\",\n",
    "    logging_steps=10,\n",
    "    load_best_model_at_end=True,\n",
    "    gradient_accumulation_steps=2,\n",
    "    max_grad_norm=1.0,\n",
    ")\n",
    "\n",
    "# Initialize the Trainer\n",
    "trainer = Trainer(\n",
    "    model=model,\n",
    "    args=training_args,\n",
    "    train_dataset=tokenized_datasets[\"train\"],\n",
    "    eval_dataset=tokenized_datasets[\"test\"],\n",
    "    data_collator=data_collator,\n",
    "    tokenizer=tokenizer,\n",
    "    callbacks=[EarlyStoppingCallback(early_stopping_patience=2)],\n",
    ")\n"
   ]
  },
  {
   "cell_type": "markdown",
   "metadata": {},
   "source": [
    "### **7. Training the Model**\n",
    "Finally, we start the training process and fine-tune the model for the text classification task.\n"
   ]
  },
  {
   "cell_type": "code",
   "execution_count": 9,
   "metadata": {},
   "outputs": [
    {
     "data": {
      "application/vnd.jupyter.widget-view+json": {
       "model_id": "f5b56882522845bc8ff4fd8e6e7c03f1",
       "version_major": 2,
       "version_minor": 0
      },
      "text/plain": [
       "  0%|          | 0/1930 [00:00<?, ?it/s]"
      ]
     },
     "metadata": {},
     "output_type": "display_data"
    },
    {
     "name": "stdout",
     "output_type": "stream",
     "text": [
      "{'loss': 1.7906, 'grad_norm': 9.600916862487793, 'learning_rate': 9.94818652849741e-06, 'epoch': 0.05}\n",
      "{'loss': 1.7639, 'grad_norm': 9.440946578979492, 'learning_rate': 9.89637305699482e-06, 'epoch': 0.1}\n",
      "{'loss': 1.7578, 'grad_norm': 23.90666961669922, 'learning_rate': 9.844559585492228e-06, 'epoch': 0.16}\n",
      "{'loss': 1.7241, 'grad_norm': 16.594886779785156, 'learning_rate': 9.792746113989638e-06, 'epoch': 0.21}\n",
      "{'loss': 1.7028, 'grad_norm': 26.49236488342285, 'learning_rate': 9.740932642487048e-06, 'epoch': 0.26}\n",
      "{'loss': 1.7174, 'grad_norm': 8.896485328674316, 'learning_rate': 9.689119170984456e-06, 'epoch': 0.31}\n",
      "{'loss': 1.7388, 'grad_norm': 20.980154037475586, 'learning_rate': 9.637305699481867e-06, 'epoch': 0.36}\n",
      "{'loss': 1.7014, 'grad_norm': 13.355401039123535, 'learning_rate': 9.585492227979275e-06, 'epoch': 0.41}\n",
      "{'loss': 1.6979, 'grad_norm': 22.473539352416992, 'learning_rate': 9.533678756476683e-06, 'epoch': 0.47}\n",
      "{'loss': 1.6757, 'grad_norm': 13.961201667785645, 'learning_rate': 9.481865284974095e-06, 'epoch': 0.52}\n",
      "{'loss': 1.6656, 'grad_norm': 27.391695022583008, 'learning_rate': 9.430051813471504e-06, 'epoch': 0.57}\n",
      "{'loss': 1.6332, 'grad_norm': 25.151634216308594, 'learning_rate': 9.378238341968912e-06, 'epoch': 0.62}\n",
      "{'loss': 1.6316, 'grad_norm': 12.124152183532715, 'learning_rate': 9.326424870466322e-06, 'epoch': 0.67}\n",
      "{'loss': 1.6043, 'grad_norm': 21.472103118896484, 'learning_rate': 9.27461139896373e-06, 'epoch': 0.73}\n",
      "{'loss': 1.5491, 'grad_norm': 10.380127906799316, 'learning_rate': 9.22279792746114e-06, 'epoch': 0.78}\n",
      "{'loss': 1.523, 'grad_norm': 19.739736557006836, 'learning_rate': 9.17098445595855e-06, 'epoch': 0.83}\n",
      "{'loss': 1.494, 'grad_norm': 13.723631858825684, 'learning_rate': 9.11917098445596e-06, 'epoch': 0.88}\n",
      "{'loss': 1.4771, 'grad_norm': 22.14463233947754, 'learning_rate': 9.06735751295337e-06, 'epoch': 0.93}\n",
      "{'loss': 1.4053, 'grad_norm': 37.96813201904297, 'learning_rate': 9.015544041450778e-06, 'epoch': 0.98}\n"
     ]
    },
    {
     "data": {
      "application/vnd.jupyter.widget-view+json": {
       "model_id": "f82c8308ee05438298cdefc63de16f9e",
       "version_major": 2,
       "version_minor": 0
      },
      "text/plain": [
       "  0%|          | 0/97 [00:00<?, ?it/s]"
      ]
     },
     "metadata": {},
     "output_type": "display_data"
    },
    {
     "name": "stdout",
     "output_type": "stream",
     "text": [
      "{'eval_loss': 1.2012473344802856, 'eval_runtime': 11.7239, 'eval_samples_per_second': 65.849, 'eval_steps_per_second': 8.274, 'epoch': 1.0}\n",
      "{'loss': 1.3233, 'grad_norm': 25.772743225097656, 'learning_rate': 8.963730569948186e-06, 'epoch': 1.04}\n",
      "{'loss': 1.3361, 'grad_norm': 22.72627830505371, 'learning_rate': 8.911917098445596e-06, 'epoch': 1.09}\n",
      "{'loss': 1.1911, 'grad_norm': 27.571414947509766, 'learning_rate': 8.860103626943006e-06, 'epoch': 1.14}\n",
      "{'loss': 1.1992, 'grad_norm': 13.627890586853027, 'learning_rate': 8.808290155440415e-06, 'epoch': 1.19}\n",
      "{'loss': 1.3176, 'grad_norm': 25.30967140197754, 'learning_rate': 8.756476683937825e-06, 'epoch': 1.24}\n",
      "{'loss': 1.2344, 'grad_norm': 54.13368606567383, 'learning_rate': 8.704663212435233e-06, 'epoch': 1.3}\n",
      "{'loss': 1.2009, 'grad_norm': 38.21681213378906, 'learning_rate': 8.652849740932643e-06, 'epoch': 1.35}\n",
      "{'loss': 1.1804, 'grad_norm': 29.226886749267578, 'learning_rate': 8.601036269430052e-06, 'epoch': 1.4}\n",
      "{'loss': 1.1715, 'grad_norm': 30.6117000579834, 'learning_rate': 8.549222797927462e-06, 'epoch': 1.45}\n",
      "{'loss': 1.23, 'grad_norm': 28.873685836791992, 'learning_rate': 8.497409326424872e-06, 'epoch': 1.5}\n",
      "{'loss': 1.2179, 'grad_norm': 16.66381072998047, 'learning_rate': 8.44559585492228e-06, 'epoch': 1.55}\n",
      "{'loss': 1.1973, 'grad_norm': 32.668853759765625, 'learning_rate': 8.393782383419689e-06, 'epoch': 1.61}\n",
      "{'loss': 1.1416, 'grad_norm': 36.63051223754883, 'learning_rate': 8.341968911917099e-06, 'epoch': 1.66}\n",
      "{'loss': 1.1771, 'grad_norm': 26.735919952392578, 'learning_rate': 8.290155440414507e-06, 'epoch': 1.71}\n",
      "{'loss': 1.2346, 'grad_norm': 46.43336486816406, 'learning_rate': 8.238341968911918e-06, 'epoch': 1.76}\n",
      "{'loss': 1.0681, 'grad_norm': 42.196327209472656, 'learning_rate': 8.186528497409328e-06, 'epoch': 1.81}\n",
      "{'loss': 1.172, 'grad_norm': 35.28551483154297, 'learning_rate': 8.134715025906736e-06, 'epoch': 1.87}\n",
      "{'loss': 1.1447, 'grad_norm': 31.379499435424805, 'learning_rate': 8.082901554404146e-06, 'epoch': 1.92}\n",
      "{'loss': 1.1132, 'grad_norm': 22.859365463256836, 'learning_rate': 8.031088082901555e-06, 'epoch': 1.97}\n"
     ]
    },
    {
     "data": {
      "application/vnd.jupyter.widget-view+json": {
       "model_id": "cb15251e19dc4448be321e4715d0aa72",
       "version_major": 2,
       "version_minor": 0
      },
      "text/plain": [
       "  0%|          | 0/97 [00:00<?, ?it/s]"
      ]
     },
     "metadata": {},
     "output_type": "display_data"
    },
    {
     "name": "stdout",
     "output_type": "stream",
     "text": [
      "{'eval_loss': 1.0607843399047852, 'eval_runtime': 11.5864, 'eval_samples_per_second': 66.63, 'eval_steps_per_second': 8.372, 'epoch': 2.0}\n",
      "{'loss': 1.0892, 'grad_norm': 21.445819854736328, 'learning_rate': 7.979274611398965e-06, 'epoch': 2.02}\n",
      "{'loss': 1.0023, 'grad_norm': 19.91435432434082, 'learning_rate': 7.927461139896375e-06, 'epoch': 2.07}\n",
      "{'loss': 1.0348, 'grad_norm': 25.36688995361328, 'learning_rate': 7.875647668393783e-06, 'epoch': 2.12}\n",
      "{'loss': 1.1028, 'grad_norm': 33.86269760131836, 'learning_rate': 7.823834196891192e-06, 'epoch': 2.18}\n",
      "{'loss': 0.9441, 'grad_norm': 38.56136703491211, 'learning_rate': 7.772020725388602e-06, 'epoch': 2.23}\n",
      "{'loss': 1.09, 'grad_norm': 28.355907440185547, 'learning_rate': 7.72020725388601e-06, 'epoch': 2.28}\n",
      "{'loss': 0.947, 'grad_norm': 37.801536560058594, 'learning_rate': 7.66839378238342e-06, 'epoch': 2.33}\n",
      "{'loss': 1.0184, 'grad_norm': 35.01667785644531, 'learning_rate': 7.61658031088083e-06, 'epoch': 2.38}\n",
      "{'loss': 1.0309, 'grad_norm': 35.81910705566406, 'learning_rate': 7.564766839378239e-06, 'epoch': 2.44}\n",
      "{'loss': 0.9555, 'grad_norm': 42.93910217285156, 'learning_rate': 7.512953367875648e-06, 'epoch': 2.49}\n",
      "{'loss': 1.0922, 'grad_norm': 23.681598663330078, 'learning_rate': 7.461139896373057e-06, 'epoch': 2.54}\n",
      "{'loss': 1.0304, 'grad_norm': 36.70071029663086, 'learning_rate': 7.409326424870467e-06, 'epoch': 2.59}\n",
      "{'loss': 1.0518, 'grad_norm': 39.935203552246094, 'learning_rate': 7.357512953367876e-06, 'epoch': 2.64}\n",
      "{'loss': 1.0249, 'grad_norm': 49.5632209777832, 'learning_rate': 7.305699481865286e-06, 'epoch': 2.69}\n",
      "{'loss': 0.9212, 'grad_norm': 54.221527099609375, 'learning_rate': 7.253886010362695e-06, 'epoch': 2.75}\n",
      "{'loss': 0.9901, 'grad_norm': 47.25825881958008, 'learning_rate': 7.2020725388601045e-06, 'epoch': 2.8}\n",
      "{'loss': 0.9263, 'grad_norm': 35.34862518310547, 'learning_rate': 7.150259067357514e-06, 'epoch': 2.85}\n",
      "{'loss': 1.01, 'grad_norm': 50.25760269165039, 'learning_rate': 7.098445595854922e-06, 'epoch': 2.9}\n",
      "{'loss': 0.9579, 'grad_norm': 39.45991897583008, 'learning_rate': 7.0466321243523315e-06, 'epoch': 2.95}\n"
     ]
    },
    {
     "data": {
      "application/vnd.jupyter.widget-view+json": {
       "model_id": "82d4fc3b0dd34e768776337db05fdeca",
       "version_major": 2,
       "version_minor": 0
      },
      "text/plain": [
       "  0%|          | 0/97 [00:00<?, ?it/s]"
      ]
     },
     "metadata": {},
     "output_type": "display_data"
    },
    {
     "name": "stdout",
     "output_type": "stream",
     "text": [
      "{'eval_loss': 1.0714983940124512, 'eval_runtime': 11.6332, 'eval_samples_per_second': 66.362, 'eval_steps_per_second': 8.338, 'epoch': 3.0}\n",
      "{'loss': 0.9174, 'grad_norm': 28.846120834350586, 'learning_rate': 6.994818652849742e-06, 'epoch': 3.01}\n",
      "{'loss': 0.8409, 'grad_norm': 30.494192123413086, 'learning_rate': 6.943005181347151e-06, 'epoch': 3.06}\n",
      "{'loss': 0.8551, 'grad_norm': 32.671607971191406, 'learning_rate': 6.89119170984456e-06, 'epoch': 3.11}\n",
      "{'loss': 0.9451, 'grad_norm': 24.025285720825195, 'learning_rate': 6.839378238341969e-06, 'epoch': 3.16}\n",
      "{'loss': 0.8448, 'grad_norm': 38.77255630493164, 'learning_rate': 6.787564766839379e-06, 'epoch': 3.21}\n",
      "{'loss': 0.8159, 'grad_norm': 36.89961624145508, 'learning_rate': 6.735751295336788e-06, 'epoch': 3.26}\n",
      "{'loss': 0.9435, 'grad_norm': 51.146202087402344, 'learning_rate': 6.683937823834198e-06, 'epoch': 3.32}\n",
      "{'loss': 0.8074, 'grad_norm': 49.85143280029297, 'learning_rate': 6.632124352331607e-06, 'epoch': 3.37}\n",
      "{'loss': 0.87, 'grad_norm': 50.552677154541016, 'learning_rate': 6.5803108808290166e-06, 'epoch': 3.42}\n",
      "{'loss': 0.8578, 'grad_norm': 39.29961395263672, 'learning_rate': 6.528497409326425e-06, 'epoch': 3.47}\n",
      "{'loss': 0.9699, 'grad_norm': 50.250885009765625, 'learning_rate': 6.476683937823834e-06, 'epoch': 3.52}\n",
      "{'loss': 0.8333, 'grad_norm': 34.83414077758789, 'learning_rate': 6.4248704663212435e-06, 'epoch': 3.58}\n",
      "{'loss': 0.8523, 'grad_norm': 21.49705696105957, 'learning_rate': 6.373056994818654e-06, 'epoch': 3.63}\n",
      "{'loss': 0.96, 'grad_norm': 82.78219604492188, 'learning_rate': 6.321243523316063e-06, 'epoch': 3.68}\n",
      "{'loss': 1.0076, 'grad_norm': 36.58823013305664, 'learning_rate': 6.269430051813472e-06, 'epoch': 3.73}\n",
      "{'loss': 0.8687, 'grad_norm': 24.888019561767578, 'learning_rate': 6.217616580310881e-06, 'epoch': 3.78}\n",
      "{'loss': 0.9997, 'grad_norm': 74.67446899414062, 'learning_rate': 6.165803108808291e-06, 'epoch': 3.83}\n",
      "{'loss': 0.8736, 'grad_norm': 33.60308074951172, 'learning_rate': 6.113989637305699e-06, 'epoch': 3.89}\n",
      "{'loss': 0.8342, 'grad_norm': 125.75529479980469, 'learning_rate': 6.06217616580311e-06, 'epoch': 3.94}\n",
      "{'loss': 0.7911, 'grad_norm': 53.980873107910156, 'learning_rate': 6.0103626943005185e-06, 'epoch': 3.99}\n"
     ]
    },
    {
     "data": {
      "application/vnd.jupyter.widget-view+json": {
       "model_id": "4f1543d86ab24546ab9dfe6c3b0162d1",
       "version_major": 2,
       "version_minor": 0
      },
      "text/plain": [
       "  0%|          | 0/97 [00:00<?, ?it/s]"
      ]
     },
     "metadata": {},
     "output_type": "display_data"
    },
    {
     "name": "stdout",
     "output_type": "stream",
     "text": [
      "{'eval_loss': 0.9668022394180298, 'eval_runtime': 11.9814, 'eval_samples_per_second': 64.433, 'eval_steps_per_second': 8.096, 'epoch': 4.0}\n",
      "{'loss': 0.7796, 'grad_norm': 41.287357330322266, 'learning_rate': 5.958549222797928e-06, 'epoch': 4.04}\n",
      "{'loss': 0.8609, 'grad_norm': 54.57592010498047, 'learning_rate': 5.906735751295337e-06, 'epoch': 4.09}\n",
      "{'loss': 0.7241, 'grad_norm': 65.36079406738281, 'learning_rate': 5.854922279792746e-06, 'epoch': 4.15}\n",
      "{'loss': 0.804, 'grad_norm': 57.4383659362793, 'learning_rate': 5.8031088082901555e-06, 'epoch': 4.2}\n",
      "{'loss': 0.7413, 'grad_norm': 49.02407455444336, 'learning_rate': 5.751295336787566e-06, 'epoch': 4.25}\n",
      "{'loss': 0.8084, 'grad_norm': 62.54465103149414, 'learning_rate': 5.699481865284975e-06, 'epoch': 4.3}\n",
      "{'loss': 0.7353, 'grad_norm': 55.730369567871094, 'learning_rate': 5.647668393782384e-06, 'epoch': 4.35}\n",
      "{'loss': 0.7241, 'grad_norm': 64.19385528564453, 'learning_rate': 5.5958549222797934e-06, 'epoch': 4.4}\n",
      "{'loss': 0.7411, 'grad_norm': 39.64993667602539, 'learning_rate': 5.544041450777202e-06, 'epoch': 4.46}\n",
      "{'loss': 0.839, 'grad_norm': 42.92953872680664, 'learning_rate': 5.492227979274611e-06, 'epoch': 4.51}\n",
      "{'loss': 0.7417, 'grad_norm': 39.747737884521484, 'learning_rate': 5.440414507772021e-06, 'epoch': 4.56}\n",
      "{'loss': 0.7372, 'grad_norm': 38.70252990722656, 'learning_rate': 5.3886010362694305e-06, 'epoch': 4.61}\n",
      "{'loss': 0.7514, 'grad_norm': 66.94158935546875, 'learning_rate': 5.33678756476684e-06, 'epoch': 4.66}\n",
      "{'loss': 0.7172, 'grad_norm': 42.91715621948242, 'learning_rate': 5.284974093264249e-06, 'epoch': 4.72}\n",
      "{'loss': 0.81, 'grad_norm': 62.397064208984375, 'learning_rate': 5.233160621761658e-06, 'epoch': 4.77}\n",
      "{'loss': 0.7518, 'grad_norm': 56.89211654663086, 'learning_rate': 5.1813471502590676e-06, 'epoch': 4.82}\n",
      "{'loss': 0.768, 'grad_norm': 50.16315841674805, 'learning_rate': 5.129533678756478e-06, 'epoch': 4.87}\n",
      "{'loss': 0.772, 'grad_norm': 52.49983596801758, 'learning_rate': 5.077720207253887e-06, 'epoch': 4.92}\n",
      "{'loss': 0.8402, 'grad_norm': 63.06552505493164, 'learning_rate': 5.025906735751296e-06, 'epoch': 4.97}\n"
     ]
    },
    {
     "data": {
      "application/vnd.jupyter.widget-view+json": {
       "model_id": "d131c8e6c270489889b755110d06a899",
       "version_major": 2,
       "version_minor": 0
      },
      "text/plain": [
       "  0%|          | 0/97 [00:00<?, ?it/s]"
      ]
     },
     "metadata": {},
     "output_type": "display_data"
    },
    {
     "name": "stdout",
     "output_type": "stream",
     "text": [
      "{'eval_loss': 0.9608200192451477, 'eval_runtime': 16.2987, 'eval_samples_per_second': 47.366, 'eval_steps_per_second': 5.951, 'epoch': 5.0}\n",
      "{'loss': 0.6993, 'grad_norm': 81.75704956054688, 'learning_rate': 4.974093264248705e-06, 'epoch': 5.03}\n",
      "{'loss': 0.7178, 'grad_norm': 52.374290466308594, 'learning_rate': 4.922279792746114e-06, 'epoch': 5.08}\n",
      "{'loss': 0.7068, 'grad_norm': 75.71321868896484, 'learning_rate': 4.870466321243524e-06, 'epoch': 5.13}\n",
      "{'loss': 0.7135, 'grad_norm': 58.06755447387695, 'learning_rate': 4.818652849740933e-06, 'epoch': 5.18}\n",
      "{'loss': 0.8044, 'grad_norm': 56.12921142578125, 'learning_rate': 4.766839378238342e-06, 'epoch': 5.23}\n",
      "{'loss': 0.7042, 'grad_norm': 80.63815307617188, 'learning_rate': 4.715025906735752e-06, 'epoch': 5.28}\n",
      "{'loss': 0.6746, 'grad_norm': 35.92673873901367, 'learning_rate': 4.663212435233161e-06, 'epoch': 5.34}\n",
      "{'loss': 0.692, 'grad_norm': 51.761260986328125, 'learning_rate': 4.61139896373057e-06, 'epoch': 5.39}\n",
      "{'loss': 0.6573, 'grad_norm': 39.84980773925781, 'learning_rate': 4.55958549222798e-06, 'epoch': 5.44}\n",
      "{'loss': 0.6915, 'grad_norm': 88.04432678222656, 'learning_rate': 4.507772020725389e-06, 'epoch': 5.49}\n",
      "{'loss': 0.7498, 'grad_norm': 53.26136779785156, 'learning_rate': 4.455958549222798e-06, 'epoch': 5.54}\n",
      "{'loss': 0.6762, 'grad_norm': 58.494972229003906, 'learning_rate': 4.404145077720207e-06, 'epoch': 5.6}\n",
      "{'loss': 0.6913, 'grad_norm': 43.77202606201172, 'learning_rate': 4.352331606217617e-06, 'epoch': 5.65}\n",
      "{'loss': 0.7019, 'grad_norm': 47.09623718261719, 'learning_rate': 4.300518134715026e-06, 'epoch': 5.7}\n",
      "{'loss': 0.7457, 'grad_norm': 38.6019172668457, 'learning_rate': 4.248704663212436e-06, 'epoch': 5.75}\n",
      "{'loss': 0.7576, 'grad_norm': 39.60751724243164, 'learning_rate': 4.1968911917098444e-06, 'epoch': 5.8}\n",
      "{'loss': 0.6289, 'grad_norm': 49.74070358276367, 'learning_rate': 4.145077720207254e-06, 'epoch': 5.85}\n",
      "{'loss': 0.6257, 'grad_norm': 32.2608642578125, 'learning_rate': 4.093264248704664e-06, 'epoch': 5.91}\n",
      "{'loss': 0.6578, 'grad_norm': 29.719181060791016, 'learning_rate': 4.041450777202073e-06, 'epoch': 5.96}\n"
     ]
    },
    {
     "data": {
      "application/vnd.jupyter.widget-view+json": {
       "model_id": "0e0c00d1617c4310971019366ea8c391",
       "version_major": 2,
       "version_minor": 0
      },
      "text/plain": [
       "  0%|          | 0/97 [00:00<?, ?it/s]"
      ]
     },
     "metadata": {},
     "output_type": "display_data"
    },
    {
     "name": "stdout",
     "output_type": "stream",
     "text": [
      "{'eval_loss': 1.0435266494750977, 'eval_runtime': 16.8829, 'eval_samples_per_second': 45.727, 'eval_steps_per_second': 5.745, 'epoch': 6.0}\n",
      "{'loss': 0.5484, 'grad_norm': 69.28083038330078, 'learning_rate': 3.989637305699482e-06, 'epoch': 6.01}\n",
      "{'loss': 0.6455, 'grad_norm': 34.2202262878418, 'learning_rate': 3.937823834196892e-06, 'epoch': 6.06}\n",
      "{'loss': 0.6731, 'grad_norm': 43.49146270751953, 'learning_rate': 3.886010362694301e-06, 'epoch': 6.11}\n",
      "{'loss': 0.6346, 'grad_norm': 44.354251861572266, 'learning_rate': 3.83419689119171e-06, 'epoch': 6.17}\n",
      "{'loss': 0.6945, 'grad_norm': 47.873291015625, 'learning_rate': 3.7823834196891194e-06, 'epoch': 6.22}\n",
      "{'loss': 0.6038, 'grad_norm': 90.13914489746094, 'learning_rate': 3.7305699481865287e-06, 'epoch': 6.27}\n",
      "{'loss': 0.6535, 'grad_norm': 38.02073669433594, 'learning_rate': 3.678756476683938e-06, 'epoch': 6.32}\n",
      "{'loss': 0.5462, 'grad_norm': 51.99171447753906, 'learning_rate': 3.6269430051813476e-06, 'epoch': 6.37}\n",
      "{'loss': 0.7111, 'grad_norm': 84.97008514404297, 'learning_rate': 3.575129533678757e-06, 'epoch': 6.42}\n",
      "{'loss': 0.5909, 'grad_norm': 51.88740539550781, 'learning_rate': 3.5233160621761657e-06, 'epoch': 6.48}\n",
      "{'loss': 0.6291, 'grad_norm': 47.324951171875, 'learning_rate': 3.4715025906735754e-06, 'epoch': 6.53}\n",
      "{'loss': 0.5656, 'grad_norm': 54.23920440673828, 'learning_rate': 3.4196891191709847e-06, 'epoch': 6.58}\n",
      "{'loss': 0.6418, 'grad_norm': 80.88228607177734, 'learning_rate': 3.367875647668394e-06, 'epoch': 6.63}\n",
      "{'loss': 0.5866, 'grad_norm': 55.41324996948242, 'learning_rate': 3.3160621761658036e-06, 'epoch': 6.68}\n",
      "{'loss': 0.5999, 'grad_norm': 27.14337158203125, 'learning_rate': 3.2642487046632125e-06, 'epoch': 6.74}\n",
      "{'loss': 0.5827, 'grad_norm': 26.523372650146484, 'learning_rate': 3.2124352331606218e-06, 'epoch': 6.79}\n",
      "{'loss': 0.6125, 'grad_norm': 54.201194763183594, 'learning_rate': 3.1606217616580314e-06, 'epoch': 6.84}\n",
      "{'loss': 0.5127, 'grad_norm': 47.27967834472656, 'learning_rate': 3.1088082901554407e-06, 'epoch': 6.89}\n",
      "{'loss': 0.6051, 'grad_norm': 36.93560791015625, 'learning_rate': 3.0569948186528495e-06, 'epoch': 6.94}\n",
      "{'loss': 0.655, 'grad_norm': 61.39729309082031, 'learning_rate': 3.0051813471502592e-06, 'epoch': 6.99}\n"
     ]
    },
    {
     "data": {
      "application/vnd.jupyter.widget-view+json": {
       "model_id": "d9754b9b221349d583d94d1672ad6ef4",
       "version_major": 2,
       "version_minor": 0
      },
      "text/plain": [
       "  0%|          | 0/97 [00:00<?, ?it/s]"
      ]
     },
     "metadata": {},
     "output_type": "display_data"
    },
    {
     "name": "stdout",
     "output_type": "stream",
     "text": [
      "{'eval_loss': 1.0229263305664062, 'eval_runtime': 16.8978, 'eval_samples_per_second': 45.686, 'eval_steps_per_second': 5.74, 'epoch': 7.0}\n",
      "{'train_runtime': 2077.3044, 'train_samples_per_second': 14.856, 'train_steps_per_second': 0.929, 'train_loss': 0.971856124484036, 'epoch': 7.0}\n"
     ]
    },
    {
     "data": {
      "text/plain": [
       "TrainOutput(global_step=1351, training_loss=0.971856124484036, metrics={'train_runtime': 2077.3044, 'train_samples_per_second': 14.856, 'train_steps_per_second': 0.929, 'total_flos': 1420982286345216.0, 'train_loss': 0.971856124484036, 'epoch': 7.0})"
      ]
     },
     "execution_count": 9,
     "metadata": {},
     "output_type": "execute_result"
    }
   ],
   "source": [
    "# Train the model\n",
    "trainer.train()"
   ]
  },
  {
   "cell_type": "markdown",
   "metadata": {},
   "source": [
    "### **8. Evaluating the Model**\n",
    "Evaluate the model on the test set to check its performance using metrics like accuracy, precision, recall, and F1-score."
   ]
  },
  {
   "cell_type": "code",
   "execution_count": 10,
   "metadata": {},
   "outputs": [
    {
     "data": {
      "application/vnd.jupyter.widget-view+json": {
       "model_id": "b588bada826f444fbf367f49d17dccf5",
       "version_major": 2,
       "version_minor": 0
      },
      "text/plain": [
       "  0%|          | 0/97 [00:00<?, ?it/s]"
      ]
     },
     "metadata": {},
     "output_type": "display_data"
    },
    {
     "name": "stdout",
     "output_type": "stream",
     "text": [
      "{'eval_loss': 0.9608200192451477, 'eval_runtime': 11.6328, 'eval_samples_per_second': 66.364, 'eval_steps_per_second': 8.338, 'epoch': 7.0}\n"
     ]
    },
    {
     "data": {
      "application/vnd.jupyter.widget-view+json": {
       "model_id": "0ebbfac95c034a7c9405f6a4c722a2b0",
       "version_major": 2,
       "version_minor": 0
      },
      "text/plain": [
       "  0%|          | 0/97 [00:00<?, ?it/s]"
      ]
     },
     "metadata": {},
     "output_type": "display_data"
    },
    {
     "name": "stdout",
     "output_type": "stream",
     "text": [
      "              precision    recall  f1-score   support\n",
      "\n",
      "           0       0.69      0.92      0.79       128\n",
      "           1       0.58      0.50      0.54       128\n",
      "           2       0.59      0.61      0.60       129\n",
      "           3       0.52      0.42      0.47       129\n",
      "           4       0.51      0.43      0.47       129\n",
      "           5       0.67      0.74      0.71       129\n",
      "\n",
      "    accuracy                           0.60       772\n",
      "   macro avg       0.59      0.61      0.59       772\n",
      "weighted avg       0.59      0.60      0.59       772\n",
      "\n"
     ]
    }
   ],
   "source": [
    "# Evaluate the model\n",
    "results = trainer.evaluate(tokenized_datasets[\"test\"])\n",
    "print(results)\n",
    "\n",
    "# Compute additional metrics if needed\n",
    "from sklearn.metrics import classification_report\n",
    "\n",
    "# Extract true labels (y_true) from the test dataset\n",
    "y_true = test_data[\"difficulty\"].tolist()  # Ensure it's a list of integers\n",
    "\n",
    "# Predict the labels using the trained model\n",
    "y_pred = trainer.predict(tokenized_datasets[\"test\"]).predictions.argmax(axis=-1)\n",
    "\n",
    "# Generate the classification report\n",
    "from sklearn.metrics import classification_report\n",
    "print(classification_report(y_true, y_pred))\n"
   ]
  },
  {
   "cell_type": "code",
   "execution_count": 11,
   "metadata": {},
   "outputs": [
    {
     "data": {
      "text/plain": [
       "<sklearn.metrics._plot.confusion_matrix.ConfusionMatrixDisplay at 0x31082e640>"
      ]
     },
     "execution_count": 11,
     "metadata": {},
     "output_type": "execute_result"
    },
    {
     "data": {
      "image/png": "[encoded data removed]",
      "text/plain": [
       "<Figure size 640x480 with 2 Axes>"
      ]
     },
     "metadata": {},
     "output_type": "display_data"
    }
   ],
   "source": [
    "from sklearn.metrics import confusion_matrix, ConfusionMatrixDisplay\n",
    "\n",
    "# Compute confusion matrix\n",
    "conf_matrix = confusion_matrix(y_true, y_pred)\n",
    "\n",
    "# Display confusion matrix\n",
    "disp = ConfusionMatrixDisplay(confusion_matrix=conf_matrix, display_labels=[\"A1\", \"A2\", \"B1\", \"B2\", \"C1\", \"C2\"])\n",
    "disp.plot(cmap=\"viridis\")\n"
   ]
  },
  {
   "cell_type": "code",
   "execution_count": 12,
   "metadata": {},
   "outputs": [
    {
     "data": {
      "text/plain": [
       "('./model/xlm-roberta-base-augmented-100-c2-ac-059/tokenizer_config.json',\n",
       " './model/xlm-roberta-base-augmented-100-c2-ac-059/special_tokens_map.json',\n",
       " './model/xlm-roberta-base-augmented-100-c2-ac-059/tokenizer.json')"
      ]
     },
     "execution_count": 12,
     "metadata": {},
     "output_type": "execute_result"
    }
   ],
   "source": [
    "model.save_pretrained(\"./model/xlm-roberta-base-augmented-100-c2-ac-059\")\n",
    "tokenizer.save_pretrained(\"./model/xlm-roberta-base-augmented-100-c2-ac-059\")"
   ]
  }
 ],
 "metadata": {
  "kernelspec": {
   "display_name": "Python 3",
   "language": "python",
   "name": "python3"
  },
  "language_info": {
   "codemirror_mode": {
    "name": "ipython",
    "version": 3
   },
   "file_extension": ".py",
   "mimetype": "text/x-python",
   "name": "python",
   "nbconvert_exporter": "python",
   "pygments_lexer": "ipython3",
   "version": "3.9.6"
  }
 },
 "nbformat": 4,
 "nbformat_minor": 2
}
