{
 "cells": [
  {
   "cell_type": "code",
   "execution_count": 1,
   "metadata": {},
   "outputs": [
    {
     "name": "stdout",
     "output_type": "stream",
     "text": [
      "Defaulting to user installation because normal site-packages is not writeable\n",
      "Requirement already satisfied: transformers in /Users/dimitriroulin/Library/Python/3.9/lib/python/site-packages (4.47.0)\n",
      "Requirement already satisfied: filelock in /Users/dimitriroulin/Library/Python/3.9/lib/python/site-packages (from transformers) (3.16.1)\n",
      "Requirement already satisfied: tqdm>=4.27 in /Users/dimitriroulin/Library/Python/3.9/lib/python/site-packages (from transformers) (4.67.1)\n",
      "Requirement already satisfied: pyyaml>=5.1 in /Users/dimitriroulin/Library/Python/3.9/lib/python/site-packages (from transformers) (6.0.1)\n",
      "Requirement already satisfied: packaging>=20.0 in /Users/dimitriroulin/Library/Python/3.9/lib/python/site-packages (from transformers) (23.1)\n",
      "Requirement already satisfied: huggingface-hub<1.0,>=0.24.0 in /Users/dimitriroulin/Library/Python/3.9/lib/python/site-packages (from transformers) (0.26.5)\n",
      "Requirement already satisfied: numpy>=1.17 in /Users/dimitriroulin/Library/Python/3.9/lib/python/site-packages (from transformers) (2.0.2)\n",
      "Requirement already satisfied: tokenizers<0.22,>=0.21 in /Users/dimitriroulin/Library/Python/3.9/lib/python/site-packages (from transformers) (0.21.0)\n",
      "Requirement already satisfied: safetensors>=0.4.1 in /Users/dimitriroulin/Library/Python/3.9/lib/python/site-packages (from transformers) (0.4.5)\n",
      "Requirement already satisfied: regex!=2019.12.17 in /Users/dimitriroulin/Library/Python/3.9/lib/python/site-packages (from transformers) (2024.11.6)\n",
      "Requirement already satisfied: requests in /Users/dimitriroulin/Library/Python/3.9/lib/python/site-packages (from transformers) (2.32.3)\n",
      "Requirement already satisfied: typing-extensions>=3.7.4.3 in /Users/dimitriroulin/Library/Python/3.9/lib/python/site-packages (from huggingface-hub<1.0,>=0.24.0->transformers) (4.12.2)\n",
      "Requirement already satisfied: fsspec>=2023.5.0 in /Users/dimitriroulin/Library/Python/3.9/lib/python/site-packages (from huggingface-hub<1.0,>=0.24.0->transformers) (2024.9.0)\n",
      "Requirement already satisfied: certifi>=2017.4.17 in /Users/dimitriroulin/Library/Python/3.9/lib/python/site-packages (from requests->transformers) (2023.7.22)\n",
      "Requirement already satisfied: charset-normalizer<4,>=2 in /Users/dimitriroulin/Library/Python/3.9/lib/python/site-packages (from requests->transformers) (3.2.0)\n",
      "Requirement already satisfied: idna<4,>=2.5 in /Users/dimitriroulin/Library/Python/3.9/lib/python/site-packages (from requests->transformers) (3.4)\n",
      "Requirement already satisfied: urllib3<3,>=1.21.1 in /Users/dimitriroulin/Library/Python/3.9/lib/python/site-packages (from requests->transformers) (2.0.5)\n",
      "\u001b[33mWARNING: You are using pip version 21.2.4; however, version 25.0 is available.\n",
      "You should consider upgrading via the '/Library/Developer/CommandLineTools/usr/bin/python3 -m pip install --upgrade pip' command.\u001b[0m\n",
      "Note: you may need to restart the kernel to use updated packages.\n",
      "Defaulting to user installation because normal site-packages is not writeable\n",
      "Requirement already satisfied: datasets in /Users/dimitriroulin/Library/Python/3.9/lib/python/site-packages (3.2.0)\n",
      "Requirement already satisfied: numpy>=1.17 in /Users/dimitriroulin/Library/Python/3.9/lib/python/site-packages (from datasets) (2.0.2)\n",
      "Requirement already satisfied: fsspec[http]<=2024.9.0,>=2023.1.0 in /Users/dimitriroulin/Library/Python/3.9/lib/python/site-packages (from datasets) (2024.9.0)\n",
      "Requirement already satisfied: multiprocess<0.70.17 in /Users/dimitriroulin/Library/Python/3.9/lib/python/site-packages (from datasets) (0.70.16)\n",
      "Requirement already satisfied: xxhash in /Users/dimitriroulin/Library/Python/3.9/lib/python/site-packages (from datasets) (3.5.0)\n",
      "Requirement already satisfied: pyyaml>=5.1 in /Users/dimitriroulin/Library/Python/3.9/lib/python/site-packages (from datasets) (6.0.1)\n",
      "Requirement already satisfied: pandas in /Users/dimitriroulin/Library/Python/3.9/lib/python/site-packages (from datasets) (2.2.3)\n",
      "Requirement already satisfied: huggingface-hub>=0.23.0 in /Users/dimitriroulin/Library/Python/3.9/lib/python/site-packages (from datasets) (0.26.5)\n",
      "Requirement already satisfied: requests>=2.32.2 in /Users/dimitriroulin/Library/Python/3.9/lib/python/site-packages (from datasets) (2.32.3)\n",
      "Requirement already satisfied: packaging in /Users/dimitriroulin/Library/Python/3.9/lib/python/site-packages (from datasets) (23.1)\n",
      "Requirement already satisfied: aiohttp in /Users/dimitriroulin/Library/Python/3.9/lib/python/site-packages (from datasets) (3.11.10)\n",
      "Requirement already satisfied: pyarrow>=15.0.0 in /Users/dimitriroulin/Library/Python/3.9/lib/python/site-packages (from datasets) (18.1.0)\n",
      "Requirement already satisfied: tqdm>=4.66.3 in /Users/dimitriroulin/Library/Python/3.9/lib/python/site-packages (from datasets) (4.67.1)\n",
      "Requirement already satisfied: filelock in /Users/dimitriroulin/Library/Python/3.9/lib/python/site-packages (from datasets) (3.16.1)\n",
      "Requirement already satisfied: dill<0.3.9,>=0.3.0 in /Users/dimitriroulin/Library/Python/3.9/lib/python/site-packages (from datasets) (0.3.8)\n",
      "Requirement already satisfied: aiohappyeyeballs>=2.3.0 in /Users/dimitriroulin/Library/Python/3.9/lib/python/site-packages (from aiohttp->datasets) (2.4.4)\n",
      "Requirement already satisfied: yarl<2.0,>=1.17.0 in /Users/dimitriroulin/Library/Python/3.9/lib/python/site-packages (from aiohttp->datasets) (1.18.3)\n",
      "Requirement already satisfied: propcache>=0.2.0 in /Users/dimitriroulin/Library/Python/3.9/lib/python/site-packages (from aiohttp->datasets) (0.2.1)\n",
      "Requirement already satisfied: frozenlist>=1.1.1 in /Users/dimitriroulin/Library/Python/3.9/lib/python/site-packages (from aiohttp->datasets) (1.5.0)\n",
      "Requirement already satisfied: aiosignal>=1.1.2 in /Users/dimitriroulin/Library/Python/3.9/lib/python/site-packages (from aiohttp->datasets) (1.3.1)\n",
      "Requirement already satisfied: async-timeout<6.0,>=4.0 in /Users/dimitriroulin/Library/Python/3.9/lib/python/site-packages (from aiohttp->datasets) (5.0.1)\n",
      "Requirement already satisfied: multidict<7.0,>=4.5 in /Users/dimitriroulin/Library/Python/3.9/lib/python/site-packages (from aiohttp->datasets) (6.1.0)\n",
      "Requirement already satisfied: attrs>=17.3.0 in /Users/dimitriroulin/Library/Python/3.9/lib/python/site-packages (from aiohttp->datasets) (23.1.0)\n",
      "Requirement already satisfied: typing-extensions>=3.7.4.3 in /Users/dimitriroulin/Library/Python/3.9/lib/python/site-packages (from huggingface-hub>=0.23.0->datasets) (4.12.2)\n",
      "Requirement already satisfied: idna<4,>=2.5 in /Users/dimitriroulin/Library/Python/3.9/lib/python/site-packages (from requests>=2.32.2->datasets) (3.4)\n",
      "Requirement already satisfied: urllib3<3,>=1.21.1 in /Users/dimitriroulin/Library/Python/3.9/lib/python/site-packages (from requests>=2.32.2->datasets) (2.0.5)\n",
      "Requirement already satisfied: certifi>=2017.4.17 in /Users/dimitriroulin/Library/Python/3.9/lib/python/site-packages (from requests>=2.32.2->datasets) (2023.7.22)\n",
      "Requirement already satisfied: charset-normalizer<4,>=2 in /Users/dimitriroulin/Library/Python/3.9/lib/python/site-packages (from requests>=2.32.2->datasets) (3.2.0)\n",
      "Requirement already satisfied: python-dateutil>=2.8.2 in /Users/dimitriroulin/Library/Python/3.9/lib/python/site-packages (from pandas->datasets) (2.8.2)\n",
      "Requirement already satisfied: pytz>=2020.1 in /Users/dimitriroulin/Library/Python/3.9/lib/python/site-packages (from pandas->datasets) (2024.2)\n",
      "Requirement already satisfied: tzdata>=2022.7 in /Users/dimitriroulin/Library/Python/3.9/lib/python/site-packages (from pandas->datasets) (2024.2)\n",
      "Requirement already satisfied: six>=1.5 in /Library/Developer/CommandLineTools/Library/Frameworks/Python3.framework/Versions/3.9/lib/python3.9/site-packages (from python-dateutil>=2.8.2->pandas->datasets) (1.15.0)\n",
      "\u001b[33mWARNING: You are using pip version 21.2.4; however, version 25.0 is available.\n",
      "You should consider upgrading via the '/Library/Developer/CommandLineTools/usr/bin/python3 -m pip install --upgrade pip' command.\u001b[0m\n",
      "Note: you may need to restart the kernel to use updated packages.\n",
      "Defaulting to user installation because normal site-packages is not writeable\n",
      "Requirement already satisfied: scikit-learn in /Users/dimitriroulin/Library/Python/3.9/lib/python/site-packages (1.6.0)\n",
      "Requirement already satisfied: threadpoolctl>=3.1.0 in /Users/dimitriroulin/Library/Python/3.9/lib/python/site-packages (from scikit-learn) (3.5.0)\n",
      "Requirement already satisfied: numpy>=1.19.5 in /Users/dimitriroulin/Library/Python/3.9/lib/python/site-packages (from scikit-learn) (2.0.2)\n",
      "Requirement already satisfied: scipy>=1.6.0 in /Users/dimitriroulin/Library/Python/3.9/lib/python/site-packages (from scikit-learn) (1.13.1)\n",
      "Requirement already satisfied: joblib>=1.2.0 in /Users/dimitriroulin/Library/Python/3.9/lib/python/site-packages (from scikit-learn) (1.4.2)\n",
      "\u001b[33mWARNING: You are using pip version 21.2.4; however, version 25.0 is available.\n",
      "You should consider upgrading via the '/Library/Developer/CommandLineTools/usr/bin/python3 -m pip install --upgrade pip' command.\u001b[0m\n",
      "Note: you may need to restart the kernel to use updated packages.\n",
      "Defaulting to user installation because normal site-packages is not writeable\n",
      "Requirement already satisfied: torch in /Users/dimitriroulin/Library/Python/3.9/lib/python/site-packages (2.5.1)\n",
      "Requirement already satisfied: typing-extensions>=4.8.0 in /Users/dimitriroulin/Library/Python/3.9/lib/python/site-packages (from torch) (4.12.2)\n",
      "Requirement already satisfied: sympy==1.13.1 in /Users/dimitriroulin/Library/Python/3.9/lib/python/site-packages (from torch) (1.13.1)\n",
      "Requirement already satisfied: jinja2 in /Users/dimitriroulin/Library/Python/3.9/lib/python/site-packages (from torch) (3.1.2)\n",
      "Requirement already satisfied: fsspec in /Users/dimitriroulin/Library/Python/3.9/lib/python/site-packages (from torch) (2024.9.0)\n",
      "Requirement already satisfied: networkx in /Users/dimitriroulin/Library/Python/3.9/lib/python/site-packages (from torch) (3.2.1)\n",
      "Requirement already satisfied: filelock in /Users/dimitriroulin/Library/Python/3.9/lib/python/site-packages (from torch) (3.16.1)\n",
      "Requirement already satisfied: mpmath<1.4,>=1.1.0 in /Users/dimitriroulin/Library/Python/3.9/lib/python/site-packages (from sympy==1.13.1->torch) (1.3.0)\n",
      "Requirement already satisfied: MarkupSafe>=2.0 in /Users/dimitriroulin/Library/Python/3.9/lib/python/site-packages (from jinja2->torch) (2.1.3)\n",
      "\u001b[33mWARNING: You are using pip version 21.2.4; however, version 25.0 is available.\n",
      "You should consider upgrading via the '/Library/Developer/CommandLineTools/usr/bin/python3 -m pip install --upgrade pip' command.\u001b[0m\n",
      "Note: you may need to restart the kernel to use updated packages.\n",
      "Defaulting to user installation because normal site-packages is not writeable\n",
      "Requirement already satisfied: datasets in /Users/dimitriroulin/Library/Python/3.9/lib/python/site-packages (3.2.0)\n",
      "Requirement already satisfied: filelock in /Users/dimitriroulin/Library/Python/3.9/lib/python/site-packages (from datasets) (3.16.1)\n",
      "Requirement already satisfied: fsspec[http]<=2024.9.0,>=2023.1.0 in /Users/dimitriroulin/Library/Python/3.9/lib/python/site-packages (from datasets) (2024.9.0)\n",
      "Requirement already satisfied: requests>=2.32.2 in /Users/dimitriroulin/Library/Python/3.9/lib/python/site-packages (from datasets) (2.32.3)\n",
      "Requirement already satisfied: numpy>=1.17 in /Users/dimitriroulin/Library/Python/3.9/lib/python/site-packages (from datasets) (2.0.2)\n",
      "Requirement already satisfied: multiprocess<0.70.17 in /Users/dimitriroulin/Library/Python/3.9/lib/python/site-packages (from datasets) (0.70.16)\n",
      "Requirement already satisfied: tqdm>=4.66.3 in /Users/dimitriroulin/Library/Python/3.9/lib/python/site-packages (from datasets) (4.67.1)\n",
      "Requirement already satisfied: packaging in /Users/dimitriroulin/Library/Python/3.9/lib/python/site-packages (from datasets) (23.1)\n",
      "Requirement already satisfied: pyarrow>=15.0.0 in /Users/dimitriroulin/Library/Python/3.9/lib/python/site-packages (from datasets) (18.1.0)\n",
      "Requirement already satisfied: dill<0.3.9,>=0.3.0 in /Users/dimitriroulin/Library/Python/3.9/lib/python/site-packages (from datasets) (0.3.8)\n",
      "Requirement already satisfied: pyyaml>=5.1 in /Users/dimitriroulin/Library/Python/3.9/lib/python/site-packages (from datasets) (6.0.1)\n",
      "Requirement already satisfied: pandas in /Users/dimitriroulin/Library/Python/3.9/lib/python/site-packages (from datasets) (2.2.3)\n",
      "Requirement already satisfied: xxhash in /Users/dimitriroulin/Library/Python/3.9/lib/python/site-packages (from datasets) (3.5.0)\n",
      "Requirement already satisfied: aiohttp in /Users/dimitriroulin/Library/Python/3.9/lib/python/site-packages (from datasets) (3.11.10)\n",
      "Requirement already satisfied: huggingface-hub>=0.23.0 in /Users/dimitriroulin/Library/Python/3.9/lib/python/site-packages (from datasets) (0.26.5)\n",
      "Requirement already satisfied: frozenlist>=1.1.1 in /Users/dimitriroulin/Library/Python/3.9/lib/python/site-packages (from aiohttp->datasets) (1.5.0)\n",
      "Requirement already satisfied: propcache>=0.2.0 in /Users/dimitriroulin/Library/Python/3.9/lib/python/site-packages (from aiohttp->datasets) (0.2.1)\n",
      "Requirement already satisfied: async-timeout<6.0,>=4.0 in /Users/dimitriroulin/Library/Python/3.9/lib/python/site-packages (from aiohttp->datasets) (5.0.1)\n",
      "Requirement already satisfied: aiosignal>=1.1.2 in /Users/dimitriroulin/Library/Python/3.9/lib/python/site-packages (from aiohttp->datasets) (1.3.1)\n",
      "Requirement already satisfied: yarl<2.0,>=1.17.0 in /Users/dimitriroulin/Library/Python/3.9/lib/python/site-packages (from aiohttp->datasets) (1.18.3)\n",
      "Requirement already satisfied: aiohappyeyeballs>=2.3.0 in /Users/dimitriroulin/Library/Python/3.9/lib/python/site-packages (from aiohttp->datasets) (2.4.4)\n",
      "Requirement already satisfied: multidict<7.0,>=4.5 in /Users/dimitriroulin/Library/Python/3.9/lib/python/site-packages (from aiohttp->datasets) (6.1.0)\n",
      "Requirement already satisfied: attrs>=17.3.0 in /Users/dimitriroulin/Library/Python/3.9/lib/python/site-packages (from aiohttp->datasets) (23.1.0)\n",
      "Requirement already satisfied: typing-extensions>=3.7.4.3 in /Users/dimitriroulin/Library/Python/3.9/lib/python/site-packages (from huggingface-hub>=0.23.0->datasets) (4.12.2)\n",
      "Requirement already satisfied: urllib3<3,>=1.21.1 in /Users/dimitriroulin/Library/Python/3.9/lib/python/site-packages (from requests>=2.32.2->datasets) (2.0.5)\n",
      "Requirement already satisfied: certifi>=2017.4.17 in /Users/dimitriroulin/Library/Python/3.9/lib/python/site-packages (from requests>=2.32.2->datasets) (2023.7.22)\n",
      "Requirement already satisfied: idna<4,>=2.5 in /Users/dimitriroulin/Library/Python/3.9/lib/python/site-packages (from requests>=2.32.2->datasets) (3.4)\n",
      "Requirement already satisfied: charset-normalizer<4,>=2 in /Users/dimitriroulin/Library/Python/3.9/lib/python/site-packages (from requests>=2.32.2->datasets) (3.2.0)\n",
      "Requirement already satisfied: tzdata>=2022.7 in /Users/dimitriroulin/Library/Python/3.9/lib/python/site-packages (from pandas->datasets) (2024.2)\n",
      "Requirement already satisfied: python-dateutil>=2.8.2 in /Users/dimitriroulin/Library/Python/3.9/lib/python/site-packages (from pandas->datasets) (2.8.2)\n",
      "Requirement already satisfied: pytz>=2020.1 in /Users/dimitriroulin/Library/Python/3.9/lib/python/site-packages (from pandas->datasets) (2024.2)\n",
      "Requirement already satisfied: six>=1.5 in /Library/Developer/CommandLineTools/Library/Frameworks/Python3.framework/Versions/3.9/lib/python3.9/site-packages (from python-dateutil>=2.8.2->pandas->datasets) (1.15.0)\n",
      "\u001b[33mWARNING: You are using pip version 21.2.4; however, version 25.0 is available.\n",
      "You should consider upgrading via the '/Library/Developer/CommandLineTools/usr/bin/python3 -m pip install --upgrade pip' command.\u001b[0m\n",
      "Note: you may need to restart the kernel to use updated packages.\n",
      "Defaulting to user installation because normal site-packages is not writeable\n",
      "Requirement already satisfied: accelerate in /Users/dimitriroulin/Library/Python/3.9/lib/python/site-packages (1.2.0)\n",
      "Requirement already satisfied: pyyaml in /Users/dimitriroulin/Library/Python/3.9/lib/python/site-packages (from accelerate) (6.0.1)\n",
      "Requirement already satisfied: numpy<3.0.0,>=1.17 in /Users/dimitriroulin/Library/Python/3.9/lib/python/site-packages (from accelerate) (2.0.2)\n",
      "Requirement already satisfied: packaging>=20.0 in /Users/dimitriroulin/Library/Python/3.9/lib/python/site-packages (from accelerate) (23.1)\n",
      "Requirement already satisfied: safetensors>=0.4.3 in /Users/dimitriroulin/Library/Python/3.9/lib/python/site-packages (from accelerate) (0.4.5)\n",
      "Requirement already satisfied: psutil in /Users/dimitriroulin/Library/Python/3.9/lib/python/site-packages (from accelerate) (5.9.5)\n",
      "Requirement already satisfied: huggingface-hub>=0.21.0 in /Users/dimitriroulin/Library/Python/3.9/lib/python/site-packages (from accelerate) (0.26.5)\n",
      "Requirement already satisfied: torch>=1.10.0 in /Users/dimitriroulin/Library/Python/3.9/lib/python/site-packages (from accelerate) (2.5.1)\n",
      "Requirement already satisfied: typing-extensions>=3.7.4.3 in /Users/dimitriroulin/Library/Python/3.9/lib/python/site-packages (from huggingface-hub>=0.21.0->accelerate) (4.12.2)\n",
      "Requirement already satisfied: requests in /Users/dimitriroulin/Library/Python/3.9/lib/python/site-packages (from huggingface-hub>=0.21.0->accelerate) (2.32.3)\n",
      "Requirement already satisfied: filelock in /Users/dimitriroulin/Library/Python/3.9/lib/python/site-packages (from huggingface-hub>=0.21.0->accelerate) (3.16.1)\n",
      "Requirement already satisfied: tqdm>=4.42.1 in /Users/dimitriroulin/Library/Python/3.9/lib/python/site-packages (from huggingface-hub>=0.21.0->accelerate) (4.67.1)\n",
      "Requirement already satisfied: fsspec>=2023.5.0 in /Users/dimitriroulin/Library/Python/3.9/lib/python/site-packages (from huggingface-hub>=0.21.0->accelerate) (2024.9.0)\n",
      "Requirement already satisfied: networkx in /Users/dimitriroulin/Library/Python/3.9/lib/python/site-packages (from torch>=1.10.0->accelerate) (3.2.1)\n",
      "Requirement already satisfied: jinja2 in /Users/dimitriroulin/Library/Python/3.9/lib/python/site-packages (from torch>=1.10.0->accelerate) (3.1.2)\n",
      "Requirement already satisfied: sympy==1.13.1 in /Users/dimitriroulin/Library/Python/3.9/lib/python/site-packages (from torch>=1.10.0->accelerate) (1.13.1)\n",
      "Requirement already satisfied: mpmath<1.4,>=1.1.0 in /Users/dimitriroulin/Library/Python/3.9/lib/python/site-packages (from sympy==1.13.1->torch>=1.10.0->accelerate) (1.3.0)\n",
      "Requirement already satisfied: MarkupSafe>=2.0 in /Users/dimitriroulin/Library/Python/3.9/lib/python/site-packages (from jinja2->torch>=1.10.0->accelerate) (2.1.3)\n",
      "Requirement already satisfied: charset-normalizer<4,>=2 in /Users/dimitriroulin/Library/Python/3.9/lib/python/site-packages (from requests->huggingface-hub>=0.21.0->accelerate) (3.2.0)\n",
      "Requirement already satisfied: idna<4,>=2.5 in /Users/dimitriroulin/Library/Python/3.9/lib/python/site-packages (from requests->huggingface-hub>=0.21.0->accelerate) (3.4)\n",
      "Requirement already satisfied: urllib3<3,>=1.21.1 in /Users/dimitriroulin/Library/Python/3.9/lib/python/site-packages (from requests->huggingface-hub>=0.21.0->accelerate) (2.0.5)\n",
      "Requirement already satisfied: certifi>=2017.4.17 in /Users/dimitriroulin/Library/Python/3.9/lib/python/site-packages (from requests->huggingface-hub>=0.21.0->accelerate) (2023.7.22)\n",
      "\u001b[33mWARNING: You are using pip version 21.2.4; however, version 25.0 is available.\n",
      "You should consider upgrading via the '/Library/Developer/CommandLineTools/usr/bin/python3 -m pip install --upgrade pip' command.\u001b[0m\n",
      "Note: you may need to restart the kernel to use updated packages.\n"
     ]
    }
   ],
   "source": [
    "%pip install transformers \n",
    "%pip install datasets \n",
    "%pip install scikit-learn\n",
    "%pip install torch\n",
    "%pip install datasets\n",
    "%pip install accelerate"
   ]
  },
  {
   "cell_type": "markdown",
   "metadata": {},
   "source": [
    "### **1. Loading the Data**\n",
    "In this part, we load the dataset from a CSV file and preprocess it. We also convert the difficulty levels into numeric labels for classification."
   ]
  },
  {
   "cell_type": "code",
   "execution_count": 2,
   "metadata": {},
   "outputs": [
    {
     "name": "stderr",
     "output_type": "stream",
     "text": [
      "/Users/dimitriroulin/Library/Python/3.9/lib/python/site-packages/urllib3/__init__.py:34: NotOpenSSLWarning: urllib3 v2.0 only supports OpenSSL 1.1.1+, currently the 'ssl' module is compiled with 'LibreSSL 2.8.3'. See: https://github.com/urllib3/urllib3/issues/3020\n",
      "  warnings.warn(\n"
     ]
    },
    {
     "data": {
      "text/html": [
       "<div>\n",
       "<style scoped>\n",
       "    .dataframe tbody tr th:only-of-type {\n",
       "        vertical-align: middle;\n",
       "    }\n",
       "\n",
       "    .dataframe tbody tr th {\n",
       "        vertical-align: top;\n",
       "    }\n",
       "\n",
       "    .dataframe thead th {\n",
       "        text-align: right;\n",
       "    }\n",
       "</style>\n",
       "<table border=\"1\" class=\"dataframe\">\n",
       "  <thead>\n",
       "    <tr style=\"text-align: right;\">\n",
       "      <th></th>\n",
       "      <th>sentence</th>\n",
       "      <th>difficulty</th>\n",
       "      <th>sentence_length</th>\n",
       "      <th>difficulty_label</th>\n",
       "    </tr>\n",
       "  </thead>\n",
       "  <tbody>\n",
       "    <tr>\n",
       "      <th>0</th>\n",
       "      <td>Der Tierarzt sieht den Vogel an.</td>\n",
       "      <td>0</td>\n",
       "      <td>6</td>\n",
       "      <td>A1</td>\n",
       "    </tr>\n",
       "    <tr>\n",
       "      <th>1</th>\n",
       "      <td>Schönen Merlan mitnehmen hier, für zehn Euro h...</td>\n",
       "      <td>0</td>\n",
       "      <td>8</td>\n",
       "      <td>A1</td>\n",
       "    </tr>\n",
       "    <tr>\n",
       "      <th>2</th>\n",
       "      <td>Das wollen sie feiern.</td>\n",
       "      <td>0</td>\n",
       "      <td>4</td>\n",
       "      <td>A1</td>\n",
       "    </tr>\n",
       "    <tr>\n",
       "      <th>3</th>\n",
       "      <td>Sie kommt heute mit.</td>\n",
       "      <td>0</td>\n",
       "      <td>4</td>\n",
       "      <td>A1</td>\n",
       "    </tr>\n",
       "    <tr>\n",
       "      <th>4</th>\n",
       "      <td>Lena legt die Tasche auf den Boden.</td>\n",
       "      <td>0</td>\n",
       "      <td>7</td>\n",
       "      <td>A1</td>\n",
       "    </tr>\n",
       "    <tr>\n",
       "      <th>5</th>\n",
       "      <td>Alexander geht in sein Zimmer.</td>\n",
       "      <td>0</td>\n",
       "      <td>5</td>\n",
       "      <td>A1</td>\n",
       "    </tr>\n",
       "    <tr>\n",
       "      <th>6</th>\n",
       "      <td>Eine Polizistin öffnet die Tür.</td>\n",
       "      <td>0</td>\n",
       "      <td>5</td>\n",
       "      <td>A1</td>\n",
       "    </tr>\n",
       "    <tr>\n",
       "      <th>7</th>\n",
       "      <td>„Ich höre etwas.</td>\n",
       "      <td>0</td>\n",
       "      <td>3</td>\n",
       "      <td>A1</td>\n",
       "    </tr>\n",
       "    <tr>\n",
       "      <th>8</th>\n",
       "      <td>Manchmal haben die Kunden eine Frage.</td>\n",
       "      <td>0</td>\n",
       "      <td>6</td>\n",
       "      <td>A1</td>\n",
       "    </tr>\n",
       "    <tr>\n",
       "      <th>9</th>\n",
       "      <td>Oder können Sie backen?</td>\n",
       "      <td>0</td>\n",
       "      <td>4</td>\n",
       "      <td>A1</td>\n",
       "    </tr>\n",
       "  </tbody>\n",
       "</table>\n",
       "</div>"
      ],
      "text/plain": [
       "                                            sentence  difficulty  \\\n",
       "0                   Der Tierarzt sieht den Vogel an.           0   \n",
       "1  Schönen Merlan mitnehmen hier, für zehn Euro h...           0   \n",
       "2                             Das wollen sie feiern.           0   \n",
       "3                               Sie kommt heute mit.           0   \n",
       "4                Lena legt die Tasche auf den Boden.           0   \n",
       "5                     Alexander geht in sein Zimmer.           0   \n",
       "6                    Eine Polizistin öffnet die Tür.           0   \n",
       "7                                   „Ich höre etwas.           0   \n",
       "8              Manchmal haben die Kunden eine Frage.           0   \n",
       "9                            Oder können Sie backen?           0   \n",
       "\n",
       "   sentence_length difficulty_label  \n",
       "0                6               A1  \n",
       "1                8               A1  \n",
       "2                4               A1  \n",
       "3                4               A1  \n",
       "4                7               A1  \n",
       "5                5               A1  \n",
       "6                5               A1  \n",
       "7                3               A1  \n",
       "8                6               A1  \n",
       "9                4               A1  "
      ]
     },
     "metadata": {},
     "output_type": "display_data"
    },
    {
     "data": {
      "text/plain": [
       "difficulty\n",
       "0    543\n",
       "1    543\n",
       "2    543\n",
       "3    543\n",
       "4    543\n",
       "5    543\n",
       "Name: count, dtype: int64"
      ]
     },
     "execution_count": 2,
     "metadata": {},
     "output_type": "execute_result"
    }
   ],
   "source": [
    "import pandas as pd\n",
    "from sklearn.model_selection import train_test_split\n",
    "from datasets import Dataset, DatasetDict\n",
    "\n",
    "file_path = \"./Data/combined_balanced_CEFR_sentences.csv\"\n",
    "\n",
    "# Load your dataset\n",
    "data = pd.read_csv(file_path)\n",
    "\n",
    "# Create a new coloumn to store the difficulty labels\n",
    "data[\"difficulty_label\"] = data[\"difficulty\"]\n",
    "\n",
    "# Convert difficulty column to numeric labels\n",
    "data[\"difficulty\"] = data[\"difficulty\"].astype(\"category\").cat.codes\n",
    "\n",
    "# Display the first few rows of the dataset\n",
    "display(data.head(10))\n",
    "\n",
    "# Display the number of samples in each difficulty category\n",
    "data[\"difficulty\"].value_counts()"
   ]
  },
  {
   "cell_type": "markdown",
   "metadata": {},
   "source": [
    "### **2. Splitting the Dataset**\n",
    "Here, we split the dataset into training, test sets using an 80%-20% split. Stratification ensures that class distribution is preserved across splits."
   ]
  },
  {
   "cell_type": "code",
   "execution_count": 3,
   "metadata": {},
   "outputs": [
    {
     "name": "stdout",
     "output_type": "stream",
     "text": [
      "Train size: 2606\n",
      "Test size: 652\n"
     ]
    }
   ],
   "source": [
    "# Split the data into train (70%), validation (20%), and test (10%)\n",
    "train_data, test_data = train_test_split(data, test_size=0.2, stratify=data[\"difficulty\"], random_state=42)\n",
    "\n",
    "\n",
    "print(f\"Train size: {len(train_data)}\")\n",
    "print(f\"Test size: {len(test_data)}\")"
   ]
  },
  {
   "cell_type": "markdown",
   "metadata": {},
   "source": [
    "\n",
    "### **3. Preparing the Hugging Face Dataset**\n",
    "In this step, we convert the dataset into the Hugging Face `Dataset` format and create a `DatasetDict` for easier handling in the `transformers` library."
   ]
  },
  {
   "cell_type": "code",
   "execution_count": 5,
   "metadata": {},
   "outputs": [
    {
     "name": "stdout",
     "output_type": "stream",
     "text": [
      "DatasetDict({\n",
      "    train: Dataset({\n",
      "        features: ['sentence', 'difficulty', 'sentence_length', 'difficulty_label', '__index_level_0__'],\n",
      "        num_rows: 2606\n",
      "    })\n",
      "    test: Dataset({\n",
      "        features: ['sentence', 'difficulty', 'sentence_length', 'difficulty_label', '__index_level_0__'],\n",
      "        num_rows: 652\n",
      "    })\n",
      "})\n"
     ]
    }
   ],
   "source": [
    "# Convert to Hugging Face Dataset format\n",
    "test_dataset = Dataset.from_pandas(test_data)\n",
    "train_dataset = Dataset.from_pandas(train_data)\n",
    "\n",
    "# Create a DatasetDict\n",
    "dataset = DatasetDict({\n",
    "    \"train\": train_dataset,\n",
    "    \"test\": test_dataset\n",
    "})\n",
    "\n",
    "print(dataset)"
   ]
  },
  {
   "cell_type": "markdown",
   "metadata": {},
   "source": [
    "\n",
    "### **4. Tokenizing the Dataset**\n",
    "Here, we load the tokenizer for `xlm-roberta-base` and tokenize the sentences."
   ]
  },
  {
   "cell_type": "code",
   "execution_count": 6,
   "metadata": {},
   "outputs": [
    {
     "data": {
      "application/vnd.jupyter.widget-view+json": {
       "model_id": "cc3c576425a04853a6a4b0c4ddafec04",
       "version_major": 2,
       "version_minor": 0
      },
      "text/plain": [
       "Map:   0%|          | 0/2606 [00:00<?, ? examples/s]"
      ]
     },
     "metadata": {},
     "output_type": "display_data"
    },
    {
     "data": {
      "application/vnd.jupyter.widget-view+json": {
       "model_id": "e97e9fe634bf46e5aeefde8727e339b3",
       "version_major": 2,
       "version_minor": 0
      },
      "text/plain": [
       "Map:   0%|          | 0/652 [00:00<?, ? examples/s]"
      ]
     },
     "metadata": {},
     "output_type": "display_data"
    },
    {
     "name": "stdout",
     "output_type": "stream",
     "text": [
      "{'sentence': 'Und auf den Bergen liegt Schnee.', 'difficulty': 0, 'sentence_length': 6, 'difficulty_label': 'A1', '__index_level_0__': 86, 'input_ids': [0, 5533, 644, 168, 29046, 20267, 161286, 5, 2, 1, 1, 1, 1, 1, 1, 1, 1, 1, 1, 1, 1, 1, 1, 1, 1, 1, 1, 1, 1, 1, 1, 1, 1, 1, 1, 1, 1, 1, 1, 1, 1, 1, 1, 1, 1, 1, 1, 1, 1, 1, 1, 1, 1, 1, 1, 1, 1, 1, 1, 1, 1, 1, 1, 1, 1, 1, 1, 1, 1, 1, 1, 1, 1, 1, 1, 1, 1, 1, 1, 1, 1, 1, 1, 1, 1, 1, 1, 1, 1, 1, 1, 1, 1, 1, 1, 1, 1, 1, 1, 1, 1, 1, 1, 1, 1, 1, 1, 1, 1, 1, 1, 1, 1, 1, 1, 1, 1, 1, 1, 1, 1, 1, 1, 1, 1, 1, 1, 1], 'attention_mask': [1, 1, 1, 1, 1, 1, 1, 1, 1, 0, 0, 0, 0, 0, 0, 0, 0, 0, 0, 0, 0, 0, 0, 0, 0, 0, 0, 0, 0, 0, 0, 0, 0, 0, 0, 0, 0, 0, 0, 0, 0, 0, 0, 0, 0, 0, 0, 0, 0, 0, 0, 0, 0, 0, 0, 0, 0, 0, 0, 0, 0, 0, 0, 0, 0, 0, 0, 0, 0, 0, 0, 0, 0, 0, 0, 0, 0, 0, 0, 0, 0, 0, 0, 0, 0, 0, 0, 0, 0, 0, 0, 0, 0, 0, 0, 0, 0, 0, 0, 0, 0, 0, 0, 0, 0, 0, 0, 0, 0, 0, 0, 0, 0, 0, 0, 0, 0, 0, 0, 0, 0, 0, 0, 0, 0, 0, 0, 0], 'labels': 0}\n"
     ]
    }
   ],
   "source": [
    "from transformers import AutoTokenizer\n",
    "\n",
    "# Load the tokenizer\n",
    "tokenizer = AutoTokenizer.from_pretrained(\"xlm-roberta-base\")\n",
    "\n",
    "# Tokenize the dataset and add the `labels` field\n",
    "def tokenize_function(examples):\n",
    "    tokenized_inputs = tokenizer(\n",
    "        examples[\"sentence\"],\n",
    "        padding=\"max_length\",\n",
    "        truncation=True,\n",
    "        max_length=128\n",
    "    )\n",
    "    # Assign numeric labels\n",
    "    tokenized_inputs[\"labels\"] = examples[\"difficulty\"]\n",
    "    return tokenized_inputs\n",
    "\n",
    "# Tokenize the dataset\n",
    "tokenized_datasets = dataset.map(tokenize_function, batched=True)\n",
    "\n",
    "# Debugging: Check tokenized dataset\n",
    "print(tokenized_datasets[\"train\"][0])"
   ]
  },
  {
   "cell_type": "markdown",
   "metadata": {},
   "source": [
    "\n",
    "### **5. Loading the Model**\n",
    "In this step, we load the pre-trained `xlm-roberta-base` model and prepare it for sequence classification by specifying the number of labels."
   ]
  },
  {
   "cell_type": "code",
   "execution_count": 7,
   "metadata": {},
   "outputs": [
    {
     "name": "stdout",
     "output_type": "stream",
     "text": [
      "Number of classes: 6\n"
     ]
    },
    {
     "name": "stderr",
     "output_type": "stream",
     "text": [
      "Some weights of XLMRobertaForSequenceClassification were not initialized from the model checkpoint at xlm-roberta-base and are newly initialized: ['classifier.dense.bias', 'classifier.dense.weight', 'classifier.out_proj.bias', 'classifier.out_proj.weight']\n",
      "You should probably TRAIN this model on a down-stream task to be able to use it for predictions and inference.\n"
     ]
    }
   ],
   "source": [
    "from transformers import AutoModelForSequenceClassification\n",
    "\n",
    "# Define the number of classes\n",
    "num_classes = len(data[\"difficulty\"].unique())\n",
    "print(f\"Number of classes: {num_classes}\")\n",
    "\n",
    "# Load the model\n",
    "model = AutoModelForSequenceClassification.from_pretrained(\"xlm-roberta-base\", num_labels=num_classes)"
   ]
  },
  {
   "cell_type": "markdown",
   "metadata": {},
   "source": [
    "\n",
    "### **6. Setting Up the Trainer**\n",
    "We define the training arguments and initialize the `Trainer` class, which manages the fine-tuning process. Early stopping is implemented to prevent overfitting.\n"
   ]
  },
  {
   "cell_type": "code",
   "execution_count": 9,
   "metadata": {},
   "outputs": [
    {
     "name": "stderr",
     "output_type": "stream",
     "text": [
      "/var/folders/wb/btfl8bv91b5c253kbpftk1940000gn/T/ipykernel_3338/445518235.py:24: FutureWarning: `tokenizer` is deprecated and will be removed in version 5.0.0 for `Trainer.__init__`. Use `processing_class` instead.\n",
      "  trainer = Trainer(\n"
     ]
    }
   ],
   "source": [
    "from transformers import TrainingArguments, Trainer, DataCollatorWithPadding, EarlyStoppingCallback\n",
    "\n",
    "# Define a data collator for padding\n",
    "data_collator = DataCollatorWithPadding(tokenizer=tokenizer)\n",
    "\n",
    "# Define training arguments\n",
    "training_args = TrainingArguments(\n",
    "    output_dir=\"./results\",\n",
    "    evaluation_strategy=\"epoch\",\n",
    "    save_strategy=\"epoch\",\n",
    "    learning_rate=1e-5,\n",
    "    per_device_train_batch_size=8,\n",
    "    per_device_eval_batch_size=8,\n",
    "    num_train_epochs=10,\n",
    "    weight_decay=0.1,\n",
    "    logging_dir=\"./logs\",\n",
    "    logging_steps=10,\n",
    "    load_best_model_at_end=True,\n",
    "    gradient_accumulation_steps=2,\n",
    "    max_grad_norm=1.0,\n",
    ")\n",
    "\n",
    "# Initialize the Trainer\n",
    "trainer = Trainer(\n",
    "    model=model,\n",
    "    args=training_args,\n",
    "    train_dataset=tokenized_datasets[\"train\"],\n",
    "    eval_dataset=tokenized_datasets[\"test\"],\n",
    "    data_collator=data_collator,\n",
    "    tokenizer=tokenizer,\n",
    "    callbacks=[EarlyStoppingCallback(early_stopping_patience=2)],\n",
    ")\n"
   ]
  },
  {
   "cell_type": "markdown",
   "metadata": {},
   "source": [
    "### **7. Training the Model**\n",
    "Finally, we start the training process and fine-tune the model for the text classification task.\n"
   ]
  },
  {
   "cell_type": "code",
   "execution_count": 10,
   "metadata": {},
   "outputs": [
    {
     "data": {
      "application/vnd.jupyter.widget-view+json": {
       "model_id": "ff25e064baa04e3e8d2ff211b945c8da",
       "version_major": 2,
       "version_minor": 0
      },
      "text/plain": [
       "  0%|          | 0/1630 [00:00<?, ?it/s]"
      ]
     },
     "metadata": {},
     "output_type": "display_data"
    },
    {
     "name": "stdout",
     "output_type": "stream",
     "text": [
      "{'loss': 1.8117, 'grad_norm': 17.762771606445312, 'learning_rate': 9.938650306748467e-06, 'epoch': 0.06}\n",
      "{'loss': 1.7787, 'grad_norm': 13.2059907913208, 'learning_rate': 9.877300613496934e-06, 'epoch': 0.12}\n",
      "{'loss': 1.7811, 'grad_norm': 16.35062026977539, 'learning_rate': 9.8159509202454e-06, 'epoch': 0.18}\n",
      "{'loss': 1.7582, 'grad_norm': 62.5276985168457, 'learning_rate': 9.754601226993867e-06, 'epoch': 0.25}\n",
      "{'loss': 1.7029, 'grad_norm': 18.471492767333984, 'learning_rate': 9.693251533742331e-06, 'epoch': 0.31}\n",
      "{'loss': 1.7529, 'grad_norm': 9.865679740905762, 'learning_rate': 9.631901840490798e-06, 'epoch': 0.37}\n",
      "{'loss': 1.7299, 'grad_norm': 22.422224044799805, 'learning_rate': 9.570552147239264e-06, 'epoch': 0.43}\n",
      "{'loss': 1.7073, 'grad_norm': 20.12164878845215, 'learning_rate': 9.509202453987731e-06, 'epoch': 0.49}\n",
      "{'loss': 1.6632, 'grad_norm': 14.307600975036621, 'learning_rate': 9.447852760736197e-06, 'epoch': 0.55}\n",
      "{'loss': 1.6703, 'grad_norm': 32.41818618774414, 'learning_rate': 9.386503067484664e-06, 'epoch': 0.61}\n",
      "{'loss': 1.6185, 'grad_norm': 44.63218688964844, 'learning_rate': 9.325153374233129e-06, 'epoch': 0.67}\n",
      "{'loss': 1.6554, 'grad_norm': 18.512741088867188, 'learning_rate': 9.263803680981595e-06, 'epoch': 0.74}\n",
      "{'loss': 1.5727, 'grad_norm': 20.9884033203125, 'learning_rate': 9.202453987730062e-06, 'epoch': 0.8}\n",
      "{'loss': 1.5261, 'grad_norm': 20.091947555541992, 'learning_rate': 9.14110429447853e-06, 'epoch': 0.86}\n",
      "{'loss': 1.5012, 'grad_norm': 28.03258514404297, 'learning_rate': 9.079754601226994e-06, 'epoch': 0.92}\n",
      "{'loss': 1.3981, 'grad_norm': 20.22171401977539, 'learning_rate': 9.018404907975461e-06, 'epoch': 0.98}\n"
     ]
    },
    {
     "data": {
      "application/vnd.jupyter.widget-view+json": {
       "model_id": "3e72436eaffd4a46a98a47e40200cce8",
       "version_major": 2,
       "version_minor": 0
      },
      "text/plain": [
       "  0%|          | 0/82 [00:00<?, ?it/s]"
      ]
     },
     "metadata": {},
     "output_type": "display_data"
    },
    {
     "name": "stdout",
     "output_type": "stream",
     "text": [
      "{'eval_loss': 1.2980129718780518, 'eval_runtime': 10.8253, 'eval_samples_per_second': 60.23, 'eval_steps_per_second': 7.575, 'epoch': 1.0}\n",
      "{'loss': 1.3599, 'grad_norm': 43.36279296875, 'learning_rate': 8.957055214723927e-06, 'epoch': 1.04}\n",
      "{'loss': 1.3211, 'grad_norm': 18.881681442260742, 'learning_rate': 8.895705521472394e-06, 'epoch': 1.1}\n",
      "{'loss': 1.381, 'grad_norm': 49.02742385864258, 'learning_rate': 8.83435582822086e-06, 'epoch': 1.17}\n",
      "{'loss': 1.3237, 'grad_norm': 26.322845458984375, 'learning_rate': 8.773006134969327e-06, 'epoch': 1.23}\n",
      "{'loss': 1.2538, 'grad_norm': 13.669351577758789, 'learning_rate': 8.711656441717792e-06, 'epoch': 1.29}\n",
      "{'loss': 1.2648, 'grad_norm': 22.80177879333496, 'learning_rate': 8.650306748466258e-06, 'epoch': 1.35}\n",
      "{'loss': 1.1935, 'grad_norm': 14.405196189880371, 'learning_rate': 8.588957055214725e-06, 'epoch': 1.41}\n",
      "{'loss': 1.3018, 'grad_norm': 17.68990135192871, 'learning_rate': 8.527607361963191e-06, 'epoch': 1.47}\n",
      "{'loss': 1.1562, 'grad_norm': 19.311416625976562, 'learning_rate': 8.466257668711658e-06, 'epoch': 1.53}\n",
      "{'loss': 1.1915, 'grad_norm': 35.46846389770508, 'learning_rate': 8.404907975460124e-06, 'epoch': 1.6}\n",
      "{'loss': 1.1836, 'grad_norm': 31.86860466003418, 'learning_rate': 8.343558282208589e-06, 'epoch': 1.66}\n",
      "{'loss': 1.1774, 'grad_norm': 28.49493408203125, 'learning_rate': 8.282208588957055e-06, 'epoch': 1.72}\n",
      "{'loss': 1.3206, 'grad_norm': 31.535728454589844, 'learning_rate': 8.220858895705522e-06, 'epoch': 1.78}\n",
      "{'loss': 1.1339, 'grad_norm': 27.7049503326416, 'learning_rate': 8.159509202453988e-06, 'epoch': 1.84}\n",
      "{'loss': 1.1682, 'grad_norm': 51.13508605957031, 'learning_rate': 8.098159509202455e-06, 'epoch': 1.9}\n",
      "{'loss': 1.1315, 'grad_norm': 36.44419479370117, 'learning_rate': 8.036809815950921e-06, 'epoch': 1.96}\n"
     ]
    },
    {
     "data": {
      "application/vnd.jupyter.widget-view+json": {
       "model_id": "7489074b82c347f8b9906309606441c9",
       "version_major": 2,
       "version_minor": 0
      },
      "text/plain": [
       "  0%|          | 0/82 [00:00<?, ?it/s]"
      ]
     },
     "metadata": {},
     "output_type": "display_data"
    },
    {
     "name": "stdout",
     "output_type": "stream",
     "text": [
      "{'eval_loss': 1.0735136270523071, 'eval_runtime': 14.1503, 'eval_samples_per_second': 46.077, 'eval_steps_per_second': 5.795, 'epoch': 2.0}\n",
      "{'loss': 1.135, 'grad_norm': 28.90332794189453, 'learning_rate': 7.975460122699386e-06, 'epoch': 2.02}\n",
      "{'loss': 1.1765, 'grad_norm': 55.373016357421875, 'learning_rate': 7.914110429447854e-06, 'epoch': 2.09}\n",
      "{'loss': 1.062, 'grad_norm': 35.80610656738281, 'learning_rate': 7.85276073619632e-06, 'epoch': 2.15}\n",
      "{'loss': 1.0921, 'grad_norm': 28.8667049407959, 'learning_rate': 7.791411042944787e-06, 'epoch': 2.21}\n",
      "{'loss': 1.0059, 'grad_norm': 22.784473419189453, 'learning_rate': 7.730061349693252e-06, 'epoch': 2.27}\n",
      "{'loss': 1.0309, 'grad_norm': 29.70632553100586, 'learning_rate': 7.668711656441718e-06, 'epoch': 2.33}\n",
      "{'loss': 1.1031, 'grad_norm': 74.62602996826172, 'learning_rate': 7.6073619631901856e-06, 'epoch': 2.39}\n",
      "{'loss': 1.0717, 'grad_norm': 41.815093994140625, 'learning_rate': 7.54601226993865e-06, 'epoch': 2.45}\n",
      "{'loss': 1.1378, 'grad_norm': 28.321136474609375, 'learning_rate': 7.484662576687118e-06, 'epoch': 2.52}\n",
      "{'loss': 0.9867, 'grad_norm': 36.61790466308594, 'learning_rate': 7.423312883435584e-06, 'epoch': 2.58}\n",
      "{'loss': 0.971, 'grad_norm': 28.887147903442383, 'learning_rate': 7.36196319018405e-06, 'epoch': 2.64}\n",
      "{'loss': 0.9749, 'grad_norm': 54.63496398925781, 'learning_rate': 7.300613496932516e-06, 'epoch': 2.7}\n",
      "{'loss': 0.9306, 'grad_norm': 20.201709747314453, 'learning_rate': 7.239263803680983e-06, 'epoch': 2.76}\n",
      "{'loss': 1.0164, 'grad_norm': 38.32099533081055, 'learning_rate': 7.177914110429448e-06, 'epoch': 2.82}\n",
      "{'loss': 1.0807, 'grad_norm': 37.72206497192383, 'learning_rate': 7.116564417177915e-06, 'epoch': 2.88}\n",
      "{'loss': 1.0326, 'grad_norm': 46.919246673583984, 'learning_rate': 7.055214723926381e-06, 'epoch': 2.94}\n"
     ]
    },
    {
     "data": {
      "application/vnd.jupyter.widget-view+json": {
       "model_id": "6e3d817997704284978aa854274c05bd",
       "version_major": 2,
       "version_minor": 0
      },
      "text/plain": [
       "  0%|          | 0/82 [00:00<?, ?it/s]"
      ]
     },
     "metadata": {},
     "output_type": "display_data"
    },
    {
     "name": "stdout",
     "output_type": "stream",
     "text": [
      "{'eval_loss': 1.0349671840667725, 'eval_runtime': 11.5981, 'eval_samples_per_second': 56.216, 'eval_steps_per_second': 7.07, 'epoch': 3.0}\n",
      "{'loss': 1.0096, 'grad_norm': 50.53632354736328, 'learning_rate': 6.993865030674847e-06, 'epoch': 3.01}\n",
      "{'loss': 0.9444, 'grad_norm': 31.426729202270508, 'learning_rate': 6.932515337423313e-06, 'epoch': 3.07}\n",
      "{'loss': 0.9713, 'grad_norm': 21.459531784057617, 'learning_rate': 6.87116564417178e-06, 'epoch': 3.13}\n",
      "{'loss': 0.9799, 'grad_norm': 36.96992492675781, 'learning_rate': 6.8098159509202454e-06, 'epoch': 3.19}\n",
      "{'loss': 0.9221, 'grad_norm': 60.33409881591797, 'learning_rate': 6.748466257668712e-06, 'epoch': 3.25}\n",
      "{'loss': 0.901, 'grad_norm': 28.11815643310547, 'learning_rate': 6.687116564417178e-06, 'epoch': 3.31}\n",
      "{'loss': 0.987, 'grad_norm': 27.77471351623535, 'learning_rate': 6.625766871165644e-06, 'epoch': 3.37}\n",
      "{'loss': 0.8629, 'grad_norm': 36.6774787902832, 'learning_rate': 6.5644171779141105e-06, 'epoch': 3.44}\n",
      "{'loss': 0.9245, 'grad_norm': 46.33632278442383, 'learning_rate': 6.503067484662578e-06, 'epoch': 3.5}\n",
      "{'loss': 0.9393, 'grad_norm': 36.768035888671875, 'learning_rate': 6.441717791411043e-06, 'epoch': 3.56}\n",
      "{'loss': 0.9226, 'grad_norm': 53.989479064941406, 'learning_rate': 6.38036809815951e-06, 'epoch': 3.62}\n",
      "{'loss': 0.8307, 'grad_norm': 35.65253448486328, 'learning_rate': 6.319018404907976e-06, 'epoch': 3.68}\n",
      "{'loss': 0.9385, 'grad_norm': 50.25059509277344, 'learning_rate': 6.257668711656443e-06, 'epoch': 3.74}\n",
      "{'loss': 0.88, 'grad_norm': 46.726932525634766, 'learning_rate': 6.1963190184049085e-06, 'epoch': 3.8}\n",
      "{'loss': 0.9413, 'grad_norm': 28.303165435791016, 'learning_rate': 6.134969325153375e-06, 'epoch': 3.87}\n",
      "{'loss': 0.8703, 'grad_norm': 50.721290588378906, 'learning_rate': 6.073619631901841e-06, 'epoch': 3.93}\n",
      "{'loss': 0.8805, 'grad_norm': 35.56425094604492, 'learning_rate': 6.012269938650307e-06, 'epoch': 3.99}\n"
     ]
    },
    {
     "data": {
      "application/vnd.jupyter.widget-view+json": {
       "model_id": "4ae6736df066437f93c4af891c1d1c59",
       "version_major": 2,
       "version_minor": 0
      },
      "text/plain": [
       "  0%|          | 0/82 [00:00<?, ?it/s]"
      ]
     },
     "metadata": {},
     "output_type": "display_data"
    },
    {
     "name": "stdout",
     "output_type": "stream",
     "text": [
      "{'eval_loss': 0.9874787926673889, 'eval_runtime': 12.1462, 'eval_samples_per_second': 53.679, 'eval_steps_per_second': 6.751, 'epoch': 4.0}\n",
      "{'loss': 0.7871, 'grad_norm': 46.6994514465332, 'learning_rate': 5.9509202453987735e-06, 'epoch': 4.05}\n",
      "{'loss': 0.8221, 'grad_norm': 31.809953689575195, 'learning_rate': 5.88957055214724e-06, 'epoch': 4.11}\n",
      "{'loss': 0.7641, 'grad_norm': 52.450035095214844, 'learning_rate': 5.828220858895706e-06, 'epoch': 4.17}\n",
      "{'loss': 0.7268, 'grad_norm': 26.51506996154785, 'learning_rate': 5.766871165644172e-06, 'epoch': 4.23}\n",
      "{'loss': 0.9007, 'grad_norm': 93.30152893066406, 'learning_rate': 5.7055214723926385e-06, 'epoch': 4.29}\n",
      "{'loss': 0.8132, 'grad_norm': 34.18144989013672, 'learning_rate': 5.644171779141104e-06, 'epoch': 4.36}\n",
      "{'loss': 0.8012, 'grad_norm': 75.18347930908203, 'learning_rate': 5.582822085889571e-06, 'epoch': 4.42}\n",
      "{'loss': 0.8906, 'grad_norm': 44.678993225097656, 'learning_rate': 5.521472392638038e-06, 'epoch': 4.48}\n",
      "{'loss': 0.8, 'grad_norm': 37.20041275024414, 'learning_rate': 5.460122699386503e-06, 'epoch': 4.54}\n",
      "{'loss': 0.7362, 'grad_norm': 46.8336181640625, 'learning_rate': 5.39877300613497e-06, 'epoch': 4.6}\n",
      "{'loss': 0.768, 'grad_norm': 74.51874542236328, 'learning_rate': 5.3374233128834365e-06, 'epoch': 4.66}\n",
      "{'loss': 0.7952, 'grad_norm': 44.33475112915039, 'learning_rate': 5.276073619631902e-06, 'epoch': 4.72}\n",
      "{'loss': 0.7294, 'grad_norm': 27.64525604248047, 'learning_rate': 5.214723926380369e-06, 'epoch': 4.79}\n",
      "{'loss': 0.8479, 'grad_norm': 124.2552261352539, 'learning_rate': 5.153374233128835e-06, 'epoch': 4.85}\n",
      "{'loss': 0.7694, 'grad_norm': 41.39670181274414, 'learning_rate': 5.092024539877301e-06, 'epoch': 4.91}\n",
      "{'loss': 0.8941, 'grad_norm': 39.98400115966797, 'learning_rate': 5.030674846625767e-06, 'epoch': 4.97}\n"
     ]
    },
    {
     "data": {
      "application/vnd.jupyter.widget-view+json": {
       "model_id": "cec39ae271fc4e79ac8f1f974cfb4b40",
       "version_major": 2,
       "version_minor": 0
      },
      "text/plain": [
       "  0%|          | 0/82 [00:00<?, ?it/s]"
      ]
     },
     "metadata": {},
     "output_type": "display_data"
    },
    {
     "name": "stdout",
     "output_type": "stream",
     "text": [
      "{'eval_loss': 0.9758394360542297, 'eval_runtime': 11.8888, 'eval_samples_per_second': 54.842, 'eval_steps_per_second': 6.897, 'epoch': 5.0}\n",
      "{'loss': 0.8139, 'grad_norm': 47.27320098876953, 'learning_rate': 4.969325153374234e-06, 'epoch': 5.03}\n",
      "{'loss': 0.7045, 'grad_norm': 38.224735260009766, 'learning_rate': 4.9079754601227e-06, 'epoch': 5.09}\n",
      "{'loss': 0.7414, 'grad_norm': 51.9744758605957, 'learning_rate': 4.846625766871166e-06, 'epoch': 5.15}\n",
      "{'loss': 0.7583, 'grad_norm': 59.335289001464844, 'learning_rate': 4.785276073619632e-06, 'epoch': 5.21}\n",
      "{'loss': 0.7679, 'grad_norm': 42.9998664855957, 'learning_rate': 4.723926380368099e-06, 'epoch': 5.28}\n",
      "{'loss': 0.7428, 'grad_norm': 56.09056091308594, 'learning_rate': 4.662576687116564e-06, 'epoch': 5.34}\n",
      "{'loss': 0.7467, 'grad_norm': 48.233638763427734, 'learning_rate': 4.601226993865031e-06, 'epoch': 5.4}\n",
      "{'loss': 0.7303, 'grad_norm': 59.06663513183594, 'learning_rate': 4.539877300613497e-06, 'epoch': 5.46}\n",
      "{'loss': 0.69, 'grad_norm': 52.650875091552734, 'learning_rate': 4.478527607361964e-06, 'epoch': 5.52}\n",
      "{'loss': 0.7222, 'grad_norm': 49.139076232910156, 'learning_rate': 4.41717791411043e-06, 'epoch': 5.58}\n",
      "{'loss': 0.6713, 'grad_norm': 58.33176803588867, 'learning_rate': 4.355828220858896e-06, 'epoch': 5.64}\n",
      "{'loss': 0.6947, 'grad_norm': 49.010009765625, 'learning_rate': 4.294478527607362e-06, 'epoch': 5.71}\n",
      "{'loss': 0.7266, 'grad_norm': 40.65850067138672, 'learning_rate': 4.233128834355829e-06, 'epoch': 5.77}\n",
      "{'loss': 0.6865, 'grad_norm': 73.57264709472656, 'learning_rate': 4.171779141104294e-06, 'epoch': 5.83}\n",
      "{'loss': 0.6442, 'grad_norm': 56.00260925292969, 'learning_rate': 4.110429447852761e-06, 'epoch': 5.89}\n",
      "{'loss': 0.677, 'grad_norm': 81.69200134277344, 'learning_rate': 4.049079754601227e-06, 'epoch': 5.95}\n"
     ]
    },
    {
     "data": {
      "application/vnd.jupyter.widget-view+json": {
       "model_id": "be806e934757449fa145513109d9de6c",
       "version_major": 2,
       "version_minor": 0
      },
      "text/plain": [
       "  0%|          | 0/82 [00:00<?, ?it/s]"
      ]
     },
     "metadata": {},
     "output_type": "display_data"
    },
    {
     "name": "stdout",
     "output_type": "stream",
     "text": [
      "{'eval_loss': 1.059325098991394, 'eval_runtime': 11.9707, 'eval_samples_per_second': 54.466, 'eval_steps_per_second': 6.85, 'epoch': 6.0}\n",
      "{'loss': 0.626, 'grad_norm': 90.37596130371094, 'learning_rate': 3.987730061349693e-06, 'epoch': 6.01}\n",
      "{'loss': 0.5991, 'grad_norm': 43.26423263549805, 'learning_rate': 3.92638036809816e-06, 'epoch': 6.07}\n",
      "{'loss': 0.6624, 'grad_norm': 54.66062545776367, 'learning_rate': 3.865030674846626e-06, 'epoch': 6.13}\n",
      "{'loss': 0.7408, 'grad_norm': 116.99553680419922, 'learning_rate': 3.8036809815950928e-06, 'epoch': 6.2}\n",
      "{'loss': 0.6744, 'grad_norm': 50.93684005737305, 'learning_rate': 3.742331288343559e-06, 'epoch': 6.26}\n",
      "{'loss': 0.6515, 'grad_norm': 63.56080627441406, 'learning_rate': 3.680981595092025e-06, 'epoch': 6.32}\n",
      "{'loss': 0.6429, 'grad_norm': 39.263004302978516, 'learning_rate': 3.6196319018404913e-06, 'epoch': 6.38}\n",
      "{'loss': 0.6858, 'grad_norm': 62.10142517089844, 'learning_rate': 3.5582822085889574e-06, 'epoch': 6.44}\n",
      "{'loss': 0.6662, 'grad_norm': 58.56875991821289, 'learning_rate': 3.4969325153374234e-06, 'epoch': 6.5}\n",
      "{'loss': 0.6521, 'grad_norm': 61.68584060668945, 'learning_rate': 3.43558282208589e-06, 'epoch': 6.56}\n",
      "{'loss': 0.6141, 'grad_norm': 43.8890380859375, 'learning_rate': 3.374233128834356e-06, 'epoch': 6.63}\n",
      "{'loss': 0.6095, 'grad_norm': 61.86410140991211, 'learning_rate': 3.312883435582822e-06, 'epoch': 6.69}\n",
      "{'loss': 0.6621, 'grad_norm': 40.098140716552734, 'learning_rate': 3.251533742331289e-06, 'epoch': 6.75}\n",
      "{'loss': 0.5861, 'grad_norm': 42.52786636352539, 'learning_rate': 3.190184049079755e-06, 'epoch': 6.81}\n",
      "{'loss': 0.6588, 'grad_norm': 44.76878356933594, 'learning_rate': 3.1288343558282214e-06, 'epoch': 6.87}\n",
      "{'loss': 0.6839, 'grad_norm': 43.12630844116211, 'learning_rate': 3.0674846625766875e-06, 'epoch': 6.93}\n",
      "{'loss': 0.6719, 'grad_norm': 96.96327209472656, 'learning_rate': 3.0061349693251535e-06, 'epoch': 6.99}\n"
     ]
    },
    {
     "data": {
      "application/vnd.jupyter.widget-view+json": {
       "model_id": "b6be777b6c584ccaabae6487ab51089e",
       "version_major": 2,
       "version_minor": 0
      },
      "text/plain": [
       "  0%|          | 0/82 [00:00<?, ?it/s]"
      ]
     },
     "metadata": {},
     "output_type": "display_data"
    },
    {
     "name": "stdout",
     "output_type": "stream",
     "text": [
      "{'eval_loss': 1.0247796773910522, 'eval_runtime': 12.0873, 'eval_samples_per_second': 53.941, 'eval_steps_per_second': 6.784, 'epoch': 7.0}\n",
      "{'train_runtime': 1459.9683, 'train_samples_per_second': 17.85, 'train_steps_per_second': 1.116, 'train_loss': 1.0036015860560064, 'epoch': 7.0}\n"
     ]
    },
    {
     "data": {
      "text/plain": [
       "TrainOutput(global_step=1141, training_loss=1.0036015860560064, metrics={'train_runtime': 1459.9683, 'train_samples_per_second': 17.85, 'train_steps_per_second': 1.116, 'total_flos': 1199961062286336.0, 'train_loss': 1.0036015860560064, 'epoch': 7.0})"
      ]
     },
     "execution_count": 10,
     "metadata": {},
     "output_type": "execute_result"
    }
   ],
   "source": [
    "# Train the model\n",
    "trainer.train()"
   ]
  },
  {
   "cell_type": "markdown",
   "metadata": {},
   "source": [
    "### **8. Evaluating the Model**\n",
    "Evaluate the model on the test set to check its performance using metrics like accuracy, precision, recall, and F1-score."
   ]
  },
  {
   "cell_type": "code",
   "execution_count": 11,
   "metadata": {},
   "outputs": [
    {
     "data": {
      "application/vnd.jupyter.widget-view+json": {
       "model_id": "dbfd61606687405bbc9d11971de51fb4",
       "version_major": 2,
       "version_minor": 0
      },
      "text/plain": [
       "  0%|          | 0/82 [00:00<?, ?it/s]"
      ]
     },
     "metadata": {},
     "output_type": "display_data"
    },
    {
     "name": "stdout",
     "output_type": "stream",
     "text": [
      "{'eval_loss': 0.9758394360542297, 'eval_runtime': 10.3069, 'eval_samples_per_second': 63.259, 'eval_steps_per_second': 7.956, 'epoch': 7.0}\n"
     ]
    },
    {
     "data": {
      "application/vnd.jupyter.widget-view+json": {
       "model_id": "daf31c687228469ab4c7136589055d07",
       "version_major": 2,
       "version_minor": 0
      },
      "text/plain": [
       "  0%|          | 0/82 [00:00<?, ?it/s]"
      ]
     },
     "metadata": {},
     "output_type": "display_data"
    },
    {
     "name": "stdout",
     "output_type": "stream",
     "text": [
      "              precision    recall  f1-score   support\n",
      "\n",
      "           0       0.68      0.72      0.70       108\n",
      "           1       0.52      0.48      0.50       108\n",
      "           2       0.54      0.67      0.60       109\n",
      "           3       0.44      0.48      0.46       109\n",
      "           4       0.52      0.35      0.42       109\n",
      "           5       0.73      0.76      0.75       109\n",
      "\n",
      "    accuracy                           0.58       652\n",
      "   macro avg       0.57      0.58      0.57       652\n",
      "weighted avg       0.57      0.58      0.57       652\n",
      "\n"
     ]
    }
   ],
   "source": [
    "# Evaluate the model\n",
    "results = trainer.evaluate(tokenized_datasets[\"test\"])\n",
    "print(results)\n",
    "\n",
    "# Compute additional metrics if needed\n",
    "from sklearn.metrics import classification_report\n",
    "\n",
    "# Extract true labels (y_true) from the test dataset\n",
    "y_true = test_data[\"difficulty\"].tolist()  # Ensure it's a list of integers\n",
    "\n",
    "# Predict the labels using the trained model\n",
    "y_pred = trainer.predict(tokenized_datasets[\"test\"]).predictions.argmax(axis=-1)\n",
    "\n",
    "# Generate the classification report\n",
    "from sklearn.metrics import classification_report\n",
    "print(classification_report(y_true, y_pred))\n"
   ]
  },
  {
   "cell_type": "code",
   "execution_count": 14,
   "metadata": {},
   "outputs": [
    {
     "data": {
      "text/plain": [
       "<sklearn.metrics._plot.confusion_matrix.ConfusionMatrixDisplay at 0x40a8a6520>"
      ]
     },
     "execution_count": 14,
     "metadata": {},
     "output_type": "execute_result"
    },
    {
     "data": {
      "image/png": "[encoded data removed]",
      "text/plain": [
       "<Figure size 640x480 with 2 Axes>"
      ]
     },
     "metadata": {},
     "output_type": "display_data"
    }
   ],
   "source": [
    "from sklearn.metrics import confusion_matrix, ConfusionMatrixDisplay\n",
    "\n",
    "# Compute confusion matrix\n",
    "conf_matrix = confusion_matrix(y_true, y_pred)\n",
    "\n",
    "# Display confusion matrix\n",
    "disp = ConfusionMatrixDisplay(confusion_matrix=conf_matrix, display_labels=[\"A1\", \"A2\", \"B1\", \"B2\", \"C1\", \"C2\"])\n",
    "disp.plot(cmap=\"viridis\")\n"
   ]
  }
 ],
 "metadata": {
  "kernelspec": {
   "display_name": "Python 3",
   "language": "python",
   "name": "python3"
  },
  "language_info": {
   "codemirror_mode": {
    "name": "ipython",
    "version": 3
   },
   "file_extension": ".py",
   "mimetype": "text/x-python",
   "name": "python",
   "nbconvert_exporter": "python",
   "pygments_lexer": "ipython3",
   "version": "3.9.6"
  }
 },
 "nbformat": 4,
 "nbformat_minor": 2
}
