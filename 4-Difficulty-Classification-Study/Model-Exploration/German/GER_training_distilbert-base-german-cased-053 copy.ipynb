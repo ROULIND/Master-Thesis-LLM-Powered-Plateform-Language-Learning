{
 "cells": [
  {
   "cell_type": "code",
   "execution_count": 1,
   "metadata": {},
   "outputs": [
    {
     "name": "stdout",
     "output_type": "stream",
     "text": [
      "Defaulting to user installation because normal site-packages is not writeable\n",
      "Requirement already satisfied: transformers in /Users/dimitriroulin/Library/Python/3.9/lib/python/site-packages (4.47.0)\n",
      "Requirement already satisfied: pyyaml>=5.1 in /Users/dimitriroulin/Library/Python/3.9/lib/python/site-packages (from transformers) (6.0.1)\n",
      "Requirement already satisfied: safetensors>=0.4.1 in /Users/dimitriroulin/Library/Python/3.9/lib/python/site-packages (from transformers) (0.4.5)\n",
      "Requirement already satisfied: tokenizers<0.22,>=0.21 in /Users/dimitriroulin/Library/Python/3.9/lib/python/site-packages (from transformers) (0.21.0)\n",
      "Requirement already satisfied: tqdm>=4.27 in /Users/dimitriroulin/Library/Python/3.9/lib/python/site-packages (from transformers) (4.67.1)\n",
      "Requirement already satisfied: packaging>=20.0 in /Users/dimitriroulin/Library/Python/3.9/lib/python/site-packages (from transformers) (23.1)\n",
      "Requirement already satisfied: filelock in /Users/dimitriroulin/Library/Python/3.9/lib/python/site-packages (from transformers) (3.16.1)\n",
      "Requirement already satisfied: regex!=2019.12.17 in /Users/dimitriroulin/Library/Python/3.9/lib/python/site-packages (from transformers) (2024.11.6)\n",
      "Requirement already satisfied: huggingface-hub<1.0,>=0.24.0 in /Users/dimitriroulin/Library/Python/3.9/lib/python/site-packages (from transformers) (0.26.5)\n",
      "Requirement already satisfied: requests in /Users/dimitriroulin/Library/Python/3.9/lib/python/site-packages (from transformers) (2.32.3)\n",
      "Requirement already satisfied: numpy>=1.17 in /Users/dimitriroulin/Library/Python/3.9/lib/python/site-packages (from transformers) (2.0.2)\n",
      "Requirement already satisfied: fsspec>=2023.5.0 in /Users/dimitriroulin/Library/Python/3.9/lib/python/site-packages (from huggingface-hub<1.0,>=0.24.0->transformers) (2024.9.0)\n",
      "Requirement already satisfied: typing-extensions>=3.7.4.3 in /Users/dimitriroulin/Library/Python/3.9/lib/python/site-packages (from huggingface-hub<1.0,>=0.24.0->transformers) (4.12.2)\n",
      "Requirement already satisfied: certifi>=2017.4.17 in /Users/dimitriroulin/Library/Python/3.9/lib/python/site-packages (from requests->transformers) (2023.7.22)\n",
      "Requirement already satisfied: urllib3<3,>=1.21.1 in /Users/dimitriroulin/Library/Python/3.9/lib/python/site-packages (from requests->transformers) (2.0.5)\n",
      "Requirement already satisfied: idna<4,>=2.5 in /Users/dimitriroulin/Library/Python/3.9/lib/python/site-packages (from requests->transformers) (3.4)\n",
      "Requirement already satisfied: charset-normalizer<4,>=2 in /Users/dimitriroulin/Library/Python/3.9/lib/python/site-packages (from requests->transformers) (3.2.0)\n",
      "\u001b[33mWARNING: You are using pip version 21.2.4; however, version 25.0 is available.\n",
      "You should consider upgrading via the '/Library/Developer/CommandLineTools/usr/bin/python3 -m pip install --upgrade pip' command.\u001b[0m\n",
      "Note: you may need to restart the kernel to use updated packages.\n",
      "Defaulting to user installation because normal site-packages is not writeable\n",
      "Requirement already satisfied: datasets in /Users/dimitriroulin/Library/Python/3.9/lib/python/site-packages (3.2.0)\n",
      "Requirement already satisfied: pyyaml>=5.1 in /Users/dimitriroulin/Library/Python/3.9/lib/python/site-packages (from datasets) (6.0.1)\n",
      "Requirement already satisfied: filelock in /Users/dimitriroulin/Library/Python/3.9/lib/python/site-packages (from datasets) (3.16.1)\n",
      "Requirement already satisfied: xxhash in /Users/dimitriroulin/Library/Python/3.9/lib/python/site-packages (from datasets) (3.5.0)\n",
      "Requirement already satisfied: packaging in /Users/dimitriroulin/Library/Python/3.9/lib/python/site-packages (from datasets) (23.1)\n",
      "Requirement already satisfied: huggingface-hub>=0.23.0 in /Users/dimitriroulin/Library/Python/3.9/lib/python/site-packages (from datasets) (0.26.5)\n",
      "Requirement already satisfied: tqdm>=4.66.3 in /Users/dimitriroulin/Library/Python/3.9/lib/python/site-packages (from datasets) (4.67.1)\n",
      "Requirement already satisfied: numpy>=1.17 in /Users/dimitriroulin/Library/Python/3.9/lib/python/site-packages (from datasets) (2.0.2)\n",
      "Requirement already satisfied: pyarrow>=15.0.0 in /Users/dimitriroulin/Library/Python/3.9/lib/python/site-packages (from datasets) (18.1.0)\n",
      "Requirement already satisfied: fsspec[http]<=2024.9.0,>=2023.1.0 in /Users/dimitriroulin/Library/Python/3.9/lib/python/site-packages (from datasets) (2024.9.0)\n",
      "Requirement already satisfied: requests>=2.32.2 in /Users/dimitriroulin/Library/Python/3.9/lib/python/site-packages (from datasets) (2.32.3)\n",
      "Requirement already satisfied: pandas in /Users/dimitriroulin/Library/Python/3.9/lib/python/site-packages (from datasets) (2.2.3)\n",
      "Requirement already satisfied: aiohttp in /Users/dimitriroulin/Library/Python/3.9/lib/python/site-packages (from datasets) (3.11.10)\n",
      "Requirement already satisfied: multiprocess<0.70.17 in /Users/dimitriroulin/Library/Python/3.9/lib/python/site-packages (from datasets) (0.70.16)\n",
      "Requirement already satisfied: dill<0.3.9,>=0.3.0 in /Users/dimitriroulin/Library/Python/3.9/lib/python/site-packages (from datasets) (0.3.8)\n",
      "Requirement already satisfied: yarl<2.0,>=1.17.0 in /Users/dimitriroulin/Library/Python/3.9/lib/python/site-packages (from aiohttp->datasets) (1.18.3)\n",
      "Requirement already satisfied: frozenlist>=1.1.1 in /Users/dimitriroulin/Library/Python/3.9/lib/python/site-packages (from aiohttp->datasets) (1.5.0)\n",
      "Requirement already satisfied: propcache>=0.2.0 in /Users/dimitriroulin/Library/Python/3.9/lib/python/site-packages (from aiohttp->datasets) (0.2.1)\n",
      "Requirement already satisfied: aiohappyeyeballs>=2.3.0 in /Users/dimitriroulin/Library/Python/3.9/lib/python/site-packages (from aiohttp->datasets) (2.4.4)\n",
      "Requirement already satisfied: attrs>=17.3.0 in /Users/dimitriroulin/Library/Python/3.9/lib/python/site-packages (from aiohttp->datasets) (23.1.0)\n",
      "Requirement already satisfied: multidict<7.0,>=4.5 in /Users/dimitriroulin/Library/Python/3.9/lib/python/site-packages (from aiohttp->datasets) (6.1.0)\n",
      "Requirement already satisfied: aiosignal>=1.1.2 in /Users/dimitriroulin/Library/Python/3.9/lib/python/site-packages (from aiohttp->datasets) (1.3.1)\n",
      "Requirement already satisfied: async-timeout<6.0,>=4.0 in /Users/dimitriroulin/Library/Python/3.9/lib/python/site-packages (from aiohttp->datasets) (5.0.1)\n",
      "Requirement already satisfied: typing-extensions>=3.7.4.3 in /Users/dimitriroulin/Library/Python/3.9/lib/python/site-packages (from huggingface-hub>=0.23.0->datasets) (4.12.2)\n",
      "Requirement already satisfied: charset-normalizer<4,>=2 in /Users/dimitriroulin/Library/Python/3.9/lib/python/site-packages (from requests>=2.32.2->datasets) (3.2.0)\n",
      "Requirement already satisfied: idna<4,>=2.5 in /Users/dimitriroulin/Library/Python/3.9/lib/python/site-packages (from requests>=2.32.2->datasets) (3.4)\n",
      "Requirement already satisfied: urllib3<3,>=1.21.1 in /Users/dimitriroulin/Library/Python/3.9/lib/python/site-packages (from requests>=2.32.2->datasets) (2.0.5)\n",
      "Requirement already satisfied: certifi>=2017.4.17 in /Users/dimitriroulin/Library/Python/3.9/lib/python/site-packages (from requests>=2.32.2->datasets) (2023.7.22)\n",
      "Requirement already satisfied: pytz>=2020.1 in /Users/dimitriroulin/Library/Python/3.9/lib/python/site-packages (from pandas->datasets) (2024.2)\n",
      "Requirement already satisfied: python-dateutil>=2.8.2 in /Users/dimitriroulin/Library/Python/3.9/lib/python/site-packages (from pandas->datasets) (2.8.2)\n",
      "Requirement already satisfied: tzdata>=2022.7 in /Users/dimitriroulin/Library/Python/3.9/lib/python/site-packages (from pandas->datasets) (2024.2)\n",
      "Requirement already satisfied: six>=1.5 in /Library/Developer/CommandLineTools/Library/Frameworks/Python3.framework/Versions/3.9/lib/python3.9/site-packages (from python-dateutil>=2.8.2->pandas->datasets) (1.15.0)\n",
      "\u001b[33mWARNING: You are using pip version 21.2.4; however, version 25.0 is available.\n",
      "You should consider upgrading via the '/Library/Developer/CommandLineTools/usr/bin/python3 -m pip install --upgrade pip' command.\u001b[0m\n",
      "Note: you may need to restart the kernel to use updated packages.\n",
      "Defaulting to user installation because normal site-packages is not writeable\n",
      "Requirement already satisfied: scikit-learn in /Users/dimitriroulin/Library/Python/3.9/lib/python/site-packages (1.6.0)\n",
      "Requirement already satisfied: numpy>=1.19.5 in /Users/dimitriroulin/Library/Python/3.9/lib/python/site-packages (from scikit-learn) (2.0.2)\n",
      "Requirement already satisfied: scipy>=1.6.0 in /Users/dimitriroulin/Library/Python/3.9/lib/python/site-packages (from scikit-learn) (1.13.1)\n",
      "Requirement already satisfied: joblib>=1.2.0 in /Users/dimitriroulin/Library/Python/3.9/lib/python/site-packages (from scikit-learn) (1.4.2)\n",
      "Requirement already satisfied: threadpoolctl>=3.1.0 in /Users/dimitriroulin/Library/Python/3.9/lib/python/site-packages (from scikit-learn) (3.5.0)\n",
      "\u001b[33mWARNING: You are using pip version 21.2.4; however, version 25.0 is available.\n",
      "You should consider upgrading via the '/Library/Developer/CommandLineTools/usr/bin/python3 -m pip install --upgrade pip' command.\u001b[0m\n",
      "Note: you may need to restart the kernel to use updated packages.\n",
      "Defaulting to user installation because normal site-packages is not writeable\n",
      "Requirement already satisfied: torch in /Users/dimitriroulin/Library/Python/3.9/lib/python/site-packages (2.5.1)\n",
      "Requirement already satisfied: filelock in /Users/dimitriroulin/Library/Python/3.9/lib/python/site-packages (from torch) (3.16.1)\n",
      "Requirement already satisfied: typing-extensions>=4.8.0 in /Users/dimitriroulin/Library/Python/3.9/lib/python/site-packages (from torch) (4.12.2)\n",
      "Requirement already satisfied: fsspec in /Users/dimitriroulin/Library/Python/3.9/lib/python/site-packages (from torch) (2024.9.0)\n",
      "Requirement already satisfied: sympy==1.13.1 in /Users/dimitriroulin/Library/Python/3.9/lib/python/site-packages (from torch) (1.13.1)\n",
      "Requirement already satisfied: jinja2 in /Users/dimitriroulin/Library/Python/3.9/lib/python/site-packages (from torch) (3.1.2)\n",
      "Requirement already satisfied: networkx in /Users/dimitriroulin/Library/Python/3.9/lib/python/site-packages (from torch) (3.2.1)\n",
      "Requirement already satisfied: mpmath<1.4,>=1.1.0 in /Users/dimitriroulin/Library/Python/3.9/lib/python/site-packages (from sympy==1.13.1->torch) (1.3.0)\n",
      "Requirement already satisfied: MarkupSafe>=2.0 in /Users/dimitriroulin/Library/Python/3.9/lib/python/site-packages (from jinja2->torch) (2.1.3)\n",
      "\u001b[33mWARNING: You are using pip version 21.2.4; however, version 25.0 is available.\n",
      "You should consider upgrading via the '/Library/Developer/CommandLineTools/usr/bin/python3 -m pip install --upgrade pip' command.\u001b[0m\n",
      "Note: you may need to restart the kernel to use updated packages.\n",
      "Defaulting to user installation because normal site-packages is not writeable\n",
      "Requirement already satisfied: datasets in /Users/dimitriroulin/Library/Python/3.9/lib/python/site-packages (3.2.0)\n",
      "Requirement already satisfied: requests>=2.32.2 in /Users/dimitriroulin/Library/Python/3.9/lib/python/site-packages (from datasets) (2.32.3)\n",
      "Requirement already satisfied: pyarrow>=15.0.0 in /Users/dimitriroulin/Library/Python/3.9/lib/python/site-packages (from datasets) (18.1.0)\n",
      "Requirement already satisfied: xxhash in /Users/dimitriroulin/Library/Python/3.9/lib/python/site-packages (from datasets) (3.5.0)\n",
      "Requirement already satisfied: huggingface-hub>=0.23.0 in /Users/dimitriroulin/Library/Python/3.9/lib/python/site-packages (from datasets) (0.26.5)\n",
      "Requirement already satisfied: packaging in /Users/dimitriroulin/Library/Python/3.9/lib/python/site-packages (from datasets) (23.1)\n",
      "Requirement already satisfied: aiohttp in /Users/dimitriroulin/Library/Python/3.9/lib/python/site-packages (from datasets) (3.11.10)\n",
      "Requirement already satisfied: dill<0.3.9,>=0.3.0 in /Users/dimitriroulin/Library/Python/3.9/lib/python/site-packages (from datasets) (0.3.8)\n",
      "Requirement already satisfied: tqdm>=4.66.3 in /Users/dimitriroulin/Library/Python/3.9/lib/python/site-packages (from datasets) (4.67.1)\n",
      "Requirement already satisfied: numpy>=1.17 in /Users/dimitriroulin/Library/Python/3.9/lib/python/site-packages (from datasets) (2.0.2)\n",
      "Requirement already satisfied: pandas in /Users/dimitriroulin/Library/Python/3.9/lib/python/site-packages (from datasets) (2.2.3)\n",
      "Requirement already satisfied: fsspec[http]<=2024.9.0,>=2023.1.0 in /Users/dimitriroulin/Library/Python/3.9/lib/python/site-packages (from datasets) (2024.9.0)\n",
      "Requirement already satisfied: multiprocess<0.70.17 in /Users/dimitriroulin/Library/Python/3.9/lib/python/site-packages (from datasets) (0.70.16)\n",
      "Requirement already satisfied: pyyaml>=5.1 in /Users/dimitriroulin/Library/Python/3.9/lib/python/site-packages (from datasets) (6.0.1)\n",
      "Requirement already satisfied: filelock in /Users/dimitriroulin/Library/Python/3.9/lib/python/site-packages (from datasets) (3.16.1)\n",
      "Requirement already satisfied: frozenlist>=1.1.1 in /Users/dimitriroulin/Library/Python/3.9/lib/python/site-packages (from aiohttp->datasets) (1.5.0)\n",
      "Requirement already satisfied: async-timeout<6.0,>=4.0 in /Users/dimitriroulin/Library/Python/3.9/lib/python/site-packages (from aiohttp->datasets) (5.0.1)\n",
      "Requirement already satisfied: aiohappyeyeballs>=2.3.0 in /Users/dimitriroulin/Library/Python/3.9/lib/python/site-packages (from aiohttp->datasets) (2.4.4)\n",
      "Requirement already satisfied: attrs>=17.3.0 in /Users/dimitriroulin/Library/Python/3.9/lib/python/site-packages (from aiohttp->datasets) (23.1.0)\n",
      "Requirement already satisfied: propcache>=0.2.0 in /Users/dimitriroulin/Library/Python/3.9/lib/python/site-packages (from aiohttp->datasets) (0.2.1)\n",
      "Requirement already satisfied: aiosignal>=1.1.2 in /Users/dimitriroulin/Library/Python/3.9/lib/python/site-packages (from aiohttp->datasets) (1.3.1)\n",
      "Requirement already satisfied: yarl<2.0,>=1.17.0 in /Users/dimitriroulin/Library/Python/3.9/lib/python/site-packages (from aiohttp->datasets) (1.18.3)\n",
      "Requirement already satisfied: multidict<7.0,>=4.5 in /Users/dimitriroulin/Library/Python/3.9/lib/python/site-packages (from aiohttp->datasets) (6.1.0)\n",
      "Requirement already satisfied: typing-extensions>=3.7.4.3 in /Users/dimitriroulin/Library/Python/3.9/lib/python/site-packages (from huggingface-hub>=0.23.0->datasets) (4.12.2)\n",
      "Requirement already satisfied: charset-normalizer<4,>=2 in /Users/dimitriroulin/Library/Python/3.9/lib/python/site-packages (from requests>=2.32.2->datasets) (3.2.0)\n",
      "Requirement already satisfied: certifi>=2017.4.17 in /Users/dimitriroulin/Library/Python/3.9/lib/python/site-packages (from requests>=2.32.2->datasets) (2023.7.22)\n",
      "Requirement already satisfied: idna<4,>=2.5 in /Users/dimitriroulin/Library/Python/3.9/lib/python/site-packages (from requests>=2.32.2->datasets) (3.4)\n",
      "Requirement already satisfied: urllib3<3,>=1.21.1 in /Users/dimitriroulin/Library/Python/3.9/lib/python/site-packages (from requests>=2.32.2->datasets) (2.0.5)\n",
      "Requirement already satisfied: tzdata>=2022.7 in /Users/dimitriroulin/Library/Python/3.9/lib/python/site-packages (from pandas->datasets) (2024.2)\n",
      "Requirement already satisfied: python-dateutil>=2.8.2 in /Users/dimitriroulin/Library/Python/3.9/lib/python/site-packages (from pandas->datasets) (2.8.2)\n",
      "Requirement already satisfied: pytz>=2020.1 in /Users/dimitriroulin/Library/Python/3.9/lib/python/site-packages (from pandas->datasets) (2024.2)\n",
      "Requirement already satisfied: six>=1.5 in /Library/Developer/CommandLineTools/Library/Frameworks/Python3.framework/Versions/3.9/lib/python3.9/site-packages (from python-dateutil>=2.8.2->pandas->datasets) (1.15.0)\n",
      "\u001b[33mWARNING: You are using pip version 21.2.4; however, version 25.0 is available.\n",
      "You should consider upgrading via the '/Library/Developer/CommandLineTools/usr/bin/python3 -m pip install --upgrade pip' command.\u001b[0m\n",
      "Note: you may need to restart the kernel to use updated packages.\n",
      "Defaulting to user installation because normal site-packages is not writeable\n",
      "Requirement already satisfied: accelerate in /Users/dimitriroulin/Library/Python/3.9/lib/python/site-packages (1.2.0)\n",
      "Requirement already satisfied: huggingface-hub>=0.21.0 in /Users/dimitriroulin/Library/Python/3.9/lib/python/site-packages (from accelerate) (0.26.5)\n",
      "Requirement already satisfied: packaging>=20.0 in /Users/dimitriroulin/Library/Python/3.9/lib/python/site-packages (from accelerate) (23.1)\n",
      "Requirement already satisfied: psutil in /Users/dimitriroulin/Library/Python/3.9/lib/python/site-packages (from accelerate) (5.9.5)\n",
      "Requirement already satisfied: safetensors>=0.4.3 in /Users/dimitriroulin/Library/Python/3.9/lib/python/site-packages (from accelerate) (0.4.5)\n",
      "Requirement already satisfied: numpy<3.0.0,>=1.17 in /Users/dimitriroulin/Library/Python/3.9/lib/python/site-packages (from accelerate) (2.0.2)\n",
      "Requirement already satisfied: torch>=1.10.0 in /Users/dimitriroulin/Library/Python/3.9/lib/python/site-packages (from accelerate) (2.5.1)\n",
      "Requirement already satisfied: pyyaml in /Users/dimitriroulin/Library/Python/3.9/lib/python/site-packages (from accelerate) (6.0.1)\n",
      "Requirement already satisfied: tqdm>=4.42.1 in /Users/dimitriroulin/Library/Python/3.9/lib/python/site-packages (from huggingface-hub>=0.21.0->accelerate) (4.67.1)\n",
      "Requirement already satisfied: filelock in /Users/dimitriroulin/Library/Python/3.9/lib/python/site-packages (from huggingface-hub>=0.21.0->accelerate) (3.16.1)\n",
      "Requirement already satisfied: typing-extensions>=3.7.4.3 in /Users/dimitriroulin/Library/Python/3.9/lib/python/site-packages (from huggingface-hub>=0.21.0->accelerate) (4.12.2)\n",
      "Requirement already satisfied: fsspec>=2023.5.0 in /Users/dimitriroulin/Library/Python/3.9/lib/python/site-packages (from huggingface-hub>=0.21.0->accelerate) (2024.9.0)\n",
      "Requirement already satisfied: requests in /Users/dimitriroulin/Library/Python/3.9/lib/python/site-packages (from huggingface-hub>=0.21.0->accelerate) (2.32.3)\n",
      "Requirement already satisfied: sympy==1.13.1 in /Users/dimitriroulin/Library/Python/3.9/lib/python/site-packages (from torch>=1.10.0->accelerate) (1.13.1)\n",
      "Requirement already satisfied: networkx in /Users/dimitriroulin/Library/Python/3.9/lib/python/site-packages (from torch>=1.10.0->accelerate) (3.2.1)\n",
      "Requirement already satisfied: jinja2 in /Users/dimitriroulin/Library/Python/3.9/lib/python/site-packages (from torch>=1.10.0->accelerate) (3.1.2)\n",
      "Requirement already satisfied: mpmath<1.4,>=1.1.0 in /Users/dimitriroulin/Library/Python/3.9/lib/python/site-packages (from sympy==1.13.1->torch>=1.10.0->accelerate) (1.3.0)\n",
      "Requirement already satisfied: MarkupSafe>=2.0 in /Users/dimitriroulin/Library/Python/3.9/lib/python/site-packages (from jinja2->torch>=1.10.0->accelerate) (2.1.3)\n",
      "Requirement already satisfied: charset-normalizer<4,>=2 in /Users/dimitriroulin/Library/Python/3.9/lib/python/site-packages (from requests->huggingface-hub>=0.21.0->accelerate) (3.2.0)\n",
      "Requirement already satisfied: urllib3<3,>=1.21.1 in /Users/dimitriroulin/Library/Python/3.9/lib/python/site-packages (from requests->huggingface-hub>=0.21.0->accelerate) (2.0.5)\n",
      "Requirement already satisfied: certifi>=2017.4.17 in /Users/dimitriroulin/Library/Python/3.9/lib/python/site-packages (from requests->huggingface-hub>=0.21.0->accelerate) (2023.7.22)\n",
      "Requirement already satisfied: idna<4,>=2.5 in /Users/dimitriroulin/Library/Python/3.9/lib/python/site-packages (from requests->huggingface-hub>=0.21.0->accelerate) (3.4)\n",
      "\u001b[33mWARNING: You are using pip version 21.2.4; however, version 25.0 is available.\n",
      "You should consider upgrading via the '/Library/Developer/CommandLineTools/usr/bin/python3 -m pip install --upgrade pip' command.\u001b[0m\n",
      "Note: you may need to restart the kernel to use updated packages.\n"
     ]
    }
   ],
   "source": [
    "%pip install transformers \n",
    "%pip install datasets \n",
    "%pip install scikit-learn\n",
    "%pip install torch\n",
    "%pip install datasets\n",
    "%pip install accelerate"
   ]
  },
  {
   "cell_type": "markdown",
   "metadata": {},
   "source": [
    "### **1. Loading the Data**\n",
    "In this part, we load the dataset from a CSV file and preprocess it. We also convert the difficulty levels into numeric labels for classification."
   ]
  },
  {
   "cell_type": "code",
   "execution_count": 1,
   "metadata": {},
   "outputs": [
    {
     "name": "stderr",
     "output_type": "stream",
     "text": [
      "/Users/dimitriroulin/Library/Python/3.9/lib/python/site-packages/urllib3/__init__.py:34: NotOpenSSLWarning: urllib3 v2.0 only supports OpenSSL 1.1.1+, currently the 'ssl' module is compiled with 'LibreSSL 2.8.3'. See: https://github.com/urllib3/urllib3/issues/3020\n",
      "  warnings.warn(\n"
     ]
    },
    {
     "data": {
      "text/html": [
       "<div>\n",
       "<style scoped>\n",
       "    .dataframe tbody tr th:only-of-type {\n",
       "        vertical-align: middle;\n",
       "    }\n",
       "\n",
       "    .dataframe tbody tr th {\n",
       "        vertical-align: top;\n",
       "    }\n",
       "\n",
       "    .dataframe thead th {\n",
       "        text-align: right;\n",
       "    }\n",
       "</style>\n",
       "<table border=\"1\" class=\"dataframe\">\n",
       "  <thead>\n",
       "    <tr style=\"text-align: right;\">\n",
       "      <th></th>\n",
       "      <th>sentence</th>\n",
       "      <th>difficulty</th>\n",
       "      <th>sentence_length</th>\n",
       "      <th>difficulty_label</th>\n",
       "    </tr>\n",
       "  </thead>\n",
       "  <tbody>\n",
       "    <tr>\n",
       "      <th>0</th>\n",
       "      <td>Der Tierarzt sieht den Vogel an.</td>\n",
       "      <td>0</td>\n",
       "      <td>6</td>\n",
       "      <td>A1</td>\n",
       "    </tr>\n",
       "    <tr>\n",
       "      <th>1</th>\n",
       "      <td>Schönen Merlan mitnehmen hier, für zehn Euro h...</td>\n",
       "      <td>0</td>\n",
       "      <td>8</td>\n",
       "      <td>A1</td>\n",
       "    </tr>\n",
       "    <tr>\n",
       "      <th>2</th>\n",
       "      <td>Das wollen sie feiern.</td>\n",
       "      <td>0</td>\n",
       "      <td>4</td>\n",
       "      <td>A1</td>\n",
       "    </tr>\n",
       "    <tr>\n",
       "      <th>3</th>\n",
       "      <td>Sie kommt heute mit.</td>\n",
       "      <td>0</td>\n",
       "      <td>4</td>\n",
       "      <td>A1</td>\n",
       "    </tr>\n",
       "    <tr>\n",
       "      <th>4</th>\n",
       "      <td>Lena legt die Tasche auf den Boden.</td>\n",
       "      <td>0</td>\n",
       "      <td>7</td>\n",
       "      <td>A1</td>\n",
       "    </tr>\n",
       "    <tr>\n",
       "      <th>5</th>\n",
       "      <td>Alexander geht in sein Zimmer.</td>\n",
       "      <td>0</td>\n",
       "      <td>5</td>\n",
       "      <td>A1</td>\n",
       "    </tr>\n",
       "    <tr>\n",
       "      <th>6</th>\n",
       "      <td>Eine Polizistin öffnet die Tür.</td>\n",
       "      <td>0</td>\n",
       "      <td>5</td>\n",
       "      <td>A1</td>\n",
       "    </tr>\n",
       "    <tr>\n",
       "      <th>7</th>\n",
       "      <td>„Ich höre etwas.</td>\n",
       "      <td>0</td>\n",
       "      <td>3</td>\n",
       "      <td>A1</td>\n",
       "    </tr>\n",
       "    <tr>\n",
       "      <th>8</th>\n",
       "      <td>Manchmal haben die Kunden eine Frage.</td>\n",
       "      <td>0</td>\n",
       "      <td>6</td>\n",
       "      <td>A1</td>\n",
       "    </tr>\n",
       "    <tr>\n",
       "      <th>9</th>\n",
       "      <td>Oder können Sie backen?</td>\n",
       "      <td>0</td>\n",
       "      <td>4</td>\n",
       "      <td>A1</td>\n",
       "    </tr>\n",
       "  </tbody>\n",
       "</table>\n",
       "</div>"
      ],
      "text/plain": [
       "                                            sentence  difficulty  \\\n",
       "0                   Der Tierarzt sieht den Vogel an.           0   \n",
       "1  Schönen Merlan mitnehmen hier, für zehn Euro h...           0   \n",
       "2                             Das wollen sie feiern.           0   \n",
       "3                               Sie kommt heute mit.           0   \n",
       "4                Lena legt die Tasche auf den Boden.           0   \n",
       "5                     Alexander geht in sein Zimmer.           0   \n",
       "6                    Eine Polizistin öffnet die Tür.           0   \n",
       "7                                   „Ich höre etwas.           0   \n",
       "8              Manchmal haben die Kunden eine Frage.           0   \n",
       "9                            Oder können Sie backen?           0   \n",
       "\n",
       "   sentence_length difficulty_label  \n",
       "0                6               A1  \n",
       "1                8               A1  \n",
       "2                4               A1  \n",
       "3                4               A1  \n",
       "4                7               A1  \n",
       "5                5               A1  \n",
       "6                5               A1  \n",
       "7                3               A1  \n",
       "8                6               A1  \n",
       "9                4               A1  "
      ]
     },
     "metadata": {},
     "output_type": "display_data"
    },
    {
     "data": {
      "text/plain": [
       "difficulty\n",
       "0    543\n",
       "1    543\n",
       "2    543\n",
       "3    543\n",
       "4    543\n",
       "5    543\n",
       "Name: count, dtype: int64"
      ]
     },
     "execution_count": 1,
     "metadata": {},
     "output_type": "execute_result"
    }
   ],
   "source": [
    "import pandas as pd\n",
    "from sklearn.model_selection import train_test_split\n",
    "from datasets import Dataset, DatasetDict\n",
    "\n",
    "file_path = \"./Data/combined_balanced_CEFR_sentences.csv\"\n",
    "\n",
    "# Load your dataset\n",
    "data = pd.read_csv(file_path)\n",
    "\n",
    "# Create a new coloumn to store the difficulty labels\n",
    "data[\"difficulty_label\"] = data[\"difficulty\"]\n",
    "\n",
    "# Convert difficulty column to numeric labels\n",
    "data[\"difficulty\"] = data[\"difficulty\"].astype(\"category\").cat.codes\n",
    "\n",
    "# Display the first few rows of the dataset\n",
    "display(data.head(10))\n",
    "\n",
    "# Display the number of samples in each difficulty category\n",
    "data[\"difficulty\"].value_counts()"
   ]
  },
  {
   "cell_type": "markdown",
   "metadata": {},
   "source": [
    "### **2. Splitting the Dataset**\n",
    "Here, we split the dataset into training, test sets using an 80%-20% split. Stratification ensures that class distribution is preserved across splits."
   ]
  },
  {
   "cell_type": "code",
   "execution_count": 2,
   "metadata": {},
   "outputs": [
    {
     "name": "stdout",
     "output_type": "stream",
     "text": [
      "Train size: 2606\n",
      "Test size: 652\n"
     ]
    }
   ],
   "source": [
    "# Split the data into train (70%), validation (20%), and test (10%)\n",
    "train_data, test_data = train_test_split(data, test_size=0.2, stratify=data[\"difficulty\"], random_state=42)\n",
    "\n",
    "\n",
    "print(f\"Train size: {len(train_data)}\")\n",
    "print(f\"Test size: {len(test_data)}\")"
   ]
  },
  {
   "cell_type": "markdown",
   "metadata": {},
   "source": [
    "\n",
    "### **3. Preparing the Hugging Face Dataset**\n",
    "In this step, we convert the dataset into the Hugging Face `Dataset` format and create a `DatasetDict` for easier handling in the `transformers` library."
   ]
  },
  {
   "cell_type": "code",
   "execution_count": 3,
   "metadata": {},
   "outputs": [
    {
     "name": "stdout",
     "output_type": "stream",
     "text": [
      "DatasetDict({\n",
      "    train: Dataset({\n",
      "        features: ['sentence', 'difficulty', 'sentence_length', 'difficulty_label', '__index_level_0__'],\n",
      "        num_rows: 2606\n",
      "    })\n",
      "    test: Dataset({\n",
      "        features: ['sentence', 'difficulty', 'sentence_length', 'difficulty_label', '__index_level_0__'],\n",
      "        num_rows: 652\n",
      "    })\n",
      "})\n"
     ]
    }
   ],
   "source": [
    "# Convert to Hugging Face Dataset format\n",
    "test_dataset = Dataset.from_pandas(test_data)\n",
    "train_dataset = Dataset.from_pandas(train_data)\n",
    "\n",
    "# Create a DatasetDict\n",
    "dataset = DatasetDict({\n",
    "    \"train\": train_dataset,\n",
    "    \"test\": test_dataset\n",
    "})\n",
    "\n",
    "print(dataset)"
   ]
  },
  {
   "cell_type": "markdown",
   "metadata": {},
   "source": [
    "\n",
    "### **4. Tokenizing the Dataset**\n",
    "Here, we load the tokenizer for `xlm-roberta-base` and tokenize the sentences. We also assign numeric labels for classification."
   ]
  },
  {
   "cell_type": "code",
   "execution_count": 12,
   "metadata": {},
   "outputs": [
    {
     "data": {
      "application/vnd.jupyter.widget-view+json": {
       "model_id": "3eeb2c3f9a17410e933ba76db5f1eb74",
       "version_major": 2,
       "version_minor": 0
      },
      "text/plain": [
       "tokenizer_config.json:   0%|          | 0.00/49.0 [00:00<?, ?B/s]"
      ]
     },
     "metadata": {},
     "output_type": "display_data"
    },
    {
     "data": {
      "application/vnd.jupyter.widget-view+json": {
       "model_id": "3c3837fc283b4659a858c8f9daa4b41a",
       "version_major": 2,
       "version_minor": 0
      },
      "text/plain": [
       "config.json:   0%|          | 0.00/464 [00:00<?, ?B/s]"
      ]
     },
     "metadata": {},
     "output_type": "display_data"
    },
    {
     "data": {
      "application/vnd.jupyter.widget-view+json": {
       "model_id": "72961d05d84548fabb3ec851c785bfb6",
       "version_major": 2,
       "version_minor": 0
      },
      "text/plain": [
       "vocab.txt:   0%|          | 0.00/240k [00:00<?, ?B/s]"
      ]
     },
     "metadata": {},
     "output_type": "display_data"
    },
    {
     "data": {
      "application/vnd.jupyter.widget-view+json": {
       "model_id": "d3228dec93c040cb8f679e308ce7c946",
       "version_major": 2,
       "version_minor": 0
      },
      "text/plain": [
       "tokenizer.json:   0%|          | 0.00/479k [00:00<?, ?B/s]"
      ]
     },
     "metadata": {},
     "output_type": "display_data"
    },
    {
     "data": {
      "application/vnd.jupyter.widget-view+json": {
       "model_id": "b555758bb5e443ebb48c6379b5ccdee4",
       "version_major": 2,
       "version_minor": 0
      },
      "text/plain": [
       "Map (num_proc=4):   0%|          | 0/2606 [00:00<?, ? examples/s]"
      ]
     },
     "metadata": {},
     "output_type": "display_data"
    },
    {
     "data": {
      "application/vnd.jupyter.widget-view+json": {
       "model_id": "25b637a740a643a2a1c26ae8b021762d",
       "version_major": 2,
       "version_minor": 0
      },
      "text/plain": [
       "Map (num_proc=4):   0%|          | 0/652 [00:00<?, ? examples/s]"
      ]
     },
     "metadata": {},
     "output_type": "display_data"
    },
    {
     "name": "stdout",
     "output_type": "stream",
     "text": [
      "{'sentence': 'Und auf den Bergen liegt Schnee.', 'difficulty': 0, 'sentence_length': 6, 'difficulty_label': 'A1', '__index_level_0__': 86, 'input_ids': [102, 700, 216, 190, 12950, 1250, 10229, 566, 103, 0, 0, 0, 0, 0, 0, 0, 0, 0, 0, 0, 0, 0, 0, 0, 0, 0, 0, 0, 0, 0, 0, 0, 0, 0, 0, 0, 0, 0, 0, 0, 0, 0, 0, 0, 0, 0, 0, 0, 0, 0, 0, 0, 0, 0, 0, 0, 0, 0, 0, 0, 0, 0, 0, 0, 0, 0, 0, 0, 0, 0, 0, 0, 0, 0, 0, 0, 0, 0, 0, 0, 0, 0, 0, 0, 0, 0, 0, 0, 0, 0, 0, 0, 0, 0, 0, 0, 0, 0, 0, 0, 0, 0, 0, 0, 0, 0, 0, 0, 0, 0, 0, 0, 0, 0, 0, 0, 0, 0, 0, 0, 0, 0, 0, 0, 0, 0, 0, 0], 'attention_mask': [1, 1, 1, 1, 1, 1, 1, 1, 1, 0, 0, 0, 0, 0, 0, 0, 0, 0, 0, 0, 0, 0, 0, 0, 0, 0, 0, 0, 0, 0, 0, 0, 0, 0, 0, 0, 0, 0, 0, 0, 0, 0, 0, 0, 0, 0, 0, 0, 0, 0, 0, 0, 0, 0, 0, 0, 0, 0, 0, 0, 0, 0, 0, 0, 0, 0, 0, 0, 0, 0, 0, 0, 0, 0, 0, 0, 0, 0, 0, 0, 0, 0, 0, 0, 0, 0, 0, 0, 0, 0, 0, 0, 0, 0, 0, 0, 0, 0, 0, 0, 0, 0, 0, 0, 0, 0, 0, 0, 0, 0, 0, 0, 0, 0, 0, 0, 0, 0, 0, 0, 0, 0, 0, 0, 0, 0, 0, 0], 'labels': 0}\n"
     ]
    }
   ],
   "source": [
    "from transformers import AutoTokenizer\n",
    "\n",
    "# Load the tokenizer\n",
    "tokenizer = AutoTokenizer.from_pretrained(\"distilbert-base-german-cased\")\n",
    "\n",
    "# Tokenize the dataset and add the `labels` field\n",
    "def tokenize_function(examples):\n",
    "    tokenized_inputs = tokenizer(\n",
    "        examples[\"sentence\"],\n",
    "        padding=\"max_length\",\n",
    "        truncation=True,\n",
    "        max_length=128\n",
    "    )\n",
    "    # Assign numeric labels\n",
    "    tokenized_inputs[\"labels\"] = examples[\"difficulty\"]\n",
    "    return tokenized_inputs\n",
    "\n",
    "# Tokenize the dataset\n",
    "tokenized_datasets = dataset.map(tokenize_function, batched=True, num_proc=4)  # Use 4 processes\n",
    "\n",
    "\n",
    "# Debugging: Check tokenized dataset\n",
    "print(tokenized_datasets[\"train\"][0])"
   ]
  },
  {
   "cell_type": "markdown",
   "metadata": {},
   "source": [
    "\n",
    "### **5. Loading the Model**\n",
    "In this step, we load the pre-trained `xlm-roberta-base` model and prepare it for sequence classification by specifying the number of labels."
   ]
  },
  {
   "cell_type": "code",
   "execution_count": 13,
   "metadata": {},
   "outputs": [
    {
     "name": "stdout",
     "output_type": "stream",
     "text": [
      "Using device: mps\n"
     ]
    }
   ],
   "source": [
    "import torch\n",
    "device = torch.device(\"mps\") if torch.backends.mps.is_available() else torch.device(\"cpu\")\n",
    "print(f\"Using device: {device}\")\n"
   ]
  },
  {
   "cell_type": "code",
   "execution_count": 14,
   "metadata": {},
   "outputs": [
    {
     "name": "stdout",
     "output_type": "stream",
     "text": [
      "Number of classes: 6\n"
     ]
    },
    {
     "data": {
      "application/vnd.jupyter.widget-view+json": {
       "model_id": "a8e50ff78ff141d4bcd806b38b094297",
       "version_major": 2,
       "version_minor": 0
      },
      "text/plain": [
       "model.safetensors:   0%|          | 0.00/270M [00:00<?, ?B/s]"
      ]
     },
     "metadata": {},
     "output_type": "display_data"
    },
    {
     "name": "stderr",
     "output_type": "stream",
     "text": [
      "Some weights of DistilBertForSequenceClassification were not initialized from the model checkpoint at distilbert-base-german-cased and are newly initialized: ['classifier.bias', 'classifier.weight', 'pre_classifier.bias', 'pre_classifier.weight']\n",
      "You should probably TRAIN this model on a down-stream task to be able to use it for predictions and inference.\n"
     ]
    },
    {
     "data": {
      "text/plain": [
       "DistilBertForSequenceClassification(\n",
       "  (distilbert): DistilBertModel(\n",
       "    (embeddings): Embeddings(\n",
       "      (word_embeddings): Embedding(31102, 768, padding_idx=0)\n",
       "      (position_embeddings): Embedding(512, 768)\n",
       "      (LayerNorm): LayerNorm((768,), eps=1e-12, elementwise_affine=True)\n",
       "      (dropout): Dropout(p=0.1, inplace=False)\n",
       "    )\n",
       "    (transformer): Transformer(\n",
       "      (layer): ModuleList(\n",
       "        (0-5): 6 x TransformerBlock(\n",
       "          (attention): DistilBertSdpaAttention(\n",
       "            (dropout): Dropout(p=0.1, inplace=False)\n",
       "            (q_lin): Linear(in_features=768, out_features=768, bias=True)\n",
       "            (k_lin): Linear(in_features=768, out_features=768, bias=True)\n",
       "            (v_lin): Linear(in_features=768, out_features=768, bias=True)\n",
       "            (out_lin): Linear(in_features=768, out_features=768, bias=True)\n",
       "          )\n",
       "          (sa_layer_norm): LayerNorm((768,), eps=1e-12, elementwise_affine=True)\n",
       "          (ffn): FFN(\n",
       "            (dropout): Dropout(p=0.1, inplace=False)\n",
       "            (lin1): Linear(in_features=768, out_features=3072, bias=True)\n",
       "            (lin2): Linear(in_features=3072, out_features=768, bias=True)\n",
       "            (activation): GELUActivation()\n",
       "          )\n",
       "          (output_layer_norm): LayerNorm((768,), eps=1e-12, elementwise_affine=True)\n",
       "        )\n",
       "      )\n",
       "    )\n",
       "  )\n",
       "  (pre_classifier): Linear(in_features=768, out_features=768, bias=True)\n",
       "  (classifier): Linear(in_features=768, out_features=6, bias=True)\n",
       "  (dropout): Dropout(p=0.2, inplace=False)\n",
       ")"
      ]
     },
     "execution_count": 14,
     "metadata": {},
     "output_type": "execute_result"
    }
   ],
   "source": [
    "from transformers import AutoModelForSequenceClassification\n",
    "\n",
    "# Define the number of classes\n",
    "num_classes = len(data[\"difficulty\"].unique())\n",
    "print(f\"Number of classes: {num_classes}\")\n",
    "\n",
    "# Load the model\n",
    "model = AutoModelForSequenceClassification.from_pretrained(\"distilbert-base-german-cased\", num_labels=num_classes)\n",
    "\n",
    "model.to(device) # Move the model to the device"
   ]
  },
  {
   "cell_type": "markdown",
   "metadata": {},
   "source": [
    "\n",
    "### **6. Setting Up the Trainer**\n",
    "We define the training arguments and initialize the `Trainer` class, which manages the fine-tuning process. Early stopping is implemented to prevent overfitting.\n"
   ]
  },
  {
   "cell_type": "code",
   "execution_count": 15,
   "metadata": {},
   "outputs": [
    {
     "name": "stderr",
     "output_type": "stream",
     "text": [
      "/var/folders/wb/btfl8bv91b5c253kbpftk1940000gn/T/ipykernel_5146/445518235.py:24: FutureWarning: `tokenizer` is deprecated and will be removed in version 5.0.0 for `Trainer.__init__`. Use `processing_class` instead.\n",
      "  trainer = Trainer(\n"
     ]
    }
   ],
   "source": [
    "from transformers import TrainingArguments, Trainer, DataCollatorWithPadding, EarlyStoppingCallback\n",
    "\n",
    "# Define a data collator for padding\n",
    "data_collator = DataCollatorWithPadding(tokenizer=tokenizer)\n",
    "\n",
    "# Define training arguments\n",
    "training_args = TrainingArguments(\n",
    "    output_dir=\"./results\",\n",
    "    evaluation_strategy=\"epoch\",\n",
    "    save_strategy=\"epoch\",\n",
    "    learning_rate=1e-5,\n",
    "    per_device_train_batch_size=8,\n",
    "    per_device_eval_batch_size=8,\n",
    "    num_train_epochs=10,\n",
    "    weight_decay=0.1,\n",
    "    logging_dir=\"./logs\",\n",
    "    logging_steps=10,\n",
    "    load_best_model_at_end=True,\n",
    "    gradient_accumulation_steps=2,\n",
    "    max_grad_norm=1.0,\n",
    ")\n",
    "\n",
    "# Initialize the Trainer\n",
    "trainer = Trainer(\n",
    "    model=model,\n",
    "    args=training_args,\n",
    "    train_dataset=tokenized_datasets[\"train\"],\n",
    "    eval_dataset=tokenized_datasets[\"test\"],\n",
    "    data_collator=data_collator,\n",
    "    tokenizer=tokenizer,\n",
    "    callbacks=[EarlyStoppingCallback(early_stopping_patience=2)],\n",
    ")\n"
   ]
  },
  {
   "cell_type": "markdown",
   "metadata": {},
   "source": [
    "### **7. Training the Model**\n",
    "Finally, we start the training process and fine-tune the model for the text classification task.\n"
   ]
  },
  {
   "cell_type": "code",
   "execution_count": 16,
   "metadata": {},
   "outputs": [
    {
     "data": {
      "application/vnd.jupyter.widget-view+json": {
       "model_id": "960e2fb840fb47c69e49f04eda3025d7",
       "version_major": 2,
       "version_minor": 0
      },
      "text/plain": [
       "  0%|          | 0/1630 [00:00<?, ?it/s]"
      ]
     },
     "metadata": {},
     "output_type": "display_data"
    },
    {
     "name": "stdout",
     "output_type": "stream",
     "text": [
      "{'loss': 1.7783, 'grad_norm': 8.335775375366211, 'learning_rate': 9.938650306748467e-06, 'epoch': 0.06}\n",
      "{'loss': 1.7865, 'grad_norm': 4.843938827514648, 'learning_rate': 9.877300613496934e-06, 'epoch': 0.12}\n",
      "{'loss': 1.7615, 'grad_norm': 5.5531907081604, 'learning_rate': 9.8159509202454e-06, 'epoch': 0.18}\n",
      "{'loss': 1.7241, 'grad_norm': 6.449091911315918, 'learning_rate': 9.754601226993867e-06, 'epoch': 0.25}\n",
      "{'loss': 1.7126, 'grad_norm': 6.207824230194092, 'learning_rate': 9.693251533742331e-06, 'epoch': 0.31}\n",
      "{'loss': 1.6858, 'grad_norm': 7.488210678100586, 'learning_rate': 9.631901840490798e-06, 'epoch': 0.37}\n",
      "{'loss': 1.6456, 'grad_norm': 6.0859880447387695, 'learning_rate': 9.570552147239264e-06, 'epoch': 0.43}\n",
      "{'loss': 1.5842, 'grad_norm': 6.4068169593811035, 'learning_rate': 9.509202453987731e-06, 'epoch': 0.49}\n",
      "{'loss': 1.5783, 'grad_norm': 6.369434356689453, 'learning_rate': 9.447852760736197e-06, 'epoch': 0.55}\n",
      "{'loss': 1.5469, 'grad_norm': 6.2348809242248535, 'learning_rate': 9.386503067484664e-06, 'epoch': 0.61}\n",
      "{'loss': 1.4868, 'grad_norm': 7.744617462158203, 'learning_rate': 9.325153374233129e-06, 'epoch': 0.67}\n",
      "{'loss': 1.4899, 'grad_norm': 11.61985969543457, 'learning_rate': 9.263803680981595e-06, 'epoch': 0.74}\n",
      "{'loss': 1.4219, 'grad_norm': 6.916885852813721, 'learning_rate': 9.202453987730062e-06, 'epoch': 0.8}\n",
      "{'loss': 1.3848, 'grad_norm': 7.981678485870361, 'learning_rate': 9.14110429447853e-06, 'epoch': 0.86}\n",
      "{'loss': 1.3694, 'grad_norm': 9.786617279052734, 'learning_rate': 9.079754601226994e-06, 'epoch': 0.92}\n",
      "{'loss': 1.3289, 'grad_norm': 11.478754043579102, 'learning_rate': 9.018404907975461e-06, 'epoch': 0.98}\n"
     ]
    },
    {
     "data": {
      "application/vnd.jupyter.widget-view+json": {
       "model_id": "293d7f2f9b85462db4280f54c478ae8a",
       "version_major": 2,
       "version_minor": 0
      },
      "text/plain": [
       "  0%|          | 0/82 [00:00<?, ?it/s]"
      ]
     },
     "metadata": {},
     "output_type": "display_data"
    },
    {
     "name": "stdout",
     "output_type": "stream",
     "text": [
      "{'eval_loss': 1.2973647117614746, 'eval_runtime': 5.4716, 'eval_samples_per_second': 119.161, 'eval_steps_per_second': 14.987, 'epoch': 1.0}\n",
      "{'loss': 1.2751, 'grad_norm': 11.694400787353516, 'learning_rate': 8.957055214723927e-06, 'epoch': 1.04}\n",
      "{'loss': 1.233, 'grad_norm': 10.909379005432129, 'learning_rate': 8.895705521472394e-06, 'epoch': 1.1}\n",
      "{'loss': 1.2479, 'grad_norm': 10.526105880737305, 'learning_rate': 8.83435582822086e-06, 'epoch': 1.17}\n",
      "{'loss': 1.244, 'grad_norm': 12.648756980895996, 'learning_rate': 8.773006134969327e-06, 'epoch': 1.23}\n",
      "{'loss': 1.2453, 'grad_norm': 11.984020233154297, 'learning_rate': 8.711656441717792e-06, 'epoch': 1.29}\n",
      "{'loss': 1.1992, 'grad_norm': 11.876627922058105, 'learning_rate': 8.650306748466258e-06, 'epoch': 1.35}\n",
      "{'loss': 1.1364, 'grad_norm': 19.803070068359375, 'learning_rate': 8.588957055214725e-06, 'epoch': 1.41}\n",
      "{'loss': 1.231, 'grad_norm': 9.04780101776123, 'learning_rate': 8.527607361963191e-06, 'epoch': 1.47}\n",
      "{'loss': 1.1361, 'grad_norm': 15.641194343566895, 'learning_rate': 8.466257668711658e-06, 'epoch': 1.53}\n",
      "{'loss': 1.165, 'grad_norm': 18.519119262695312, 'learning_rate': 8.404907975460124e-06, 'epoch': 1.6}\n",
      "{'loss': 1.1274, 'grad_norm': 18.093246459960938, 'learning_rate': 8.343558282208589e-06, 'epoch': 1.66}\n",
      "{'loss': 1.1435, 'grad_norm': 13.265111923217773, 'learning_rate': 8.282208588957055e-06, 'epoch': 1.72}\n",
      "{'loss': 1.1913, 'grad_norm': 23.661205291748047, 'learning_rate': 8.220858895705522e-06, 'epoch': 1.78}\n",
      "{'loss': 1.0975, 'grad_norm': 26.02049446105957, 'learning_rate': 8.159509202453988e-06, 'epoch': 1.84}\n",
      "{'loss': 1.108, 'grad_norm': 14.96530532836914, 'learning_rate': 8.098159509202455e-06, 'epoch': 1.9}\n",
      "{'loss': 1.0621, 'grad_norm': 17.95235252380371, 'learning_rate': 8.036809815950921e-06, 'epoch': 1.96}\n"
     ]
    },
    {
     "data": {
      "application/vnd.jupyter.widget-view+json": {
       "model_id": "67ec6dc0e7cf4bf9b7b884383136a8c2",
       "version_major": 2,
       "version_minor": 0
      },
      "text/plain": [
       "  0%|          | 0/82 [00:00<?, ?it/s]"
      ]
     },
     "metadata": {},
     "output_type": "display_data"
    },
    {
     "name": "stdout",
     "output_type": "stream",
     "text": [
      "{'eval_loss': 1.0936328172683716, 'eval_runtime': 5.3916, 'eval_samples_per_second': 120.928, 'eval_steps_per_second': 15.209, 'epoch': 2.0}\n",
      "{'loss': 1.1053, 'grad_norm': 17.775714874267578, 'learning_rate': 7.975460122699386e-06, 'epoch': 2.02}\n",
      "{'loss': 1.1642, 'grad_norm': 24.862714767456055, 'learning_rate': 7.914110429447854e-06, 'epoch': 2.09}\n",
      "{'loss': 1.0195, 'grad_norm': 19.43032455444336, 'learning_rate': 7.85276073619632e-06, 'epoch': 2.15}\n",
      "{'loss': 1.0625, 'grad_norm': 10.79690170288086, 'learning_rate': 7.791411042944787e-06, 'epoch': 2.21}\n",
      "{'loss': 1.0299, 'grad_norm': 17.625057220458984, 'learning_rate': 7.730061349693252e-06, 'epoch': 2.27}\n",
      "{'loss': 1.002, 'grad_norm': 10.042080879211426, 'learning_rate': 7.668711656441718e-06, 'epoch': 2.33}\n",
      "{'loss': 1.0196, 'grad_norm': 19.385242462158203, 'learning_rate': 7.6073619631901856e-06, 'epoch': 2.39}\n",
      "{'loss': 1.0177, 'grad_norm': 19.70450210571289, 'learning_rate': 7.54601226993865e-06, 'epoch': 2.45}\n",
      "{'loss': 0.9906, 'grad_norm': 15.591669082641602, 'learning_rate': 7.484662576687118e-06, 'epoch': 2.52}\n",
      "{'loss': 0.9113, 'grad_norm': 18.020925521850586, 'learning_rate': 7.423312883435584e-06, 'epoch': 2.58}\n",
      "{'loss': 0.9527, 'grad_norm': 12.591769218444824, 'learning_rate': 7.36196319018405e-06, 'epoch': 2.64}\n",
      "{'loss': 0.9537, 'grad_norm': 46.171722412109375, 'learning_rate': 7.300613496932516e-06, 'epoch': 2.7}\n",
      "{'loss': 0.9893, 'grad_norm': 14.38425350189209, 'learning_rate': 7.239263803680983e-06, 'epoch': 2.76}\n",
      "{'loss': 0.9785, 'grad_norm': 19.268836975097656, 'learning_rate': 7.177914110429448e-06, 'epoch': 2.82}\n",
      "{'loss': 1.0157, 'grad_norm': 19.621585845947266, 'learning_rate': 7.116564417177915e-06, 'epoch': 2.88}\n",
      "{'loss': 0.9513, 'grad_norm': 28.557954788208008, 'learning_rate': 7.055214723926381e-06, 'epoch': 2.94}\n"
     ]
    },
    {
     "data": {
      "application/vnd.jupyter.widget-view+json": {
       "model_id": "f08e18b23c244eb98328077296dff017",
       "version_major": 2,
       "version_minor": 0
      },
      "text/plain": [
       "  0%|          | 0/82 [00:00<?, ?it/s]"
      ]
     },
     "metadata": {},
     "output_type": "display_data"
    },
    {
     "name": "stdout",
     "output_type": "stream",
     "text": [
      "{'eval_loss': 1.0658494234085083, 'eval_runtime': 5.3062, 'eval_samples_per_second': 122.875, 'eval_steps_per_second': 15.454, 'epoch': 3.0}\n",
      "{'loss': 0.9623, 'grad_norm': 33.4946403503418, 'learning_rate': 6.993865030674847e-06, 'epoch': 3.01}\n",
      "{'loss': 0.9654, 'grad_norm': 23.978103637695312, 'learning_rate': 6.932515337423313e-06, 'epoch': 3.07}\n",
      "{'loss': 0.9834, 'grad_norm': 28.4697322845459, 'learning_rate': 6.87116564417178e-06, 'epoch': 3.13}\n",
      "{'loss': 0.9491, 'grad_norm': 22.94773292541504, 'learning_rate': 6.8098159509202454e-06, 'epoch': 3.19}\n",
      "{'loss': 0.9227, 'grad_norm': 20.208059310913086, 'learning_rate': 6.748466257668712e-06, 'epoch': 3.25}\n",
      "{'loss': 0.8845, 'grad_norm': 12.941402435302734, 'learning_rate': 6.687116564417178e-06, 'epoch': 3.31}\n",
      "{'loss': 0.9433, 'grad_norm': 24.067489624023438, 'learning_rate': 6.625766871165644e-06, 'epoch': 3.37}\n",
      "{'loss': 0.8504, 'grad_norm': 20.741317749023438, 'learning_rate': 6.5644171779141105e-06, 'epoch': 3.44}\n",
      "{'loss': 0.9047, 'grad_norm': 24.197425842285156, 'learning_rate': 6.503067484662578e-06, 'epoch': 3.5}\n",
      "{'loss': 0.8915, 'grad_norm': 19.893823623657227, 'learning_rate': 6.441717791411043e-06, 'epoch': 3.56}\n",
      "{'loss': 0.9142, 'grad_norm': 20.16815757751465, 'learning_rate': 6.38036809815951e-06, 'epoch': 3.62}\n",
      "{'loss': 0.9075, 'grad_norm': 24.622499465942383, 'learning_rate': 6.319018404907976e-06, 'epoch': 3.68}\n",
      "{'loss': 0.9154, 'grad_norm': 22.02998161315918, 'learning_rate': 6.257668711656443e-06, 'epoch': 3.74}\n",
      "{'loss': 0.8252, 'grad_norm': 26.010740280151367, 'learning_rate': 6.1963190184049085e-06, 'epoch': 3.8}\n",
      "{'loss': 0.8728, 'grad_norm': 11.13988971710205, 'learning_rate': 6.134969325153375e-06, 'epoch': 3.87}\n",
      "{'loss': 0.8863, 'grad_norm': 16.552839279174805, 'learning_rate': 6.073619631901841e-06, 'epoch': 3.93}\n",
      "{'loss': 0.8502, 'grad_norm': 21.910140991210938, 'learning_rate': 6.012269938650307e-06, 'epoch': 3.99}\n"
     ]
    },
    {
     "data": {
      "application/vnd.jupyter.widget-view+json": {
       "model_id": "f89371461e7144a0a9b8a11b7fd23ecc",
       "version_major": 2,
       "version_minor": 0
      },
      "text/plain": [
       "  0%|          | 0/82 [00:00<?, ?it/s]"
      ]
     },
     "metadata": {},
     "output_type": "display_data"
    },
    {
     "name": "stdout",
     "output_type": "stream",
     "text": [
      "{'eval_loss': 1.0236430168151855, 'eval_runtime': 5.2834, 'eval_samples_per_second': 123.405, 'eval_steps_per_second': 15.52, 'epoch': 4.0}\n",
      "{'loss': 0.8168, 'grad_norm': 20.37606430053711, 'learning_rate': 5.9509202453987735e-06, 'epoch': 4.05}\n",
      "{'loss': 0.8344, 'grad_norm': 13.613151550292969, 'learning_rate': 5.88957055214724e-06, 'epoch': 4.11}\n",
      "{'loss': 0.7971, 'grad_norm': 16.569183349609375, 'learning_rate': 5.828220858895706e-06, 'epoch': 4.17}\n",
      "{'loss': 0.7728, 'grad_norm': 23.367223739624023, 'learning_rate': 5.766871165644172e-06, 'epoch': 4.23}\n",
      "{'loss': 0.9037, 'grad_norm': 20.358369827270508, 'learning_rate': 5.7055214723926385e-06, 'epoch': 4.29}\n",
      "{'loss': 0.8651, 'grad_norm': 22.871604919433594, 'learning_rate': 5.644171779141104e-06, 'epoch': 4.36}\n",
      "{'loss': 0.8654, 'grad_norm': 32.82339859008789, 'learning_rate': 5.582822085889571e-06, 'epoch': 4.42}\n",
      "{'loss': 0.9101, 'grad_norm': 20.081222534179688, 'learning_rate': 5.521472392638038e-06, 'epoch': 4.48}\n",
      "{'loss': 0.8334, 'grad_norm': 23.54728126525879, 'learning_rate': 5.460122699386503e-06, 'epoch': 4.54}\n",
      "{'loss': 0.7713, 'grad_norm': 18.250734329223633, 'learning_rate': 5.39877300613497e-06, 'epoch': 4.6}\n",
      "{'loss': 0.7695, 'grad_norm': 36.46769714355469, 'learning_rate': 5.3374233128834365e-06, 'epoch': 4.66}\n",
      "{'loss': 0.8368, 'grad_norm': 37.961021423339844, 'learning_rate': 5.276073619631902e-06, 'epoch': 4.72}\n",
      "{'loss': 0.8318, 'grad_norm': 17.675107955932617, 'learning_rate': 5.214723926380369e-06, 'epoch': 4.79}\n",
      "{'loss': 0.8376, 'grad_norm': 17.465417861938477, 'learning_rate': 5.153374233128835e-06, 'epoch': 4.85}\n",
      "{'loss': 0.788, 'grad_norm': 25.53879165649414, 'learning_rate': 5.092024539877301e-06, 'epoch': 4.91}\n",
      "{'loss': 0.9075, 'grad_norm': 23.80357551574707, 'learning_rate': 5.030674846625767e-06, 'epoch': 4.97}\n"
     ]
    },
    {
     "data": {
      "application/vnd.jupyter.widget-view+json": {
       "model_id": "77a00a5a5cd245ceac2128b3e65e71e4",
       "version_major": 2,
       "version_minor": 0
      },
      "text/plain": [
       "  0%|          | 0/82 [00:00<?, ?it/s]"
      ]
     },
     "metadata": {},
     "output_type": "display_data"
    },
    {
     "name": "stdout",
     "output_type": "stream",
     "text": [
      "{'eval_loss': 1.0115519762039185, 'eval_runtime': 5.9276, 'eval_samples_per_second': 109.993, 'eval_steps_per_second': 13.833, 'epoch': 5.0}\n",
      "{'loss': 0.763, 'grad_norm': 15.812768936157227, 'learning_rate': 4.969325153374234e-06, 'epoch': 5.03}\n",
      "{'loss': 0.7335, 'grad_norm': 45.55156326293945, 'learning_rate': 4.9079754601227e-06, 'epoch': 5.09}\n",
      "{'loss': 0.7368, 'grad_norm': 26.857845306396484, 'learning_rate': 4.846625766871166e-06, 'epoch': 5.15}\n",
      "{'loss': 0.7635, 'grad_norm': 20.681310653686523, 'learning_rate': 4.785276073619632e-06, 'epoch': 5.21}\n",
      "{'loss': 0.8898, 'grad_norm': 18.646455764770508, 'learning_rate': 4.723926380368099e-06, 'epoch': 5.28}\n",
      "{'loss': 0.7754, 'grad_norm': 42.151939392089844, 'learning_rate': 4.662576687116564e-06, 'epoch': 5.34}\n",
      "{'loss': 0.7613, 'grad_norm': 27.450448989868164, 'learning_rate': 4.601226993865031e-06, 'epoch': 5.4}\n",
      "{'loss': 0.8721, 'grad_norm': 34.1820068359375, 'learning_rate': 4.539877300613497e-06, 'epoch': 5.46}\n",
      "{'loss': 0.73, 'grad_norm': 24.404817581176758, 'learning_rate': 4.478527607361964e-06, 'epoch': 5.52}\n",
      "{'loss': 0.7805, 'grad_norm': 25.25834083557129, 'learning_rate': 4.41717791411043e-06, 'epoch': 5.58}\n",
      "{'loss': 0.7237, 'grad_norm': 14.507524490356445, 'learning_rate': 4.355828220858896e-06, 'epoch': 5.64}\n",
      "{'loss': 0.7038, 'grad_norm': 23.05961036682129, 'learning_rate': 4.294478527607362e-06, 'epoch': 5.71}\n",
      "{'loss': 0.7569, 'grad_norm': 24.941556930541992, 'learning_rate': 4.233128834355829e-06, 'epoch': 5.77}\n",
      "{'loss': 0.7159, 'grad_norm': 49.45734405517578, 'learning_rate': 4.171779141104294e-06, 'epoch': 5.83}\n",
      "{'loss': 0.7548, 'grad_norm': 29.789087295532227, 'learning_rate': 4.110429447852761e-06, 'epoch': 5.89}\n",
      "{'loss': 0.7004, 'grad_norm': 39.12581253051758, 'learning_rate': 4.049079754601227e-06, 'epoch': 5.95}\n"
     ]
    },
    {
     "data": {
      "application/vnd.jupyter.widget-view+json": {
       "model_id": "38f79ce8971c4a52a6e5db36f9702918",
       "version_major": 2,
       "version_minor": 0
      },
      "text/plain": [
       "  0%|          | 0/82 [00:00<?, ?it/s]"
      ]
     },
     "metadata": {},
     "output_type": "display_data"
    },
    {
     "name": "stdout",
     "output_type": "stream",
     "text": [
      "{'eval_loss': 1.0222171545028687, 'eval_runtime': 5.9384, 'eval_samples_per_second': 109.794, 'eval_steps_per_second': 13.808, 'epoch': 6.0}\n",
      "{'loss': 0.7065, 'grad_norm': 24.564790725708008, 'learning_rate': 3.987730061349693e-06, 'epoch': 6.01}\n",
      "{'loss': 0.5753, 'grad_norm': 13.012444496154785, 'learning_rate': 3.92638036809816e-06, 'epoch': 6.07}\n",
      "{'loss': 0.7073, 'grad_norm': 27.4613094329834, 'learning_rate': 3.865030674846626e-06, 'epoch': 6.13}\n",
      "{'loss': 0.6689, 'grad_norm': 39.70585632324219, 'learning_rate': 3.8036809815950928e-06, 'epoch': 6.2}\n",
      "{'loss': 0.7116, 'grad_norm': 23.229761123657227, 'learning_rate': 3.742331288343559e-06, 'epoch': 6.26}\n",
      "{'loss': 0.6162, 'grad_norm': 51.71021270751953, 'learning_rate': 3.680981595092025e-06, 'epoch': 6.32}\n",
      "{'loss': 0.6698, 'grad_norm': 12.667062759399414, 'learning_rate': 3.6196319018404913e-06, 'epoch': 6.38}\n",
      "{'loss': 0.7343, 'grad_norm': 21.050703048706055, 'learning_rate': 3.5582822085889574e-06, 'epoch': 6.44}\n",
      "{'loss': 0.7486, 'grad_norm': 21.189207077026367, 'learning_rate': 3.4969325153374234e-06, 'epoch': 6.5}\n",
      "{'loss': 0.7464, 'grad_norm': 33.68720245361328, 'learning_rate': 3.43558282208589e-06, 'epoch': 6.56}\n",
      "{'loss': 0.7205, 'grad_norm': 29.904726028442383, 'learning_rate': 3.374233128834356e-06, 'epoch': 6.63}\n",
      "{'loss': 0.6871, 'grad_norm': 19.424097061157227, 'learning_rate': 3.312883435582822e-06, 'epoch': 6.69}\n",
      "{'loss': 0.712, 'grad_norm': 16.35011863708496, 'learning_rate': 3.251533742331289e-06, 'epoch': 6.75}\n",
      "{'loss': 0.6756, 'grad_norm': 24.13184928894043, 'learning_rate': 3.190184049079755e-06, 'epoch': 6.81}\n",
      "{'loss': 0.7009, 'grad_norm': 58.67258834838867, 'learning_rate': 3.1288343558282214e-06, 'epoch': 6.87}\n",
      "{'loss': 0.804, 'grad_norm': 15.90647029876709, 'learning_rate': 3.0674846625766875e-06, 'epoch': 6.93}\n",
      "{'loss': 0.6494, 'grad_norm': 21.145429611206055, 'learning_rate': 3.0061349693251535e-06, 'epoch': 6.99}\n"
     ]
    },
    {
     "data": {
      "application/vnd.jupyter.widget-view+json": {
       "model_id": "2a699a7cc7b146f0a50ccf6c6d7d0b78",
       "version_major": 2,
       "version_minor": 0
      },
      "text/plain": [
       "  0%|          | 0/82 [00:00<?, ?it/s]"
      ]
     },
     "metadata": {},
     "output_type": "display_data"
    },
    {
     "name": "stdout",
     "output_type": "stream",
     "text": [
      "{'eval_loss': 1.0346553325653076, 'eval_runtime': 5.8604, 'eval_samples_per_second': 111.255, 'eval_steps_per_second': 13.992, 'epoch': 7.0}\n",
      "{'train_runtime': 586.764, 'train_samples_per_second': 44.413, 'train_steps_per_second': 2.778, 'train_loss': 0.991613572151592, 'epoch': 7.0}\n"
     ]
    },
    {
     "data": {
      "text/plain": [
       "TrainOutput(global_step=1141, training_loss=0.991613572151592, metrics={'train_runtime': 586.764, 'train_samples_per_second': 44.413, 'train_steps_per_second': 2.778, 'total_flos': 604160665887744.0, 'train_loss': 0.991613572151592, 'epoch': 7.0})"
      ]
     },
     "execution_count": 16,
     "metadata": {},
     "output_type": "execute_result"
    }
   ],
   "source": [
    "# Train the model\n",
    "trainer.train()"
   ]
  },
  {
   "cell_type": "markdown",
   "metadata": {},
   "source": [
    "### **8. Evaluating the Model**\n",
    "Evaluate the model on the test set to check its performance using metrics like accuracy, precision, recall, and F1-score."
   ]
  },
  {
   "cell_type": "code",
   "execution_count": 17,
   "metadata": {},
   "outputs": [
    {
     "data": {
      "application/vnd.jupyter.widget-view+json": {
       "model_id": "837e2dbdcab04f63a3f1bf73a35b7ed1",
       "version_major": 2,
       "version_minor": 0
      },
      "text/plain": [
       "  0%|          | 0/82 [00:00<?, ?it/s]"
      ]
     },
     "metadata": {},
     "output_type": "display_data"
    },
    {
     "name": "stdout",
     "output_type": "stream",
     "text": [
      "{'eval_loss': 1.0115519762039185, 'eval_runtime': 5.3984, 'eval_samples_per_second': 120.776, 'eval_steps_per_second': 15.19, 'epoch': 7.0}\n"
     ]
    },
    {
     "data": {
      "application/vnd.jupyter.widget-view+json": {
       "model_id": "9537e0b88bbf48b29e2776296a53993b",
       "version_major": 2,
       "version_minor": 0
      },
      "text/plain": [
       "  0%|          | 0/82 [00:00<?, ?it/s]"
      ]
     },
     "metadata": {},
     "output_type": "display_data"
    },
    {
     "name": "stdout",
     "output_type": "stream",
     "text": [
      "              precision    recall  f1-score   support\n",
      "\n",
      "           0       0.66      0.74      0.70       108\n",
      "           1       0.49      0.38      0.43       108\n",
      "           2       0.52      0.66      0.58       109\n",
      "           3       0.43      0.42      0.43       109\n",
      "           4       0.48      0.35      0.40       109\n",
      "           5       0.61      0.69      0.65       109\n",
      "\n",
      "    accuracy                           0.54       652\n",
      "   macro avg       0.53      0.54      0.53       652\n",
      "weighted avg       0.53      0.54      0.53       652\n",
      "\n"
     ]
    }
   ],
   "source": [
    "# Evaluate the model\n",
    "results = trainer.evaluate(tokenized_datasets[\"test\"])\n",
    "print(results)\n",
    "\n",
    "# Compute additional metrics if needed\n",
    "from sklearn.metrics import classification_report\n",
    "\n",
    "# Extract true labels (y_true) from the test dataset\n",
    "y_true = test_data[\"difficulty\"].tolist()  # Ensure it's a list of integers\n",
    "\n",
    "# Predict the labels using the trained model\n",
    "y_pred = trainer.predict(tokenized_datasets[\"test\"]).predictions.argmax(axis=-1)\n",
    "\n",
    "# Generate the classification report\n",
    "from sklearn.metrics import classification_report\n",
    "print(classification_report(y_true, y_pred))\n"
   ]
  },
  {
   "cell_type": "code",
   "execution_count": 18,
   "metadata": {},
   "outputs": [
    {
     "data": {
      "text/plain": [
       "<sklearn.metrics._plot.confusion_matrix.ConfusionMatrixDisplay at 0x175615e80>"
      ]
     },
     "execution_count": 18,
     "metadata": {},
     "output_type": "execute_result"
    },
    {
     "data": {
      "image/png": "[encoded data removed]",
      "text/plain": [
       "<Figure size 640x480 with 2 Axes>"
      ]
     },
     "metadata": {},
     "output_type": "display_data"
    }
   ],
   "source": [
    "from sklearn.metrics import confusion_matrix, ConfusionMatrixDisplay\n",
    "\n",
    "# Compute confusion matrix\n",
    "conf_matrix = confusion_matrix(y_true, y_pred)\n",
    "\n",
    "# Display confusion matrix\n",
    "disp = ConfusionMatrixDisplay(confusion_matrix=conf_matrix, display_labels=[\"A1\", \"A2\", \"B1\", \"B2\", \"C1\", \"C2\"])\n",
    "disp.plot(cmap=\"viridis\")\n"
   ]
  }
 ],
 "metadata": {
  "kernelspec": {
   "display_name": "Python 3",
   "language": "python",
   "name": "python3"
  },
  "language_info": {
   "codemirror_mode": {
    "name": "ipython",
    "version": 3
   },
   "file_extension": ".py",
   "mimetype": "text/x-python",
   "name": "python",
   "nbconvert_exporter": "python",
   "pygments_lexer": "ipython3",
   "version": "3.9.6"
  }
 },
 "nbformat": 4,
 "nbformat_minor": 2
}
