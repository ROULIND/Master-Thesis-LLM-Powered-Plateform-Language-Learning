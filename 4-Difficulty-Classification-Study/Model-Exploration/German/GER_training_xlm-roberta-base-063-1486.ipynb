{
 "cells": [
  {
   "cell_type": "code",
   "execution_count": 1,
   "metadata": {},
   "outputs": [
    {
     "name": "stdout",
     "output_type": "stream",
     "text": [
      "Defaulting to user installation because normal site-packages is not writeable\n",
      "Requirement already satisfied: transformers in /Users/dimitriroulin/Library/Python/3.9/lib/python/site-packages (4.47.0)\n",
      "Requirement already satisfied: safetensors>=0.4.1 in /Users/dimitriroulin/Library/Python/3.9/lib/python/site-packages (from transformers) (0.4.5)\n",
      "Requirement already satisfied: huggingface-hub<1.0,>=0.24.0 in /Users/dimitriroulin/Library/Python/3.9/lib/python/site-packages (from transformers) (0.26.5)\n",
      "Requirement already satisfied: regex!=2019.12.17 in /Users/dimitriroulin/Library/Python/3.9/lib/python/site-packages (from transformers) (2024.11.6)\n",
      "Requirement already satisfied: requests in /Users/dimitriroulin/Library/Python/3.9/lib/python/site-packages (from transformers) (2.32.3)\n",
      "Requirement already satisfied: tqdm>=4.27 in /Users/dimitriroulin/Library/Python/3.9/lib/python/site-packages (from transformers) (4.67.1)\n",
      "Requirement already satisfied: numpy>=1.17 in /Users/dimitriroulin/Library/Python/3.9/lib/python/site-packages (from transformers) (2.0.2)\n",
      "Requirement already satisfied: tokenizers<0.22,>=0.21 in /Users/dimitriroulin/Library/Python/3.9/lib/python/site-packages (from transformers) (0.21.0)\n",
      "Requirement already satisfied: packaging>=20.0 in /Users/dimitriroulin/Library/Python/3.9/lib/python/site-packages (from transformers) (23.1)\n",
      "Requirement already satisfied: pyyaml>=5.1 in /Users/dimitriroulin/Library/Python/3.9/lib/python/site-packages (from transformers) (6.0.1)\n",
      "Requirement already satisfied: filelock in /Users/dimitriroulin/Library/Python/3.9/lib/python/site-packages (from transformers) (3.16.1)\n",
      "Requirement already satisfied: typing-extensions>=3.7.4.3 in /Users/dimitriroulin/Library/Python/3.9/lib/python/site-packages (from huggingface-hub<1.0,>=0.24.0->transformers) (4.12.2)\n",
      "Requirement already satisfied: fsspec>=2023.5.0 in /Users/dimitriroulin/Library/Python/3.9/lib/python/site-packages (from huggingface-hub<1.0,>=0.24.0->transformers) (2024.9.0)\n",
      "Requirement already satisfied: certifi>=2017.4.17 in /Users/dimitriroulin/Library/Python/3.9/lib/python/site-packages (from requests->transformers) (2023.7.22)\n",
      "Requirement already satisfied: urllib3<3,>=1.21.1 in /Users/dimitriroulin/Library/Python/3.9/lib/python/site-packages (from requests->transformers) (2.0.5)\n",
      "Requirement already satisfied: idna<4,>=2.5 in /Users/dimitriroulin/Library/Python/3.9/lib/python/site-packages (from requests->transformers) (3.4)\n",
      "Requirement already satisfied: charset-normalizer<4,>=2 in /Users/dimitriroulin/Library/Python/3.9/lib/python/site-packages (from requests->transformers) (3.2.0)\n",
      "\u001b[33mWARNING: You are using pip version 21.2.4; however, version 25.0 is available.\n",
      "You should consider upgrading via the '/Library/Developer/CommandLineTools/usr/bin/python3 -m pip install --upgrade pip' command.\u001b[0m\n",
      "Note: you may need to restart the kernel to use updated packages.\n",
      "Defaulting to user installation because normal site-packages is not writeable\n",
      "Requirement already satisfied: datasets in /Users/dimitriroulin/Library/Python/3.9/lib/python/site-packages (3.2.0)\n",
      "Requirement already satisfied: requests>=2.32.2 in /Users/dimitriroulin/Library/Python/3.9/lib/python/site-packages (from datasets) (2.32.3)\n",
      "Requirement already satisfied: multiprocess<0.70.17 in /Users/dimitriroulin/Library/Python/3.9/lib/python/site-packages (from datasets) (0.70.16)\n",
      "Requirement already satisfied: filelock in /Users/dimitriroulin/Library/Python/3.9/lib/python/site-packages (from datasets) (3.16.1)\n",
      "Requirement already satisfied: dill<0.3.9,>=0.3.0 in /Users/dimitriroulin/Library/Python/3.9/lib/python/site-packages (from datasets) (0.3.8)\n",
      "Requirement already satisfied: aiohttp in /Users/dimitriroulin/Library/Python/3.9/lib/python/site-packages (from datasets) (3.11.10)\n",
      "Requirement already satisfied: tqdm>=4.66.3 in /Users/dimitriroulin/Library/Python/3.9/lib/python/site-packages (from datasets) (4.67.1)\n",
      "Requirement already satisfied: pyarrow>=15.0.0 in /Users/dimitriroulin/Library/Python/3.9/lib/python/site-packages (from datasets) (18.1.0)\n",
      "Requirement already satisfied: numpy>=1.17 in /Users/dimitriroulin/Library/Python/3.9/lib/python/site-packages (from datasets) (2.0.2)\n",
      "Requirement already satisfied: huggingface-hub>=0.23.0 in /Users/dimitriroulin/Library/Python/3.9/lib/python/site-packages (from datasets) (0.26.5)\n",
      "Requirement already satisfied: fsspec[http]<=2024.9.0,>=2023.1.0 in /Users/dimitriroulin/Library/Python/3.9/lib/python/site-packages (from datasets) (2024.9.0)\n",
      "Requirement already satisfied: packaging in /Users/dimitriroulin/Library/Python/3.9/lib/python/site-packages (from datasets) (23.1)\n",
      "Requirement already satisfied: pandas in /Users/dimitriroulin/Library/Python/3.9/lib/python/site-packages (from datasets) (2.2.3)\n",
      "Requirement already satisfied: pyyaml>=5.1 in /Users/dimitriroulin/Library/Python/3.9/lib/python/site-packages (from datasets) (6.0.1)\n",
      "Requirement already satisfied: xxhash in /Users/dimitriroulin/Library/Python/3.9/lib/python/site-packages (from datasets) (3.5.0)\n",
      "Requirement already satisfied: propcache>=0.2.0 in /Users/dimitriroulin/Library/Python/3.9/lib/python/site-packages (from aiohttp->datasets) (0.2.1)\n",
      "Requirement already satisfied: yarl<2.0,>=1.17.0 in /Users/dimitriroulin/Library/Python/3.9/lib/python/site-packages (from aiohttp->datasets) (1.18.3)\n",
      "Requirement already satisfied: async-timeout<6.0,>=4.0 in /Users/dimitriroulin/Library/Python/3.9/lib/python/site-packages (from aiohttp->datasets) (5.0.1)\n",
      "Requirement already satisfied: frozenlist>=1.1.1 in /Users/dimitriroulin/Library/Python/3.9/lib/python/site-packages (from aiohttp->datasets) (1.5.0)\n",
      "Requirement already satisfied: aiosignal>=1.1.2 in /Users/dimitriroulin/Library/Python/3.9/lib/python/site-packages (from aiohttp->datasets) (1.3.1)\n",
      "Requirement already satisfied: multidict<7.0,>=4.5 in /Users/dimitriroulin/Library/Python/3.9/lib/python/site-packages (from aiohttp->datasets) (6.1.0)\n",
      "Requirement already satisfied: attrs>=17.3.0 in /Users/dimitriroulin/Library/Python/3.9/lib/python/site-packages (from aiohttp->datasets) (23.1.0)\n",
      "Requirement already satisfied: aiohappyeyeballs>=2.3.0 in /Users/dimitriroulin/Library/Python/3.9/lib/python/site-packages (from aiohttp->datasets) (2.4.4)\n",
      "Requirement already satisfied: typing-extensions>=3.7.4.3 in /Users/dimitriroulin/Library/Python/3.9/lib/python/site-packages (from huggingface-hub>=0.23.0->datasets) (4.12.2)\n",
      "Requirement already satisfied: charset-normalizer<4,>=2 in /Users/dimitriroulin/Library/Python/3.9/lib/python/site-packages (from requests>=2.32.2->datasets) (3.2.0)\n",
      "Requirement already satisfied: urllib3<3,>=1.21.1 in /Users/dimitriroulin/Library/Python/3.9/lib/python/site-packages (from requests>=2.32.2->datasets) (2.0.5)\n",
      "Requirement already satisfied: idna<4,>=2.5 in /Users/dimitriroulin/Library/Python/3.9/lib/python/site-packages (from requests>=2.32.2->datasets) (3.4)\n",
      "Requirement already satisfied: certifi>=2017.4.17 in /Users/dimitriroulin/Library/Python/3.9/lib/python/site-packages (from requests>=2.32.2->datasets) (2023.7.22)\n",
      "Requirement already satisfied: pytz>=2020.1 in /Users/dimitriroulin/Library/Python/3.9/lib/python/site-packages (from pandas->datasets) (2024.2)\n",
      "Requirement already satisfied: tzdata>=2022.7 in /Users/dimitriroulin/Library/Python/3.9/lib/python/site-packages (from pandas->datasets) (2024.2)\n",
      "Requirement already satisfied: python-dateutil>=2.8.2 in /Users/dimitriroulin/Library/Python/3.9/lib/python/site-packages (from pandas->datasets) (2.8.2)\n",
      "Requirement already satisfied: six>=1.5 in /Library/Developer/CommandLineTools/Library/Frameworks/Python3.framework/Versions/3.9/lib/python3.9/site-packages (from python-dateutil>=2.8.2->pandas->datasets) (1.15.0)\n",
      "\u001b[33mWARNING: You are using pip version 21.2.4; however, version 25.0 is available.\n",
      "You should consider upgrading via the '/Library/Developer/CommandLineTools/usr/bin/python3 -m pip install --upgrade pip' command.\u001b[0m\n",
      "Note: you may need to restart the kernel to use updated packages.\n",
      "Defaulting to user installation because normal site-packages is not writeable\n",
      "Requirement already satisfied: scikit-learn in /Users/dimitriroulin/Library/Python/3.9/lib/python/site-packages (1.6.0)\n",
      "Requirement already satisfied: numpy>=1.19.5 in /Users/dimitriroulin/Library/Python/3.9/lib/python/site-packages (from scikit-learn) (2.0.2)\n",
      "Requirement already satisfied: scipy>=1.6.0 in /Users/dimitriroulin/Library/Python/3.9/lib/python/site-packages (from scikit-learn) (1.13.1)\n",
      "Requirement already satisfied: threadpoolctl>=3.1.0 in /Users/dimitriroulin/Library/Python/3.9/lib/python/site-packages (from scikit-learn) (3.5.0)\n",
      "Requirement already satisfied: joblib>=1.2.0 in /Users/dimitriroulin/Library/Python/3.9/lib/python/site-packages (from scikit-learn) (1.4.2)\n",
      "\u001b[33mWARNING: You are using pip version 21.2.4; however, version 25.0 is available.\n",
      "You should consider upgrading via the '/Library/Developer/CommandLineTools/usr/bin/python3 -m pip install --upgrade pip' command.\u001b[0m\n",
      "Note: you may need to restart the kernel to use updated packages.\n",
      "Defaulting to user installation because normal site-packages is not writeable\n",
      "Requirement already satisfied: torch in /Users/dimitriroulin/Library/Python/3.9/lib/python/site-packages (2.5.1)\n",
      "Requirement already satisfied: fsspec in /Users/dimitriroulin/Library/Python/3.9/lib/python/site-packages (from torch) (2024.9.0)\n",
      "Requirement already satisfied: sympy==1.13.1 in /Users/dimitriroulin/Library/Python/3.9/lib/python/site-packages (from torch) (1.13.1)\n",
      "Requirement already satisfied: typing-extensions>=4.8.0 in /Users/dimitriroulin/Library/Python/3.9/lib/python/site-packages (from torch) (4.12.2)\n",
      "Requirement already satisfied: networkx in /Users/dimitriroulin/Library/Python/3.9/lib/python/site-packages (from torch) (3.2.1)\n",
      "Requirement already satisfied: filelock in /Users/dimitriroulin/Library/Python/3.9/lib/python/site-packages (from torch) (3.16.1)\n",
      "Requirement already satisfied: jinja2 in /Users/dimitriroulin/Library/Python/3.9/lib/python/site-packages (from torch) (3.1.2)\n",
      "Requirement already satisfied: mpmath<1.4,>=1.1.0 in /Users/dimitriroulin/Library/Python/3.9/lib/python/site-packages (from sympy==1.13.1->torch) (1.3.0)\n",
      "Requirement already satisfied: MarkupSafe>=2.0 in /Users/dimitriroulin/Library/Python/3.9/lib/python/site-packages (from jinja2->torch) (2.1.3)\n",
      "\u001b[33mWARNING: You are using pip version 21.2.4; however, version 25.0 is available.\n",
      "You should consider upgrading via the '/Library/Developer/CommandLineTools/usr/bin/python3 -m pip install --upgrade pip' command.\u001b[0m\n",
      "Note: you may need to restart the kernel to use updated packages.\n",
      "Defaulting to user installation because normal site-packages is not writeable\n",
      "Requirement already satisfied: datasets in /Users/dimitriroulin/Library/Python/3.9/lib/python/site-packages (3.2.0)\n",
      "Requirement already satisfied: pandas in /Users/dimitriroulin/Library/Python/3.9/lib/python/site-packages (from datasets) (2.2.3)\n",
      "Requirement already satisfied: packaging in /Users/dimitriroulin/Library/Python/3.9/lib/python/site-packages (from datasets) (23.1)\n",
      "Requirement already satisfied: dill<0.3.9,>=0.3.0 in /Users/dimitriroulin/Library/Python/3.9/lib/python/site-packages (from datasets) (0.3.8)\n",
      "Requirement already satisfied: xxhash in /Users/dimitriroulin/Library/Python/3.9/lib/python/site-packages (from datasets) (3.5.0)\n",
      "Requirement already satisfied: multiprocess<0.70.17 in /Users/dimitriroulin/Library/Python/3.9/lib/python/site-packages (from datasets) (0.70.16)\n",
      "Requirement already satisfied: numpy>=1.17 in /Users/dimitriroulin/Library/Python/3.9/lib/python/site-packages (from datasets) (2.0.2)\n",
      "Requirement already satisfied: filelock in /Users/dimitriroulin/Library/Python/3.9/lib/python/site-packages (from datasets) (3.16.1)\n",
      "Requirement already satisfied: pyarrow>=15.0.0 in /Users/dimitriroulin/Library/Python/3.9/lib/python/site-packages (from datasets) (18.1.0)\n",
      "Requirement already satisfied: requests>=2.32.2 in /Users/dimitriroulin/Library/Python/3.9/lib/python/site-packages (from datasets) (2.32.3)\n",
      "Requirement already satisfied: fsspec[http]<=2024.9.0,>=2023.1.0 in /Users/dimitriroulin/Library/Python/3.9/lib/python/site-packages (from datasets) (2024.9.0)\n",
      "Requirement already satisfied: pyyaml>=5.1 in /Users/dimitriroulin/Library/Python/3.9/lib/python/site-packages (from datasets) (6.0.1)\n",
      "Requirement already satisfied: tqdm>=4.66.3 in /Users/dimitriroulin/Library/Python/3.9/lib/python/site-packages (from datasets) (4.67.1)\n",
      "Requirement already satisfied: aiohttp in /Users/dimitriroulin/Library/Python/3.9/lib/python/site-packages (from datasets) (3.11.10)\n",
      "Requirement already satisfied: huggingface-hub>=0.23.0 in /Users/dimitriroulin/Library/Python/3.9/lib/python/site-packages (from datasets) (0.26.5)\n",
      "Requirement already satisfied: aiohappyeyeballs>=2.3.0 in /Users/dimitriroulin/Library/Python/3.9/lib/python/site-packages (from aiohttp->datasets) (2.4.4)\n",
      "Requirement already satisfied: async-timeout<6.0,>=4.0 in /Users/dimitriroulin/Library/Python/3.9/lib/python/site-packages (from aiohttp->datasets) (5.0.1)\n",
      "Requirement already satisfied: aiosignal>=1.1.2 in /Users/dimitriroulin/Library/Python/3.9/lib/python/site-packages (from aiohttp->datasets) (1.3.1)\n",
      "Requirement already satisfied: multidict<7.0,>=4.5 in /Users/dimitriroulin/Library/Python/3.9/lib/python/site-packages (from aiohttp->datasets) (6.1.0)\n",
      "Requirement already satisfied: attrs>=17.3.0 in /Users/dimitriroulin/Library/Python/3.9/lib/python/site-packages (from aiohttp->datasets) (23.1.0)\n",
      "Requirement already satisfied: frozenlist>=1.1.1 in /Users/dimitriroulin/Library/Python/3.9/lib/python/site-packages (from aiohttp->datasets) (1.5.0)\n",
      "Requirement already satisfied: propcache>=0.2.0 in /Users/dimitriroulin/Library/Python/3.9/lib/python/site-packages (from aiohttp->datasets) (0.2.1)\n",
      "Requirement already satisfied: yarl<2.0,>=1.17.0 in /Users/dimitriroulin/Library/Python/3.9/lib/python/site-packages (from aiohttp->datasets) (1.18.3)\n",
      "Requirement already satisfied: typing-extensions>=3.7.4.3 in /Users/dimitriroulin/Library/Python/3.9/lib/python/site-packages (from huggingface-hub>=0.23.0->datasets) (4.12.2)\n",
      "Requirement already satisfied: certifi>=2017.4.17 in /Users/dimitriroulin/Library/Python/3.9/lib/python/site-packages (from requests>=2.32.2->datasets) (2023.7.22)\n",
      "Requirement already satisfied: charset-normalizer<4,>=2 in /Users/dimitriroulin/Library/Python/3.9/lib/python/site-packages (from requests>=2.32.2->datasets) (3.2.0)\n",
      "Requirement already satisfied: urllib3<3,>=1.21.1 in /Users/dimitriroulin/Library/Python/3.9/lib/python/site-packages (from requests>=2.32.2->datasets) (2.0.5)\n",
      "Requirement already satisfied: idna<4,>=2.5 in /Users/dimitriroulin/Library/Python/3.9/lib/python/site-packages (from requests>=2.32.2->datasets) (3.4)\n",
      "Requirement already satisfied: tzdata>=2022.7 in /Users/dimitriroulin/Library/Python/3.9/lib/python/site-packages (from pandas->datasets) (2024.2)\n",
      "Requirement already satisfied: pytz>=2020.1 in /Users/dimitriroulin/Library/Python/3.9/lib/python/site-packages (from pandas->datasets) (2024.2)\n",
      "Requirement already satisfied: python-dateutil>=2.8.2 in /Users/dimitriroulin/Library/Python/3.9/lib/python/site-packages (from pandas->datasets) (2.8.2)\n",
      "Requirement already satisfied: six>=1.5 in /Library/Developer/CommandLineTools/Library/Frameworks/Python3.framework/Versions/3.9/lib/python3.9/site-packages (from python-dateutil>=2.8.2->pandas->datasets) (1.15.0)\n",
      "\u001b[33mWARNING: You are using pip version 21.2.4; however, version 25.0 is available.\n",
      "You should consider upgrading via the '/Library/Developer/CommandLineTools/usr/bin/python3 -m pip install --upgrade pip' command.\u001b[0m\n",
      "Note: you may need to restart the kernel to use updated packages.\n",
      "Defaulting to user installation because normal site-packages is not writeable\n",
      "Requirement already satisfied: accelerate in /Users/dimitriroulin/Library/Python/3.9/lib/python/site-packages (1.2.0)\n",
      "Requirement already satisfied: psutil in /Users/dimitriroulin/Library/Python/3.9/lib/python/site-packages (from accelerate) (5.9.5)\n",
      "Requirement already satisfied: torch>=1.10.0 in /Users/dimitriroulin/Library/Python/3.9/lib/python/site-packages (from accelerate) (2.5.1)\n",
      "Requirement already satisfied: safetensors>=0.4.3 in /Users/dimitriroulin/Library/Python/3.9/lib/python/site-packages (from accelerate) (0.4.5)\n",
      "Requirement already satisfied: numpy<3.0.0,>=1.17 in /Users/dimitriroulin/Library/Python/3.9/lib/python/site-packages (from accelerate) (2.0.2)\n",
      "Requirement already satisfied: pyyaml in /Users/dimitriroulin/Library/Python/3.9/lib/python/site-packages (from accelerate) (6.0.1)\n",
      "Requirement already satisfied: packaging>=20.0 in /Users/dimitriroulin/Library/Python/3.9/lib/python/site-packages (from accelerate) (23.1)\n",
      "Requirement already satisfied: huggingface-hub>=0.21.0 in /Users/dimitriroulin/Library/Python/3.9/lib/python/site-packages (from accelerate) (0.26.5)\n",
      "Requirement already satisfied: requests in /Users/dimitriroulin/Library/Python/3.9/lib/python/site-packages (from huggingface-hub>=0.21.0->accelerate) (2.32.3)\n",
      "Requirement already satisfied: filelock in /Users/dimitriroulin/Library/Python/3.9/lib/python/site-packages (from huggingface-hub>=0.21.0->accelerate) (3.16.1)\n",
      "Requirement already satisfied: typing-extensions>=3.7.4.3 in /Users/dimitriroulin/Library/Python/3.9/lib/python/site-packages (from huggingface-hub>=0.21.0->accelerate) (4.12.2)\n",
      "Requirement already satisfied: tqdm>=4.42.1 in /Users/dimitriroulin/Library/Python/3.9/lib/python/site-packages (from huggingface-hub>=0.21.0->accelerate) (4.67.1)\n",
      "Requirement already satisfied: fsspec>=2023.5.0 in /Users/dimitriroulin/Library/Python/3.9/lib/python/site-packages (from huggingface-hub>=0.21.0->accelerate) (2024.9.0)\n",
      "Requirement already satisfied: jinja2 in /Users/dimitriroulin/Library/Python/3.9/lib/python/site-packages (from torch>=1.10.0->accelerate) (3.1.2)\n",
      "Requirement already satisfied: sympy==1.13.1 in /Users/dimitriroulin/Library/Python/3.9/lib/python/site-packages (from torch>=1.10.0->accelerate) (1.13.1)\n",
      "Requirement already satisfied: networkx in /Users/dimitriroulin/Library/Python/3.9/lib/python/site-packages (from torch>=1.10.0->accelerate) (3.2.1)\n",
      "Requirement already satisfied: mpmath<1.4,>=1.1.0 in /Users/dimitriroulin/Library/Python/3.9/lib/python/site-packages (from sympy==1.13.1->torch>=1.10.0->accelerate) (1.3.0)\n",
      "Requirement already satisfied: MarkupSafe>=2.0 in /Users/dimitriroulin/Library/Python/3.9/lib/python/site-packages (from jinja2->torch>=1.10.0->accelerate) (2.1.3)\n",
      "Requirement already satisfied: charset-normalizer<4,>=2 in /Users/dimitriroulin/Library/Python/3.9/lib/python/site-packages (from requests->huggingface-hub>=0.21.0->accelerate) (3.2.0)\n",
      "Requirement already satisfied: idna<4,>=2.5 in /Users/dimitriroulin/Library/Python/3.9/lib/python/site-packages (from requests->huggingface-hub>=0.21.0->accelerate) (3.4)\n",
      "Requirement already satisfied: certifi>=2017.4.17 in /Users/dimitriroulin/Library/Python/3.9/lib/python/site-packages (from requests->huggingface-hub>=0.21.0->accelerate) (2023.7.22)\n",
      "Requirement already satisfied: urllib3<3,>=1.21.1 in /Users/dimitriroulin/Library/Python/3.9/lib/python/site-packages (from requests->huggingface-hub>=0.21.0->accelerate) (2.0.5)\n",
      "\u001b[33mWARNING: You are using pip version 21.2.4; however, version 25.0 is available.\n",
      "You should consider upgrading via the '/Library/Developer/CommandLineTools/usr/bin/python3 -m pip install --upgrade pip' command.\u001b[0m\n",
      "Note: you may need to restart the kernel to use updated packages.\n"
     ]
    }
   ],
   "source": [
    "%pip install transformers \n",
    "%pip install datasets \n",
    "%pip install scikit-learn\n",
    "%pip install torch\n",
    "%pip install datasets\n",
    "%pip install accelerate"
   ]
  },
  {
   "cell_type": "markdown",
   "metadata": {},
   "source": [
    "### **1. Loading the Data**\n",
    "In this part, we load the dataset from a CSV file and preprocess it. We also convert the difficulty levels into numeric labels for classification."
   ]
  },
  {
   "cell_type": "code",
   "execution_count": 2,
   "metadata": {},
   "outputs": [
    {
     "name": "stderr",
     "output_type": "stream",
     "text": [
      "/Users/dimitriroulin/Library/Python/3.9/lib/python/site-packages/urllib3/__init__.py:34: NotOpenSSLWarning: urllib3 v2.0 only supports OpenSSL 1.1.1+, currently the 'ssl' module is compiled with 'LibreSSL 2.8.3'. See: https://github.com/urllib3/urllib3/issues/3020\n",
      "  warnings.warn(\n"
     ]
    },
    {
     "data": {
      "text/html": [
       "<div>\n",
       "<style scoped>\n",
       "    .dataframe tbody tr th:only-of-type {\n",
       "        vertical-align: middle;\n",
       "    }\n",
       "\n",
       "    .dataframe tbody tr th {\n",
       "        vertical-align: top;\n",
       "    }\n",
       "\n",
       "    .dataframe thead th {\n",
       "        text-align: right;\n",
       "    }\n",
       "</style>\n",
       "<table border=\"1\" class=\"dataframe\">\n",
       "  <thead>\n",
       "    <tr style=\"text-align: right;\">\n",
       "      <th></th>\n",
       "      <th>sentence</th>\n",
       "      <th>difficulty</th>\n",
       "      <th>text_id</th>\n",
       "      <th>sentence_length</th>\n",
       "      <th>sentence_tokens</th>\n",
       "      <th>total_tokens_per_call</th>\n",
       "      <th>difficulty_reviewed</th>\n",
       "      <th>readability</th>\n",
       "      <th>difficulty_label</th>\n",
       "    </tr>\n",
       "  </thead>\n",
       "  <tbody>\n",
       "    <tr>\n",
       "      <th>0</th>\n",
       "      <td>Auf dem Foto ist eine Stadt am Meer.</td>\n",
       "      <td>0</td>\n",
       "      <td>481</td>\n",
       "      <td>8</td>\n",
       "      <td>NaN</td>\n",
       "      <td>NaN</td>\n",
       "      <td>A1</td>\n",
       "      <td>105.66</td>\n",
       "      <td>A1</td>\n",
       "    </tr>\n",
       "    <tr>\n",
       "      <th>1</th>\n",
       "      <td>„Florian will gern ins Schwimmbad gehen.</td>\n",
       "      <td>0</td>\n",
       "      <td>486</td>\n",
       "      <td>6</td>\n",
       "      <td>NaN</td>\n",
       "      <td>NaN</td>\n",
       "      <td>A1</td>\n",
       "      <td>73.85</td>\n",
       "      <td>A1</td>\n",
       "    </tr>\n",
       "    <tr>\n",
       "      <th>2</th>\n",
       "      <td>Wir essen um 15 Uhr zusammen.</td>\n",
       "      <td>0</td>\n",
       "      <td>526</td>\n",
       "      <td>6</td>\n",
       "      <td>NaN</td>\n",
       "      <td>NaN</td>\n",
       "      <td>A1</td>\n",
       "      <td>90.77</td>\n",
       "      <td>A1</td>\n",
       "    </tr>\n",
       "    <tr>\n",
       "      <th>3</th>\n",
       "      <td>Dort geht man von Raum zu Raum.</td>\n",
       "      <td>0</td>\n",
       "      <td>316</td>\n",
       "      <td>7</td>\n",
       "      <td>9.0</td>\n",
       "      <td>112.0</td>\n",
       "      <td>A1</td>\n",
       "      <td>115.13</td>\n",
       "      <td>A1</td>\n",
       "    </tr>\n",
       "    <tr>\n",
       "      <th>4</th>\n",
       "      <td>Das Holländische Viertel mitten in Potsdam.</td>\n",
       "      <td>0</td>\n",
       "      <td>485</td>\n",
       "      <td>6</td>\n",
       "      <td>11.0</td>\n",
       "      <td>117.0</td>\n",
       "      <td>A1</td>\n",
       "      <td>48.47</td>\n",
       "      <td>A1</td>\n",
       "    </tr>\n",
       "    <tr>\n",
       "      <th>5</th>\n",
       "      <td>Heute ist Potsdam eine moderne Stadt.</td>\n",
       "      <td>0</td>\n",
       "      <td>485</td>\n",
       "      <td>6</td>\n",
       "      <td>8.0</td>\n",
       "      <td>113.0</td>\n",
       "      <td>A1</td>\n",
       "      <td>90.77</td>\n",
       "      <td>A1</td>\n",
       "    </tr>\n",
       "    <tr>\n",
       "      <th>6</th>\n",
       "      <td>Dann suchen Laura und Kilian ihre Plätze.</td>\n",
       "      <td>0</td>\n",
       "      <td>509</td>\n",
       "      <td>7</td>\n",
       "      <td>NaN</td>\n",
       "      <td>NaN</td>\n",
       "      <td>A1</td>\n",
       "      <td>89.75</td>\n",
       "      <td>A1</td>\n",
       "    </tr>\n",
       "    <tr>\n",
       "      <th>7</th>\n",
       "      <td>Der Schaffner gibt Tim die Fahrkarte und geht ...</td>\n",
       "      <td>0</td>\n",
       "      <td>498</td>\n",
       "      <td>9</td>\n",
       "      <td>NaN</td>\n",
       "      <td>NaN</td>\n",
       "      <td>A1</td>\n",
       "      <td>96.18</td>\n",
       "      <td>A1</td>\n",
       "    </tr>\n",
       "    <tr>\n",
       "      <th>8</th>\n",
       "      <td>Dann gehen Anna und Lisa zusammen nach Hause.</td>\n",
       "      <td>0</td>\n",
       "      <td>500</td>\n",
       "      <td>8</td>\n",
       "      <td>NaN</td>\n",
       "      <td>NaN</td>\n",
       "      <td>A1</td>\n",
       "      <td>88.74</td>\n",
       "      <td>A1</td>\n",
       "    </tr>\n",
       "    <tr>\n",
       "      <th>9</th>\n",
       "      <td>„Ja, das sehe ich“, antwortet der Mann.</td>\n",
       "      <td>0</td>\n",
       "      <td>502</td>\n",
       "      <td>7</td>\n",
       "      <td>NaN</td>\n",
       "      <td>NaN</td>\n",
       "      <td>A1</td>\n",
       "      <td>106.67</td>\n",
       "      <td>A1</td>\n",
       "    </tr>\n",
       "  </tbody>\n",
       "</table>\n",
       "</div>"
      ],
      "text/plain": [
       "                                            sentence  difficulty text_id  \\\n",
       "0               Auf dem Foto ist eine Stadt am Meer.           0     481   \n",
       "1           „Florian will gern ins Schwimmbad gehen.           0     486   \n",
       "2                      Wir essen um 15 Uhr zusammen.           0     526   \n",
       "3                    Dort geht man von Raum zu Raum.           0     316   \n",
       "4        Das Holländische Viertel mitten in Potsdam.           0     485   \n",
       "5              Heute ist Potsdam eine moderne Stadt.           0     485   \n",
       "6          Dann suchen Laura und Kilian ihre Plätze.           0     509   \n",
       "7  Der Schaffner gibt Tim die Fahrkarte und geht ...           0     498   \n",
       "8      Dann gehen Anna und Lisa zusammen nach Hause.           0     500   \n",
       "9            „Ja, das sehe ich“, antwortet der Mann.           0     502   \n",
       "\n",
       "   sentence_length  sentence_tokens  total_tokens_per_call  \\\n",
       "0                8              NaN                    NaN   \n",
       "1                6              NaN                    NaN   \n",
       "2                6              NaN                    NaN   \n",
       "3                7              9.0                  112.0   \n",
       "4                6             11.0                  117.0   \n",
       "5                6              8.0                  113.0   \n",
       "6                7              NaN                    NaN   \n",
       "7                9              NaN                    NaN   \n",
       "8                8              NaN                    NaN   \n",
       "9                7              NaN                    NaN   \n",
       "\n",
       "  difficulty_reviewed  readability difficulty_label  \n",
       "0                  A1       105.66               A1  \n",
       "1                  A1        73.85               A1  \n",
       "2                  A1        90.77               A1  \n",
       "3                  A1       115.13               A1  \n",
       "4                  A1        48.47               A1  \n",
       "5                  A1        90.77               A1  \n",
       "6                  A1        89.75               A1  \n",
       "7                  A1        96.18               A1  \n",
       "8                  A1        88.74               A1  \n",
       "9                  A1       106.67               A1  "
      ]
     },
     "metadata": {},
     "output_type": "display_data"
    },
    {
     "data": {
      "text/plain": [
       "difficulty\n",
       "0    587\n",
       "1    587\n",
       "2    587\n",
       "3    587\n",
       "4    587\n",
       "5    587\n",
       "Name: count, dtype: int64"
      ]
     },
     "execution_count": 2,
     "metadata": {},
     "output_type": "execute_result"
    }
   ],
   "source": [
    "import pandas as pd\n",
    "from sklearn.model_selection import train_test_split\n",
    "from datasets import Dataset, DatasetDict\n",
    "\n",
    "file_path = \"./Data/CEFR_GERMAN_sentences_labelled.csv\"\n",
    "\n",
    "# Load your dataset\n",
    "data = pd.read_csv(file_path)\n",
    "\n",
    "# Create a new coloumn to store the difficulty labels\n",
    "data[\"difficulty_label\"] = data[\"difficulty_reviewed\"]\n",
    "\n",
    "# Convert difficulty column to numeric labels\n",
    "data[\"difficulty\"] = data[\"difficulty_reviewed\"].astype(\"category\").cat.codes\n",
    "\n",
    "# Display the first few rows of the dataset\n",
    "display(data.head(10))\n",
    "\n",
    "# Display the number of samples in each difficulty category\n",
    "data[\"difficulty\"].value_counts()"
   ]
  },
  {
   "cell_type": "markdown",
   "metadata": {},
   "source": [
    "### **2. Splitting the Dataset**\n",
    "Here, we split the dataset into training, test sets using an 80%-20% split. Stratification ensures that class distribution is preserved across splits."
   ]
  },
  {
   "cell_type": "code",
   "execution_count": 3,
   "metadata": {},
   "outputs": [
    {
     "name": "stdout",
     "output_type": "stream",
     "text": [
      "Train size: 2817\n",
      "Test size: 705\n"
     ]
    }
   ],
   "source": [
    "# Split the data into train (80%) and test (10%)\n",
    "train_data, test_data = train_test_split(data, test_size=0.2, stratify=data[\"difficulty\"], random_state=42)\n",
    "\n",
    "\n",
    "print(f\"Train size: {len(train_data)}\")\n",
    "print(f\"Test size: {len(test_data)}\")"
   ]
  },
  {
   "cell_type": "code",
   "execution_count": 17,
   "metadata": {},
   "outputs": [],
   "source": [
    "# save the train and test data to csv\n",
    "train_data.to_csv(\"./Data/train_data.csv\", index=False)\n",
    "test_data.to_csv(\"./Data/test_data.csv\", index=False)"
   ]
  },
  {
   "cell_type": "markdown",
   "metadata": {},
   "source": [
    "\n",
    "### **3. Preparing the Hugging Face Dataset**\n",
    "In this step, we convert the dataset into the Hugging Face `Dataset` format and create a `DatasetDict` for easier handling in the `transformers` library."
   ]
  },
  {
   "cell_type": "code",
   "execution_count": 4,
   "metadata": {},
   "outputs": [
    {
     "name": "stdout",
     "output_type": "stream",
     "text": [
      "DatasetDict({\n",
      "    train: Dataset({\n",
      "        features: ['sentence', 'difficulty', 'text_id', 'sentence_length', 'sentence_tokens', 'total_tokens_per_call', 'difficulty_reviewed', 'readability', 'difficulty_label', '__index_level_0__'],\n",
      "        num_rows: 2817\n",
      "    })\n",
      "    test: Dataset({\n",
      "        features: ['sentence', 'difficulty', 'text_id', 'sentence_length', 'sentence_tokens', 'total_tokens_per_call', 'difficulty_reviewed', 'readability', 'difficulty_label', '__index_level_0__'],\n",
      "        num_rows: 705\n",
      "    })\n",
      "})\n"
     ]
    }
   ],
   "source": [
    "# Convert to Hugging Face Dataset format\n",
    "test_dataset = Dataset.from_pandas(test_data)\n",
    "train_dataset = Dataset.from_pandas(train_data)\n",
    "\n",
    "# Create a DatasetDict\n",
    "dataset = DatasetDict({\n",
    "    \"train\": train_dataset,\n",
    "    \"test\": test_dataset\n",
    "})\n",
    "\n",
    "print(dataset)"
   ]
  },
  {
   "cell_type": "markdown",
   "metadata": {},
   "source": [
    "\n",
    "### **4. Tokenizing the Dataset**\n",
    "Here, we load the tokenizer for `xlm-roberta-base` and tokenize the sentences. We also assign numeric labels for classification."
   ]
  },
  {
   "cell_type": "code",
   "execution_count": 5,
   "metadata": {},
   "outputs": [
    {
     "data": {
      "application/vnd.jupyter.widget-view+json": {
       "model_id": "be9515d0900845d092250beebb850d88",
       "version_major": 2,
       "version_minor": 0
      },
      "text/plain": [
       "Map (num_proc=4):   0%|          | 0/2817 [00:00<?, ? examples/s]"
      ]
     },
     "metadata": {},
     "output_type": "display_data"
    },
    {
     "data": {
      "application/vnd.jupyter.widget-view+json": {
       "model_id": "2ce126878ebd4303a99130c99960e3ef",
       "version_major": 2,
       "version_minor": 0
      },
      "text/plain": [
       "Map (num_proc=4):   0%|          | 0/705 [00:00<?, ? examples/s]"
      ]
     },
     "metadata": {},
     "output_type": "display_data"
    },
    {
     "name": "stdout",
     "output_type": "stream",
     "text": [
      "{'sentence': 'Zur Vorbereitung sollte man mit einem Arm eine weit ausholende Bewegung machen, so als wolle man jemanden freudig begrüßen.', 'difficulty': 3, 'text_id': '306', 'sentence_length': 19, 'sentence_tokens': 27.0, 'total_tokens_per_call': 139.0, 'difficulty_reviewed': 'B2', 'readability': 69.11, 'difficulty_label': 'B2', '__index_level_0__': 2172, 'input_ids': [0, 47426, 150754, 12961, 332, 491, 2315, 33119, 909, 30604, 1312, 71427, 112, 92658, 8960, 4, 221, 737, 13924, 133, 332, 40127, 33, 12478, 34, 4803, 225749, 5, 2, 1, 1, 1, 1, 1, 1, 1, 1, 1, 1, 1, 1, 1, 1, 1, 1, 1, 1, 1, 1, 1, 1, 1, 1, 1, 1, 1, 1, 1, 1, 1, 1, 1, 1, 1, 1, 1, 1, 1, 1, 1, 1, 1, 1, 1, 1, 1, 1, 1, 1, 1, 1, 1, 1, 1, 1, 1, 1, 1, 1, 1, 1, 1, 1, 1, 1, 1, 1, 1, 1, 1, 1, 1, 1, 1, 1, 1, 1, 1, 1, 1, 1, 1, 1, 1, 1, 1, 1, 1, 1, 1, 1, 1, 1, 1, 1, 1, 1, 1], 'attention_mask': [1, 1, 1, 1, 1, 1, 1, 1, 1, 1, 1, 1, 1, 1, 1, 1, 1, 1, 1, 1, 1, 1, 1, 1, 1, 1, 1, 1, 1, 0, 0, 0, 0, 0, 0, 0, 0, 0, 0, 0, 0, 0, 0, 0, 0, 0, 0, 0, 0, 0, 0, 0, 0, 0, 0, 0, 0, 0, 0, 0, 0, 0, 0, 0, 0, 0, 0, 0, 0, 0, 0, 0, 0, 0, 0, 0, 0, 0, 0, 0, 0, 0, 0, 0, 0, 0, 0, 0, 0, 0, 0, 0, 0, 0, 0, 0, 0, 0, 0, 0, 0, 0, 0, 0, 0, 0, 0, 0, 0, 0, 0, 0, 0, 0, 0, 0, 0, 0, 0, 0, 0, 0, 0, 0, 0, 0, 0, 0], 'labels': 3}\n"
     ]
    }
   ],
   "source": [
    "from transformers import AutoTokenizer\n",
    "\n",
    "# Load the tokenizer\n",
    "tokenizer = AutoTokenizer.from_pretrained(\"xlm-roberta-base\")\n",
    "\n",
    "# Tokenize the dataset and add the `labels` field\n",
    "def tokenize_function(examples):\n",
    "    tokenized_inputs = tokenizer(\n",
    "        examples[\"sentence\"],\n",
    "        padding=\"max_length\",\n",
    "        truncation=True,\n",
    "        max_length=128\n",
    "    )\n",
    "    # Assign numeric labels\n",
    "    tokenized_inputs[\"labels\"] = examples[\"difficulty\"]\n",
    "    return tokenized_inputs\n",
    "\n",
    "# Tokenize the dataset\n",
    "tokenized_datasets = dataset.map(tokenize_function, batched=True, num_proc=4)  # Use 4 processes\n",
    "\n",
    "\n",
    "# Debugging: Check tokenized dataset\n",
    "print(tokenized_datasets[\"train\"][0])"
   ]
  },
  {
   "cell_type": "markdown",
   "metadata": {},
   "source": [
    "\n",
    "### **5. Loading the Model**\n",
    "In this step, we load the pre-trained `xlm-roberta-base` model and prepare it for sequence classification by specifying the number of labels."
   ]
  },
  {
   "cell_type": "code",
   "execution_count": 6,
   "metadata": {},
   "outputs": [
    {
     "name": "stdout",
     "output_type": "stream",
     "text": [
      "Using device: mps\n"
     ]
    }
   ],
   "source": [
    "import torch\n",
    "device = torch.device(\"mps\") if torch.backends.mps.is_available() else torch.device(\"cpu\")\n",
    "print(f\"Using device: {device}\")\n"
   ]
  },
  {
   "cell_type": "code",
   "execution_count": 7,
   "metadata": {},
   "outputs": [
    {
     "name": "stdout",
     "output_type": "stream",
     "text": [
      "Number of classes: 6\n"
     ]
    },
    {
     "name": "stderr",
     "output_type": "stream",
     "text": [
      "Some weights of XLMRobertaForSequenceClassification were not initialized from the model checkpoint at xlm-roberta-base and are newly initialized: ['classifier.dense.bias', 'classifier.dense.weight', 'classifier.out_proj.bias', 'classifier.out_proj.weight']\n",
      "You should probably TRAIN this model on a down-stream task to be able to use it for predictions and inference.\n"
     ]
    },
    {
     "data": {
      "text/plain": [
       "XLMRobertaForSequenceClassification(\n",
       "  (roberta): XLMRobertaModel(\n",
       "    (embeddings): XLMRobertaEmbeddings(\n",
       "      (word_embeddings): Embedding(250002, 768, padding_idx=1)\n",
       "      (position_embeddings): Embedding(514, 768, padding_idx=1)\n",
       "      (token_type_embeddings): Embedding(1, 768)\n",
       "      (LayerNorm): LayerNorm((768,), eps=1e-05, elementwise_affine=True)\n",
       "      (dropout): Dropout(p=0.1, inplace=False)\n",
       "    )\n",
       "    (encoder): XLMRobertaEncoder(\n",
       "      (layer): ModuleList(\n",
       "        (0-11): 12 x XLMRobertaLayer(\n",
       "          (attention): XLMRobertaAttention(\n",
       "            (self): XLMRobertaSdpaSelfAttention(\n",
       "              (query): Linear(in_features=768, out_features=768, bias=True)\n",
       "              (key): Linear(in_features=768, out_features=768, bias=True)\n",
       "              (value): Linear(in_features=768, out_features=768, bias=True)\n",
       "              (dropout): Dropout(p=0.1, inplace=False)\n",
       "            )\n",
       "            (output): XLMRobertaSelfOutput(\n",
       "              (dense): Linear(in_features=768, out_features=768, bias=True)\n",
       "              (LayerNorm): LayerNorm((768,), eps=1e-05, elementwise_affine=True)\n",
       "              (dropout): Dropout(p=0.1, inplace=False)\n",
       "            )\n",
       "          )\n",
       "          (intermediate): XLMRobertaIntermediate(\n",
       "            (dense): Linear(in_features=768, out_features=3072, bias=True)\n",
       "            (intermediate_act_fn): GELUActivation()\n",
       "          )\n",
       "          (output): XLMRobertaOutput(\n",
       "            (dense): Linear(in_features=3072, out_features=768, bias=True)\n",
       "            (LayerNorm): LayerNorm((768,), eps=1e-05, elementwise_affine=True)\n",
       "            (dropout): Dropout(p=0.1, inplace=False)\n",
       "          )\n",
       "        )\n",
       "      )\n",
       "    )\n",
       "  )\n",
       "  (classifier): XLMRobertaClassificationHead(\n",
       "    (dense): Linear(in_features=768, out_features=768, bias=True)\n",
       "    (dropout): Dropout(p=0.1, inplace=False)\n",
       "    (out_proj): Linear(in_features=768, out_features=6, bias=True)\n",
       "  )\n",
       ")"
      ]
     },
     "execution_count": 7,
     "metadata": {},
     "output_type": "execute_result"
    }
   ],
   "source": [
    "from transformers import AutoModelForSequenceClassification\n",
    "\n",
    "# Define the number of classes\n",
    "num_classes = len(data[\"difficulty\"].unique())\n",
    "print(f\"Number of classes: {num_classes}\")\n",
    "\n",
    "# Load the model\n",
    "model = AutoModelForSequenceClassification.from_pretrained(\"xlm-roberta-base\", num_labels=num_classes)\n",
    "\n",
    "model.to(device) # Move the model to the device"
   ]
  },
  {
   "cell_type": "markdown",
   "metadata": {},
   "source": [
    "\n",
    "### **6. Setting Up the Trainer**\n",
    "We define the training arguments and initialize the `Trainer` class, which manages the fine-tuning process. Early stopping is implemented to prevent overfitting.\n"
   ]
  },
  {
   "cell_type": "code",
   "execution_count": 8,
   "metadata": {},
   "outputs": [
    {
     "name": "stderr",
     "output_type": "stream",
     "text": [
      "/Users/dimitriroulin/Library/Python/3.9/lib/python/site-packages/transformers/training_args.py:1575: FutureWarning: `evaluation_strategy` is deprecated and will be removed in version 4.46 of 🤗 Transformers. Use `eval_strategy` instead\n",
      "  warnings.warn(\n",
      "/var/folders/wb/btfl8bv91b5c253kbpftk1940000gn/T/ipykernel_23019/4216458826.py:25: FutureWarning: `tokenizer` is deprecated and will be removed in version 5.0.0 for `Trainer.__init__`. Use `processing_class` instead.\n",
      "  trainer = Trainer(\n"
     ]
    }
   ],
   "source": [
    "from transformers import TrainingArguments, Trainer, DataCollatorWithPadding, EarlyStoppingCallback\n",
    "\n",
    "# Define a data collator for padding\n",
    "data_collator = DataCollatorWithPadding(tokenizer=tokenizer, padding=True)\n",
    "\n",
    "# Define training arguments\n",
    "training_args = TrainingArguments(\n",
    "    output_dir=\"./results\",\n",
    "    evaluation_strategy=\"epoch\",\n",
    "    save_strategy=\"epoch\",\n",
    "    learning_rate=1e-5,  # Adjusted learning rate\n",
    "    lr_scheduler_type=\"linear\",  # Gradually reduces learning rate\n",
    "    per_device_train_batch_size=8,\n",
    "    per_device_eval_batch_size=8,\n",
    "    num_train_epochs=10,\n",
    "    weight_decay=0.2,\n",
    "    logging_dir=\"./logs\",\n",
    "    logging_steps=10,\n",
    "    load_best_model_at_end=True,\n",
    "    gradient_accumulation_steps=2,\n",
    "    max_grad_norm=1.0,\n",
    ")\n",
    "\n",
    "# Initialize the Trainer\n",
    "trainer = Trainer(\n",
    "    model=model,\n",
    "    args=training_args,\n",
    "    train_dataset=tokenized_datasets[\"train\"],\n",
    "    eval_dataset=tokenized_datasets[\"test\"],\n",
    "    data_collator=data_collator,\n",
    "    tokenizer=tokenizer,\n",
    "    callbacks=[EarlyStoppingCallback(early_stopping_patience=2)],\n",
    ")\n"
   ]
  },
  {
   "cell_type": "markdown",
   "metadata": {},
   "source": [
    "### **7. Training the Model**\n",
    "Finally, we start the training process and fine-tune the model for the text classification task.\n"
   ]
  },
  {
   "cell_type": "code",
   "execution_count": 9,
   "metadata": {},
   "outputs": [
    {
     "data": {
      "application/vnd.jupyter.widget-view+json": {
       "model_id": "3aa0afe67b8e4c96a4dfb625cb93a960",
       "version_major": 2,
       "version_minor": 0
      },
      "text/plain": [
       "  0%|          | 0/1760 [00:00<?, ?it/s]"
      ]
     },
     "metadata": {},
     "output_type": "display_data"
    },
    {
     "name": "stdout",
     "output_type": "stream",
     "text": [
      "{'loss': 1.797, 'grad_norm': 7.198448181152344, 'learning_rate': 9.943181818181819e-06, 'epoch': 0.06}\n",
      "{'loss': 1.7979, 'grad_norm': 6.460068702697754, 'learning_rate': 9.886363636363637e-06, 'epoch': 0.11}\n",
      "{'loss': 1.7904, 'grad_norm': 8.516172409057617, 'learning_rate': 9.829545454545455e-06, 'epoch': 0.17}\n",
      "{'loss': 1.7866, 'grad_norm': 9.60258960723877, 'learning_rate': 9.772727272727273e-06, 'epoch': 0.23}\n",
      "{'loss': 1.794, 'grad_norm': 11.67725944519043, 'learning_rate': 9.715909090909091e-06, 'epoch': 0.28}\n",
      "{'loss': 1.7365, 'grad_norm': 11.830154418945312, 'learning_rate': 9.65909090909091e-06, 'epoch': 0.34}\n",
      "{'loss': 1.7019, 'grad_norm': 13.37597370147705, 'learning_rate': 9.602272727272727e-06, 'epoch': 0.4}\n",
      "{'loss': 1.6869, 'grad_norm': 19.89876365661621, 'learning_rate': 9.545454545454547e-06, 'epoch': 0.45}\n",
      "{'loss': 1.5382, 'grad_norm': 18.209821701049805, 'learning_rate': 9.488636363636365e-06, 'epoch': 0.51}\n",
      "{'loss': 1.5048, 'grad_norm': 20.198890686035156, 'learning_rate': 9.431818181818183e-06, 'epoch': 0.57}\n",
      "{'loss': 1.4354, 'grad_norm': 13.015563011169434, 'learning_rate': 9.375000000000001e-06, 'epoch': 0.62}\n",
      "{'loss': 1.3848, 'grad_norm': 22.851816177368164, 'learning_rate': 9.318181818181819e-06, 'epoch': 0.68}\n",
      "{'loss': 1.3717, 'grad_norm': 21.19099998474121, 'learning_rate': 9.261363636363637e-06, 'epoch': 0.74}\n",
      "{'loss': 1.3818, 'grad_norm': 23.594942092895508, 'learning_rate': 9.204545454545455e-06, 'epoch': 0.79}\n",
      "{'loss': 1.2645, 'grad_norm': 16.96957015991211, 'learning_rate': 9.147727272727273e-06, 'epoch': 0.85}\n",
      "{'loss': 1.2738, 'grad_norm': 19.408628463745117, 'learning_rate': 9.090909090909091e-06, 'epoch': 0.91}\n",
      "{'loss': 1.2458, 'grad_norm': 31.296627044677734, 'learning_rate': 9.03409090909091e-06, 'epoch': 0.96}\n"
     ]
    },
    {
     "data": {
      "application/vnd.jupyter.widget-view+json": {
       "model_id": "25f3f2bad66a44bf9d77529e699c1f8f",
       "version_major": 2,
       "version_minor": 0
      },
      "text/plain": [
       "  0%|          | 0/89 [00:00<?, ?it/s]"
      ]
     },
     "metadata": {},
     "output_type": "display_data"
    },
    {
     "name": "stdout",
     "output_type": "stream",
     "text": [
      "{'eval_loss': 1.0817681550979614, 'eval_runtime': 18.3676, 'eval_samples_per_second': 38.383, 'eval_steps_per_second': 4.845, 'epoch': 1.0}\n",
      "{'loss': 1.1581, 'grad_norm': 116.0140609741211, 'learning_rate': 8.977272727272727e-06, 'epoch': 1.02}\n",
      "{'loss': 1.2044, 'grad_norm': 41.478755950927734, 'learning_rate': 8.920454545454547e-06, 'epoch': 1.07}\n",
      "{'loss': 1.1989, 'grad_norm': 48.511539459228516, 'learning_rate': 8.863636363636365e-06, 'epoch': 1.13}\n",
      "{'loss': 1.2008, 'grad_norm': 27.07062339782715, 'learning_rate': 8.806818181818183e-06, 'epoch': 1.19}\n",
      "{'loss': 1.1501, 'grad_norm': 39.244117736816406, 'learning_rate': 8.750000000000001e-06, 'epoch': 1.24}\n",
      "{'loss': 1.1521, 'grad_norm': 29.411073684692383, 'learning_rate': 8.693181818181819e-06, 'epoch': 1.3}\n",
      "{'loss': 1.1549, 'grad_norm': 16.8337345123291, 'learning_rate': 8.636363636363637e-06, 'epoch': 1.36}\n",
      "{'loss': 1.0516, 'grad_norm': 29.1236572265625, 'learning_rate': 8.579545454545455e-06, 'epoch': 1.41}\n",
      "{'loss': 1.2262, 'grad_norm': 26.940271377563477, 'learning_rate': 8.522727272727273e-06, 'epoch': 1.47}\n",
      "{'loss': 1.1137, 'grad_norm': 29.452415466308594, 'learning_rate': 8.465909090909091e-06, 'epoch': 1.53}\n",
      "{'loss': 1.14, 'grad_norm': 49.66001510620117, 'learning_rate': 8.40909090909091e-06, 'epoch': 1.58}\n",
      "{'loss': 1.08, 'grad_norm': 50.334651947021484, 'learning_rate': 8.352272727272727e-06, 'epoch': 1.64}\n",
      "{'loss': 1.1132, 'grad_norm': 41.38282775878906, 'learning_rate': 8.295454545454547e-06, 'epoch': 1.7}\n",
      "{'loss': 0.9999, 'grad_norm': 39.62477493286133, 'learning_rate': 8.238636363636365e-06, 'epoch': 1.75}\n",
      "{'loss': 1.0636, 'grad_norm': 32.20089340209961, 'learning_rate': 8.181818181818183e-06, 'epoch': 1.81}\n",
      "{'loss': 1.0647, 'grad_norm': 54.88547897338867, 'learning_rate': 8.125000000000001e-06, 'epoch': 1.87}\n",
      "{'loss': 1.0209, 'grad_norm': 23.233728408813477, 'learning_rate': 8.068181818181819e-06, 'epoch': 1.92}\n",
      "{'loss': 0.9981, 'grad_norm': 41.49851608276367, 'learning_rate': 8.011363636363637e-06, 'epoch': 1.98}\n"
     ]
    },
    {
     "data": {
      "application/vnd.jupyter.widget-view+json": {
       "model_id": "bdb1af8288f24cadac0a322388e9d2f0",
       "version_major": 2,
       "version_minor": 0
      },
      "text/plain": [
       "  0%|          | 0/89 [00:00<?, ?it/s]"
      ]
     },
     "metadata": {},
     "output_type": "display_data"
    },
    {
     "name": "stdout",
     "output_type": "stream",
     "text": [
      "{'eval_loss': 0.9280887246131897, 'eval_runtime': 20.0929, 'eval_samples_per_second': 35.087, 'eval_steps_per_second': 4.429, 'epoch': 2.0}\n",
      "{'loss': 0.8572, 'grad_norm': 33.86223602294922, 'learning_rate': 7.954545454545455e-06, 'epoch': 2.03}\n",
      "{'loss': 0.9438, 'grad_norm': 43.58577346801758, 'learning_rate': 7.897727272727273e-06, 'epoch': 2.09}\n",
      "{'loss': 1.0011, 'grad_norm': 46.01958465576172, 'learning_rate': 7.840909090909091e-06, 'epoch': 2.15}\n",
      "{'loss': 0.9089, 'grad_norm': 29.950708389282227, 'learning_rate': 7.784090909090911e-06, 'epoch': 2.2}\n",
      "{'loss': 1.0381, 'grad_norm': 54.67460632324219, 'learning_rate': 7.727272727272727e-06, 'epoch': 2.26}\n",
      "{'loss': 0.9852, 'grad_norm': 24.218442916870117, 'learning_rate': 7.670454545454547e-06, 'epoch': 2.32}\n",
      "{'loss': 1.0317, 'grad_norm': 36.575897216796875, 'learning_rate': 7.613636363636364e-06, 'epoch': 2.37}\n",
      "{'loss': 1.0053, 'grad_norm': 54.2676887512207, 'learning_rate': 7.556818181818183e-06, 'epoch': 2.43}\n",
      "{'loss': 1.0432, 'grad_norm': 42.22798538208008, 'learning_rate': 7.500000000000001e-06, 'epoch': 2.49}\n",
      "{'loss': 0.8137, 'grad_norm': 23.63495635986328, 'learning_rate': 7.443181818181818e-06, 'epoch': 2.54}\n",
      "{'loss': 0.9579, 'grad_norm': 51.957359313964844, 'learning_rate': 7.386363636363637e-06, 'epoch': 2.6}\n",
      "{'loss': 0.8369, 'grad_norm': 45.215476989746094, 'learning_rate': 7.329545454545455e-06, 'epoch': 2.66}\n",
      "{'loss': 0.9467, 'grad_norm': 51.473114013671875, 'learning_rate': 7.272727272727273e-06, 'epoch': 2.71}\n",
      "{'loss': 0.9169, 'grad_norm': 35.455684661865234, 'learning_rate': 7.215909090909091e-06, 'epoch': 2.77}\n",
      "{'loss': 1.0174, 'grad_norm': 40.61855697631836, 'learning_rate': 7.15909090909091e-06, 'epoch': 2.83}\n",
      "{'loss': 0.9014, 'grad_norm': 77.31802368164062, 'learning_rate': 7.102272727272727e-06, 'epoch': 2.88}\n",
      "{'loss': 0.922, 'grad_norm': 58.92070770263672, 'learning_rate': 7.045454545454546e-06, 'epoch': 2.94}\n",
      "{'loss': 0.7888, 'grad_norm': 33.0220947265625, 'learning_rate': 6.988636363636364e-06, 'epoch': 3.0}\n"
     ]
    },
    {
     "data": {
      "application/vnd.jupyter.widget-view+json": {
       "model_id": "fcca11a05a0f4de6b615c319afc077ab",
       "version_major": 2,
       "version_minor": 0
      },
      "text/plain": [
       "  0%|          | 0/89 [00:00<?, ?it/s]"
      ]
     },
     "metadata": {},
     "output_type": "display_data"
    },
    {
     "name": "stdout",
     "output_type": "stream",
     "text": [
      "{'eval_loss': 0.9275411367416382, 'eval_runtime': 20.3777, 'eval_samples_per_second': 34.597, 'eval_steps_per_second': 4.368, 'epoch': 3.0}\n",
      "{'loss': 0.8219, 'grad_norm': 31.25478172302246, 'learning_rate': 6.931818181818183e-06, 'epoch': 3.05}\n",
      "{'loss': 0.9048, 'grad_norm': 35.64448547363281, 'learning_rate': 6.875e-06, 'epoch': 3.11}\n",
      "{'loss': 0.7622, 'grad_norm': 50.971763610839844, 'learning_rate': 6.818181818181818e-06, 'epoch': 3.16}\n",
      "{'loss': 0.8929, 'grad_norm': 52.692543029785156, 'learning_rate': 6.761363636363637e-06, 'epoch': 3.22}\n",
      "{'loss': 0.8046, 'grad_norm': 59.17683792114258, 'learning_rate': 6.704545454545454e-06, 'epoch': 3.28}\n",
      "{'loss': 0.9287, 'grad_norm': 33.28940963745117, 'learning_rate': 6.647727272727273e-06, 'epoch': 3.33}\n",
      "{'loss': 0.7328, 'grad_norm': 33.089786529541016, 'learning_rate': 6.590909090909091e-06, 'epoch': 3.39}\n",
      "{'loss': 0.8443, 'grad_norm': 81.71037292480469, 'learning_rate': 6.53409090909091e-06, 'epoch': 3.45}\n",
      "{'loss': 0.7561, 'grad_norm': 28.60904312133789, 'learning_rate': 6.477272727272727e-06, 'epoch': 3.5}\n",
      "{'loss': 0.8132, 'grad_norm': 76.8993148803711, 'learning_rate': 6.420454545454546e-06, 'epoch': 3.56}\n",
      "{'loss': 0.8204, 'grad_norm': 37.418243408203125, 'learning_rate': 6.363636363636364e-06, 'epoch': 3.62}\n",
      "{'loss': 0.8572, 'grad_norm': 36.74769973754883, 'learning_rate': 6.306818181818183e-06, 'epoch': 3.67}\n",
      "{'loss': 0.8563, 'grad_norm': 57.67955017089844, 'learning_rate': 6.25e-06, 'epoch': 3.73}\n",
      "{'loss': 0.7881, 'grad_norm': 76.97756958007812, 'learning_rate': 6.193181818181818e-06, 'epoch': 3.79}\n",
      "{'loss': 0.787, 'grad_norm': 27.625398635864258, 'learning_rate': 6.136363636363637e-06, 'epoch': 3.84}\n",
      "{'loss': 0.8479, 'grad_norm': 74.01878356933594, 'learning_rate': 6.079545454545454e-06, 'epoch': 3.9}\n",
      "{'loss': 0.7561, 'grad_norm': 54.380714416503906, 'learning_rate': 6.022727272727273e-06, 'epoch': 3.96}\n"
     ]
    },
    {
     "data": {
      "application/vnd.jupyter.widget-view+json": {
       "model_id": "c0b7c72468f5440c857ca45cb82cbee6",
       "version_major": 2,
       "version_minor": 0
      },
      "text/plain": [
       "  0%|          | 0/89 [00:00<?, ?it/s]"
      ]
     },
     "metadata": {},
     "output_type": "display_data"
    },
    {
     "name": "stdout",
     "output_type": "stream",
     "text": [
      "{'eval_loss': 0.8462105989456177, 'eval_runtime': 20.2944, 'eval_samples_per_second': 34.739, 'eval_steps_per_second': 4.385, 'epoch': 4.0}\n",
      "{'loss': 0.7337, 'grad_norm': 47.1215934753418, 'learning_rate': 5.965909090909091e-06, 'epoch': 4.01}\n",
      "{'loss': 0.6562, 'grad_norm': 42.61884307861328, 'learning_rate': 5.90909090909091e-06, 'epoch': 4.07}\n",
      "{'loss': 0.8072, 'grad_norm': 28.398340225219727, 'learning_rate': 5.852272727272727e-06, 'epoch': 4.12}\n",
      "{'loss': 0.7579, 'grad_norm': 26.540346145629883, 'learning_rate': 5.795454545454546e-06, 'epoch': 4.18}\n",
      "{'loss': 0.6957, 'grad_norm': 91.13622283935547, 'learning_rate': 5.738636363636364e-06, 'epoch': 4.24}\n",
      "{'loss': 0.772, 'grad_norm': 49.17061996459961, 'learning_rate': 5.681818181818183e-06, 'epoch': 4.29}\n",
      "{'loss': 0.7315, 'grad_norm': 68.88138580322266, 'learning_rate': 5.625e-06, 'epoch': 4.35}\n",
      "{'loss': 0.7768, 'grad_norm': 60.02006530761719, 'learning_rate': 5.568181818181818e-06, 'epoch': 4.41}\n",
      "{'loss': 0.7314, 'grad_norm': 36.3472900390625, 'learning_rate': 5.511363636363637e-06, 'epoch': 4.46}\n",
      "{'loss': 0.721, 'grad_norm': 42.57686233520508, 'learning_rate': 5.4545454545454545e-06, 'epoch': 4.52}\n",
      "{'loss': 0.6203, 'grad_norm': 62.568843841552734, 'learning_rate': 5.397727272727273e-06, 'epoch': 4.58}\n",
      "{'loss': 0.6932, 'grad_norm': 51.99866485595703, 'learning_rate': 5.340909090909091e-06, 'epoch': 4.63}\n",
      "{'loss': 0.6649, 'grad_norm': 63.19791793823242, 'learning_rate': 5.28409090909091e-06, 'epoch': 4.69}\n",
      "{'loss': 0.7531, 'grad_norm': 60.16007995605469, 'learning_rate': 5.2272727272727274e-06, 'epoch': 4.75}\n",
      "{'loss': 0.6599, 'grad_norm': 87.8158187866211, 'learning_rate': 5.170454545454546e-06, 'epoch': 4.8}\n",
      "{'loss': 0.6917, 'grad_norm': 77.9581527709961, 'learning_rate': 5.113636363636364e-06, 'epoch': 4.86}\n",
      "{'loss': 0.6593, 'grad_norm': 51.09860610961914, 'learning_rate': 5.056818181818182e-06, 'epoch': 4.92}\n",
      "{'loss': 0.802, 'grad_norm': 71.0553207397461, 'learning_rate': 5e-06, 'epoch': 4.97}\n"
     ]
    },
    {
     "data": {
      "application/vnd.jupyter.widget-view+json": {
       "model_id": "6e39b6a761cc47b2b40b2bdc2cdf2139",
       "version_major": 2,
       "version_minor": 0
      },
      "text/plain": [
       "  0%|          | 0/89 [00:00<?, ?it/s]"
      ]
     },
     "metadata": {},
     "output_type": "display_data"
    },
    {
     "name": "stdout",
     "output_type": "stream",
     "text": [
      "{'eval_loss': 0.8762010335922241, 'eval_runtime': 21.4225, 'eval_samples_per_second': 32.909, 'eval_steps_per_second': 4.155, 'epoch': 5.0}\n",
      "{'loss': 0.6454, 'grad_norm': 65.22842407226562, 'learning_rate': 4.9431818181818184e-06, 'epoch': 5.03}\n",
      "{'loss': 0.5945, 'grad_norm': 34.18360137939453, 'learning_rate': 4.8863636363636365e-06, 'epoch': 5.08}\n",
      "{'loss': 0.5828, 'grad_norm': 35.41919708251953, 'learning_rate': 4.829545454545455e-06, 'epoch': 5.14}\n",
      "{'loss': 0.6373, 'grad_norm': 55.24009323120117, 'learning_rate': 4.772727272727273e-06, 'epoch': 5.2}\n",
      "{'loss': 0.598, 'grad_norm': 54.925514221191406, 'learning_rate': 4.715909090909091e-06, 'epoch': 5.25}\n",
      "{'loss': 0.6781, 'grad_norm': 48.06061935424805, 'learning_rate': 4.6590909090909095e-06, 'epoch': 5.31}\n",
      "{'loss': 0.6325, 'grad_norm': 61.44017028808594, 'learning_rate': 4.6022727272727275e-06, 'epoch': 5.37}\n",
      "{'loss': 0.6406, 'grad_norm': 37.61737823486328, 'learning_rate': 4.5454545454545455e-06, 'epoch': 5.42}\n",
      "{'loss': 0.6379, 'grad_norm': 49.979759216308594, 'learning_rate': 4.4886363636363636e-06, 'epoch': 5.48}\n",
      "{'loss': 0.6293, 'grad_norm': 66.94258117675781, 'learning_rate': 4.4318181818181824e-06, 'epoch': 5.54}\n",
      "{'loss': 0.6529, 'grad_norm': 47.437435150146484, 'learning_rate': 4.3750000000000005e-06, 'epoch': 5.59}\n",
      "{'loss': 0.6791, 'grad_norm': 73.47801971435547, 'learning_rate': 4.3181818181818185e-06, 'epoch': 5.65}\n",
      "{'loss': 0.5739, 'grad_norm': 45.283653259277344, 'learning_rate': 4.2613636363636365e-06, 'epoch': 5.71}\n",
      "{'loss': 0.6394, 'grad_norm': 69.63555145263672, 'learning_rate': 4.204545454545455e-06, 'epoch': 5.76}\n",
      "{'loss': 0.6235, 'grad_norm': 75.51847839355469, 'learning_rate': 4.1477272727272734e-06, 'epoch': 5.82}\n",
      "{'loss': 0.564, 'grad_norm': 81.94770812988281, 'learning_rate': 4.0909090909090915e-06, 'epoch': 5.88}\n",
      "{'loss': 0.6604, 'grad_norm': 65.07598876953125, 'learning_rate': 4.0340909090909095e-06, 'epoch': 5.93}\n",
      "{'loss': 0.5458, 'grad_norm': 46.5158576965332, 'learning_rate': 3.9772727272727275e-06, 'epoch': 5.99}\n"
     ]
    },
    {
     "data": {
      "application/vnd.jupyter.widget-view+json": {
       "model_id": "121b837e4afc471e9ebfd0943e7bdb2c",
       "version_major": 2,
       "version_minor": 0
      },
      "text/plain": [
       "  0%|          | 0/89 [00:00<?, ?it/s]"
      ]
     },
     "metadata": {},
     "output_type": "display_data"
    },
    {
     "name": "stdout",
     "output_type": "stream",
     "text": [
      "{'eval_loss': 0.882720410823822, 'eval_runtime': 20.2298, 'eval_samples_per_second': 34.85, 'eval_steps_per_second': 4.399, 'epoch': 6.0}\n",
      "{'train_runtime': 2758.8849, 'train_samples_per_second': 10.211, 'train_steps_per_second': 0.638, 'train_loss': 0.9576994374310229, 'epoch': 6.0}\n"
     ]
    },
    {
     "data": {
      "text/plain": [
       "TrainOutput(global_step=1062, training_loss=0.9576994374310229, metrics={'train_runtime': 2758.8849, 'train_samples_per_second': 10.211, 'train_steps_per_second': 0.638, 'total_flos': 1111815693167616.0, 'train_loss': 0.9576994374310229, 'epoch': 6.0})"
      ]
     },
     "execution_count": 9,
     "metadata": {},
     "output_type": "execute_result"
    }
   ],
   "source": [
    "# Train the model\n",
    "trainer.train()"
   ]
  },
  {
   "cell_type": "markdown",
   "metadata": {},
   "source": [
    "### **8. Evaluating the Model**\n",
    "Evaluate the model on the test set to check its performance using metrics like accuracy, precision, recall, and F1-score."
   ]
  },
  {
   "cell_type": "code",
   "execution_count": 10,
   "metadata": {},
   "outputs": [
    {
     "data": {
      "application/vnd.jupyter.widget-view+json": {
       "model_id": "01082fccfb984025a80f616a268a0be5",
       "version_major": 2,
       "version_minor": 0
      },
      "text/plain": [
       "  0%|          | 0/89 [00:00<?, ?it/s]"
      ]
     },
     "metadata": {},
     "output_type": "display_data"
    },
    {
     "name": "stdout",
     "output_type": "stream",
     "text": [
      "{'eval_loss': 0.8462105989456177, 'eval_runtime': 20.5867, 'eval_samples_per_second': 34.245, 'eval_steps_per_second': 4.323, 'epoch': 6.0}\n"
     ]
    },
    {
     "data": {
      "application/vnd.jupyter.widget-view+json": {
       "model_id": "64533e6f10454cf7b47bee889131dd22",
       "version_major": 2,
       "version_minor": 0
      },
      "text/plain": [
       "  0%|          | 0/89 [00:00<?, ?it/s]"
      ]
     },
     "metadata": {},
     "output_type": "display_data"
    },
    {
     "name": "stdout",
     "output_type": "stream",
     "text": [
      "              precision    recall  f1-score   support\n",
      "\n",
      "           0       0.78      0.85      0.82       117\n",
      "           1       0.64      0.50      0.56       117\n",
      "           2       0.55      0.69      0.61       118\n",
      "           3       0.61      0.51      0.55       118\n",
      "           4       0.50      0.45      0.47       118\n",
      "           5       0.67      0.77      0.72       117\n",
      "\n",
      "    accuracy                           0.63       705\n",
      "   macro avg       0.63      0.63      0.62       705\n",
      "weighted avg       0.63      0.63      0.62       705\n",
      "\n"
     ]
    }
   ],
   "source": [
    "# Evaluate the model\n",
    "results = trainer.evaluate(tokenized_datasets[\"test\"])\n",
    "print(results)\n",
    "\n",
    "# Compute additional metrics if needed\n",
    "from sklearn.metrics import classification_report\n",
    "\n",
    "# Extract true labels (y_true) from the test dataset\n",
    "y_true = test_data[\"difficulty\"].tolist()  # Ensure it's a list of integers\n",
    "\n",
    "# Predict the labels using the trained model\n",
    "y_pred = trainer.predict(tokenized_datasets[\"test\"]).predictions.argmax(axis=-1)\n",
    "\n",
    "# Generate the classification report\n",
    "from sklearn.metrics import classification_report\n",
    "print(classification_report(y_true, y_pred))\n"
   ]
  },
  {
   "cell_type": "code",
   "execution_count": 11,
   "metadata": {},
   "outputs": [
    {
     "data": {
      "text/plain": [
       "<sklearn.metrics._plot.confusion_matrix.ConfusionMatrixDisplay at 0x31de011f0>"
      ]
     },
     "execution_count": 11,
     "metadata": {},
     "output_type": "execute_result"
    },
    {
     "data": {
      "image/png": "[encoded data removed]",
      "text/plain": [
       "<Figure size 640x480 with 2 Axes>"
      ]
     },
     "metadata": {},
     "output_type": "display_data"
    }
   ],
   "source": [
    "from sklearn.metrics import confusion_matrix, ConfusionMatrixDisplay\n",
    "\n",
    "# Compute confusion matrix\n",
    "conf_matrix = confusion_matrix(y_true, y_pred)\n",
    "\n",
    "# Display confusion matrix\n",
    "disp = ConfusionMatrixDisplay(confusion_matrix=conf_matrix, display_labels=[\"A1\", \"A2\", \"B1\", \"B2\", \"C1\", \"C2\"])\n",
    "disp.plot(cmap=\"viridis\")\n"
   ]
  },
  {
   "cell_type": "code",
   "execution_count": 16,
   "metadata": {},
   "outputs": [
    {
     "ename": "SyntaxError",
     "evalue": "invalid syntax (4045190663.py, line 2)",
     "output_type": "error",
     "traceback": [
      "\u001b[0;36m  Cell \u001b[0;32mIn[16], line 2\u001b[0;36m\u001b[0m\n\u001b[0;31m    tokenizer.save_pretrained(\"./model/xlm-roberta-base-newdata-063\" width=128)\u001b[0m\n\u001b[0m                                                                     ^\u001b[0m\n\u001b[0;31mSyntaxError\u001b[0m\u001b[0;31m:\u001b[0m invalid syntax\n"
     ]
    }
   ],
   "source": [
    "model.save_pretrained(\"./model/xlm-roberta-base-newdata-063\")\n",
    "tokenizer.save_pretrained(\"./model/xlm-roberta-base-newdata-063\")"
   ]
  },
  {
   "cell_type": "markdown",
   "metadata": {},
   "source": [
    "# Pairewise Mismmatch metric\n",
    "The pairwise mismatch metric focuses on computing ordering violations in predictions relative to ground truth.\n",
    "<img src=\"./Images/Pairewise-Matchinge-Explanation.png\" width=\"800px\">"
   ]
  },
  {
   "cell_type": "code",
   "execution_count": 14,
   "metadata": {},
   "outputs": [
    {
     "name": "stdout",
     "output_type": "stream",
     "text": [
      "Pairwise Mismatch Score: 14.8596\n"
     ]
    }
   ],
   "source": [
    "import pandas as pd\n",
    "import numpy as np\n",
    "from sklearn.preprocessing import LabelEncoder\n",
    "\n",
    "def pairwise_mismatch(y_pred: pd.Series, y_real: pd.Series) -> float:\n",
    "    \"\"\"\n",
    "    Compute the pairwise mismatch metric as described by Henry Jamet.\n",
    "    \n",
    "    :param y_pred: Pandas Series of predicted difficulty levels\n",
    "    :param y_real: Pandas Series of true difficulty levels\n",
    "    :return: Mean pairwise mismatch score\n",
    "    \"\"\"\n",
    "    predictions = pd.DataFrame({\"pred\": y_pred, \"real\": y_real})\n",
    "\n",
    "    # Sort alphabetically by real and predicted labels\n",
    "    predictions = predictions.sort_values(by=[\"real\", \"pred\"])\n",
    "\n",
    "    # Convert categorical labels into numeric values while keeping order\n",
    "    predictions[\"pred\"] = predictions[\"pred\"].astype(\"category\")\n",
    "    predictions[\"real\"] = predictions[\"real\"].astype(\"category\")\n",
    "\n",
    "    # Initialize LabelEncoder and encode labels\n",
    "    label_encoder = LabelEncoder()\n",
    "    unique_labels = pd.unique(predictions[[\"pred\", \"real\"]].values.ravel(\"K\"))\n",
    "    label_encoder.fit(unique_labels)\n",
    "\n",
    "    predictions[\"pred\"] = label_encoder.transform(predictions[\"pred\"])\n",
    "    predictions[\"real\"] = label_encoder.transform(predictions[\"real\"])\n",
    "\n",
    "    # Compute the pairwise mismatch\n",
    "    mismatch = (\n",
    "        predictions[\"pred\"].expanding().apply(lambda s: (s.iloc[-1] - s < 0).sum())\n",
    "        + predictions[\"pred\"][::-1]\n",
    "        .expanding()\n",
    "        .apply(lambda s: (s.iloc[-1] - s > 0).sum())[::-1]\n",
    "    )\n",
    "\n",
    "    return mismatch.mean()\n",
    "\n",
    "# Convert y_true and y_pred into pandas Series\n",
    "y_true_series = pd.Series(y_true)\n",
    "y_pred_series = pd.Series(y_pred)\n",
    "\n",
    "# Compute the pairwise mismatch\n",
    "mismatch_score = pairwise_mismatch(y_pred_series, y_true_series)\n",
    "print(f\"Pairwise Mismatch Score: {mismatch_score:.4f}\")\n"
   ]
  }
 ],
 "metadata": {
  "kernelspec": {
   "display_name": "Python 3",
   "language": "python",
   "name": "python3"
  },
  "language_info": {
   "codemirror_mode": {
    "name": "ipython",
    "version": 3
   },
   "file_extension": ".py",
   "mimetype": "text/x-python",
   "name": "python",
   "nbconvert_exporter": "python",
   "pygments_lexer": "ipython3",
   "version": "3.9.6"
  }
 },
 "nbformat": 4,
 "nbformat_minor": 2
}
