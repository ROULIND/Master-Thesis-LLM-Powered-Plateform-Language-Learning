{
 "cells": [
  {
   "cell_type": "code",
   "execution_count": 1,
   "metadata": {},
   "outputs": [
    {
     "name": "stdout",
     "output_type": "stream",
     "text": [
      "Defaulting to user installation because normal site-packages is not writeable\n",
      "Requirement already satisfied: transformers in /Users/dimitriroulin/Library/Python/3.9/lib/python/site-packages (4.47.0)\n",
      "Requirement already satisfied: huggingface-hub<1.0,>=0.24.0 in /Users/dimitriroulin/Library/Python/3.9/lib/python/site-packages (from transformers) (0.26.5)\n",
      "Requirement already satisfied: tokenizers<0.22,>=0.21 in /Users/dimitriroulin/Library/Python/3.9/lib/python/site-packages (from transformers) (0.21.0)\n",
      "Requirement already satisfied: filelock in /Users/dimitriroulin/Library/Python/3.9/lib/python/site-packages (from transformers) (3.16.1)\n",
      "Requirement already satisfied: regex!=2019.12.17 in /Users/dimitriroulin/Library/Python/3.9/lib/python/site-packages (from transformers) (2024.11.6)\n",
      "Requirement already satisfied: requests in /Users/dimitriroulin/Library/Python/3.9/lib/python/site-packages (from transformers) (2.32.3)\n",
      "Requirement already satisfied: numpy>=1.17 in /Users/dimitriroulin/Library/Python/3.9/lib/python/site-packages (from transformers) (2.0.2)\n",
      "Requirement already satisfied: tqdm>=4.27 in /Users/dimitriroulin/Library/Python/3.9/lib/python/site-packages (from transformers) (4.67.1)\n",
      "Requirement already satisfied: packaging>=20.0 in /Users/dimitriroulin/Library/Python/3.9/lib/python/site-packages (from transformers) (23.1)\n",
      "Requirement already satisfied: safetensors>=0.4.1 in /Users/dimitriroulin/Library/Python/3.9/lib/python/site-packages (from transformers) (0.4.5)\n",
      "Requirement already satisfied: pyyaml>=5.1 in /Users/dimitriroulin/Library/Python/3.9/lib/python/site-packages (from transformers) (6.0.1)\n",
      "Requirement already satisfied: fsspec>=2023.5.0 in /Users/dimitriroulin/Library/Python/3.9/lib/python/site-packages (from huggingface-hub<1.0,>=0.24.0->transformers) (2024.9.0)\n",
      "Requirement already satisfied: typing-extensions>=3.7.4.3 in /Users/dimitriroulin/Library/Python/3.9/lib/python/site-packages (from huggingface-hub<1.0,>=0.24.0->transformers) (4.12.2)\n",
      "Requirement already satisfied: urllib3<3,>=1.21.1 in /Users/dimitriroulin/Library/Python/3.9/lib/python/site-packages (from requests->transformers) (2.0.5)\n",
      "Requirement already satisfied: certifi>=2017.4.17 in /Users/dimitriroulin/Library/Python/3.9/lib/python/site-packages (from requests->transformers) (2023.7.22)\n",
      "Requirement already satisfied: charset-normalizer<4,>=2 in /Users/dimitriroulin/Library/Python/3.9/lib/python/site-packages (from requests->transformers) (3.2.0)\n",
      "Requirement already satisfied: idna<4,>=2.5 in /Users/dimitriroulin/Library/Python/3.9/lib/python/site-packages (from requests->transformers) (3.4)\n",
      "\u001b[33mWARNING: You are using pip version 21.2.4; however, version 25.0 is available.\n",
      "You should consider upgrading via the '/Library/Developer/CommandLineTools/usr/bin/python3 -m pip install --upgrade pip' command.\u001b[0m\n",
      "Note: you may need to restart the kernel to use updated packages.\n",
      "Defaulting to user installation because normal site-packages is not writeable\n",
      "Requirement already satisfied: datasets in /Users/dimitriroulin/Library/Python/3.9/lib/python/site-packages (3.2.0)\n",
      "Requirement already satisfied: pandas in /Users/dimitriroulin/Library/Python/3.9/lib/python/site-packages (from datasets) (2.2.3)\n",
      "Requirement already satisfied: packaging in /Users/dimitriroulin/Library/Python/3.9/lib/python/site-packages (from datasets) (23.1)\n",
      "Requirement already satisfied: multiprocess<0.70.17 in /Users/dimitriroulin/Library/Python/3.9/lib/python/site-packages (from datasets) (0.70.16)\n",
      "Requirement already satisfied: aiohttp in /Users/dimitriroulin/Library/Python/3.9/lib/python/site-packages (from datasets) (3.11.10)\n",
      "Requirement already satisfied: filelock in /Users/dimitriroulin/Library/Python/3.9/lib/python/site-packages (from datasets) (3.16.1)\n",
      "Requirement already satisfied: pyarrow>=15.0.0 in /Users/dimitriroulin/Library/Python/3.9/lib/python/site-packages (from datasets) (18.1.0)\n",
      "Requirement already satisfied: dill<0.3.9,>=0.3.0 in /Users/dimitriroulin/Library/Python/3.9/lib/python/site-packages (from datasets) (0.3.8)\n",
      "Requirement already satisfied: fsspec[http]<=2024.9.0,>=2023.1.0 in /Users/dimitriroulin/Library/Python/3.9/lib/python/site-packages (from datasets) (2024.9.0)\n",
      "Requirement already satisfied: huggingface-hub>=0.23.0 in /Users/dimitriroulin/Library/Python/3.9/lib/python/site-packages (from datasets) (0.26.5)\n",
      "Requirement already satisfied: requests>=2.32.2 in /Users/dimitriroulin/Library/Python/3.9/lib/python/site-packages (from datasets) (2.32.3)\n",
      "Requirement already satisfied: tqdm>=4.66.3 in /Users/dimitriroulin/Library/Python/3.9/lib/python/site-packages (from datasets) (4.67.1)\n",
      "Requirement already satisfied: xxhash in /Users/dimitriroulin/Library/Python/3.9/lib/python/site-packages (from datasets) (3.5.0)\n",
      "Requirement already satisfied: pyyaml>=5.1 in /Users/dimitriroulin/Library/Python/3.9/lib/python/site-packages (from datasets) (6.0.1)\n",
      "Requirement already satisfied: numpy>=1.17 in /Users/dimitriroulin/Library/Python/3.9/lib/python/site-packages (from datasets) (2.0.2)\n",
      "Requirement already satisfied: propcache>=0.2.0 in /Users/dimitriroulin/Library/Python/3.9/lib/python/site-packages (from aiohttp->datasets) (0.2.1)\n",
      "Requirement already satisfied: async-timeout<6.0,>=4.0 in /Users/dimitriroulin/Library/Python/3.9/lib/python/site-packages (from aiohttp->datasets) (5.0.1)\n",
      "Requirement already satisfied: multidict<7.0,>=4.5 in /Users/dimitriroulin/Library/Python/3.9/lib/python/site-packages (from aiohttp->datasets) (6.1.0)\n",
      "Requirement already satisfied: yarl<2.0,>=1.17.0 in /Users/dimitriroulin/Library/Python/3.9/lib/python/site-packages (from aiohttp->datasets) (1.18.3)\n",
      "Requirement already satisfied: frozenlist>=1.1.1 in /Users/dimitriroulin/Library/Python/3.9/lib/python/site-packages (from aiohttp->datasets) (1.5.0)\n",
      "Requirement already satisfied: attrs>=17.3.0 in /Users/dimitriroulin/Library/Python/3.9/lib/python/site-packages (from aiohttp->datasets) (23.1.0)\n",
      "Requirement already satisfied: aiosignal>=1.1.2 in /Users/dimitriroulin/Library/Python/3.9/lib/python/site-packages (from aiohttp->datasets) (1.3.1)\n",
      "Requirement already satisfied: aiohappyeyeballs>=2.3.0 in /Users/dimitriroulin/Library/Python/3.9/lib/python/site-packages (from aiohttp->datasets) (2.4.4)\n",
      "Requirement already satisfied: typing-extensions>=3.7.4.3 in /Users/dimitriroulin/Library/Python/3.9/lib/python/site-packages (from huggingface-hub>=0.23.0->datasets) (4.12.2)\n",
      "Requirement already satisfied: charset-normalizer<4,>=2 in /Users/dimitriroulin/Library/Python/3.9/lib/python/site-packages (from requests>=2.32.2->datasets) (3.2.0)\n",
      "Requirement already satisfied: certifi>=2017.4.17 in /Users/dimitriroulin/Library/Python/3.9/lib/python/site-packages (from requests>=2.32.2->datasets) (2023.7.22)\n",
      "Requirement already satisfied: urllib3<3,>=1.21.1 in /Users/dimitriroulin/Library/Python/3.9/lib/python/site-packages (from requests>=2.32.2->datasets) (2.0.5)\n",
      "Requirement already satisfied: idna<4,>=2.5 in /Users/dimitriroulin/Library/Python/3.9/lib/python/site-packages (from requests>=2.32.2->datasets) (3.4)\n",
      "Requirement already satisfied: tzdata>=2022.7 in /Users/dimitriroulin/Library/Python/3.9/lib/python/site-packages (from pandas->datasets) (2024.2)\n",
      "Requirement already satisfied: pytz>=2020.1 in /Users/dimitriroulin/Library/Python/3.9/lib/python/site-packages (from pandas->datasets) (2024.2)\n",
      "Requirement already satisfied: python-dateutil>=2.8.2 in /Users/dimitriroulin/Library/Python/3.9/lib/python/site-packages (from pandas->datasets) (2.8.2)\n",
      "Requirement already satisfied: six>=1.5 in /Library/Developer/CommandLineTools/Library/Frameworks/Python3.framework/Versions/3.9/lib/python3.9/site-packages (from python-dateutil>=2.8.2->pandas->datasets) (1.15.0)\n",
      "\u001b[33mWARNING: You are using pip version 21.2.4; however, version 25.0 is available.\n",
      "You should consider upgrading via the '/Library/Developer/CommandLineTools/usr/bin/python3 -m pip install --upgrade pip' command.\u001b[0m\n",
      "Note: you may need to restart the kernel to use updated packages.\n",
      "Defaulting to user installation because normal site-packages is not writeable\n",
      "Requirement already satisfied: scikit-learn in /Users/dimitriroulin/Library/Python/3.9/lib/python/site-packages (1.6.0)\n",
      "Requirement already satisfied: threadpoolctl>=3.1.0 in /Users/dimitriroulin/Library/Python/3.9/lib/python/site-packages (from scikit-learn) (3.5.0)\n",
      "Requirement already satisfied: joblib>=1.2.0 in /Users/dimitriroulin/Library/Python/3.9/lib/python/site-packages (from scikit-learn) (1.4.2)\n",
      "Requirement already satisfied: scipy>=1.6.0 in /Users/dimitriroulin/Library/Python/3.9/lib/python/site-packages (from scikit-learn) (1.13.1)\n",
      "Requirement already satisfied: numpy>=1.19.5 in /Users/dimitriroulin/Library/Python/3.9/lib/python/site-packages (from scikit-learn) (2.0.2)\n",
      "\u001b[33mWARNING: You are using pip version 21.2.4; however, version 25.0 is available.\n",
      "You should consider upgrading via the '/Library/Developer/CommandLineTools/usr/bin/python3 -m pip install --upgrade pip' command.\u001b[0m\n",
      "Note: you may need to restart the kernel to use updated packages.\n",
      "Defaulting to user installation because normal site-packages is not writeable\n",
      "Requirement already satisfied: torch in /Users/dimitriroulin/Library/Python/3.9/lib/python/site-packages (2.5.1)\n",
      "Requirement already satisfied: networkx in /Users/dimitriroulin/Library/Python/3.9/lib/python/site-packages (from torch) (3.2.1)\n",
      "Requirement already satisfied: sympy==1.13.1 in /Users/dimitriroulin/Library/Python/3.9/lib/python/site-packages (from torch) (1.13.1)\n",
      "Requirement already satisfied: jinja2 in /Users/dimitriroulin/Library/Python/3.9/lib/python/site-packages (from torch) (3.1.2)\n",
      "Requirement already satisfied: fsspec in /Users/dimitriroulin/Library/Python/3.9/lib/python/site-packages (from torch) (2024.9.0)\n",
      "Requirement already satisfied: typing-extensions>=4.8.0 in /Users/dimitriroulin/Library/Python/3.9/lib/python/site-packages (from torch) (4.12.2)\n",
      "Requirement already satisfied: filelock in /Users/dimitriroulin/Library/Python/3.9/lib/python/site-packages (from torch) (3.16.1)\n",
      "Requirement already satisfied: mpmath<1.4,>=1.1.0 in /Users/dimitriroulin/Library/Python/3.9/lib/python/site-packages (from sympy==1.13.1->torch) (1.3.0)\n",
      "Requirement already satisfied: MarkupSafe>=2.0 in /Users/dimitriroulin/Library/Python/3.9/lib/python/site-packages (from jinja2->torch) (2.1.3)\n",
      "\u001b[33mWARNING: You are using pip version 21.2.4; however, version 25.0 is available.\n",
      "You should consider upgrading via the '/Library/Developer/CommandLineTools/usr/bin/python3 -m pip install --upgrade pip' command.\u001b[0m\n",
      "Note: you may need to restart the kernel to use updated packages.\n",
      "Defaulting to user installation because normal site-packages is not writeable\n",
      "Requirement already satisfied: datasets in /Users/dimitriroulin/Library/Python/3.9/lib/python/site-packages (3.2.0)\n",
      "Requirement already satisfied: filelock in /Users/dimitriroulin/Library/Python/3.9/lib/python/site-packages (from datasets) (3.16.1)\n",
      "Requirement already satisfied: aiohttp in /Users/dimitriroulin/Library/Python/3.9/lib/python/site-packages (from datasets) (3.11.10)\n",
      "Requirement already satisfied: pyyaml>=5.1 in /Users/dimitriroulin/Library/Python/3.9/lib/python/site-packages (from datasets) (6.0.1)\n",
      "Requirement already satisfied: dill<0.3.9,>=0.3.0 in /Users/dimitriroulin/Library/Python/3.9/lib/python/site-packages (from datasets) (0.3.8)\n",
      "Requirement already satisfied: requests>=2.32.2 in /Users/dimitriroulin/Library/Python/3.9/lib/python/site-packages (from datasets) (2.32.3)\n",
      "Requirement already satisfied: numpy>=1.17 in /Users/dimitriroulin/Library/Python/3.9/lib/python/site-packages (from datasets) (2.0.2)\n",
      "Requirement already satisfied: xxhash in /Users/dimitriroulin/Library/Python/3.9/lib/python/site-packages (from datasets) (3.5.0)\n",
      "Requirement already satisfied: multiprocess<0.70.17 in /Users/dimitriroulin/Library/Python/3.9/lib/python/site-packages (from datasets) (0.70.16)\n",
      "Requirement already satisfied: huggingface-hub>=0.23.0 in /Users/dimitriroulin/Library/Python/3.9/lib/python/site-packages (from datasets) (0.26.5)\n",
      "Requirement already satisfied: tqdm>=4.66.3 in /Users/dimitriroulin/Library/Python/3.9/lib/python/site-packages (from datasets) (4.67.1)\n",
      "Requirement already satisfied: pandas in /Users/dimitriroulin/Library/Python/3.9/lib/python/site-packages (from datasets) (2.2.3)\n",
      "Requirement already satisfied: packaging in /Users/dimitriroulin/Library/Python/3.9/lib/python/site-packages (from datasets) (23.1)\n",
      "Requirement already satisfied: fsspec[http]<=2024.9.0,>=2023.1.0 in /Users/dimitriroulin/Library/Python/3.9/lib/python/site-packages (from datasets) (2024.9.0)\n",
      "Requirement already satisfied: pyarrow>=15.0.0 in /Users/dimitriroulin/Library/Python/3.9/lib/python/site-packages (from datasets) (18.1.0)\n",
      "Requirement already satisfied: aiosignal>=1.1.2 in /Users/dimitriroulin/Library/Python/3.9/lib/python/site-packages (from aiohttp->datasets) (1.3.1)\n",
      "Requirement already satisfied: propcache>=0.2.0 in /Users/dimitriroulin/Library/Python/3.9/lib/python/site-packages (from aiohttp->datasets) (0.2.1)\n",
      "Requirement already satisfied: frozenlist>=1.1.1 in /Users/dimitriroulin/Library/Python/3.9/lib/python/site-packages (from aiohttp->datasets) (1.5.0)\n",
      "Requirement already satisfied: async-timeout<6.0,>=4.0 in /Users/dimitriroulin/Library/Python/3.9/lib/python/site-packages (from aiohttp->datasets) (5.0.1)\n",
      "Requirement already satisfied: yarl<2.0,>=1.17.0 in /Users/dimitriroulin/Library/Python/3.9/lib/python/site-packages (from aiohttp->datasets) (1.18.3)\n",
      "Requirement already satisfied: multidict<7.0,>=4.5 in /Users/dimitriroulin/Library/Python/3.9/lib/python/site-packages (from aiohttp->datasets) (6.1.0)\n",
      "Requirement already satisfied: attrs>=17.3.0 in /Users/dimitriroulin/Library/Python/3.9/lib/python/site-packages (from aiohttp->datasets) (23.1.0)\n",
      "Requirement already satisfied: aiohappyeyeballs>=2.3.0 in /Users/dimitriroulin/Library/Python/3.9/lib/python/site-packages (from aiohttp->datasets) (2.4.4)\n",
      "Requirement already satisfied: typing-extensions>=3.7.4.3 in /Users/dimitriroulin/Library/Python/3.9/lib/python/site-packages (from huggingface-hub>=0.23.0->datasets) (4.12.2)\n",
      "Requirement already satisfied: certifi>=2017.4.17 in /Users/dimitriroulin/Library/Python/3.9/lib/python/site-packages (from requests>=2.32.2->datasets) (2023.7.22)\n",
      "Requirement already satisfied: idna<4,>=2.5 in /Users/dimitriroulin/Library/Python/3.9/lib/python/site-packages (from requests>=2.32.2->datasets) (3.4)\n",
      "Requirement already satisfied: charset-normalizer<4,>=2 in /Users/dimitriroulin/Library/Python/3.9/lib/python/site-packages (from requests>=2.32.2->datasets) (3.2.0)\n",
      "Requirement already satisfied: urllib3<3,>=1.21.1 in /Users/dimitriroulin/Library/Python/3.9/lib/python/site-packages (from requests>=2.32.2->datasets) (2.0.5)\n",
      "Requirement already satisfied: python-dateutil>=2.8.2 in /Users/dimitriroulin/Library/Python/3.9/lib/python/site-packages (from pandas->datasets) (2.8.2)\n",
      "Requirement already satisfied: pytz>=2020.1 in /Users/dimitriroulin/Library/Python/3.9/lib/python/site-packages (from pandas->datasets) (2024.2)\n",
      "Requirement already satisfied: tzdata>=2022.7 in /Users/dimitriroulin/Library/Python/3.9/lib/python/site-packages (from pandas->datasets) (2024.2)\n",
      "Requirement already satisfied: six>=1.5 in /Library/Developer/CommandLineTools/Library/Frameworks/Python3.framework/Versions/3.9/lib/python3.9/site-packages (from python-dateutil>=2.8.2->pandas->datasets) (1.15.0)\n",
      "\u001b[33mWARNING: You are using pip version 21.2.4; however, version 25.0 is available.\n",
      "You should consider upgrading via the '/Library/Developer/CommandLineTools/usr/bin/python3 -m pip install --upgrade pip' command.\u001b[0m\n",
      "Note: you may need to restart the kernel to use updated packages.\n",
      "Defaulting to user installation because normal site-packages is not writeable\n",
      "Requirement already satisfied: accelerate in /Users/dimitriroulin/Library/Python/3.9/lib/python/site-packages (1.2.0)\n",
      "Requirement already satisfied: packaging>=20.0 in /Users/dimitriroulin/Library/Python/3.9/lib/python/site-packages (from accelerate) (23.1)\n",
      "Requirement already satisfied: numpy<3.0.0,>=1.17 in /Users/dimitriroulin/Library/Python/3.9/lib/python/site-packages (from accelerate) (2.0.2)\n",
      "Requirement already satisfied: huggingface-hub>=0.21.0 in /Users/dimitriroulin/Library/Python/3.9/lib/python/site-packages (from accelerate) (0.26.5)\n",
      "Requirement already satisfied: safetensors>=0.4.3 in /Users/dimitriroulin/Library/Python/3.9/lib/python/site-packages (from accelerate) (0.4.5)\n",
      "Requirement already satisfied: psutil in /Users/dimitriroulin/Library/Python/3.9/lib/python/site-packages (from accelerate) (5.9.5)\n",
      "Requirement already satisfied: pyyaml in /Users/dimitriroulin/Library/Python/3.9/lib/python/site-packages (from accelerate) (6.0.1)\n",
      "Requirement already satisfied: torch>=1.10.0 in /Users/dimitriroulin/Library/Python/3.9/lib/python/site-packages (from accelerate) (2.5.1)\n",
      "Requirement already satisfied: requests in /Users/dimitriroulin/Library/Python/3.9/lib/python/site-packages (from huggingface-hub>=0.21.0->accelerate) (2.32.3)\n",
      "Requirement already satisfied: filelock in /Users/dimitriroulin/Library/Python/3.9/lib/python/site-packages (from huggingface-hub>=0.21.0->accelerate) (3.16.1)\n",
      "Requirement already satisfied: fsspec>=2023.5.0 in /Users/dimitriroulin/Library/Python/3.9/lib/python/site-packages (from huggingface-hub>=0.21.0->accelerate) (2024.9.0)\n",
      "Requirement already satisfied: tqdm>=4.42.1 in /Users/dimitriroulin/Library/Python/3.9/lib/python/site-packages (from huggingface-hub>=0.21.0->accelerate) (4.67.1)\n",
      "Requirement already satisfied: typing-extensions>=3.7.4.3 in /Users/dimitriroulin/Library/Python/3.9/lib/python/site-packages (from huggingface-hub>=0.21.0->accelerate) (4.12.2)\n",
      "Requirement already satisfied: jinja2 in /Users/dimitriroulin/Library/Python/3.9/lib/python/site-packages (from torch>=1.10.0->accelerate) (3.1.2)\n",
      "Requirement already satisfied: networkx in /Users/dimitriroulin/Library/Python/3.9/lib/python/site-packages (from torch>=1.10.0->accelerate) (3.2.1)\n",
      "Requirement already satisfied: sympy==1.13.1 in /Users/dimitriroulin/Library/Python/3.9/lib/python/site-packages (from torch>=1.10.0->accelerate) (1.13.1)\n",
      "Requirement already satisfied: mpmath<1.4,>=1.1.0 in /Users/dimitriroulin/Library/Python/3.9/lib/python/site-packages (from sympy==1.13.1->torch>=1.10.0->accelerate) (1.3.0)\n",
      "Requirement already satisfied: MarkupSafe>=2.0 in /Users/dimitriroulin/Library/Python/3.9/lib/python/site-packages (from jinja2->torch>=1.10.0->accelerate) (2.1.3)\n",
      "Requirement already satisfied: certifi>=2017.4.17 in /Users/dimitriroulin/Library/Python/3.9/lib/python/site-packages (from requests->huggingface-hub>=0.21.0->accelerate) (2023.7.22)\n",
      "Requirement already satisfied: charset-normalizer<4,>=2 in /Users/dimitriroulin/Library/Python/3.9/lib/python/site-packages (from requests->huggingface-hub>=0.21.0->accelerate) (3.2.0)\n",
      "Requirement already satisfied: urllib3<3,>=1.21.1 in /Users/dimitriroulin/Library/Python/3.9/lib/python/site-packages (from requests->huggingface-hub>=0.21.0->accelerate) (2.0.5)\n",
      "Requirement already satisfied: idna<4,>=2.5 in /Users/dimitriroulin/Library/Python/3.9/lib/python/site-packages (from requests->huggingface-hub>=0.21.0->accelerate) (3.4)\n",
      "\u001b[33mWARNING: You are using pip version 21.2.4; however, version 25.0 is available.\n",
      "You should consider upgrading via the '/Library/Developer/CommandLineTools/usr/bin/python3 -m pip install --upgrade pip' command.\u001b[0m\n",
      "Note: you may need to restart the kernel to use updated packages.\n"
     ]
    }
   ],
   "source": [
    "%pip install transformers \n",
    "%pip install datasets \n",
    "%pip install scikit-learn\n",
    "%pip install torch\n",
    "%pip install datasets\n",
    "%pip install accelerate"
   ]
  },
  {
   "cell_type": "markdown",
   "metadata": {},
   "source": [
    "### **1. Loading the Data**\n",
    "In this part, we load the dataset from a CSV file and preprocess it. We also convert the difficulty levels into numeric labels for classification."
   ]
  },
  {
   "cell_type": "code",
   "execution_count": 20,
   "metadata": {},
   "outputs": [
    {
     "data": {
      "text/html": [
       "<div>\n",
       "<style scoped>\n",
       "    .dataframe tbody tr th:only-of-type {\n",
       "        vertical-align: middle;\n",
       "    }\n",
       "\n",
       "    .dataframe tbody tr th {\n",
       "        vertical-align: top;\n",
       "    }\n",
       "\n",
       "    .dataframe thead th {\n",
       "        text-align: right;\n",
       "    }\n",
       "</style>\n",
       "<table border=\"1\" class=\"dataframe\">\n",
       "  <thead>\n",
       "    <tr style=\"text-align: right;\">\n",
       "      <th></th>\n",
       "      <th>sentence</th>\n",
       "      <th>difficulty</th>\n",
       "      <th>sentence_length</th>\n",
       "      <th>difficulty_label</th>\n",
       "    </tr>\n",
       "  </thead>\n",
       "  <tbody>\n",
       "    <tr>\n",
       "      <th>0</th>\n",
       "      <td>Sie haben zwei Kinder.</td>\n",
       "      <td>0</td>\n",
       "      <td>4</td>\n",
       "      <td>A1</td>\n",
       "    </tr>\n",
       "    <tr>\n",
       "      <th>1</th>\n",
       "      <td>Natürlich gibt es dort auch Pullover.</td>\n",
       "      <td>0</td>\n",
       "      <td>6</td>\n",
       "      <td>A1</td>\n",
       "    </tr>\n",
       "    <tr>\n",
       "      <th>2</th>\n",
       "      <td>Eine Polizistin öffnet die Tür.</td>\n",
       "      <td>0</td>\n",
       "      <td>5</td>\n",
       "      <td>A1</td>\n",
       "    </tr>\n",
       "    <tr>\n",
       "      <th>3</th>\n",
       "      <td>Dann sieht sie das Papier an.</td>\n",
       "      <td>0</td>\n",
       "      <td>6</td>\n",
       "      <td>A1</td>\n",
       "    </tr>\n",
       "    <tr>\n",
       "      <th>4</th>\n",
       "      <td>Ihr Name: Jella Lepman.</td>\n",
       "      <td>0</td>\n",
       "      <td>4</td>\n",
       "      <td>A1</td>\n",
       "    </tr>\n",
       "    <tr>\n",
       "      <th>5</th>\n",
       "      <td>Dinas Vater gibt Dina ein Geschenk.</td>\n",
       "      <td>0</td>\n",
       "      <td>6</td>\n",
       "      <td>A1</td>\n",
       "    </tr>\n",
       "    <tr>\n",
       "      <th>6</th>\n",
       "      <td>Sandra steigt aus.</td>\n",
       "      <td>0</td>\n",
       "      <td>3</td>\n",
       "      <td>A1</td>\n",
       "    </tr>\n",
       "    <tr>\n",
       "      <th>7</th>\n",
       "      <td>Er sucht seinen Platz.</td>\n",
       "      <td>0</td>\n",
       "      <td>4</td>\n",
       "      <td>A1</td>\n",
       "    </tr>\n",
       "    <tr>\n",
       "      <th>8</th>\n",
       "      <td>Hannah ist traurig.</td>\n",
       "      <td>0</td>\n",
       "      <td>3</td>\n",
       "      <td>A1</td>\n",
       "    </tr>\n",
       "    <tr>\n",
       "      <th>9</th>\n",
       "      <td>Hier sind die Berge sehr hoch.</td>\n",
       "      <td>0</td>\n",
       "      <td>6</td>\n",
       "      <td>A1</td>\n",
       "    </tr>\n",
       "  </tbody>\n",
       "</table>\n",
       "</div>"
      ],
      "text/plain": [
       "                                sentence  difficulty  sentence_length  \\\n",
       "0                 Sie haben zwei Kinder.           0                4   \n",
       "1  Natürlich gibt es dort auch Pullover.           0                6   \n",
       "2        Eine Polizistin öffnet die Tür.           0                5   \n",
       "3          Dann sieht sie das Papier an.           0                6   \n",
       "4                Ihr Name: Jella Lepman.           0                4   \n",
       "5    Dinas Vater gibt Dina ein Geschenk.           0                6   \n",
       "6                     Sandra steigt aus.           0                3   \n",
       "7                 Er sucht seinen Platz.           0                4   \n",
       "8                    Hannah ist traurig.           0                3   \n",
       "9         Hier sind die Berge sehr hoch.           0                6   \n",
       "\n",
       "  difficulty_label  \n",
       "0               A1  \n",
       "1               A1  \n",
       "2               A1  \n",
       "3               A1  \n",
       "4               A1  \n",
       "5               A1  \n",
       "6               A1  \n",
       "7               A1  \n",
       "8               A1  \n",
       "9               A1  "
      ]
     },
     "metadata": {},
     "output_type": "display_data"
    },
    {
     "name": "stdout",
     "output_type": "stream",
     "text": [
      "\n",
      "Number of duplicated sentences: 0\n"
     ]
    }
   ],
   "source": [
    "import pandas as pd\n",
    "from sklearn.model_selection import train_test_split\n",
    "from datasets import Dataset, DatasetDict\n",
    "\n",
    "#file_path = \"./Data/combined_balanced_CEFR_sentences_augmented.csv\"\n",
    "file_path = \"./Data/combined_balanced_CEFR_sentences_augmented_A2_and_C2.csv\"\n",
    "\n",
    "# Load your dataset\n",
    "data = pd.read_csv(file_path)\n",
    "\n",
    "# Create a new coloumn to store the difficulty labels\n",
    "data[\"difficulty_label\"] = data[\"difficulty\"]\n",
    "\n",
    "# Convert difficulty column to numeric labels\n",
    "data[\"difficulty\"] = data[\"difficulty\"].astype(\"category\").cat.codes\n",
    "\n",
    "\n",
    "# Display the number of samples in each difficulty category\n",
    "data[\"difficulty\"].value_counts()\n",
    "\n",
    "# Display the processed data\n",
    "display(data.head(10))\n",
    "\n",
    "# Show the number of duplicated sentences\n",
    "print(\"\\nNumber of duplicated sentences:\", data.duplicated(\"sentence\").sum())\n",
    "\n",
    "# Show the number of duplicated sentences by difficulty level\n",
    "if (data.duplicated(\"sentence\").sum() > 0):\n",
    "    print(\"\\nNumber of duplicated sentences by difficulty level:\")\n",
    "    print(data[data.duplicated(\"sentence\")][\"difficulty\"].value_counts())"
   ]
  },
  {
   "cell_type": "markdown",
   "metadata": {},
   "source": [
    "### **2. Splitting the Dataset**\n",
    "Here, we split the dataset into training, test sets using an 80%-20% split. Stratification ensures that class distribution is preserved across splits."
   ]
  },
  {
   "cell_type": "code",
   "execution_count": 21,
   "metadata": {},
   "outputs": [
    {
     "name": "stdout",
     "output_type": "stream",
     "text": [
      "Train size: 2524\n",
      "Test size: 632\n"
     ]
    }
   ],
   "source": [
    "# Split the data into train (70%), validation (20%), and test (10%)\n",
    "train_data, test_data = train_test_split(data, test_size=0.2, stratify=data[\"difficulty\"], random_state=42)\n",
    "\n",
    "\n",
    "print(f\"Train size: {len(train_data)}\")\n",
    "print(f\"Test size: {len(test_data)}\")"
   ]
  },
  {
   "cell_type": "markdown",
   "metadata": {},
   "source": [
    "\n",
    "### **3. Preparing the Hugging Face Dataset**\n",
    "In this step, we convert the dataset into the Hugging Face `Dataset` format and create a `DatasetDict` for easier handling in the `transformers` library."
   ]
  },
  {
   "cell_type": "code",
   "execution_count": 22,
   "metadata": {},
   "outputs": [
    {
     "name": "stdout",
     "output_type": "stream",
     "text": [
      "DatasetDict({\n",
      "    train: Dataset({\n",
      "        features: ['sentence', 'difficulty', 'sentence_length', 'difficulty_label', '__index_level_0__'],\n",
      "        num_rows: 2524\n",
      "    })\n",
      "    test: Dataset({\n",
      "        features: ['sentence', 'difficulty', 'sentence_length', 'difficulty_label', '__index_level_0__'],\n",
      "        num_rows: 632\n",
      "    })\n",
      "})\n"
     ]
    }
   ],
   "source": [
    "# Convert to Hugging Face Dataset format\n",
    "test_dataset = Dataset.from_pandas(test_data)\n",
    "train_dataset = Dataset.from_pandas(train_data)\n",
    "\n",
    "# Create a DatasetDict\n",
    "dataset = DatasetDict({\n",
    "    \"train\": train_dataset,\n",
    "    \"test\": test_dataset\n",
    "})\n",
    "\n",
    "print(dataset)"
   ]
  },
  {
   "cell_type": "markdown",
   "metadata": {},
   "source": [
    "\n",
    "### **4. Tokenizing the Dataset**\n",
    "Here, we load the tokenizer for `xlm-roberta-base` and tokenize the sentences. We also assign numeric labels for classification."
   ]
  },
  {
   "cell_type": "code",
   "execution_count": 23,
   "metadata": {},
   "outputs": [
    {
     "name": "stderr",
     "output_type": "stream",
     "text": [
      "Python(38035) MallocStackLogging: can't turn off malloc stack logging because it was not enabled.\n",
      "Python(38036) MallocStackLogging: can't turn off malloc stack logging because it was not enabled.\n",
      "Python(38037) MallocStackLogging: can't turn off malloc stack logging because it was not enabled.\n",
      "Python(38038) MallocStackLogging: can't turn off malloc stack logging because it was not enabled.\n"
     ]
    },
    {
     "data": {
      "application/vnd.jupyter.widget-view+json": {
       "model_id": "0e667cfe38804c6e91ac5c2f01294f21",
       "version_major": 2,
       "version_minor": 0
      },
      "text/plain": [
       "Map (num_proc=4):   0%|          | 0/2524 [00:00<?, ? examples/s]"
      ]
     },
     "metadata": {},
     "output_type": "display_data"
    },
    {
     "name": "stderr",
     "output_type": "stream",
     "text": [
      "Python(38039) MallocStackLogging: can't turn off malloc stack logging because it was not enabled.\n",
      "Python(38040) MallocStackLogging: can't turn off malloc stack logging because it was not enabled.\n",
      "Python(38041) MallocStackLogging: can't turn off malloc stack logging because it was not enabled.\n",
      "Python(38042) MallocStackLogging: can't turn off malloc stack logging because it was not enabled.\n",
      "Python(38043) MallocStackLogging: can't turn off malloc stack logging because it was not enabled.\n"
     ]
    },
    {
     "data": {
      "application/vnd.jupyter.widget-view+json": {
       "model_id": "00e6e9ca65334c45a0c40e4309d5af7a",
       "version_major": 2,
       "version_minor": 0
      },
      "text/plain": [
       "Map (num_proc=4):   0%|          | 0/632 [00:00<?, ? examples/s]"
      ]
     },
     "metadata": {},
     "output_type": "display_data"
    },
    {
     "name": "stderr",
     "output_type": "stream",
     "text": [
      "Python(38044) MallocStackLogging: can't turn off malloc stack logging because it was not enabled.\n"
     ]
    },
    {
     "name": "stdout",
     "output_type": "stream",
     "text": [
      "{'sentence': 'Das ist nach wie vor ein großes Problem.', 'difficulty': 3, 'sentence_length': 8, 'difficulty_label': 'B2', '__index_level_0__': 1852, 'input_ids': [0, 1858, 443, 1561, 1225, 1248, 599, 137908, 15649, 5, 2, 1, 1, 1, 1, 1, 1, 1, 1, 1, 1, 1, 1, 1, 1, 1, 1, 1, 1, 1, 1, 1, 1, 1, 1, 1, 1, 1, 1, 1, 1, 1, 1, 1, 1, 1, 1, 1, 1, 1, 1, 1, 1, 1, 1, 1, 1, 1, 1, 1, 1, 1, 1, 1, 1, 1, 1, 1, 1, 1, 1, 1, 1, 1, 1, 1, 1, 1, 1, 1, 1, 1, 1, 1, 1, 1, 1, 1, 1, 1, 1, 1, 1, 1, 1, 1, 1, 1, 1, 1, 1, 1, 1, 1, 1, 1, 1, 1, 1, 1, 1, 1, 1, 1, 1, 1, 1, 1, 1, 1, 1, 1, 1, 1, 1, 1, 1, 1], 'attention_mask': [1, 1, 1, 1, 1, 1, 1, 1, 1, 1, 1, 0, 0, 0, 0, 0, 0, 0, 0, 0, 0, 0, 0, 0, 0, 0, 0, 0, 0, 0, 0, 0, 0, 0, 0, 0, 0, 0, 0, 0, 0, 0, 0, 0, 0, 0, 0, 0, 0, 0, 0, 0, 0, 0, 0, 0, 0, 0, 0, 0, 0, 0, 0, 0, 0, 0, 0, 0, 0, 0, 0, 0, 0, 0, 0, 0, 0, 0, 0, 0, 0, 0, 0, 0, 0, 0, 0, 0, 0, 0, 0, 0, 0, 0, 0, 0, 0, 0, 0, 0, 0, 0, 0, 0, 0, 0, 0, 0, 0, 0, 0, 0, 0, 0, 0, 0, 0, 0, 0, 0, 0, 0, 0, 0, 0, 0, 0, 0], 'labels': 3}\n"
     ]
    }
   ],
   "source": [
    "from transformers import AutoTokenizer\n",
    "\n",
    "# Load the tokenizer\n",
    "tokenizer = AutoTokenizer.from_pretrained(\"xlm-roberta-base\")\n",
    "\n",
    "# Tokenize the dataset and add the `labels` field\n",
    "def tokenize_function(examples):\n",
    "    tokenized_inputs = tokenizer(\n",
    "        examples[\"sentence\"],\n",
    "        padding=\"max_length\",\n",
    "        truncation=True,\n",
    "        max_length=128\n",
    "    )\n",
    "    # Assign numeric labels\n",
    "    tokenized_inputs[\"labels\"] = examples[\"difficulty\"]\n",
    "    return tokenized_inputs\n",
    "\n",
    "# Tokenize the dataset\n",
    "tokenized_datasets = dataset.map(tokenize_function, batched=True, num_proc=4)  # Use 4 processes\n",
    "\n",
    "\n",
    "# Debugging: Check tokenized dataset\n",
    "print(tokenized_datasets[\"train\"][0])"
   ]
  },
  {
   "cell_type": "markdown",
   "metadata": {},
   "source": [
    "\n",
    "### **5. Loading the Model**\n",
    "In this step, we load the pre-trained `xlm-roberta-base` model and prepare it for sequence classification by specifying the number of labels."
   ]
  },
  {
   "cell_type": "code",
   "execution_count": 24,
   "metadata": {},
   "outputs": [
    {
     "name": "stdout",
     "output_type": "stream",
     "text": [
      "Using device: mps\n"
     ]
    }
   ],
   "source": [
    "import torch\n",
    "device = torch.device(\"mps\") if torch.backends.mps.is_available() else torch.device(\"cpu\")\n",
    "print(f\"Using device: {device}\")\n"
   ]
  },
  {
   "cell_type": "code",
   "execution_count": 25,
   "metadata": {},
   "outputs": [
    {
     "name": "stdout",
     "output_type": "stream",
     "text": [
      "Number of classes: 6\n"
     ]
    },
    {
     "name": "stderr",
     "output_type": "stream",
     "text": [
      "Some weights of XLMRobertaForSequenceClassification were not initialized from the model checkpoint at xlm-roberta-base and are newly initialized: ['classifier.dense.bias', 'classifier.dense.weight', 'classifier.out_proj.bias', 'classifier.out_proj.weight']\n",
      "You should probably TRAIN this model on a down-stream task to be able to use it for predictions and inference.\n"
     ]
    },
    {
     "data": {
      "text/plain": [
       "XLMRobertaForSequenceClassification(\n",
       "  (roberta): XLMRobertaModel(\n",
       "    (embeddings): XLMRobertaEmbeddings(\n",
       "      (word_embeddings): Embedding(250002, 768, padding_idx=1)\n",
       "      (position_embeddings): Embedding(514, 768, padding_idx=1)\n",
       "      (token_type_embeddings): Embedding(1, 768)\n",
       "      (LayerNorm): LayerNorm((768,), eps=1e-05, elementwise_affine=True)\n",
       "      (dropout): Dropout(p=0.1, inplace=False)\n",
       "    )\n",
       "    (encoder): XLMRobertaEncoder(\n",
       "      (layer): ModuleList(\n",
       "        (0-11): 12 x XLMRobertaLayer(\n",
       "          (attention): XLMRobertaAttention(\n",
       "            (self): XLMRobertaSdpaSelfAttention(\n",
       "              (query): Linear(in_features=768, out_features=768, bias=True)\n",
       "              (key): Linear(in_features=768, out_features=768, bias=True)\n",
       "              (value): Linear(in_features=768, out_features=768, bias=True)\n",
       "              (dropout): Dropout(p=0.1, inplace=False)\n",
       "            )\n",
       "            (output): XLMRobertaSelfOutput(\n",
       "              (dense): Linear(in_features=768, out_features=768, bias=True)\n",
       "              (LayerNorm): LayerNorm((768,), eps=1e-05, elementwise_affine=True)\n",
       "              (dropout): Dropout(p=0.1, inplace=False)\n",
       "            )\n",
       "          )\n",
       "          (intermediate): XLMRobertaIntermediate(\n",
       "            (dense): Linear(in_features=768, out_features=3072, bias=True)\n",
       "            (intermediate_act_fn): GELUActivation()\n",
       "          )\n",
       "          (output): XLMRobertaOutput(\n",
       "            (dense): Linear(in_features=3072, out_features=768, bias=True)\n",
       "            (LayerNorm): LayerNorm((768,), eps=1e-05, elementwise_affine=True)\n",
       "            (dropout): Dropout(p=0.1, inplace=False)\n",
       "          )\n",
       "        )\n",
       "      )\n",
       "    )\n",
       "  )\n",
       "  (classifier): XLMRobertaClassificationHead(\n",
       "    (dense): Linear(in_features=768, out_features=768, bias=True)\n",
       "    (dropout): Dropout(p=0.1, inplace=False)\n",
       "    (out_proj): Linear(in_features=768, out_features=6, bias=True)\n",
       "  )\n",
       ")"
      ]
     },
     "execution_count": 25,
     "metadata": {},
     "output_type": "execute_result"
    }
   ],
   "source": [
    "from transformers import AutoModelForSequenceClassification\n",
    "\n",
    "# Define the number of classes\n",
    "num_classes = len(data[\"difficulty\"].unique())\n",
    "print(f\"Number of classes: {num_classes}\")\n",
    "\n",
    "# Load the model\n",
    "model = AutoModelForSequenceClassification.from_pretrained(\"xlm-roberta-base\", num_labels=num_classes)\n",
    "\n",
    "model.to(device) # Move the model to the device"
   ]
  },
  {
   "cell_type": "markdown",
   "metadata": {},
   "source": [
    "\n",
    "### **6. Setting Up the Trainer**\n",
    "We define the training arguments and initialize the `Trainer` class, which manages the fine-tuning process. Early stopping is implemented to prevent overfitting.\n"
   ]
  },
  {
   "cell_type": "code",
   "execution_count": 26,
   "metadata": {},
   "outputs": [
    {
     "name": "stderr",
     "output_type": "stream",
     "text": [
      "/Users/dimitriroulin/Library/Python/3.9/lib/python/site-packages/transformers/training_args.py:1575: FutureWarning: `evaluation_strategy` is deprecated and will be removed in version 4.46 of 🤗 Transformers. Use `eval_strategy` instead\n",
      "  warnings.warn(\n",
      "/var/folders/wb/btfl8bv91b5c253kbpftk1940000gn/T/ipykernel_31659/4216458826.py:25: FutureWarning: `tokenizer` is deprecated and will be removed in version 5.0.0 for `Trainer.__init__`. Use `processing_class` instead.\n",
      "  trainer = Trainer(\n"
     ]
    }
   ],
   "source": [
    "from transformers import TrainingArguments, Trainer, DataCollatorWithPadding, EarlyStoppingCallback\n",
    "\n",
    "# Define a data collator for padding\n",
    "data_collator = DataCollatorWithPadding(tokenizer=tokenizer, padding=True)\n",
    "\n",
    "# Define training arguments\n",
    "training_args = TrainingArguments(\n",
    "    output_dir=\"./results\",\n",
    "    evaluation_strategy=\"epoch\",\n",
    "    save_strategy=\"epoch\",\n",
    "    learning_rate=1e-5,  # Adjusted learning rate\n",
    "    lr_scheduler_type=\"linear\",  # Gradually reduces learning rate\n",
    "    per_device_train_batch_size=8,\n",
    "    per_device_eval_batch_size=8,\n",
    "    num_train_epochs=10,\n",
    "    weight_decay=0.2,\n",
    "    logging_dir=\"./logs\",\n",
    "    logging_steps=10,\n",
    "    load_best_model_at_end=True,\n",
    "    gradient_accumulation_steps=2,\n",
    "    max_grad_norm=1.0,\n",
    ")\n",
    "\n",
    "# Initialize the Trainer\n",
    "trainer = Trainer(\n",
    "    model=model,\n",
    "    args=training_args,\n",
    "    train_dataset=tokenized_datasets[\"train\"],\n",
    "    eval_dataset=tokenized_datasets[\"test\"],\n",
    "    data_collator=data_collator,\n",
    "    tokenizer=tokenizer,\n",
    "    callbacks=[EarlyStoppingCallback(early_stopping_patience=2)],\n",
    ")\n"
   ]
  },
  {
   "cell_type": "markdown",
   "metadata": {},
   "source": [
    "### **7. Training the Model**\n",
    "Finally, we start the training process and fine-tune the model for the text classification task.\n"
   ]
  },
  {
   "cell_type": "code",
   "execution_count": 27,
   "metadata": {},
   "outputs": [
    {
     "data": {
      "application/vnd.jupyter.widget-view+json": {
       "model_id": "c58867cd983341cca122af21649fce87",
       "version_major": 2,
       "version_minor": 0
      },
      "text/plain": [
       "  0%|          | 0/1580 [00:00<?, ?it/s]"
      ]
     },
     "metadata": {},
     "output_type": "display_data"
    },
    {
     "name": "stdout",
     "output_type": "stream",
     "text": [
      "{'loss': 1.8249, 'grad_norm': 15.01431941986084, 'learning_rate': 9.936708860759493e-06, 'epoch': 0.06}\n",
      "{'loss': 1.8087, 'grad_norm': 62.764644622802734, 'learning_rate': 9.87341772151899e-06, 'epoch': 0.13}\n",
      "{'loss': 1.7975, 'grad_norm': 41.06130599975586, 'learning_rate': 9.810126582278482e-06, 'epoch': 0.19}\n",
      "{'loss': 1.8212, 'grad_norm': 28.538658142089844, 'learning_rate': 9.746835443037975e-06, 'epoch': 0.25}\n",
      "{'loss': 1.8098, 'grad_norm': 19.98480224609375, 'learning_rate': 9.68354430379747e-06, 'epoch': 0.32}\n",
      "{'loss': 1.7824, 'grad_norm': 10.13097095489502, 'learning_rate': 9.620253164556963e-06, 'epoch': 0.38}\n",
      "{'loss': 1.7952, 'grad_norm': 15.267022132873535, 'learning_rate': 9.556962025316456e-06, 'epoch': 0.44}\n",
      "{'loss': 1.7718, 'grad_norm': 12.045249938964844, 'learning_rate': 9.49367088607595e-06, 'epoch': 0.51}\n",
      "{'loss': 1.7567, 'grad_norm': 18.430828094482422, 'learning_rate': 9.430379746835444e-06, 'epoch': 0.57}\n",
      "{'loss': 1.7303, 'grad_norm': 20.728212356567383, 'learning_rate': 9.367088607594937e-06, 'epoch': 0.63}\n",
      "{'loss': 1.7109, 'grad_norm': 31.312551498413086, 'learning_rate': 9.303797468354431e-06, 'epoch': 0.7}\n",
      "{'loss': 1.6991, 'grad_norm': 23.312999725341797, 'learning_rate': 9.240506329113925e-06, 'epoch': 0.76}\n",
      "{'loss': 1.6437, 'grad_norm': 28.986013412475586, 'learning_rate': 9.177215189873418e-06, 'epoch': 0.82}\n",
      "{'loss': 1.6245, 'grad_norm': 40.26688003540039, 'learning_rate': 9.113924050632912e-06, 'epoch': 0.89}\n",
      "{'loss': 1.5381, 'grad_norm': 37.804256439208984, 'learning_rate': 9.050632911392407e-06, 'epoch': 0.95}\n"
     ]
    },
    {
     "data": {
      "application/vnd.jupyter.widget-view+json": {
       "model_id": "ee35b661547d43569b2dbcac5a96ba2a",
       "version_major": 2,
       "version_minor": 0
      },
      "text/plain": [
       "  0%|          | 0/79 [00:00<?, ?it/s]"
      ]
     },
     "metadata": {},
     "output_type": "display_data"
    },
    {
     "name": "stdout",
     "output_type": "stream",
     "text": [
      "{'eval_loss': 1.4721397161483765, 'eval_runtime': 14.5722, 'eval_samples_per_second': 43.37, 'eval_steps_per_second': 5.421, 'epoch': 1.0}\n",
      "{'loss': 1.5068, 'grad_norm': 32.18034362792969, 'learning_rate': 8.987341772151899e-06, 'epoch': 1.01}\n",
      "{'loss': 1.5017, 'grad_norm': 26.47724723815918, 'learning_rate': 8.924050632911393e-06, 'epoch': 1.08}\n",
      "{'loss': 1.413, 'grad_norm': 34.712921142578125, 'learning_rate': 8.860759493670886e-06, 'epoch': 1.14}\n",
      "{'loss': 1.3827, 'grad_norm': 23.06500816345215, 'learning_rate': 8.79746835443038e-06, 'epoch': 1.2}\n",
      "{'loss': 1.3442, 'grad_norm': 28.872581481933594, 'learning_rate': 8.734177215189874e-06, 'epoch': 1.27}\n",
      "{'loss': 1.3214, 'grad_norm': 31.99358558654785, 'learning_rate': 8.670886075949367e-06, 'epoch': 1.33}\n",
      "{'loss': 1.3688, 'grad_norm': 41.75616455078125, 'learning_rate': 8.607594936708861e-06, 'epoch': 1.39}\n",
      "{'loss': 1.3207, 'grad_norm': 17.353656768798828, 'learning_rate': 8.544303797468356e-06, 'epoch': 1.46}\n",
      "{'loss': 1.3063, 'grad_norm': 19.707609176635742, 'learning_rate': 8.481012658227848e-06, 'epoch': 1.52}\n",
      "{'loss': 1.1749, 'grad_norm': 36.86699676513672, 'learning_rate': 8.417721518987342e-06, 'epoch': 1.58}\n",
      "{'loss': 1.3037, 'grad_norm': 40.215579986572266, 'learning_rate': 8.354430379746837e-06, 'epoch': 1.65}\n",
      "{'loss': 1.2617, 'grad_norm': 59.84249496459961, 'learning_rate': 8.29113924050633e-06, 'epoch': 1.71}\n",
      "{'loss': 1.2401, 'grad_norm': 55.78611373901367, 'learning_rate': 8.227848101265824e-06, 'epoch': 1.77}\n",
      "{'loss': 1.2448, 'grad_norm': 26.94456672668457, 'learning_rate': 8.164556962025318e-06, 'epoch': 1.84}\n",
      "{'loss': 1.192, 'grad_norm': 60.415283203125, 'learning_rate': 8.10126582278481e-06, 'epoch': 1.9}\n",
      "{'loss': 1.1263, 'grad_norm': 68.8121109008789, 'learning_rate': 8.037974683544305e-06, 'epoch': 1.96}\n"
     ]
    },
    {
     "data": {
      "application/vnd.jupyter.widget-view+json": {
       "model_id": "8dd1bc5a3b2e4769b605bc1dc3113c80",
       "version_major": 2,
       "version_minor": 0
      },
      "text/plain": [
       "  0%|          | 0/79 [00:00<?, ?it/s]"
      ]
     },
     "metadata": {},
     "output_type": "display_data"
    },
    {
     "name": "stdout",
     "output_type": "stream",
     "text": [
      "{'eval_loss': 1.120125651359558, 'eval_runtime': 15.1698, 'eval_samples_per_second': 41.662, 'eval_steps_per_second': 5.208, 'epoch': 2.0}\n",
      "{'loss': 1.1802, 'grad_norm': 28.95848274230957, 'learning_rate': 7.974683544303799e-06, 'epoch': 2.03}\n",
      "{'loss': 1.151, 'grad_norm': 60.62104034423828, 'learning_rate': 7.911392405063292e-06, 'epoch': 2.09}\n",
      "{'loss': 1.1607, 'grad_norm': 60.36784362792969, 'learning_rate': 7.848101265822786e-06, 'epoch': 2.15}\n",
      "{'loss': 1.1246, 'grad_norm': 48.645835876464844, 'learning_rate': 7.78481012658228e-06, 'epoch': 2.22}\n",
      "{'loss': 1.1845, 'grad_norm': 30.637805938720703, 'learning_rate': 7.721518987341773e-06, 'epoch': 2.28}\n",
      "{'loss': 1.1651, 'grad_norm': 65.6178970336914, 'learning_rate': 7.658227848101265e-06, 'epoch': 2.34}\n",
      "{'loss': 1.1501, 'grad_norm': 40.777503967285156, 'learning_rate': 7.5949367088607605e-06, 'epoch': 2.41}\n",
      "{'loss': 1.0881, 'grad_norm': 80.08983612060547, 'learning_rate': 7.531645569620254e-06, 'epoch': 2.47}\n",
      "{'loss': 1.0439, 'grad_norm': 33.133811950683594, 'learning_rate': 7.468354430379747e-06, 'epoch': 2.53}\n",
      "{'loss': 1.0545, 'grad_norm': 54.01116180419922, 'learning_rate': 7.405063291139241e-06, 'epoch': 2.59}\n",
      "{'loss': 1.1242, 'grad_norm': 25.554744720458984, 'learning_rate': 7.341772151898735e-06, 'epoch': 2.66}\n",
      "{'loss': 1.1236, 'grad_norm': 74.91767883300781, 'learning_rate': 7.2784810126582285e-06, 'epoch': 2.72}\n",
      "{'loss': 1.1409, 'grad_norm': 71.13013458251953, 'learning_rate': 7.215189873417722e-06, 'epoch': 2.78}\n",
      "{'loss': 1.0995, 'grad_norm': 62.281986236572266, 'learning_rate': 7.151898734177216e-06, 'epoch': 2.85}\n",
      "{'loss': 1.025, 'grad_norm': 23.42295265197754, 'learning_rate': 7.08860759493671e-06, 'epoch': 2.91}\n",
      "{'loss': 1.0947, 'grad_norm': 74.40159606933594, 'learning_rate': 7.025316455696203e-06, 'epoch': 2.97}\n"
     ]
    },
    {
     "data": {
      "application/vnd.jupyter.widget-view+json": {
       "model_id": "3315d789dd27445fa82800fab2bf4cda",
       "version_major": 2,
       "version_minor": 0
      },
      "text/plain": [
       "  0%|          | 0/79 [00:00<?, ?it/s]"
      ]
     },
     "metadata": {},
     "output_type": "display_data"
    },
    {
     "name": "stdout",
     "output_type": "stream",
     "text": [
      "{'eval_loss': 1.0745513439178467, 'eval_runtime': 15.4023, 'eval_samples_per_second': 41.033, 'eval_steps_per_second': 5.129, 'epoch': 3.0}\n",
      "{'loss': 1.0288, 'grad_norm': 72.52366638183594, 'learning_rate': 6.962025316455697e-06, 'epoch': 3.04}\n",
      "{'loss': 1.0529, 'grad_norm': 42.58641052246094, 'learning_rate': 6.898734177215191e-06, 'epoch': 3.1}\n",
      "{'loss': 1.0438, 'grad_norm': 48.52302551269531, 'learning_rate': 6.835443037974684e-06, 'epoch': 3.16}\n",
      "{'loss': 1.0354, 'grad_norm': 52.20246505737305, 'learning_rate': 6.772151898734178e-06, 'epoch': 3.23}\n",
      "{'loss': 0.9962, 'grad_norm': 92.393310546875, 'learning_rate': 6.708860759493672e-06, 'epoch': 3.29}\n",
      "{'loss': 1.0216, 'grad_norm': 38.51597595214844, 'learning_rate': 6.645569620253165e-06, 'epoch': 3.35}\n",
      "{'loss': 0.9815, 'grad_norm': 31.87078285217285, 'learning_rate': 6.582278481012659e-06, 'epoch': 3.42}\n",
      "{'loss': 0.9541, 'grad_norm': 69.78897094726562, 'learning_rate': 6.518987341772153e-06, 'epoch': 3.48}\n",
      "{'loss': 1.0417, 'grad_norm': 40.99641799926758, 'learning_rate': 6.4556962025316464e-06, 'epoch': 3.54}\n",
      "{'loss': 1.0419, 'grad_norm': 41.78971862792969, 'learning_rate': 6.392405063291139e-06, 'epoch': 3.61}\n",
      "{'loss': 0.9487, 'grad_norm': 36.640689849853516, 'learning_rate': 6.329113924050634e-06, 'epoch': 3.67}\n",
      "{'loss': 1.041, 'grad_norm': 25.94038963317871, 'learning_rate': 6.265822784810128e-06, 'epoch': 3.73}\n",
      "{'loss': 0.9848, 'grad_norm': 64.64697265625, 'learning_rate': 6.20253164556962e-06, 'epoch': 3.8}\n",
      "{'loss': 0.9634, 'grad_norm': 30.39080238342285, 'learning_rate': 6.139240506329115e-06, 'epoch': 3.86}\n",
      "{'loss': 1.0051, 'grad_norm': 61.55964660644531, 'learning_rate': 6.075949367088608e-06, 'epoch': 3.92}\n",
      "{'loss': 1.0098, 'grad_norm': 65.38214874267578, 'learning_rate': 6.012658227848101e-06, 'epoch': 3.99}\n"
     ]
    },
    {
     "data": {
      "application/vnd.jupyter.widget-view+json": {
       "model_id": "f54a0fb6aa8a4cb9a280da6a95ec58f7",
       "version_major": 2,
       "version_minor": 0
      },
      "text/plain": [
       "  0%|          | 0/79 [00:00<?, ?it/s]"
      ]
     },
     "metadata": {},
     "output_type": "display_data"
    },
    {
     "name": "stdout",
     "output_type": "stream",
     "text": [
      "{'eval_loss': 1.0359232425689697, 'eval_runtime': 18.4827, 'eval_samples_per_second': 34.194, 'eval_steps_per_second': 4.274, 'epoch': 4.0}\n",
      "{'loss': 0.894, 'grad_norm': 26.550582885742188, 'learning_rate': 5.949367088607595e-06, 'epoch': 4.05}\n",
      "{'loss': 0.9456, 'grad_norm': 77.3869857788086, 'learning_rate': 5.886075949367089e-06, 'epoch': 4.11}\n",
      "{'loss': 0.9879, 'grad_norm': 77.04312133789062, 'learning_rate': 5.8227848101265824e-06, 'epoch': 4.18}\n",
      "{'loss': 0.8452, 'grad_norm': 26.112619400024414, 'learning_rate': 5.759493670886076e-06, 'epoch': 4.24}\n",
      "{'loss': 0.9584, 'grad_norm': 36.376007080078125, 'learning_rate': 5.69620253164557e-06, 'epoch': 4.3}\n",
      "{'loss': 0.9612, 'grad_norm': 62.91496276855469, 'learning_rate': 5.6329113924050636e-06, 'epoch': 4.37}\n",
      "{'loss': 0.8864, 'grad_norm': 54.2934455871582, 'learning_rate': 5.569620253164557e-06, 'epoch': 4.43}\n",
      "{'loss': 0.9386, 'grad_norm': 49.530662536621094, 'learning_rate': 5.506329113924051e-06, 'epoch': 4.49}\n",
      "{'loss': 0.9748, 'grad_norm': 68.09713745117188, 'learning_rate': 5.443037974683545e-06, 'epoch': 4.56}\n",
      "{'loss': 0.8975, 'grad_norm': 42.34951400756836, 'learning_rate': 5.379746835443038e-06, 'epoch': 4.62}\n",
      "{'loss': 0.9928, 'grad_norm': 61.66714096069336, 'learning_rate': 5.3164556962025316e-06, 'epoch': 4.68}\n",
      "{'loss': 0.9601, 'grad_norm': 108.82515716552734, 'learning_rate': 5.253164556962026e-06, 'epoch': 4.75}\n",
      "{'loss': 0.8796, 'grad_norm': 41.39950942993164, 'learning_rate': 5.189873417721519e-06, 'epoch': 4.81}\n",
      "{'loss': 0.8167, 'grad_norm': 80.50011444091797, 'learning_rate': 5.126582278481013e-06, 'epoch': 4.87}\n",
      "{'loss': 0.9087, 'grad_norm': 47.23932647705078, 'learning_rate': 5.063291139240507e-06, 'epoch': 4.94}\n",
      "{'loss': 0.9322, 'grad_norm': 52.82984924316406, 'learning_rate': 5e-06, 'epoch': 5.0}\n"
     ]
    },
    {
     "data": {
      "application/vnd.jupyter.widget-view+json": {
       "model_id": "32c4bacddef7446982be1c54de5ce68c",
       "version_major": 2,
       "version_minor": 0
      },
      "text/plain": [
       "  0%|          | 0/79 [00:00<?, ?it/s]"
      ]
     },
     "metadata": {},
     "output_type": "display_data"
    },
    {
     "name": "stdout",
     "output_type": "stream",
     "text": [
      "{'eval_loss': 1.022827386856079, 'eval_runtime': 15.9816, 'eval_samples_per_second': 39.546, 'eval_steps_per_second': 4.943, 'epoch': 5.0}\n",
      "{'loss': 0.8162, 'grad_norm': 40.778419494628906, 'learning_rate': 4.936708860759495e-06, 'epoch': 5.06}\n",
      "{'loss': 0.8918, 'grad_norm': 48.73004913330078, 'learning_rate': 4.873417721518987e-06, 'epoch': 5.13}\n",
      "{'loss': 0.8871, 'grad_norm': 34.8919677734375, 'learning_rate': 4.8101265822784815e-06, 'epoch': 5.19}\n",
      "{'loss': 0.943, 'grad_norm': 29.549150466918945, 'learning_rate': 4.746835443037975e-06, 'epoch': 5.25}\n",
      "{'loss': 0.9041, 'grad_norm': 45.41377639770508, 'learning_rate': 4.683544303797468e-06, 'epoch': 5.32}\n",
      "{'loss': 0.7702, 'grad_norm': 39.25462341308594, 'learning_rate': 4.620253164556963e-06, 'epoch': 5.38}\n",
      "{'loss': 0.7789, 'grad_norm': 64.03059387207031, 'learning_rate': 4.556962025316456e-06, 'epoch': 5.44}\n",
      "{'loss': 0.8566, 'grad_norm': 32.51564025878906, 'learning_rate': 4.4936708860759495e-06, 'epoch': 5.51}\n",
      "{'loss': 0.7893, 'grad_norm': 38.13127136230469, 'learning_rate': 4.430379746835443e-06, 'epoch': 5.57}\n",
      "{'loss': 0.8263, 'grad_norm': 49.1576042175293, 'learning_rate': 4.367088607594937e-06, 'epoch': 5.63}\n",
      "{'loss': 0.7635, 'grad_norm': 59.207420349121094, 'learning_rate': 4.303797468354431e-06, 'epoch': 5.7}\n",
      "{'loss': 0.9041, 'grad_norm': 45.14053726196289, 'learning_rate': 4.240506329113924e-06, 'epoch': 5.76}\n",
      "{'loss': 0.8451, 'grad_norm': 57.92284393310547, 'learning_rate': 4.177215189873418e-06, 'epoch': 5.82}\n",
      "{'loss': 0.8272, 'grad_norm': 59.51116943359375, 'learning_rate': 4.113924050632912e-06, 'epoch': 5.89}\n",
      "{'loss': 0.7513, 'grad_norm': 60.638275146484375, 'learning_rate': 4.050632911392405e-06, 'epoch': 5.95}\n"
     ]
    },
    {
     "data": {
      "application/vnd.jupyter.widget-view+json": {
       "model_id": "71b87ad43f3d4b24a0d109e9d77b5c47",
       "version_major": 2,
       "version_minor": 0
      },
      "text/plain": [
       "  0%|          | 0/79 [00:00<?, ?it/s]"
      ]
     },
     "metadata": {},
     "output_type": "display_data"
    },
    {
     "name": "stdout",
     "output_type": "stream",
     "text": [
      "{'eval_loss': 1.0325764417648315, 'eval_runtime': 16.0131, 'eval_samples_per_second': 39.468, 'eval_steps_per_second': 4.933, 'epoch': 6.0}\n",
      "{'loss': 0.8587, 'grad_norm': 68.81144714355469, 'learning_rate': 3.9873417721518995e-06, 'epoch': 6.01}\n",
      "{'loss': 0.8194, 'grad_norm': 90.506103515625, 'learning_rate': 3.924050632911393e-06, 'epoch': 6.08}\n",
      "{'loss': 0.7, 'grad_norm': 64.32861328125, 'learning_rate': 3.860759493670886e-06, 'epoch': 6.14}\n",
      "{'loss': 0.7846, 'grad_norm': 46.11383056640625, 'learning_rate': 3.7974683544303802e-06, 'epoch': 6.2}\n",
      "{'loss': 0.714, 'grad_norm': 65.54336547851562, 'learning_rate': 3.7341772151898737e-06, 'epoch': 6.27}\n",
      "{'loss': 0.751, 'grad_norm': 70.98705291748047, 'learning_rate': 3.6708860759493675e-06, 'epoch': 6.33}\n",
      "{'loss': 0.737, 'grad_norm': 56.921390533447266, 'learning_rate': 3.607594936708861e-06, 'epoch': 6.39}\n",
      "{'loss': 0.744, 'grad_norm': 37.83836364746094, 'learning_rate': 3.544303797468355e-06, 'epoch': 6.46}\n",
      "{'loss': 0.796, 'grad_norm': 124.68775939941406, 'learning_rate': 3.4810126582278487e-06, 'epoch': 6.52}\n",
      "{'loss': 0.7987, 'grad_norm': 77.93363189697266, 'learning_rate': 3.417721518987342e-06, 'epoch': 6.58}\n",
      "{'loss': 0.8343, 'grad_norm': 35.74028015136719, 'learning_rate': 3.354430379746836e-06, 'epoch': 6.65}\n",
      "{'loss': 0.7832, 'grad_norm': 48.41253662109375, 'learning_rate': 3.2911392405063294e-06, 'epoch': 6.71}\n",
      "{'loss': 0.8496, 'grad_norm': 72.1314926147461, 'learning_rate': 3.2278481012658232e-06, 'epoch': 6.77}\n",
      "{'loss': 0.7893, 'grad_norm': 79.1855697631836, 'learning_rate': 3.164556962025317e-06, 'epoch': 6.84}\n",
      "{'loss': 0.7912, 'grad_norm': 53.97819137573242, 'learning_rate': 3.10126582278481e-06, 'epoch': 6.9}\n",
      "{'loss': 0.8142, 'grad_norm': 75.03497314453125, 'learning_rate': 3.037974683544304e-06, 'epoch': 6.96}\n"
     ]
    },
    {
     "data": {
      "application/vnd.jupyter.widget-view+json": {
       "model_id": "e10c699b95224e8ba773b882e454129c",
       "version_major": 2,
       "version_minor": 0
      },
      "text/plain": [
       "  0%|          | 0/79 [00:00<?, ?it/s]"
      ]
     },
     "metadata": {},
     "output_type": "display_data"
    },
    {
     "name": "stdout",
     "output_type": "stream",
     "text": [
      "{'eval_loss': 1.01034677028656, 'eval_runtime': 16.2154, 'eval_samples_per_second': 38.975, 'eval_steps_per_second': 4.872, 'epoch': 7.0}\n",
      "{'loss': 0.7392, 'grad_norm': 67.38069152832031, 'learning_rate': 2.9746835443037974e-06, 'epoch': 7.03}\n",
      "{'loss': 0.7478, 'grad_norm': 54.20924758911133, 'learning_rate': 2.9113924050632912e-06, 'epoch': 7.09}\n",
      "{'loss': 0.6596, 'grad_norm': 34.30183029174805, 'learning_rate': 2.848101265822785e-06, 'epoch': 7.15}\n",
      "{'loss': 0.7721, 'grad_norm': 38.946041107177734, 'learning_rate': 2.7848101265822785e-06, 'epoch': 7.22}\n",
      "{'loss': 0.6685, 'grad_norm': 54.91692352294922, 'learning_rate': 2.7215189873417724e-06, 'epoch': 7.28}\n",
      "{'loss': 0.7548, 'grad_norm': 59.06230926513672, 'learning_rate': 2.6582278481012658e-06, 'epoch': 7.34}\n",
      "{'loss': 0.7021, 'grad_norm': 31.7984619140625, 'learning_rate': 2.5949367088607596e-06, 'epoch': 7.41}\n",
      "{'loss': 0.8103, 'grad_norm': 49.10462951660156, 'learning_rate': 2.5316455696202535e-06, 'epoch': 7.47}\n",
      "{'loss': 0.7425, 'grad_norm': 84.04712677001953, 'learning_rate': 2.4683544303797473e-06, 'epoch': 7.53}\n",
      "{'loss': 0.7423, 'grad_norm': 74.71784210205078, 'learning_rate': 2.4050632911392408e-06, 'epoch': 7.59}\n",
      "{'loss': 0.6733, 'grad_norm': 165.6426239013672, 'learning_rate': 2.341772151898734e-06, 'epoch': 7.66}\n",
      "{'loss': 0.7116, 'grad_norm': 58.63641357421875, 'learning_rate': 2.278481012658228e-06, 'epoch': 7.72}\n",
      "{'loss': 0.7512, 'grad_norm': 57.92152786254883, 'learning_rate': 2.2151898734177215e-06, 'epoch': 7.78}\n",
      "{'loss': 0.7278, 'grad_norm': 77.68490600585938, 'learning_rate': 2.1518987341772153e-06, 'epoch': 7.85}\n",
      "{'loss': 0.791, 'grad_norm': 31.052095413208008, 'learning_rate': 2.088607594936709e-06, 'epoch': 7.91}\n",
      "{'loss': 0.746, 'grad_norm': 34.31901550292969, 'learning_rate': 2.0253164556962026e-06, 'epoch': 7.97}\n"
     ]
    },
    {
     "data": {
      "application/vnd.jupyter.widget-view+json": {
       "model_id": "b54c0a7d99cf46228cc9f8ed6fb5fb33",
       "version_major": 2,
       "version_minor": 0
      },
      "text/plain": [
       "  0%|          | 0/79 [00:00<?, ?it/s]"
      ]
     },
     "metadata": {},
     "output_type": "display_data"
    },
    {
     "name": "stdout",
     "output_type": "stream",
     "text": [
      "{'eval_loss': 1.0225403308868408, 'eval_runtime': 11.0608, 'eval_samples_per_second': 57.139, 'eval_steps_per_second': 7.142, 'epoch': 8.0}\n",
      "{'loss': 0.6485, 'grad_norm': 64.37227630615234, 'learning_rate': 1.9620253164556965e-06, 'epoch': 8.04}\n",
      "{'loss': 0.6502, 'grad_norm': 26.780914306640625, 'learning_rate': 1.8987341772151901e-06, 'epoch': 8.1}\n",
      "{'loss': 0.8096, 'grad_norm': 49.53507614135742, 'learning_rate': 1.8354430379746838e-06, 'epoch': 8.16}\n",
      "{'loss': 0.7308, 'grad_norm': 77.31842041015625, 'learning_rate': 1.7721518987341774e-06, 'epoch': 8.23}\n",
      "{'loss': 0.6835, 'grad_norm': 45.03086853027344, 'learning_rate': 1.708860759493671e-06, 'epoch': 8.29}\n",
      "{'loss': 0.6761, 'grad_norm': 42.104454040527344, 'learning_rate': 1.6455696202531647e-06, 'epoch': 8.35}\n",
      "{'loss': 0.7636, 'grad_norm': 35.851261138916016, 'learning_rate': 1.5822784810126585e-06, 'epoch': 8.42}\n",
      "{'loss': 0.632, 'grad_norm': 59.57061004638672, 'learning_rate': 1.518987341772152e-06, 'epoch': 8.48}\n",
      "{'loss': 0.6723, 'grad_norm': 26.00983238220215, 'learning_rate': 1.4556962025316456e-06, 'epoch': 8.54}\n",
      "{'loss': 0.582, 'grad_norm': 66.38599395751953, 'learning_rate': 1.3924050632911392e-06, 'epoch': 8.61}\n",
      "{'loss': 0.6411, 'grad_norm': 89.58007049560547, 'learning_rate': 1.3291139240506329e-06, 'epoch': 8.67}\n",
      "{'loss': 0.7484, 'grad_norm': 67.5667495727539, 'learning_rate': 1.2658227848101267e-06, 'epoch': 8.73}\n",
      "{'loss': 0.6939, 'grad_norm': 49.00157928466797, 'learning_rate': 1.2025316455696204e-06, 'epoch': 8.8}\n",
      "{'loss': 0.6643, 'grad_norm': 53.99153518676758, 'learning_rate': 1.139240506329114e-06, 'epoch': 8.86}\n",
      "{'loss': 0.623, 'grad_norm': 32.333499908447266, 'learning_rate': 1.0759493670886077e-06, 'epoch': 8.92}\n",
      "{'loss': 0.6526, 'grad_norm': 54.01150131225586, 'learning_rate': 1.0126582278481013e-06, 'epoch': 8.99}\n"
     ]
    },
    {
     "data": {
      "application/vnd.jupyter.widget-view+json": {
       "model_id": "9aef4a5332d446248ed6b651d6a402b6",
       "version_major": 2,
       "version_minor": 0
      },
      "text/plain": [
       "  0%|          | 0/79 [00:00<?, ?it/s]"
      ]
     },
     "metadata": {},
     "output_type": "display_data"
    },
    {
     "name": "stdout",
     "output_type": "stream",
     "text": [
      "{'eval_loss': 1.0494251251220703, 'eval_runtime': 15.1723, 'eval_samples_per_second': 41.655, 'eval_steps_per_second': 5.207, 'epoch': 9.0}\n",
      "{'train_runtime': 3152.27, 'train_samples_per_second': 8.007, 'train_steps_per_second': 0.501, 'train_loss': 1.011397075217149, 'epoch': 9.0}\n"
     ]
    },
    {
     "data": {
      "text/plain": [
       "TrainOutput(global_step=1422, training_loss=1.011397075217149, metrics={'train_runtime': 3152.27, 'train_samples_per_second': 8.007, 'train_steps_per_second': 0.501, 'total_flos': 1494261346940928.0, 'train_loss': 1.011397075217149, 'epoch': 9.0})"
      ]
     },
     "execution_count": 27,
     "metadata": {},
     "output_type": "execute_result"
    }
   ],
   "source": [
    "# Train the model\n",
    "trainer.train()"
   ]
  },
  {
   "cell_type": "markdown",
   "metadata": {},
   "source": [
    "### **8. Evaluating the Model**\n",
    "Evaluate the model on the test set to check its performance using metrics like accuracy, precision, recall, and F1-score."
   ]
  },
  {
   "cell_type": "code",
   "execution_count": 28,
   "metadata": {},
   "outputs": [
    {
     "data": {
      "application/vnd.jupyter.widget-view+json": {
       "model_id": "fcf4dbb25848414096160da27397e899",
       "version_major": 2,
       "version_minor": 0
      },
      "text/plain": [
       "  0%|          | 0/79 [00:00<?, ?it/s]"
      ]
     },
     "metadata": {},
     "output_type": "display_data"
    },
    {
     "name": "stdout",
     "output_type": "stream",
     "text": [
      "{'eval_loss': 1.01034677028656, 'eval_runtime': 14.0319, 'eval_samples_per_second': 45.04, 'eval_steps_per_second': 5.63, 'epoch': 9.0}\n"
     ]
    },
    {
     "data": {
      "application/vnd.jupyter.widget-view+json": {
       "model_id": "b9c27787453442688df6c52ae775789d",
       "version_major": 2,
       "version_minor": 0
      },
      "text/plain": [
       "  0%|          | 0/79 [00:00<?, ?it/s]"
      ]
     },
     "metadata": {},
     "output_type": "display_data"
    },
    {
     "name": "stdout",
     "output_type": "stream",
     "text": [
      "              precision    recall  f1-score   support\n",
      "\n",
      "           0       0.64      0.85      0.73       105\n",
      "           1       0.54      0.41      0.46       105\n",
      "           2       0.55      0.57      0.56       105\n",
      "           3       0.43      0.42      0.43       106\n",
      "           4       0.48      0.45      0.47       106\n",
      "           5       0.73      0.70      0.71       105\n",
      "\n",
      "    accuracy                           0.57       632\n",
      "   macro avg       0.56      0.57      0.56       632\n",
      "weighted avg       0.56      0.57      0.56       632\n",
      "\n"
     ]
    }
   ],
   "source": [
    "# Evaluate the model\n",
    "results = trainer.evaluate(tokenized_datasets[\"test\"])\n",
    "print(results)\n",
    "\n",
    "# Compute additional metrics if needed\n",
    "from sklearn.metrics import classification_report\n",
    "\n",
    "# Extract true labels (y_true) from the test dataset\n",
    "y_true = test_data[\"difficulty\"].tolist()  # Ensure it's a list of integers\n",
    "\n",
    "# Predict the labels using the trained model\n",
    "y_pred = trainer.predict(tokenized_datasets[\"test\"]).predictions.argmax(axis=-1)\n",
    "\n",
    "# Generate the classification report\n",
    "from sklearn.metrics import classification_report\n",
    "print(classification_report(y_true, y_pred))\n"
   ]
  },
  {
   "cell_type": "code",
   "execution_count": 29,
   "metadata": {},
   "outputs": [
    {
     "data": {
      "text/plain": [
       "<sklearn.metrics._plot.confusion_matrix.ConfusionMatrixDisplay at 0x33024d370>"
      ]
     },
     "execution_count": 29,
     "metadata": {},
     "output_type": "execute_result"
    },
    {
     "data": {
      "image/png": "[encoded data removed]",
      "text/plain": [
       "<Figure size 640x480 with 2 Axes>"
      ]
     },
     "metadata": {},
     "output_type": "display_data"
    }
   ],
   "source": [
    "from sklearn.metrics import confusion_matrix, ConfusionMatrixDisplay\n",
    "\n",
    "# Compute confusion matrix\n",
    "conf_matrix = confusion_matrix(y_true, y_pred)\n",
    "\n",
    "# Display confusion matrix\n",
    "disp = ConfusionMatrixDisplay(confusion_matrix=conf_matrix, display_labels=[\"A1\", \"A2\", \"B1\", \"B2\", \"C1\", \"C2\"])\n",
    "disp.plot(cmap=\"viridis\")\n"
   ]
  },
  {
   "cell_type": "code",
   "execution_count": 12,
   "metadata": {},
   "outputs": [
    {
     "data": {
      "text/plain": [
       "('./model/xlm-roberta-base-augmented-100-c2-ac-059/tokenizer_config.json',\n",
       " './model/xlm-roberta-base-augmented-100-c2-ac-059/special_tokens_map.json',\n",
       " './model/xlm-roberta-base-augmented-100-c2-ac-059/tokenizer.json')"
      ]
     },
     "execution_count": 12,
     "metadata": {},
     "output_type": "execute_result"
    }
   ],
   "source": [
    "model.save_pretrained(\"./model/xlm-roberta-base-augmented-100-c2-ac-059\")\n",
    "tokenizer.save_pretrained(\"./model/xlm-roberta-base-augmented-100-c2-ac-059\")"
   ]
  }
 ],
 "metadata": {
  "kernelspec": {
   "display_name": "Python 3",
   "language": "python",
   "name": "python3"
  },
  "language_info": {
   "codemirror_mode": {
    "name": "ipython",
    "version": 3
   },
   "file_extension": ".py",
   "mimetype": "text/x-python",
   "name": "python",
   "nbconvert_exporter": "python",
   "pygments_lexer": "ipython3",
   "version": "3.9.6"
  }
 },
 "nbformat": 4,
 "nbformat_minor": 2
}
